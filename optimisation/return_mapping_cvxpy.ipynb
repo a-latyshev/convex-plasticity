{
 "cells": [
  {
   "cell_type": "code",
   "execution_count": 1,
   "metadata": {},
   "outputs": [],
   "source": [
    "import cvxpy as cp\n",
    "import numpy as np\n",
    "import matplotlib.pyplot as plt"
   ]
  },
  {
   "cell_type": "code",
   "execution_count": 2,
   "metadata": {},
   "outputs": [],
   "source": [
    "class vonMises:\n",
    "    def __init__(self):\n",
    "        self.sig0 = cp.Parameter()\n",
    "    def criterion(self, sig):\n",
    "        dev = np.array([[2/3., -1/3., -1/3., 0],\n",
    "                        [-1/3., 2/3., -1/3., 0],\n",
    "                        [-1/3., -1/3., 2/3., 0],\n",
    "                        [0, 0, 0, 1]])\n",
    "        s = dev@sig\n",
    "        return [np.sqrt(3/2)*cp.norm(s) <= self.sig0]\n",
    "\n",
    "class Rankine:\n",
    "    def __init__(self):\n",
    "        self.fc = cp.Parameter()\n",
    "        self.ft = cp.Parameter()\n",
    "    def criterion(self, sig):\n",
    "        Sig = cp.bmat([[sig[0], sig[3]/np.sqrt(2), 0],\n",
    "                      [sig[3]/np.sqrt(2), sig[1], 0],\n",
    "                      [0, 0, sig[2]]])\n",
    "        return [cp.lambda_max(Sig) <= self.ft, cp.lambda_min(Sig) >= -self.fc]\n",
    "    \n",
    "class IsotropicElasticity:\n",
    "    def __init__(self, E, nu):\n",
    "        self.E = E\n",
    "        self.nu = nu\n",
    "        self.lmbda = E*nu/(1+nu)/(1-2*nu)\n",
    "        self.mu = E/2/(1+nu)\n",
    "    \n",
    "    def C(self):\n",
    "        l, m = self.lmbda, self.mu\n",
    "        return np.array([[l+2*m, l, l, 0],\n",
    "                        [l, l+2*m, l, 0],\n",
    "                        [l, l, l+2*m, 0],\n",
    "                        [0, 0, 0, 2*m]])\n",
    "\n",
    "class Material:\n",
    "    def __init__(self, elasticity, yield_criterion, plane_stress=False):\n",
    "        self.C = elasticity.C()\n",
    "        self.criterion = yield_criterion.criterion\n",
    "        self.plane_stress = plane_stress\n",
    "    \n",
    "vM = vonMises()\n",
    "vM.sig0.value = 1.\n",
    "\n",
    "Ra = Rankine()\n",
    "Ra.fc.value = 2.\n",
    "Ra.ft.value = 1.\n",
    "\n",
    "mat = Material(IsotropicElasticity(1, 0.3), Ra, plane_stress=True)\n",
    "                        \n",
    "class ReturnMapping:\n",
    "    def __init__(self, mat, solver=cp.SCS):\n",
    "        self.mat = mat\n",
    "        self.deps = cp.Parameter((4,))\n",
    "        self.sig_old = cp.Parameter((4,))\n",
    "        self.sig_elas = self.sig_old + self.mat.C @ self.deps\n",
    "    \n",
    "        self.sig = cp.Variable((4, ))\n",
    "        obj = cp.quad_form(self.sig - self.sig_elas, np.linalg.inv(self.mat.C))\n",
    "        \n",
    "        self.cons = mat.criterion(self.sig)\n",
    "        if self.mat.plane_stress:\n",
    "            self.cons.append(self.sig[2] == 0)\n",
    "        self.prob = cp.Problem(cp.Minimize(obj), self.cons)\n",
    "        self.solver = solver\n",
    "        \n",
    "    def solve(self, **kwargs):\n",
    "        self.prob.solve(solver=self.solver, requires_grad=True, **kwargs)\n",
    "        self.sig_old.value = self.sig.value\n",
    "        self.C_tang = np.zeros((4, 4))\n",
    "        for i in range(4):\n",
    "            z = np.zeros((4,))\n",
    "            z[i] = 1\n",
    "            self.deps.delta = z\n",
    "            self.prob.derivative()\n",
    "            self.C_tang[i, :] = self.sig.delta\n",
    "    \n",
    "rm = ReturnMapping(mat)\n",
    "rm.sig_old.value = np.zeros(((4,)))\n",
    "\n",
    "\n",
    "N = 100\n",
    "theta = np.linspace(0, 2*np.pi, N+1)\n",
    "Eps = 10*np.vstack((np.cos(theta), np.sin(theta), 0*theta, 0*theta)).T\n",
    "Sig = []\n",
    "\n",
    "for i, t in enumerate(theta):\n",
    "    rm.sig_old.value = np.zeros((4, ))\n",
    "    rm.deps.value = Eps[i,:]\n",
    "    rm.solve()\n",
    "    Sig.append(rm.sig.value)\n",
    "    #Eps.append(Eps[-1]+rm.deps.value)\n",
    "\n",
    "Sig = np.asarray(Sig)\n",
    "Eps = np.asarray(Eps)"
   ]
  },
  {
   "cell_type": "code",
   "execution_count": 3,
   "metadata": {},
   "outputs": [
    {
     "data": {
      "image/png": "[encoded data removed]",
      "text/plain": [
       "<Figure size 432x288 with 1 Axes>"
      ]
     },
     "metadata": {
      "needs_background": "light"
     },
     "output_type": "display_data"
    }
   ],
   "source": [
    "plt.plot(Sig[:, 0], Sig[:, 1], \"-o\")\n",
    "plt.gca().set_aspect(\"equal\")"
   ]
  },
  {
   "cell_type": "code",
   "execution_count": null,
   "metadata": {},
   "outputs": [],
   "source": []
  }
 ],
 "metadata": {
  "kernelspec": {
   "display_name": "Python 3.9.7 64-bit",
   "language": "python",
   "name": "python3"
  },
  "language_info": {
   "codemirror_mode": {
    "name": "ipython",
    "version": 3
   },
   "file_extension": ".py",
   "mimetype": "text/x-python",
   "name": "python",
   "nbconvert_exporter": "python",
   "pygments_lexer": "ipython3",
   "version": "3.9.7"
  },
  "vscode": {
   "interpreter": {
    "hash": "31f2aee4e71d21fbe5cf8b01ff0e069b9275f58929596ceb00d14d90e3e16cd6"
   }
  }
 },
 "nbformat": 4,
 "nbformat_minor": 4
}
