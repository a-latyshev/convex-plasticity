{
 "cells": [
  {
   "cell_type": "markdown",
   "metadata": {},
   "source": [
    "Implementation of 2D elasto-plastic problem using FEniCS-X. The code is based on a [legacy solution](https://comet-fenics.readthedocs.io/en/latest/demo/2D_plasticity/vonMises_plasticity.py.html) for FEniCS 2019.\n",
    "\n",
    "The program was tested for 0.3.1.0 version of Dolfinx."
   ]
  },
  {
   "cell_type": "code",
   "execution_count": 19,
   "metadata": {},
   "outputs": [],
   "source": [
    "import convex_return_mapping as crm # there is a conflict in the oder of imported modules\n",
    "import meshio\n",
    "import numpy as np\n",
    "\n",
    "import ufl\n",
    "from dolfinx import fem, io, common\n",
    "from mpi4py import MPI\n",
    "from petsc4py import PETSc\n",
    "\n",
    "import sys\n",
    "sys.path.append(\"../\")\n",
    "import fenicsx_support as fs\n",
    "sys.path.append(\"../../optimisation\")\n",
    "import plasticity_framework as pf"
   ]
  },
  {
   "cell_type": "code",
   "execution_count": 20,
   "metadata": {},
   "outputs": [
    {
     "name": "stdout",
     "output_type": "stream",
     "text": [
      "\n",
      "<meshio mesh object>\n",
      "  Number of points: 50\n",
      "  Number of cells:\n",
      "    line: 2\n",
      "    line: 14\n",
      "    line: 2\n",
      "    line: 11\n",
      "    triangle: 69\n",
      "  Cell sets: gmsh:bounding_entities\n",
      "  Point data: gmsh:dim_tags\n",
      "  Cell data: gmsh:physical, gmsh:geometrical\n"
     ]
    }
   ],
   "source": [
    "if MPI.COMM_WORLD.rank == 0:\n",
    "\n",
    "    #It works with the msh4 only!!\n",
    "    msh = meshio.read(\"thick_cylinder_coarse.msh\")\n",
    "\n",
    "    # Create and save one file for the mesh, and one file for the facets \n",
    "    triangle_mesh = fs.create_mesh(msh, \"triangle\", prune_z=True)\n",
    "    line_mesh = fs.create_mesh(msh, \"line\", prune_z=True)\n",
    "    meshio.write(\"thick_cylinder.xdmf\", triangle_mesh)\n",
    "    meshio.write(\"mt.xdmf\", line_mesh)\n",
    "    print(msh)\n",
    "    "
   ]
  },
  {
   "cell_type": "code",
   "execution_count": 21,
   "metadata": {},
   "outputs": [],
   "source": [
    "with io.XDMFFile(MPI.COMM_WORLD, \"thick_cylinder.xdmf\", \"r\") as xdmf:\n",
    "    mesh = xdmf.read_mesh(name=\"Grid\")\n",
    "    ct = xdmf.read_meshtags(mesh, name=\"Grid\")\n",
    "\n",
    "mesh.topology.create_connectivity(mesh.topology.dim, mesh.topology.dim - 1)\n",
    "\n",
    "with io.XDMFFile(MPI.COMM_WORLD, \"mt.xdmf\", \"r\") as xdmf:\n",
    "    ft = xdmf.read_meshtags(mesh, name=\"Grid\")"
   ]
  },
  {
   "cell_type": "code",
   "execution_count": 22,
   "metadata": {},
   "outputs": [],
   "source": [
    "# elastic parameters\n",
    "sig0_dim = 70e3 #[Pa]\n",
    "Ri_dim = 1.0 #[m]\n",
    "\n",
    "E = 70e3 / sig0_dim #[-]\n",
    "nu = 0.3 #[-]\n",
    "lmbda = E*nu/(1+nu)/(1-2*nu)\n",
    "mu = fem.Constant(mesh, PETSc.ScalarType(E/2./(1+nu)))\n",
    "\n",
    "sig0 = 250 / sig0_dim #[-]\n",
    "Et = E/100.  # tangent modulus\n",
    "H = E*Et/(E-Et)  # hardening modulus\n",
    "\n",
    "Re, Ri = 1.3, 1.   # external/internal radius"
   ]
  },
  {
   "cell_type": "code",
   "execution_count": 23,
   "metadata": {},
   "outputs": [],
   "source": [
    "deg_u = 2\n",
    "deg_stress = 2\n",
    "V = fem.VectorFunctionSpace(mesh, (\"CG\", deg_u))\n",
    "We = ufl.VectorElement(\"Quadrature\", mesh.ufl_cell(), degree=deg_stress, dim=4, quad_scheme='default')\n",
    "W0e = ufl.FiniteElement(\"Quadrature\", mesh.ufl_cell(), degree=deg_stress, quad_scheme='default')\n",
    "WTe = ufl.TensorElement(\"Quadrature\", mesh.ufl_cell(), degree=deg_stress, shape=(4, 4), quad_scheme='default')\n",
    "\n",
    "W = fem.FunctionSpace(mesh, We)\n",
    "W0 = fem.FunctionSpace(mesh, W0e)\n",
    "WT = fem.FunctionSpace(mesh, WTe)"
   ]
  },
  {
   "cell_type": "code",
   "execution_count": 24,
   "metadata": {},
   "outputs": [],
   "source": [
    "sig = fem.Function(W)\n",
    "sig_old = fem.Function(W)\n",
    "p = fem.Function(W0, name=\"Cumulative_plastic_strain\")\n",
    "p_old = fem.Function(W0, name=\"Cumulative_plastic_strain\")\n",
    "u = fem.Function(V, name=\"Total_displacement\")\n",
    "du = fem.Function(V, name=\"Iteration_correction\")\n",
    "Du = fem.Function(V, name=\"Current_increment\")\n",
    "v = ufl.TrialFunction(V)\n",
    "u_ = ufl.TestFunction(V)\n",
    "\n",
    "deps = fem.Function(W, name=\"deps\")\n",
    "\n",
    "P0 = fem.FunctionSpace(mesh, (\"DG\", 0))\n",
    "p_avg = fem.Function(P0, name=\"Plastic_strain\")"
   ]
  },
  {
   "cell_type": "code",
   "execution_count": 25,
   "metadata": {},
   "outputs": [],
   "source": [
    "left_marker = 3\n",
    "down_marker = 1\n",
    "left_facets = ft.indices[ft.values == left_marker]\n",
    "down_facets = ft.indices[ft.values == down_marker]\n",
    "left_dofs = fem.locate_dofs_topological(V.sub(0), mesh.topology.dim-1, left_facets)\n",
    "down_dofs = fem.locate_dofs_topological(V.sub(1), mesh.topology.dim-1, down_facets)\n",
    "\n",
    "bcs = [fem.dirichletbc(PETSc.ScalarType(0), left_dofs, V.sub(0)), fem.dirichletbc(PETSc.ScalarType(0), down_dofs, V.sub(1))]"
   ]
  },
  {
   "cell_type": "code",
   "execution_count": 26,
   "metadata": {},
   "outputs": [],
   "source": [
    "n = ufl.FacetNormal(mesh)\n",
    "q_lim = float(2/np.sqrt(3)*np.log(Re/Ri)*sig0)\n",
    "loading = fem.Constant(mesh, PETSc.ScalarType(0.0 * q_lim))\n",
    "\n",
    "SQRT2 = np.sqrt(2.)\n",
    "\n",
    "def F_ext(v):\n",
    "    return -loading * ufl.inner(n, v)*ds(4)\n",
    "\n",
    "def eps(v):\n",
    "    e = ufl.sym(ufl.grad(v))\n",
    "    return ufl.as_tensor([[e[0, 0], e[0, 1], 0],\n",
    "                          [e[0, 1], e[1, 1], 0],\n",
    "                          [0, 0, 0]])\n",
    "def sigma(eps_el):\n",
    "    return lmbda*ufl.tr(eps_el)*ufl.Identity(3) + 2*mu*eps_el\n",
    "    \n",
    "def eps_vec(v):\n",
    "    e = ufl.sym(ufl.grad(v))\n",
    "    return ufl.as_vector([e[0, 0], e[1, 1], 0, SQRT2 * e[0, 1]])\n",
    "\n",
    "def as_3D_tensor(X):\n",
    "    return ufl.as_tensor([[X[0], X[3] / SQRT2, 0],\n",
    "                          [X[3] / SQRT2, X[1], 0],\n",
    "                          [0, 0, X[2]]])       "
   ]
  },
  {
   "cell_type": "code",
   "execution_count": 27,
   "metadata": {},
   "outputs": [],
   "source": [
    "sigt = 250 / sig0_dim\n",
    "sigc = 250 / sig0_dim\n",
    "\n",
    "rankine = crm.Rankine(sigt, sigc, H)\n",
    "material = crm.Material(crm.IsotropicElasticity(E, nu), rankine)"
   ]
  },
  {
   "cell_type": "code",
   "execution_count": 28,
   "metadata": {},
   "outputs": [],
   "source": [
    "n_quadrature_points = len(p.x.array)\n",
    "\n",
    "N = patch_size = 3 # or batch, or group ?\n",
    "N_patches = int(n_quadrature_points/patch_size)\n",
    "residue_size = n_quadrature_points % patch_size\n",
    "\n",
    "return_mapping = crm.ReturnMapping(material, patch_size, cp.SCS)\n",
    "\n",
    "p_values = p.x.array[:n_quadrature_points - residue_size].reshape((-1, patch_size))\n",
    "p_old_values = p_old.x.array[:n_quadrature_points - residue_size].reshape((-1, patch_size))\n",
    "deps_values = deps.x.array[:4*(n_quadrature_points - residue_size)].reshape((-1, patch_size, 4))\n",
    "sig_values = sig.x.array[:4*(n_quadrature_points - residue_size)].reshape((-1, patch_size, 4))\n",
    "sig_old_values = sig_old.x.array[:4*(n_quadrature_points - residue_size)].reshape((-1, patch_size, 4))\n",
    "\n",
    "if residue_size != 0:\n",
    "    return_mapping_residue = crm.ReturnMapping(material, residue_size, cp.SCS)\n",
    "    \n",
    "    p_values_residue = p.x.array[n_quadrature_points - residue_size:].reshape((1, residue_size))\n",
    "    p_old_values_residue = p_old.x.array[n_quadrature_points - residue_size:].reshape((1, residue_size))\n",
    "    deps_values_residue = deps.x.array[4*(n_quadrature_points - residue_size):].reshape((1, residue_size, 4))\n",
    "    sig_values_residue = sig.x.array[4*(n_quadrature_points - residue_size):].reshape((1, residue_size, 4))\n",
    "    sig_old_values_residue = sig_old.x.array[4*(n_quadrature_points - residue_size):].reshape((1, residue_size, 4))"
   ]
  },
  {
   "cell_type": "code",
   "execution_count": 29,
   "metadata": {},
   "outputs": [],
   "source": [
    "ds = ufl.Measure(\"ds\", domain=mesh, subdomain_data=ft)\n",
    "dx = ufl.Measure(\n",
    "    \"dx\",\n",
    "    domain=mesh,\n",
    "    metadata={\"quadrature_degree\": deg_stress, \"quadrature_scheme\": \"default\"},\n",
    ")"
   ]
  },
  {
   "cell_type": "code",
   "execution_count": 36,
   "metadata": {},
   "outputs": [],
   "source": [
    "tol = 1.0e-13\n",
    "scs_params = {'eps': tol, 'eps_abs': tol, 'eps_rel': tol}"
   ]
  },
  {
   "cell_type": "code",
   "execution_count": 39,
   "metadata": {},
   "outputs": [],
   "source": [
    "petsc_options_SNES = {\n",
    "    \"snes_type\": \"vinewtonrsls\",\n",
    "    \"snes_linesearch_type\": \"basic\",\n",
    "    \"ksp_type\": \"preonly\",\n",
    "    \"pc_type\": \"lu\",\n",
    "    \"pc_factor_mat_solver_type\": \"mumps\",\n",
    "    \"snes_atol\": 1.0e-08,\n",
    "    \"snes_rtol\": 1.0e-08,\n",
    "    \"snes_stol\": 0.0,\n",
    "    \"snes_max_it\": 500,\n",
    "    \"snes_monitor\": \"\",\n",
    "}\n",
    "\n",
    "petsc_options_SNESQN = {\n",
    "    \"snes_type\": \"qn\",\n",
    "    \"snes_qn_type\": \"lbfgs\", #lbfgs broyden, badbroyden\n",
    "    \"snes_qn_m\": 100,\n",
    "    \"snes_qn_scale_type\": \"jacobian\", #<diagonal,none,scalar,jacobian> \t\n",
    "    \"snes_qn_restart_type\": \"none\", #<powell,periodic,none> \n",
    "    \"pc_type\": \"cholesky\", # cholesky >> hypre > gamg,sor ; asm, lu, gas - don't work\n",
    "    \"snes_linesearch_type\": \"basic\",\n",
    "    \"ksp_type\": \"preonly\",\n",
    "    \"pc_factor_mat_solver_type\": \"mumps\",\n",
    "    \"snes_atol\": 1.0e-08,\n",
    "    \"snes_rtol\": 1.0e-08,\n",
    "    \"snes_stol\": 0.0,\n",
    "    \"snes_max_it\": 500,\n",
    "    \"snes_monitor\": \"\",\n",
    "    # \"snes_monitor_cancel\": \"\",\n",
    "}\n",
    "\n",
    "def inside_Newton():\n",
    "    tol = 1e-13\n",
    "    fs.interpolate_quadrature(eps_vec(Du), deps) # eps_xy * sqrt(2.)!\n",
    "\n",
    "    for q in range(N_patches):\n",
    "        return_mapping.deps.value[:] = deps_values[q,:].T\n",
    "        return_mapping.sig_old.value[:] = sig_old_values[q,:].T\n",
    "        return_mapping.p_old.value = p_old_values[q,:]\n",
    "        \n",
    "        return_mapping.solve(derivation=False, verbose=False, **scs_params)\n",
    "        \n",
    "        sig_values[q,:] = return_mapping.sig.value[:].T\n",
    "        p_values[q,:] = return_mapping.p.value\n",
    "\n",
    "    if residue_size != 0: #how to improve ?\n",
    "        return_mapping_residue.deps.value[:] = deps_values_residue[0,:].T\n",
    "        return_mapping_residue.sig_old.value[:] = sig_old_values_residue[0,:].T\n",
    "        return_mapping_residue.p_old.value = p_old_values_residue[0,:]\n",
    "        \n",
    "        return_mapping_residue.solve(derivation=False, verbose=False, **scs_params)\n",
    "\n",
    "        sig_values_residue[0,:] = return_mapping_residue.sig.value[:].T\n",
    "        p_values_residue[0,:] = return_mapping_residue.p.value\n",
    "\n",
    "residual = ufl.inner(as_3D_tensor(sig), eps(u_))*dx - F_ext(u_)\n",
    "J = ufl.derivative(ufl.inner(sigma(eps(Du)), eps(u_))*dx, Du, v) #TODO: check J-formula!\n",
    "\n",
    "snes_problem = pf.SNESProblem(residual, Du, J, bcs, petsc_options=petsc_options_SNESQN, inside_Newton=inside_Newton)"
   ]
  },
  {
   "cell_type": "code",
   "execution_count": 40,
   "metadata": {},
   "outputs": [],
   "source": [
    "# Defining a cell containing (Ri, 0) point, where we calculate a value of u\n",
    "x_point = np.array([[Ri, 0, 0]])\n",
    "cells, points_on_proc = fs.find_cell_by_point(mesh, x_point)"
   ]
  },
  {
   "cell_type": "code",
   "execution_count": 41,
   "metadata": {},
   "outputs": [
    {
     "name": "stdout",
     "output_type": "stream",
     "text": [
      "\n",
      " Increment: 1, load = 0.0002537449238735671\n"
     ]
    },
    {
     "ename": "ValueError",
     "evalue": "Invalid keyword-argument 'MSK_DPAR_INTPNT_CO_TOL_DFEAS'",
     "output_type": "error",
     "traceback": [
      "\u001b[0;31m---------------------------------------------------------------------------\u001b[0m",
      "\u001b[0;31mValueError\u001b[0m                                Traceback (most recent call last)",
      "\u001b[1;32m/mnt/work_folder/convex-plasticity/optimisation/convex_plasticity_interpolation_Rankine_SNES.ipynb Cell 16\u001b[0m in \u001b[0;36m<cell line: 16>\u001b[0;34m()\u001b[0m\n\u001b[1;32m     <a href='vscode-notebook-cell://attached-container%2B7b22636f6e7461696e65724e616d65223a2266656e696373227d/mnt/work_folder/convex-plasticity/optimisation/convex_plasticity_interpolation_Rankine_SNES.ipynb#X23sdnNjb2RlLXJlbW90ZQ%3D%3D?line=22'>23</a>\u001b[0m     \u001b[39mprint\u001b[39m(\u001b[39mf\u001b[39m\u001b[39m\"\u001b[39m\u001b[39m\\n\u001b[39;00m\u001b[39m Increment: \u001b[39m\u001b[39m{\u001b[39;00m\u001b[39mstr\u001b[39m(i\u001b[39m+\u001b[39m\u001b[39m1\u001b[39m)\u001b[39m}\u001b[39;00m\u001b[39m, load = \u001b[39m\u001b[39m{\u001b[39;00mt \u001b[39m*\u001b[39m q_lim\u001b[39m}\u001b[39;00m\u001b[39m\"\u001b[39m)\n\u001b[1;32m     <a href='vscode-notebook-cell://attached-container%2B7b22636f6e7461696e65724e616d65223a2266656e696373227d/mnt/work_folder/convex-plasticity/optimisation/convex_plasticity_interpolation_Rankine_SNES.ipynb#X23sdnNjb2RlLXJlbW90ZQ%3D%3D?line=23'>24</a>\u001b[0m niter \u001b[39m=\u001b[39m \u001b[39m0\u001b[39m\n\u001b[0;32m---> <a href='vscode-notebook-cell://attached-container%2B7b22636f6e7461696e65724e616d65223a2266656e696373227d/mnt/work_folder/convex-plasticity/optimisation/convex_plasticity_interpolation_Rankine_SNES.ipynb#X23sdnNjb2RlLXJlbW90ZQ%3D%3D?line=25'>26</a>\u001b[0m snes_problem\u001b[39m.\u001b[39;49msolve()\n\u001b[1;32m     <a href='vscode-notebook-cell://attached-container%2B7b22636f6e7461696e65724e616d65223a2266656e696373227d/mnt/work_folder/convex-plasticity/optimisation/convex_plasticity_interpolation_Rankine_SNES.ipynb#X23sdnNjb2RlLXJlbW90ZQ%3D%3D?line=27'>28</a>\u001b[0m u\u001b[39m.\u001b[39mvector\u001b[39m.\u001b[39maxpy(\u001b[39m1\u001b[39m, Du\u001b[39m.\u001b[39mvector) \u001b[39m# u = u + 1*Du\u001b[39;00m\n\u001b[1;32m     <a href='vscode-notebook-cell://attached-container%2B7b22636f6e7461696e65724e616d65223a2266656e696373227d/mnt/work_folder/convex-plasticity/optimisation/convex_plasticity_interpolation_Rankine_SNES.ipynb#X23sdnNjb2RlLXJlbW90ZQ%3D%3D?line=28'>29</a>\u001b[0m u\u001b[39m.\u001b[39mx\u001b[39m.\u001b[39mscatter_forward()\n",
      "File \u001b[0;32m/mnt/work_folder/convex-plasticity/optimisation/plasticity_framework.py:254\u001b[0m, in \u001b[0;36mSNESProblem.solve\u001b[0;34m(self)\u001b[0m\n\u001b[1;32m    250\u001b[0m \u001b[39mdef\u001b[39;00m \u001b[39msolve\u001b[39m(\u001b[39mself\u001b[39m) \u001b[39m-\u001b[39m\u001b[39m>\u001b[39m \u001b[39mint\u001b[39m:\n\u001b[1;32m    251\u001b[0m \n\u001b[1;32m    252\u001b[0m     \u001b[39m# start = time.time()\u001b[39;00m\n\u001b[0;32m--> 254\u001b[0m     \u001b[39mself\u001b[39;49m\u001b[39m.\u001b[39;49msolver\u001b[39m.\u001b[39;49msolve(\u001b[39mNone\u001b[39;49;00m, \u001b[39mself\u001b[39;49m\u001b[39m.\u001b[39;49mu\u001b[39m.\u001b[39;49mvector)\n\u001b[1;32m    256\u001b[0m     \u001b[39m# self.logger.debug(f'rank#{MPI.COMM_WORLD.rank}  {self.prefix} SNES solver converged in {self.solver.getIterationNumber()} iterations with converged reason {self.solver.getConvergedReason()})')\u001b[39;00m\n\u001b[1;32m    257\u001b[0m     \u001b[39m# self.logger.debug(f'rank#{MPI.COMM_WORLD.rank}  Time (Step) = {time.time() - start:.2f} (s)\\n')\u001b[39;00m\n\u001b[1;32m    259\u001b[0m     \u001b[39mself\u001b[39m\u001b[39m.\u001b[39mu\u001b[39m.\u001b[39mx\u001b[39m.\u001b[39mscatter_forward()\n",
      "File \u001b[0;32mPETSc/SNES.pyx:573\u001b[0m, in \u001b[0;36mpetsc4py.PETSc.SNES.solve\u001b[0;34m()\u001b[0m\n",
      "File \u001b[0;32mPETSc/petscsnes.pxi:319\u001b[0m, in \u001b[0;36mpetsc4py.PETSc.SNES_Function\u001b[0;34m()\u001b[0m\n",
      "File \u001b[0;32m/mnt/work_folder/convex-plasticity/optimisation/plasticity_framework.py:235\u001b[0m, in \u001b[0;36mSNESProblem.assemble_vector\u001b[0;34m(self, snes, x, b)\u001b[0m\n\u001b[1;32m    232\u001b[0m \u001b[39mself\u001b[39m\u001b[39m.\u001b[39mu\u001b[39m.\u001b[39mx\u001b[39m.\u001b[39mscatter_forward()\n\u001b[1;32m    234\u001b[0m \u001b[39m#TODO: SNES makes the iteration #0, where he calculates the b norm. `inside_Newton()` can be omitted in that case\u001b[39;00m\n\u001b[0;32m--> 235\u001b[0m \u001b[39mself\u001b[39;49m\u001b[39m.\u001b[39;49minside_Newton()\n\u001b[1;32m    237\u001b[0m \u001b[39msuper\u001b[39m()\u001b[39m.\u001b[39massemble_vector()\n",
      "\u001b[1;32m/mnt/work_folder/convex-plasticity/optimisation/convex_plasticity_interpolation_Rankine_SNES.ipynb Cell 16\u001b[0m in \u001b[0;36minside_Newton\u001b[0;34m()\u001b[0m\n\u001b[1;32m     <a href='vscode-notebook-cell://attached-container%2B7b22636f6e7461696e65724e616d65223a2266656e696373227d/mnt/work_folder/convex-plasticity/optimisation/convex_plasticity_interpolation_Rankine_SNES.ipynb#X23sdnNjb2RlLXJlbW90ZQ%3D%3D?line=37'>38</a>\u001b[0m return_mapping\u001b[39m.\u001b[39msig_old\u001b[39m.\u001b[39mvalue[:] \u001b[39m=\u001b[39m sig_old_values[q,:]\u001b[39m.\u001b[39mT\n\u001b[1;32m     <a href='vscode-notebook-cell://attached-container%2B7b22636f6e7461696e65724e616d65223a2266656e696373227d/mnt/work_folder/convex-plasticity/optimisation/convex_plasticity_interpolation_Rankine_SNES.ipynb#X23sdnNjb2RlLXJlbW90ZQ%3D%3D?line=38'>39</a>\u001b[0m return_mapping\u001b[39m.\u001b[39mp_old\u001b[39m.\u001b[39mvalue \u001b[39m=\u001b[39m p_old_values[q,:]\n\u001b[0;32m---> <a href='vscode-notebook-cell://attached-container%2B7b22636f6e7461696e65724e616d65223a2266656e696373227d/mnt/work_folder/convex-plasticity/optimisation/convex_plasticity_interpolation_Rankine_SNES.ipynb#X23sdnNjb2RlLXJlbW90ZQ%3D%3D?line=40'>41</a>\u001b[0m return_mapping\u001b[39m.\u001b[39;49msolve(derivation\u001b[39m=\u001b[39;49m\u001b[39mFalse\u001b[39;49;00m, verbose\u001b[39m=\u001b[39;49m\u001b[39mFalse\u001b[39;49;00m, \u001b[39m*\u001b[39;49m\u001b[39m*\u001b[39;49mmosek_params)\n\u001b[1;32m     <a href='vscode-notebook-cell://attached-container%2B7b22636f6e7461696e65724e616d65223a2266656e696373227d/mnt/work_folder/convex-plasticity/optimisation/convex_plasticity_interpolation_Rankine_SNES.ipynb#X23sdnNjb2RlLXJlbW90ZQ%3D%3D?line=42'>43</a>\u001b[0m sig_values[q,:] \u001b[39m=\u001b[39m return_mapping\u001b[39m.\u001b[39msig\u001b[39m.\u001b[39mvalue[:]\u001b[39m.\u001b[39mT\n\u001b[1;32m     <a href='vscode-notebook-cell://attached-container%2B7b22636f6e7461696e65724e616d65223a2266656e696373227d/mnt/work_folder/convex-plasticity/optimisation/convex_plasticity_interpolation_Rankine_SNES.ipynb#X23sdnNjb2RlLXJlbW90ZQ%3D%3D?line=43'>44</a>\u001b[0m p_values[q,:] \u001b[39m=\u001b[39m return_mapping\u001b[39m.\u001b[39mp\u001b[39m.\u001b[39mvalue\n",
      "File \u001b[0;32m/mnt/work_folder/convex-plasticity/optimisation/convex_return_mapping.py:219\u001b[0m, in \u001b[0;36mReturnMapping.solve\u001b[0;34m(self, derivation, **kwargs)\u001b[0m\n\u001b[1;32m    212\u001b[0m \u001b[39m\"\"\"Solves a minimization problem and calculates the derivative of `sig` variable.\u001b[39;00m\n\u001b[1;32m    213\u001b[0m \u001b[39m\u001b[39;00m\n\u001b[1;32m    214\u001b[0m \u001b[39mArgs:\u001b[39;00m\n\u001b[1;32m    215\u001b[0m \u001b[39m    **kwargs: additional solver attributes, such as tolerance, etc.\u001b[39;00m\n\u001b[1;32m    216\u001b[0m \u001b[39m\"\"\"\u001b[39;00m\n\u001b[1;32m    218\u001b[0m \u001b[39mwith\u001b[39;00m common\u001b[39m.\u001b[39mTimer() \u001b[39mas\u001b[39;00m t: \n\u001b[0;32m--> 219\u001b[0m     \u001b[39mself\u001b[39;49m\u001b[39m.\u001b[39;49mopt_problem\u001b[39m.\u001b[39;49msolve(solver\u001b[39m=\u001b[39;49m\u001b[39mself\u001b[39;49m\u001b[39m.\u001b[39;49msolver, requires_grad\u001b[39m=\u001b[39;49m\u001b[39mTrue\u001b[39;49;00m\u001b[39m*\u001b[39;49mderivation, \u001b[39m*\u001b[39;49m\u001b[39m*\u001b[39;49mkwargs)\n\u001b[1;32m    220\u001b[0m     \u001b[39mself\u001b[39m\u001b[39m.\u001b[39mconvex_solving_time \u001b[39m=\u001b[39m t\u001b[39m.\u001b[39melapsed()[\u001b[39m0\u001b[39m] \n\u001b[1;32m    222\u001b[0m \u001b[39mif\u001b[39;00m derivation:\n",
      "File \u001b[0;32m/usr/local/lib/python3.9/dist-packages/cvxpy/problems/problem.py:481\u001b[0m, in \u001b[0;36mProblem.solve\u001b[0;34m(self, *args, **kwargs)\u001b[0m\n\u001b[1;32m    479\u001b[0m \u001b[39melse\u001b[39;00m:\n\u001b[1;32m    480\u001b[0m     solve_func \u001b[39m=\u001b[39m Problem\u001b[39m.\u001b[39m_solve\n\u001b[0;32m--> 481\u001b[0m \u001b[39mreturn\u001b[39;00m solve_func(\u001b[39mself\u001b[39;49m, \u001b[39m*\u001b[39;49margs, \u001b[39m*\u001b[39;49m\u001b[39m*\u001b[39;49mkwargs)\n",
      "File \u001b[0;32m/usr/local/lib/python3.9/dist-packages/cvxpy/problems/problem.py:1016\u001b[0m, in \u001b[0;36mProblem._solve\u001b[0;34m(self, solver, warm_start, verbose, gp, qcp, requires_grad, enforce_dpp, ignore_dpp, **kwargs)\u001b[0m\n\u001b[1;32m   1012\u001b[0m     s\u001b[39m.\u001b[39mLOGGER\u001b[39m.\u001b[39minfo(\n\u001b[1;32m   1013\u001b[0m             \u001b[39m'\u001b[39m\u001b[39mInvoking solver \u001b[39m\u001b[39m%s\u001b[39;00m\u001b[39m  to obtain a solution.\u001b[39m\u001b[39m'\u001b[39m,\n\u001b[1;32m   1014\u001b[0m             solving_chain\u001b[39m.\u001b[39mreductions[\u001b[39m-\u001b[39m\u001b[39m1\u001b[39m]\u001b[39m.\u001b[39mname())\n\u001b[1;32m   1015\u001b[0m start \u001b[39m=\u001b[39m time\u001b[39m.\u001b[39mtime()\n\u001b[0;32m-> 1016\u001b[0m solution \u001b[39m=\u001b[39m solving_chain\u001b[39m.\u001b[39;49msolve_via_data(\n\u001b[1;32m   1017\u001b[0m     \u001b[39mself\u001b[39;49m, data, warm_start, verbose, kwargs)\n\u001b[1;32m   1018\u001b[0m end \u001b[39m=\u001b[39m time\u001b[39m.\u001b[39mtime()\n\u001b[1;32m   1019\u001b[0m \u001b[39mself\u001b[39m\u001b[39m.\u001b[39m_solve_time \u001b[39m=\u001b[39m end \u001b[39m-\u001b[39m start\n",
      "File \u001b[0;32m/usr/local/lib/python3.9/dist-packages/cvxpy/reductions/solvers/solving_chain.py:361\u001b[0m, in \u001b[0;36mSolvingChain.solve_via_data\u001b[0;34m(self, problem, data, warm_start, verbose, solver_opts)\u001b[0m\n\u001b[1;32m    325\u001b[0m \u001b[39mdef\u001b[39;00m \u001b[39msolve_via_data\u001b[39m(\u001b[39mself\u001b[39m, problem, data, warm_start: \u001b[39mbool\u001b[39m \u001b[39m=\u001b[39m \u001b[39mFalse\u001b[39;00m, verbose: \u001b[39mbool\u001b[39m \u001b[39m=\u001b[39m \u001b[39mFalse\u001b[39;00m,\n\u001b[1;32m    326\u001b[0m                    solver_opts\u001b[39m=\u001b[39m{}):\n\u001b[1;32m    327\u001b[0m     \u001b[39m\"\"\"Solves the problem using the data output by the an apply invocation.\u001b[39;00m\n\u001b[1;32m    328\u001b[0m \n\u001b[1;32m    329\u001b[0m \u001b[39m    The semantics are:\u001b[39;00m\n\u001b[0;32m   (...)\u001b[0m\n\u001b[1;32m    359\u001b[0m \u001b[39m        a Solution object.\u001b[39;00m\n\u001b[1;32m    360\u001b[0m \u001b[39m    \"\"\"\u001b[39;00m\n\u001b[0;32m--> 361\u001b[0m     \u001b[39mreturn\u001b[39;00m \u001b[39mself\u001b[39;49m\u001b[39m.\u001b[39;49msolver\u001b[39m.\u001b[39;49msolve_via_data(data, warm_start, verbose,\n\u001b[1;32m    362\u001b[0m                                       solver_opts, problem\u001b[39m.\u001b[39;49m_solver_cache)\n",
      "File \u001b[0;32m/usr/local/lib/python3.9/dist-packages/cvxpy/reductions/solvers/conic_solvers/mosek_conif.py:235\u001b[0m, in \u001b[0;36mMOSEK.solve_via_data\u001b[0;34m(self, data, warm_start, verbose, solver_opts, solver_cache)\u001b[0m\n\u001b[1;32m    232\u001b[0m         task \u001b[39m=\u001b[39m MOSEK\u001b[39m.\u001b[39m_build_slack_task(task, data)\n\u001b[1;32m    234\u001b[0m \u001b[39m# Set parameters, optimize the Mosek Task, and return the result.\u001b[39;00m\n\u001b[0;32m--> 235\u001b[0m save_file \u001b[39m=\u001b[39m MOSEK\u001b[39m.\u001b[39;49mhandle_options(env, task, verbose, solver_opts)\n\u001b[1;32m    236\u001b[0m \u001b[39mif\u001b[39;00m save_file:\n\u001b[1;32m    237\u001b[0m     task\u001b[39m.\u001b[39mwritedata(save_file)\n",
      "File \u001b[0;32m/usr/local/lib/python3.9/dist-packages/cvxpy/reductions/solvers/conic_solvers/mosek_conif.py:583\u001b[0m, in \u001b[0;36mMOSEK.handle_options\u001b[0;34m(env, task, verbose, solver_opts)\u001b[0m\n\u001b[1;32m    581\u001b[0m     kwargs\u001b[39m.\u001b[39mremove(\u001b[39m'\u001b[39m\u001b[39mbfs\u001b[39m\u001b[39m'\u001b[39m)\n\u001b[1;32m    582\u001b[0m \u001b[39mif\u001b[39;00m kwargs:\n\u001b[0;32m--> 583\u001b[0m     \u001b[39mraise\u001b[39;00m \u001b[39mValueError\u001b[39;00m(\u001b[39m\"\u001b[39m\u001b[39mInvalid keyword-argument \u001b[39m\u001b[39m'\u001b[39m\u001b[39m%s\u001b[39;00m\u001b[39m'\u001b[39m\u001b[39m\"\u001b[39m \u001b[39m%\u001b[39m kwargs[\u001b[39m0\u001b[39m])\n\u001b[1;32m    585\u001b[0m \u001b[39m# Decide whether basis identification is needed for intpnt solver\u001b[39;00m\n\u001b[1;32m    586\u001b[0m \u001b[39m# This is only required if solve() was called with bfs=True\u001b[39;00m\n\u001b[1;32m    587\u001b[0m \u001b[39mif\u001b[39;00m bfs:\n",
      "\u001b[0;31mValueError\u001b[0m: Invalid keyword-argument 'MSK_DPAR_INTPNT_CO_TOL_DFEAS'"
     ]
    }
   ],
   "source": [
    "Nitermax, tol = 200, 1e-7  # parameters of the Newton-Raphson procedure\n",
    "Nincr = 20\n",
    "load_steps = np.linspace(0, 1.1, Nincr+1)[1:]**0.5\n",
    "results = np.zeros((Nincr+1, 2))\n",
    "load_steps = load_steps\n",
    "# xdmf = io.XDMFFile(MPI.COMM_WORLD, \"plasticity.xdmf\", \"w\", encoding=io.XDMFFile.Encoding.HDF5)\n",
    "# xdmf.write_mesh(mesh)\n",
    "\n",
    "sig.vector.set(0.0)\n",
    "sig_old.vector.set(0.0)\n",
    "p.vector.set(0.0)\n",
    "p_old.vector.set(0.0)\n",
    "u.vector.set(0.0)\n",
    "du.vector.set(0.0)\n",
    "\n",
    "with common.Timer() as timer: \n",
    "    for (i, t) in enumerate(load_steps):\n",
    "        loading.value = t * q_lim\n",
    "\n",
    "        Du.x.array[:] = 0\n",
    "\n",
    "        if MPI.COMM_WORLD.rank == 0:\n",
    "            print(f\"\\n Increment: {str(i+1)}, load = {t * q_lim}\")\n",
    "        niter = 0\n",
    "\n",
    "        snes_problem.solve()\n",
    "\n",
    "        u.vector.axpy(1, Du.vector) # u = u + 1*Du\n",
    "        u.x.scatter_forward()\n",
    "\n",
    "        p_old.x.array[:] = p.x.array       \n",
    "        sig_old.x.array[:] = sig.x.array\n",
    "\n",
    "        # fs.project(p, p_avg)\n",
    "        \n",
    "        # xdmf.write_function(u, t)\n",
    "        # xdmf.write_function(p_avg, t)\n",
    "\n",
    "        if len(points_on_proc) > 0:\n",
    "            results[i+1, :] = (u.eval(points_on_proc, cells)[0], t)\n",
    "    \n",
    "    # xdmf.close()\n",
    "\n",
    "    print(f'\\nrank#{MPI.COMM_WORLD.rank}: Time = {timer.elapsed()[0]:.3f} (s)')"
   ]
  },
  {
   "cell_type": "code",
   "execution_count": 44,
   "metadata": {},
   "outputs": [
    {
     "data": {
      "image/png": "[encoded data removed]",
      "text/plain": [
       "<Figure size 432x288 with 1 Axes>"
      ]
     },
     "metadata": {
      "needs_background": "light"
     },
     "output_type": "display_data"
    }
   ],
   "source": [
    "if len(points_on_proc) > 0:\n",
    "    import matplotlib.pyplot as plt\n",
    "    plt.plot(results[:, 0], results[:, 1], \"-o\")\n",
    "    plt.xlabel(\"Displacement of inner boundary\")\n",
    "    plt.ylabel(r\"Applied pressure $q/q_{lim}$\")\n",
    "    plt.savefig(f\"displacement_rank{MPI.COMM_WORLD.rank:d}.png\")\n",
    "    plt.show()"
   ]
  },
  {
   "cell_type": "code",
   "execution_count": null,
   "metadata": {},
   "outputs": [],
   "source": []
  }
 ],
 "metadata": {
  "interpreter": {
   "hash": "31f2aee4e71d21fbe5cf8b01ff0e069b9275f58929596ceb00d14d90e3e16cd6"
  },
  "kernelspec": {
   "display_name": "Python 3.8.10 64-bit",
   "language": "python",
   "name": "python3"
  },
  "language_info": {
   "codemirror_mode": {
    "name": "ipython",
    "version": 3
   },
   "file_extension": ".py",
   "mimetype": "text/x-python",
   "name": "python",
   "nbconvert_exporter": "python",
   "pygments_lexer": "ipython3",
   "version": "3.9.7"
  },
  "orig_nbformat": 4
 },
 "nbformat": 4,
 "nbformat_minor": 2
}
