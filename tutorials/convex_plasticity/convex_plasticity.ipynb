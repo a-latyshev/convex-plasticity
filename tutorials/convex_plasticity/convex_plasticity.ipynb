{
 "cells": [
  {
   "cell_type": "markdown",
   "metadata": {},
   "source": [
    "Implementation of 2D elasto-plastic problem using FEniCS-X. The code is based on a [legacy solution](https://comet-fenics.readthedocs.io/en/latest/demo/2D_plasticity/vonMises_plasticity.py.html) for FEniCS 2019.\n",
    "\n",
    "The program was tested for 0.3.1.0 version of Dolfinx."
   ]
  },
  {
   "cell_type": "code",
   "execution_count": 3,
   "metadata": {},
   "outputs": [],
   "source": [
    "import sys\n",
    "sys.path.append(\"../..\")\n",
    "from src import convex_return_mapping as crm # there is a conflict in the order of imported modules\n",
    "\n",
    "import meshio\n",
    "import ufl\n",
    "from dolfinx import fem, io, common\n",
    "from mpi4py import MPI\n",
    "from petsc4py import PETSc\n",
    "\n",
    "import numpy as np\n",
    "\n",
    "from src import fenicsx_support as fs\n",
    "from src import plasticity_framework as pf"
   ]
  },
  {
   "cell_type": "code",
   "execution_count": 5,
   "metadata": {},
   "outputs": [
    {
     "name": "stdout",
     "output_type": "stream",
     "text": [
      "\n",
      "<meshio mesh object>\n",
      "  Number of points: 50\n",
      "  Number of cells:\n",
      "    line: 2\n",
      "    line: 14\n",
      "    line: 2\n",
      "    line: 11\n",
      "    triangle: 69\n",
      "  Cell sets: gmsh:bounding_entities\n",
      "  Point data: gmsh:dim_tags\n",
      "  Cell data: gmsh:physical, gmsh:geometrical\n"
     ]
    }
   ],
   "source": [
    "if MPI.COMM_WORLD.rank == 0:\n",
    "\n",
    "    #It works with the msh4 only!!\n",
    "    msh = meshio.read(\"../mesh/thick_cylinder_coarse.msh\")\n",
    "\n",
    "    # Create and save one file for the mesh, and one file for the facets \n",
    "    triangle_mesh = fs.create_mesh(msh, \"triangle\", prune_z=True)\n",
    "    line_mesh = fs.create_mesh(msh, \"line\", prune_z=True)\n",
    "    meshio.write(\"thick_cylinder.xdmf\", triangle_mesh)\n",
    "    meshio.write(\"mt.xdmf\", line_mesh)\n",
    "    print(msh)\n",
    "    "
   ]
  },
  {
   "cell_type": "code",
   "execution_count": 6,
   "metadata": {},
   "outputs": [],
   "source": [
    "with io.XDMFFile(MPI.COMM_WORLD, \"thick_cylinder.xdmf\", \"r\") as xdmf:\n",
    "    mesh = xdmf.read_mesh(name=\"Grid\")\n",
    "    ct = xdmf.read_meshtags(mesh, name=\"Grid\")\n",
    "\n",
    "mesh.topology.create_connectivity(mesh.topology.dim, mesh.topology.dim - 1)\n",
    "\n",
    "with io.XDMFFile(MPI.COMM_WORLD, \"mt.xdmf\", \"r\") as xdmf:\n",
    "    ft = xdmf.read_meshtags(mesh, name=\"Grid\")"
   ]
  },
  {
   "cell_type": "code",
   "execution_count": 7,
   "metadata": {},
   "outputs": [],
   "source": [
    "# elastic parameters\n",
    "sig0_dim = 70e3 #[Pa]\n",
    "Ri_dim = 1.0 #[m]\n",
    "\n",
    "E = 70e3 / sig0_dim #[-]\n",
    "nu = 0.3 #[-]\n",
    "lmbda = E*nu/(1+nu)/(1-2*nu)\n",
    "mu = fem.Constant(mesh, PETSc.ScalarType(E/2./(1+nu)))\n",
    "\n",
    "sig0 = 250 / sig0_dim #[-]\n",
    "Et = E/100.  # tangent modulus\n",
    "H = E*Et/(E-Et)  # hardening modulus\n",
    "\n",
    "Re, Ri = 1.3, 1.   # external/internal radius"
   ]
  },
  {
   "cell_type": "code",
   "execution_count": 8,
   "metadata": {},
   "outputs": [],
   "source": [
    "deg_u = 2\n",
    "deg_stress = 2\n",
    "V = fem.VectorFunctionSpace(mesh, (\"CG\", deg_u))\n",
    "We = ufl.VectorElement(\"Quadrature\", mesh.ufl_cell(), degree=deg_stress, dim=4, quad_scheme='default')\n",
    "W0e = ufl.FiniteElement(\"Quadrature\", mesh.ufl_cell(), degree=deg_stress, quad_scheme='default')\n",
    "WTe = ufl.TensorElement(\"Quadrature\", mesh.ufl_cell(), degree=deg_stress, shape=(4, 4), quad_scheme='default')\n",
    "\n",
    "W = fem.FunctionSpace(mesh, We)\n",
    "W0 = fem.FunctionSpace(mesh, W0e)\n",
    "WT = fem.FunctionSpace(mesh, WTe)"
   ]
  },
  {
   "cell_type": "code",
   "execution_count": 9,
   "metadata": {},
   "outputs": [],
   "source": [
    "sig = fem.Function(W)\n",
    "sig_old = fem.Function(W)\n",
    "p = fem.Function(W0, name=\"Cumulative_plastic_strain\")\n",
    "p_old = fem.Function(W0, name=\"Cumulative_plastic_strain\")\n",
    "u = fem.Function(V, name=\"Total_displacement\")\n",
    "du = fem.Function(V, name=\"Iteration_correction\")\n",
    "Du = fem.Function(V, name=\"Current_increment\")\n",
    "v = ufl.TrialFunction(V)\n",
    "u_ = ufl.TestFunction(V)\n",
    "C_tang = fem.Function(WT)\n",
    "\n",
    "deps = fem.Function(W, name=\"deps\")\n",
    "\n",
    "P0 = fem.FunctionSpace(mesh, (\"DG\", 0))\n",
    "p_avg = fem.Function(P0, name=\"Plastic_strain\")"
   ]
  },
  {
   "cell_type": "code",
   "execution_count": 10,
   "metadata": {},
   "outputs": [],
   "source": [
    "left_marker = 3\n",
    "down_marker = 1\n",
    "left_facets = ft.indices[ft.values == left_marker]\n",
    "down_facets = ft.indices[ft.values == down_marker]\n",
    "left_dofs = fem.locate_dofs_topological(V.sub(0), mesh.topology.dim-1, left_facets)\n",
    "down_dofs = fem.locate_dofs_topological(V.sub(1), mesh.topology.dim-1, down_facets)\n",
    "\n",
    "bcs = [fem.dirichletbc(PETSc.ScalarType(0), left_dofs, V.sub(0)), fem.dirichletbc(PETSc.ScalarType(0), down_dofs, V.sub(1))]"
   ]
  },
  {
   "cell_type": "code",
   "execution_count": 11,
   "metadata": {},
   "outputs": [],
   "source": [
    "n = ufl.FacetNormal(mesh)\n",
    "q_lim = float(2/np.sqrt(3)*np.log(Re/Ri)*sig0)\n",
    "loading = fem.Constant(mesh, PETSc.ScalarType(0.0 * q_lim))\n",
    "\n",
    "SQRT2 = np.sqrt(2.)\n",
    "\n",
    "def F_ext(v):\n",
    "    return -loading * ufl.inner(n, v)*ds(4)\n",
    "\n",
    "def eps(v):\n",
    "    e = ufl.sym(ufl.grad(v))\n",
    "    return ufl.as_tensor([[e[0, 0], e[0, 1], 0],\n",
    "                          [e[0, 1], e[1, 1], 0],\n",
    "                          [0, 0, 0]])\n",
    "\n",
    "def eps_vec(v):\n",
    "    e = ufl.sym(ufl.grad(v))\n",
    "    return ufl.as_vector([e[0, 0], e[1, 1], 0, SQRT2 * e[0, 1]])\n",
    "\n",
    "def as_3D_tensor(X):\n",
    "    return ufl.as_tensor([[X[0], X[3] / SQRT2, 0],\n",
    "                          [X[3] / SQRT2, X[1], 0],\n",
    "                          [0, 0, X[2]]])       "
   ]
  },
  {
   "cell_type": "code",
   "execution_count": 12,
   "metadata": {},
   "outputs": [],
   "source": [
    "vonMises = crm.vonMises(sig0, H)\n",
    "alpha = 1.\n",
    "DruckerPrager = crm.DruckerPrager(sig0, alpha, H)\n",
    "material = crm.Material(crm.IsotropicElasticity(E, nu), DruckerPrager)\n",
    "\n",
    "n_quadrature_points = len(C_tang.x.array.reshape((-1, 4, 4)))\n",
    "for i in range(n_quadrature_points):\n",
    "    C_tang.x.array.reshape((-1, 4, 4))[i,:,:] = material.C\n",
    "\n",
    "N = patch_size = 3 # or batch, or group ?\n",
    "N_patches = int(n_quadrature_points/patch_size)\n",
    "residue_size = n_quadrature_points % patch_size\n",
    "\n",
    "return_mapping = crm.ReturnMapping(material, patch_size)\n",
    "\n",
    "p_values = p.x.array[:n_quadrature_points - residue_size].reshape((-1, patch_size))\n",
    "p_old_values = p_old.x.array[:n_quadrature_points - residue_size].reshape((-1, patch_size))\n",
    "deps_values = deps.x.array[:4*(n_quadrature_points - residue_size)].reshape((-1, patch_size, 4))\n",
    "sig_values = sig.x.array[:4*(n_quadrature_points - residue_size)].reshape((-1, patch_size, 4))\n",
    "sig_old_values = sig_old.x.array[:4*(n_quadrature_points - residue_size)].reshape((-1, patch_size, 4))\n",
    "C_tang_values = C_tang.x.array[:4*4*(n_quadrature_points - residue_size)].reshape((-1, patch_size, 4, 4))\n",
    "\n",
    "if residue_size != 0:\n",
    "    return_mapping_residue = crm.ReturnMapping(material, residue_size)\n",
    "    \n",
    "    p_values_residue = p.x.array[n_quadrature_points - residue_size:].reshape((1, residue_size))\n",
    "    p_old_values_residue = p_old.x.array[n_quadrature_points - residue_size:].reshape((1, residue_size))\n",
    "    deps_values_residue = deps.x.array[4*(n_quadrature_points - residue_size):].reshape((1, residue_size, 4))\n",
    "    sig_values_residue = sig.x.array[4*(n_quadrature_points - residue_size):].reshape((1, residue_size, 4))\n",
    "    sig_old_values_residue = sig_old.x.array[4*(n_quadrature_points - residue_size):].reshape((1, residue_size, 4))\n",
    "    C_tang_values_residue = C_tang.x.array[4*4*(n_quadrature_points - residue_size):].reshape((1, residue_size, 4, 4))"
   ]
  },
  {
   "cell_type": "code",
   "execution_count": 13,
   "metadata": {},
   "outputs": [],
   "source": [
    "ds = ufl.Measure(\"ds\", domain=mesh, subdomain_data=ft)\n",
    "dx = ufl.Measure(\n",
    "    \"dx\",\n",
    "    domain=mesh,\n",
    "    metadata={\"quadrature_degree\": deg_stress, \"quadrature_scheme\": \"default\"},\n",
    ")\n",
    "\n",
    "a_Newton = ufl.inner(eps_vec(v), ufl.dot(C_tang, eps_vec(u_)))*dx \n",
    "res = -ufl.inner(eps(u_), as_3D_tensor(sig))*dx + F_ext(u_)\n",
    "\n",
    "my_problem = pf.LinearProblem(a_Newton, res, Du, bcs)"
   ]
  },
  {
   "cell_type": "code",
   "execution_count": 14,
   "metadata": {},
   "outputs": [],
   "source": [
    "# Defining a cell containing (Ri, 0) point, where we calculate a value of u\n",
    "x_point = np.array([[Ri, 0, 0]])\n",
    "cells, points_on_proc = fs.find_cell_by_point(mesh, x_point)"
   ]
  },
  {
   "cell_type": "code",
   "execution_count": 15,
   "metadata": {},
   "outputs": [],
   "source": [
    "def error_norm1(uh, u):\n",
    "    return np.sum(np.abs(u - uh)) / np.sum(np.abs(u))\n",
    "\n",
    "def error_norm2(uh, u):\n",
    "    return np.sqrt(np.dot(u - uh, u - uh)) / np.sqrt(np.dot(u, u))\n",
    "\n",
    "C_fake = fem.Function(WT)\n",
    "for i in range(n_quadrature_points):\n",
    "    C_fake.x.array.reshape((-1, 4, 4))[i,:,:] = material.C"
   ]
  },
  {
   "cell_type": "code",
   "execution_count": 16,
   "metadata": {},
   "outputs": [
    {
     "name": "stdout",
     "output_type": "stream",
     "text": [
      "\n",
      "nRes0 , 8.904703628988367e-05 \n",
      " Increment: 1, load = 0.0002537449238735671\n"
     ]
    },
    {
     "ename": "ValueError",
     "evalue": "Error parsing inputs\n",
     "output_type": "error",
     "traceback": [
      "\u001b[0;31m---------------------------------------------------------------------------\u001b[0m",
      "\u001b[0;31mValueError\u001b[0m                                Traceback (most recent call last)",
      "\u001b[1;32m/mnt/work_folder/convex-plasticity/tutorials/convex_plasticity/convex_plasticity.ipynb Cell 14\u001b[0m in \u001b[0;36m<cell line: 34>\u001b[0;34m()\u001b[0m\n\u001b[1;32m     <a href='vscode-notebook-cell://attached-container%2B7b22636f6e7461696e65724e616d65223a2266656e696373227d/mnt/work_folder/convex-plasticity/tutorials/convex_plasticity/convex_plasticity.ipynb#X16sdnNjb2RlLXJlbW90ZQ%3D%3D?line=62'>63</a>\u001b[0m return_mapping\u001b[39m.\u001b[39msig_old\u001b[39m.\u001b[39mvalue[:] \u001b[39m=\u001b[39m sig_old_values[q,:]\u001b[39m.\u001b[39mT\n\u001b[1;32m     <a href='vscode-notebook-cell://attached-container%2B7b22636f6e7461696e65724e616d65223a2266656e696373227d/mnt/work_folder/convex-plasticity/tutorials/convex_plasticity/convex_plasticity.ipynb#X16sdnNjb2RlLXJlbW90ZQ%3D%3D?line=63'>64</a>\u001b[0m return_mapping\u001b[39m.\u001b[39mp_old\u001b[39m.\u001b[39mvalue \u001b[39m=\u001b[39m p_old_values[q,:]\n\u001b[0;32m---> <a href='vscode-notebook-cell://attached-container%2B7b22636f6e7461696e65724e616d65223a2266656e696373227d/mnt/work_folder/convex-plasticity/tutorials/convex_plasticity/convex_plasticity.ipynb#X16sdnNjb2RlLXJlbW90ZQ%3D%3D?line=65'>66</a>\u001b[0m return_mapping\u001b[39m.\u001b[39;49msolve(derivation\u001b[39m=\u001b[39;49m\u001b[39mTrue\u001b[39;49;00m, verbose\u001b[39m=\u001b[39;49m\u001b[39mFalse\u001b[39;49;00m, eps\u001b[39m=\u001b[39;49m\u001b[39m1e-13\u001b[39;49m) \u001b[39m#, alpha=1, scale=5.\u001b[39;00m\n\u001b[1;32m     <a href='vscode-notebook-cell://attached-container%2B7b22636f6e7461696e65724e616d65223a2266656e696373227d/mnt/work_folder/convex-plasticity/tutorials/convex_plasticity/convex_plasticity.ipynb#X16sdnNjb2RlLXJlbW90ZQ%3D%3D?line=66'>67</a>\u001b[0m time_logging_local[\u001b[39m'\u001b[39m\u001b[39mconvex_solving\u001b[39m\u001b[39m'\u001b[39m][q] \u001b[39m=\u001b[39m return_mapping\u001b[39m.\u001b[39mconvex_solving_time\n\u001b[1;32m     <a href='vscode-notebook-cell://attached-container%2B7b22636f6e7461696e65724e616d65223a2266656e696373227d/mnt/work_folder/convex-plasticity/tutorials/convex_plasticity/convex_plasticity.ipynb#X16sdnNjb2RlLXJlbW90ZQ%3D%3D?line=67'>68</a>\u001b[0m time_logging_local[\u001b[39m'\u001b[39m\u001b[39mconvex_solving_cvxpy\u001b[39m\u001b[39m'\u001b[39m][q] \u001b[39m=\u001b[39m return_mapping\u001b[39m.\u001b[39mopt_problem\u001b[39m.\u001b[39m_solve_time\n",
      "File \u001b[0;32m/mnt/work_folder/convex-plasticity/tutorials/convex_plasticity/../../src/convex_return_mapping.py:226\u001b[0m, in \u001b[0;36mReturnMapping.solve\u001b[0;34m(self, **kwargs)\u001b[0m\n\u001b[1;32m    220\u001b[0m \u001b[39mdef\u001b[39;00m \u001b[39msolve\u001b[39m(\u001b[39mself\u001b[39m, \u001b[39m*\u001b[39m\u001b[39m*\u001b[39mkwargs):\n\u001b[1;32m    221\u001b[0m     \u001b[39m\"\"\"Solves a minimization problem and calculates the derivative of `sig` variable.\u001b[39;00m\n\u001b[1;32m    222\u001b[0m \u001b[39m    \u001b[39;00m\n\u001b[1;32m    223\u001b[0m \u001b[39m    Args:\u001b[39;00m\n\u001b[1;32m    224\u001b[0m \u001b[39m        **kwargs: additional solver attributes, such as tolerance, etc.\u001b[39;00m\n\u001b[1;32m    225\u001b[0m \u001b[39m    \"\"\"\u001b[39;00m\n\u001b[0;32m--> 226\u001b[0m     \u001b[39mself\u001b[39;49m\u001b[39m.\u001b[39;49mopt_problem\u001b[39m.\u001b[39;49msolve(solver\u001b[39m=\u001b[39;49m\u001b[39mself\u001b[39;49m\u001b[39m.\u001b[39;49msolver, requires_grad\u001b[39m=\u001b[39;49m\u001b[39mFalse\u001b[39;49;00m, \u001b[39m*\u001b[39;49m\u001b[39m*\u001b[39;49mkwargs)\n",
      "File \u001b[0;32m/usr/local/lib/python3.9/dist-packages/cvxpy/problems/problem.py:481\u001b[0m, in \u001b[0;36mProblem.solve\u001b[0;34m(self, *args, **kwargs)\u001b[0m\n\u001b[1;32m    479\u001b[0m \u001b[39melse\u001b[39;00m:\n\u001b[1;32m    480\u001b[0m     solve_func \u001b[39m=\u001b[39m Problem\u001b[39m.\u001b[39m_solve\n\u001b[0;32m--> 481\u001b[0m \u001b[39mreturn\u001b[39;00m solve_func(\u001b[39mself\u001b[39;49m, \u001b[39m*\u001b[39;49margs, \u001b[39m*\u001b[39;49m\u001b[39m*\u001b[39;49mkwargs)\n",
      "File \u001b[0;32m/usr/local/lib/python3.9/dist-packages/cvxpy/problems/problem.py:1016\u001b[0m, in \u001b[0;36mProblem._solve\u001b[0;34m(self, solver, warm_start, verbose, gp, qcp, requires_grad, enforce_dpp, ignore_dpp, **kwargs)\u001b[0m\n\u001b[1;32m   1012\u001b[0m     s\u001b[39m.\u001b[39mLOGGER\u001b[39m.\u001b[39minfo(\n\u001b[1;32m   1013\u001b[0m             \u001b[39m'\u001b[39m\u001b[39mInvoking solver \u001b[39m\u001b[39m%s\u001b[39;00m\u001b[39m  to obtain a solution.\u001b[39m\u001b[39m'\u001b[39m,\n\u001b[1;32m   1014\u001b[0m             solving_chain\u001b[39m.\u001b[39mreductions[\u001b[39m-\u001b[39m\u001b[39m1\u001b[39m]\u001b[39m.\u001b[39mname())\n\u001b[1;32m   1015\u001b[0m start \u001b[39m=\u001b[39m time\u001b[39m.\u001b[39mtime()\n\u001b[0;32m-> 1016\u001b[0m solution \u001b[39m=\u001b[39m solving_chain\u001b[39m.\u001b[39;49msolve_via_data(\n\u001b[1;32m   1017\u001b[0m     \u001b[39mself\u001b[39;49m, data, warm_start, verbose, kwargs)\n\u001b[1;32m   1018\u001b[0m end \u001b[39m=\u001b[39m time\u001b[39m.\u001b[39mtime()\n\u001b[1;32m   1019\u001b[0m \u001b[39mself\u001b[39m\u001b[39m.\u001b[39m_solve_time \u001b[39m=\u001b[39m end \u001b[39m-\u001b[39m start\n",
      "File \u001b[0;32m/usr/local/lib/python3.9/dist-packages/cvxpy/reductions/solvers/solving_chain.py:361\u001b[0m, in \u001b[0;36mSolvingChain.solve_via_data\u001b[0;34m(self, problem, data, warm_start, verbose, solver_opts)\u001b[0m\n\u001b[1;32m    325\u001b[0m \u001b[39mdef\u001b[39;00m \u001b[39msolve_via_data\u001b[39m(\u001b[39mself\u001b[39m, problem, data, warm_start: \u001b[39mbool\u001b[39m \u001b[39m=\u001b[39m \u001b[39mFalse\u001b[39;00m, verbose: \u001b[39mbool\u001b[39m \u001b[39m=\u001b[39m \u001b[39mFalse\u001b[39;00m,\n\u001b[1;32m    326\u001b[0m                    solver_opts\u001b[39m=\u001b[39m{}):\n\u001b[1;32m    327\u001b[0m     \u001b[39m\"\"\"Solves the problem using the data output by the an apply invocation.\u001b[39;00m\n\u001b[1;32m    328\u001b[0m \n\u001b[1;32m    329\u001b[0m \u001b[39m    The semantics are:\u001b[39;00m\n\u001b[0;32m   (...)\u001b[0m\n\u001b[1;32m    359\u001b[0m \u001b[39m        a Solution object.\u001b[39;00m\n\u001b[1;32m    360\u001b[0m \u001b[39m    \"\"\"\u001b[39;00m\n\u001b[0;32m--> 361\u001b[0m     \u001b[39mreturn\u001b[39;00m \u001b[39mself\u001b[39;49m\u001b[39m.\u001b[39;49msolver\u001b[39m.\u001b[39;49msolve_via_data(data, warm_start, verbose,\n\u001b[1;32m    362\u001b[0m                                       solver_opts, problem\u001b[39m.\u001b[39;49m_solver_cache)\n",
      "File \u001b[0;32m/usr/local/lib/python3.9/dist-packages/cvxpy/reductions/solvers/conic_solvers/scs_conif.py:329\u001b[0m, in \u001b[0;36mSCS.solve_via_data\u001b[0;34m(self, data, warm_start, verbose, solver_opts, solver_cache)\u001b[0m\n\u001b[1;32m    326\u001b[0m     \u001b[39mreturn\u001b[39;00m _results, _status\n\u001b[1;32m    328\u001b[0m solver_opts \u001b[39m=\u001b[39m SCS\u001b[39m.\u001b[39mparse_solver_options(solver_opts)\n\u001b[0;32m--> 329\u001b[0m results, status \u001b[39m=\u001b[39m solve(solver_opts)\n\u001b[1;32m    330\u001b[0m \u001b[39mif\u001b[39;00m (status \u001b[39min\u001b[39;00m s\u001b[39m.\u001b[39mINACCURATE \u001b[39mand\u001b[39;00m scs_version\u001b[39m.\u001b[39mmajor \u001b[39m==\u001b[39m \u001b[39m2\u001b[39m\n\u001b[1;32m    331\u001b[0m         \u001b[39mand\u001b[39;00m \u001b[39m\"\u001b[39m\u001b[39macceleration_lookback\u001b[39m\u001b[39m\"\u001b[39m \u001b[39mnot\u001b[39;00m \u001b[39min\u001b[39;00m solver_opts):\n\u001b[1;32m    332\u001b[0m     \u001b[39mimport\u001b[39;00m \u001b[39mwarnings\u001b[39;00m\n",
      "File \u001b[0;32m/usr/local/lib/python3.9/dist-packages/cvxpy/reductions/solvers/conic_solvers/scs_conif.py:324\u001b[0m, in \u001b[0;36mSCS.solve_via_data.<locals>.solve\u001b[0;34m(_solver_opts)\u001b[0m\n\u001b[1;32m    322\u001b[0m     _status \u001b[39m=\u001b[39m \u001b[39mself\u001b[39m\u001b[39m.\u001b[39mSTATUS_MAP[_results[\u001b[39m\"\u001b[39m\u001b[39minfo\u001b[39m\u001b[39m\"\u001b[39m][\u001b[39m\"\u001b[39m\u001b[39mstatusVal\u001b[39m\u001b[39m\"\u001b[39m]]\n\u001b[1;32m    323\u001b[0m \u001b[39melse\u001b[39;00m:\n\u001b[0;32m--> 324\u001b[0m     _results \u001b[39m=\u001b[39m scs\u001b[39m.\u001b[39;49msolve(args, cones, verbose\u001b[39m=\u001b[39;49mverbose, \u001b[39m*\u001b[39;49m\u001b[39m*\u001b[39;49m_solver_opts)\n\u001b[1;32m    325\u001b[0m     _status \u001b[39m=\u001b[39m \u001b[39mself\u001b[39m\u001b[39m.\u001b[39mSTATUS_MAP[_results[\u001b[39m\"\u001b[39m\u001b[39minfo\u001b[39m\u001b[39m\"\u001b[39m][\u001b[39m\"\u001b[39m\u001b[39mstatus_val\u001b[39m\u001b[39m\"\u001b[39m]]\n\u001b[1;32m    326\u001b[0m \u001b[39mreturn\u001b[39;00m _results, _status\n",
      "File \u001b[0;32m/usr/local/lib/python3.9/dist-packages/scs/__init__.py:166\u001b[0m, in \u001b[0;36msolve\u001b[0;34m(data, cone, **settings)\u001b[0m\n\u001b[1;32m    165\u001b[0m \u001b[39mdef\u001b[39;00m \u001b[39msolve\u001b[39m(data, cone, \u001b[39m*\u001b[39m\u001b[39m*\u001b[39msettings):\n\u001b[0;32m--> 166\u001b[0m     solver \u001b[39m=\u001b[39m SCS(data, cone, \u001b[39m*\u001b[39;49m\u001b[39m*\u001b[39;49msettings)\n\u001b[1;32m    168\u001b[0m     \u001b[39m# Hack out the warm start data from old API\u001b[39;00m\n\u001b[1;32m    169\u001b[0m     x \u001b[39m=\u001b[39m y \u001b[39m=\u001b[39m s \u001b[39m=\u001b[39m \u001b[39mNone\u001b[39;00m\n",
      "File \u001b[0;32m/usr/local/lib/python3.9/dist-packages/scs/__init__.py:118\u001b[0m, in \u001b[0;36mSCS.__init__\u001b[0;34m(self, data, cone, **settings)\u001b[0m\n\u001b[1;32m    115\u001b[0m _scs \u001b[39m=\u001b[39m _select_scs_module(\u001b[39mself\u001b[39m\u001b[39m.\u001b[39m_settings)\n\u001b[1;32m    117\u001b[0m \u001b[39m# Initialize solver\u001b[39;00m\n\u001b[0;32m--> 118\u001b[0m \u001b[39mself\u001b[39m\u001b[39m.\u001b[39m_solver \u001b[39m=\u001b[39m _scs\u001b[39m.\u001b[39;49mSCS(\n\u001b[1;32m    119\u001b[0m     (m, n),\n\u001b[1;32m    120\u001b[0m     Adata,\n\u001b[1;32m    121\u001b[0m     Aindices,\n\u001b[1;32m    122\u001b[0m     Acolptr,\n\u001b[1;32m    123\u001b[0m     Pdata,\n\u001b[1;32m    124\u001b[0m     Pindices,\n\u001b[1;32m    125\u001b[0m     Pcolptr,\n\u001b[1;32m    126\u001b[0m     b,\n\u001b[1;32m    127\u001b[0m     c,\n\u001b[1;32m    128\u001b[0m     cone,\n\u001b[1;32m    129\u001b[0m     \u001b[39m*\u001b[39;49m\u001b[39m*\u001b[39;49m\u001b[39mself\u001b[39;49m\u001b[39m.\u001b[39;49m_settings\n\u001b[1;32m    130\u001b[0m )\n",
      "\u001b[0;31mValueError\u001b[0m: Error parsing inputs\n"
     ]
    }
   ],
   "source": [
    "Nitermax, tol = 200, 1e-7  # parameters of the Newton-Raphson procedure\n",
    "Nincr = 20\n",
    "load_steps = np.linspace(0, 1.1, Nincr+1)[1:]**0.5\n",
    "results = np.zeros((Nincr+1, 2))\n",
    "load_steps = load_steps\n",
    "# xdmf = io.XDMFFile(MPI.COMM_WORLD, \"plasticity.xdmf\", \"w\", encoding=io.XDMFFile.Encoding.HDF5)\n",
    "# xdmf.write_mesh(mesh)\n",
    "\n",
    "sig.vector.set(0.0)\n",
    "sig_old.vector.set(0.0)\n",
    "p.vector.set(0.0)\n",
    "p_old.vector.set(0.0)\n",
    "u.vector.set(0.0)\n",
    "du.vector.set(0.0)\n",
    "\n",
    "n_quadrature_points = len(C_tang.x.array.reshape((-1, 4, 4)))\n",
    "for i in range(n_quadrature_points):\n",
    "    C_tang.x.array.reshape((-1, 4, 4))[i,:,:] = material.C\n",
    "\n",
    "my_problem.assemble()\n",
    "# T.vector.norm - bug, where T is a tensor???\n",
    "\n",
    "logging_parts = ['convex_solving', 'convex_solving_cvxpy', 'differentiation', 'return_mapping', 'differentiation_total', 'convex_solving_total']\n",
    "main_logging_parts = ['convex_solving', 'convex_solving_cvxpy', 'differentiation']\n",
    "\n",
    "time_logging = {}\n",
    "time_logging_local = {}\n",
    "for part in logging_parts: \n",
    "    time_logging[part] = np.zeros((Nincr))\n",
    "    time_logging_local[part] = np.zeros((n_quadrature_points))\n",
    "\n",
    "mosek_params = {'mosek_params': {'MSK_DPAR_INTPNT_CO_TOL_DFEAS' : 1.0e-13}}\n",
    "\n",
    "with common.Timer() as timer: \n",
    "    for (i, t) in enumerate(load_steps):\n",
    "        time_logging_tmp = {}\n",
    "        for part in logging_parts: \n",
    "            time_logging_tmp[part] = []\n",
    "\n",
    "        loading.value = t * q_lim\n",
    "\n",
    "        my_problem.assemble_vector()\n",
    "\n",
    "        nRes0 = my_problem.b.norm() # Which one? - ufl.sqrt(Res.dot(Res))\n",
    "        nRes = nRes0\n",
    "        Du.x.array[:] = 0\n",
    "\n",
    "        if MPI.COMM_WORLD.rank == 0:\n",
    "            print(f\"\\nnRes0 , {nRes0} \\n Increment: {str(i+1)}, load = {t * q_lim}\")\n",
    "        niter = 0\n",
    "\n",
    "        while nRes/nRes0 > tol and niter < Nitermax:\n",
    "            my_problem.solve(du)\n",
    "\n",
    "            Du.vector.axpy(1, du.vector) # Du = Du + 1*du\n",
    "            Du.x.scatter_forward() \n",
    "\n",
    "            with common.Timer() as timer_return_mapping: \n",
    "                fs.interpolate_quadrature(eps_vec(Du), deps) # eps_xy * sqrt(2.)!\n",
    "\n",
    "                for q in range(N_patches):\n",
    "                    return_mapping.deps.value[:] = deps_values[q,:].T\n",
    "                    return_mapping.sig_old.value[:] = sig_old_values[q,:].T\n",
    "                    return_mapping.p_old.value = p_old_values[q,:]\n",
    "                    \n",
    "                    return_mapping.solve(derivation=True, verbose=False, eps=1e-13) #, alpha=1, scale=5.\n",
    "                    time_logging_local['convex_solving'][q] = return_mapping.convex_solving_time\n",
    "                    time_logging_local['convex_solving_cvxpy'][q] = return_mapping.opt_problem._solve_time\n",
    "                    time_logging_local['differentiation'][q] = return_mapping.differentiation_time\n",
    "\n",
    "                    sig_values[q,:] = return_mapping.sig.value[:].T\n",
    "                    p_values[q,:] = return_mapping.p.value\n",
    "                    C_tang_values[q,:] = return_mapping.C_tang[:]\n",
    "\n",
    "                if residue_size != 0: #how to improve ?\n",
    "                    return_mapping_residue.deps.value[:] = deps_values_residue[0,:].T\n",
    "                    return_mapping_residue.sig_old.value[:] = sig_old_values_residue[0,:].T\n",
    "                    return_mapping_residue.p_old.value = p_old_values_residue[0,:]\n",
    "                    \n",
    "                    return_mapping_residue.solve(derivation=True, verbose=False, eps=1e-13) #, alpha=1, scale=5.\n",
    "                    \n",
    "                    sig_values_residue[0,:] = return_mapping_residue.sig.value[:].T\n",
    "                    p_values_residue[0,:] = return_mapping_residue.p.value\n",
    "                    C_tang_values_residue[0,:] = return_mapping_residue.C_tang[:]\n",
    "\n",
    "                time_logging_tmp['return_mapping'].append(timer_return_mapping.elapsed()[0])\n",
    "\n",
    "            for part in main_logging_parts:\n",
    "                time_logging_tmp[part].append(np.mean(time_logging_local[part]))\n",
    "\n",
    "            time_logging_tmp['convex_solving_total'].append(np.sum(time_logging_local['convex_solving']))\n",
    "            time_logging_tmp['differentiation_total'].append(np.sum(time_logging_local['differentiation']))\n",
    "\n",
    "            print('C_tang', np.max(C_tang.x.array), np.min(C_tang.x.array))\n",
    "            print('C_tang relative error', error_norm1(C_tang.x.array, C_fake.x.array), error_norm2(C_tang.x.array, C_fake.x.array))\n",
    "\n",
    "            my_problem.assemble()\n",
    "\n",
    "            nRes = my_problem.b.norm() \n",
    "            if MPI.COMM_WORLD.rank == 0:\n",
    "                print(f\"    Residual: {nRes}\")\n",
    "            niter += 1\n",
    "        u.vector.axpy(1, Du.vector) # u = u + 1*Du\n",
    "        u.x.scatter_forward()\n",
    "\n",
    "        p_old.x.array[:] = p.x.array\n",
    "        sig_old.x.array[:] = sig.x.array\n",
    "\n",
    "        fs.project(p, p_avg)\n",
    "        \n",
    "        # xdmf.write_function(u, t)\n",
    "        # xdmf.write_function(p_avg, t)\n",
    "\n",
    "        for part in logging_parts:\n",
    "            time_logging[part][i] = np.mean(time_logging_tmp[part])\n",
    "\n",
    "        for part in logging_parts:\n",
    "            print(f'\\trank#{MPI.COMM_WORLD.rank}: Time ({part}) = {np.mean(time_logging[part][i]):.5f} (s)')\n",
    "        # print(f'\\trank#{MPI.COMM_WORLD.rank}: Time (mean convex solving per q (solve_time)) = {np.mean(time_logging[str][i]):.6f} (s)')\n",
    "\n",
    "        # print(f'\\trank#{MPI.COMM_WORLD.rank}: Time (mean convex solving per q) = {convex_solving_times[i]:.6f} (s)')\n",
    "        # print(f'\\trank#{MPI.COMM_WORLD.rank}: Time (mean differentiation per q) = {differentiation_times[i]:.6f} (s)')\n",
    "        # print(f'\\trank#{MPI.COMM_WORLD.rank}: Time (mean return mapping) = {return_mapping_times[i]:.3f} (s)')\n",
    "        # print(f'\\t\\trank#{MPI.COMM_WORLD.rank}: Time (mean convex solving) = {np.mean(convex_solving_total_time):.3f} (s) - {np.mean(convex_solving_total_time)/return_mapping_times[i]*100:.1f}%')\n",
    "        # print(f'\\t\\trank#{MPI.COMM_WORLD.rank}: Time (mean differentiation) = {np.mean(differentiation_total_time):.3f} (s) - {np.mean(differentiation_total_time)/return_mapping_times[i]*100:.1f}%')\n",
    "\n",
    "        if len(points_on_proc) > 0:\n",
    "            results[i+1, :] = (u.eval(points_on_proc, cells)[0], t)\n",
    "    \n",
    "    # xdmf.close()\n",
    "\n",
    "    print(f'\\nrank#{MPI.COMM_WORLD.rank}: Time = {timer.elapsed()[0]:.3f} (s)')\n",
    "    \n",
    "    important_logging_parts = ['return_mapping', 'differentiation_total', 'convex_solving_total']\n",
    "    for part in important_logging_parts:\n",
    "        print(f'\\trank#{MPI.COMM_WORLD.rank}: Time ({part}) = {np.sum(time_logging[part]):.3f} (s)')"
   ]
  },
  {
   "cell_type": "code",
   "execution_count": null,
   "metadata": {},
   "outputs": [
    {
     "data": {
      "image/png": "[encoded data removed]",
      "text/plain": [
       "<Figure size 432x288 with 1 Axes>"
      ]
     },
     "metadata": {
      "needs_background": "light"
     },
     "output_type": "display_data"
    }
   ],
   "source": [
    "if len(points_on_proc) > 0:\n",
    "    import matplotlib.pyplot as plt\n",
    "    plt.plot(results[:, 0], results[:, 1], \"-o\")\n",
    "    plt.xlabel(\"Displacement of inner boundary\")\n",
    "    plt.ylabel(r\"Applied pressure $q/q_{lim}$\")\n",
    "    plt.savefig(f\"displacement_rank{MPI.COMM_WORLD.rank:d}.png\")\n",
    "    plt.show()"
   ]
  },
  {
   "cell_type": "code",
   "execution_count": null,
   "metadata": {},
   "outputs": [],
   "source": []
  }
 ],
 "metadata": {
  "interpreter": {
   "hash": "31f2aee4e71d21fbe5cf8b01ff0e069b9275f58929596ceb00d14d90e3e16cd6"
  },
  "kernelspec": {
   "display_name": "Python 3.8.10 64-bit",
   "language": "python",
   "name": "python3"
  },
  "language_info": {
   "codemirror_mode": {
    "name": "ipython",
    "version": 3
   },
   "file_extension": ".py",
   "mimetype": "text/x-python",
   "name": "python",
   "nbconvert_exporter": "python",
   "pygments_lexer": "ipython3",
   "version": "3.9.7"
  },
  "orig_nbformat": 4
 },
 "nbformat": 4,
 "nbformat_minor": 2
}
