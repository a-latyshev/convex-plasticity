{
 "cells": [
  {
   "cell_type": "code",
   "execution_count": 12,
   "metadata": {},
   "outputs": [],
   "source": [
    "from pathlib import Path\n",
    "\n",
    "import cffi\n",
    "import numba\n",
    "import numba.core.typing.cffi_utils as cffi_support\n",
    "import numpy as np\n",
    "\n",
    "import ufl\n",
    "from dolfinx.cpp.fem import Form_complex128, Form_float64\n",
    "# from dolfinx.fem import (Function, FunctionSpace, IntegralType, dirichletbc,\n",
    "#                          form, locate_dofs_topological)\n",
    "# from dolfinx.fem.petsc import (apply_lifting, assemble_matrix, assemble_vector,\n",
    "#                                set_bc)\n",
    "from dolfinx.jit import ffcx_jit\n",
    "from dolfinx import fem, mesh, io\n",
    "\n",
    "from mpi4py import MPI\n",
    "from petsc4py import PETSc"
   ]
  },
  {
   "cell_type": "code",
   "execution_count": 13,
   "metadata": {},
   "outputs": [],
   "source": [
    "L = 1\n",
    "W = 0.1\n",
    "rho = 1\n",
    "delta = W/L\n",
    "gamma = 0.4*delta**2\n",
    "beta = 1.25\n",
    "mu = 1\n",
    "lambda_ = beta\n",
    "g = gamma\n",
    "\n",
    "# Create mesh and define function space\n",
    "domain = mesh.create_rectangle(comm=MPI.COMM_WORLD,\n",
    "                            points=((0.0, 0.0), (L, W)), n=(64, 16),\n",
    "                            cell_type=mesh.CellType.triangle,)\n"
   ]
  },
  {
   "cell_type": "code",
   "execution_count": 19,
   "metadata": {},
   "outputs": [],
   "source": [
    "Se = ufl.TensorElement(\"DG\", domain.ufl_cell(), 1, symmetry=True)\n",
    "Ue = ufl.VectorElement(\"Lagrange\", domain.ufl_cell(), 2)\n",
    "\n",
    "S = fem.FunctionSpace(domain, Se)\n",
    "U = fem.FunctionSpace(domain, Ue)\n",
    "CG1 = fem.FunctionSpace(domain, ('CG', 1))\n",
    "CG2 = fem.FunctionSpace(domain, ('CG', 2))"
   ]
  },
  {
   "cell_type": "code",
   "execution_count": 20,
   "metadata": {},
   "outputs": [],
   "source": [
    "# Get local dofmap sizes for later local tensor tabulations\n",
    "Ssize = S.element.space_dimension\n",
    "Usize = U.element.space_dimension\n",
    "\n",
    "sigma, tau = ufl.TrialFunction(S), ufl.TestFunction(S)\n",
    "u, v = ufl.TrialFunction(U), ufl.TestFunction(U)\n",
    "mu = fem.Function(CG1)\n",
    "lambda_ = fem.Function(CG1)\n",
    "\n",
    "mu.x.array[:] = np.full(len(mu.x.array), 1)\n",
    "lambda_.x.array[:] = np.full(len(lambda_.x.array), beta)"
   ]
  },
  {
   "cell_type": "code",
   "execution_count": 21,
   "metadata": {},
   "outputs": [],
   "source": [
    "# mu = 1\n",
    "# lambda_ = beta\n",
    "\n",
    "# mu = fem.Function(CG1)\n",
    "# lambda_ = fem.Function(CG1)\n",
    "\n",
    "# mu.x.array[:] = np.full(len(mu.x.array), 1)\n",
    "# lambda_.x.array[:] = np.full(len(lambda_.x.array), beta)\n",
    "\n",
    "# mu.x.scatter_forward()\n",
    "# lambda_.x.scatter_forward()"
   ]
  },
  {
   "cell_type": "code",
   "execution_count": 22,
   "metadata": {},
   "outputs": [],
   "source": [
    "dxm = ufl.Measure(\n",
    "    \"dx\",\n",
    "    domain=domain,\n",
    "    metadata={\"quadrature_degree\": 2, \"quadrature_scheme\": \"default\"},\n",
    ")\n",
    "\n",
    "left_facets = mesh.locate_entities_boundary(domain, dim=1,\n",
    "                                       marker=lambda x: np.isclose(x[0], 0.0))\n",
    "\n",
    "dofs = fem.locate_dofs_topological(V=U, entity_dim=1, entities=left_facets)\n",
    "bc = fem.dirichletbc(value=fem.Constant(domain, (PETSc.ScalarType(0), PETSc.ScalarType(0))), dofs=dofs, V=U)                            "
   ]
  },
  {
   "cell_type": "code",
   "execution_count": 23,
   "metadata": {},
   "outputs": [],
   "source": [
    "def epsilon(u):\n",
    "    return ufl.sym(ufl.grad(u))\n",
    "\n",
    "def sigma(u):\n",
    "    return lambda_*ufl.div(u)*ufl.Identity(u.geometric_dimension()) + 2*mu*epsilon(u)\n",
    "\n",
    "# Define variational problem\n",
    "f = fem.Constant(domain, (PETSc.ScalarType(0), PETSc.ScalarType(-rho*g)))\n",
    "b = ufl.inner(f, v)*ufl.dx\n",
    "\n",
    "a00 = ufl.inner(sigma(u), epsilon(v)) * ufl.dx"
   ]
  },
  {
   "cell_type": "code",
   "execution_count": 24,
   "metadata": {},
   "outputs": [],
   "source": [
    "# JIT compile individual blocks tabulation kernels\n",
    "nptype = \"complex128\" if np.issubdtype(PETSc.ScalarType, np.complexfloating) else \"float64\"\n",
    "ffcxtype = \"double _Complex\" if np.issubdtype(PETSc.ScalarType, np.complexfloating) else \"double\"\n",
    "ufcx_form00, _, _ = ffcx_jit(domain.comm, a00, form_compiler_params={\"scalar_type\": ffcxtype})\n",
    "kernel00 = getattr(ufcx_form00.integrals(0)[0], f\"tabulate_tensor_{nptype}\")\n",
    "\n",
    "ffi = cffi.FFI()\n",
    "cffi_support.register_type(ffi.typeof('double _Complex'), numba.types.complex128)\n",
    "c_signature = numba.types.void(\n",
    "    numba.types.CPointer(numba.typeof(PETSc.ScalarType())),\n",
    "    numba.types.CPointer(numba.typeof(PETSc.ScalarType())),\n",
    "    numba.types.CPointer(numba.typeof(PETSc.ScalarType())),\n",
    "    numba.types.CPointer(numba.types.double),\n",
    "    numba.types.CPointer(numba.types.int32),\n",
    "    numba.types.CPointer(numba.types.uint8))"
   ]
  },
  {
   "cell_type": "code",
   "execution_count": 25,
   "metadata": {},
   "outputs": [],
   "source": [
    "@numba.cfunc(c_signature, nopython=True)\n",
    "def tabulate_condensed_tensor_A(A_, w_, c_, coords_, entity_local_index, permutation=ffi.NULL):\n",
    "    # Prepare target condensed local elem tensor\n",
    "    A = numba.carray(A_, (Usize, Usize), dtype=PETSc.ScalarType)\n",
    "    # Tabulate all sub blocks locally\n",
    "    A00 = np.zeros((Usize, Usize), dtype=PETSc.ScalarType)\n",
    "    kernel00(ffi.from_buffer(A00), w_, c_, coords_, entity_local_index, permutation)\n",
    "    \n",
    "    A[:, :] = A00"
   ]
  },
  {
   "cell_type": "code",
   "execution_count": 26,
   "metadata": {},
   "outputs": [],
   "source": [
    "# Prepare a Form with a condensed tabulation kernel\n",
    "Form = Form_float64 if PETSc.ScalarType == np.float64 else Form_complex128\n",
    "\n",
    "integrals = {fem.IntegralType.cell: ([(-1, tabulate_condensed_tensor_A.address)], None)}\n",
    "a_cond = Form([U._cpp_object, U._cpp_object], integrals, [], [], False, None)\n",
    "\n",
    "A_cond = fem.petsc.assemble_matrix(a_cond, bcs=[bc])\n",
    "A_cond.assemble()\n",
    "\n",
    "b_assembled = fem.petsc.assemble_vector(fem.form(b))\n",
    "fem.petsc.apply_lifting(b_assembled, [a_cond], bcs=[[bc]])\n",
    "b_assembled.ghostUpdate(addv=PETSc.InsertMode.ADD, mode=PETSc.ScatterMode.REVERSE)\n",
    "fem.petsc.set_bc(b_assembled, [bc])\n",
    "\n",
    "uc = fem.Function(U)\n",
    "solver = PETSc.KSP().create(A_cond.getComm())\n",
    "solver.setOperators(A_cond)\n",
    "\n",
    "# It gives a different result, if we remove next two lines\n",
    "solver.setType(PETSc.KSP.Type.PREONLY)\n",
    "solver.getPC().setType(PETSc.PC.Type.LU)\n",
    "\n",
    "solver.solve(b_assembled, uc.vector)\n",
    "uc.x.scatter_forward()"
   ]
  },
  {
   "cell_type": "code",
   "execution_count": 27,
   "metadata": {},
   "outputs": [],
   "source": [
    "problem = fem.petsc.LinearProblem(a00, b, bcs=[bc], petsc_options={\"ksp_type\": \"preonly\", \"pc_type\": \"lu\"})\n",
    "uh = problem.solve()"
   ]
  },
  {
   "cell_type": "code",
   "execution_count": 28,
   "metadata": {},
   "outputs": [],
   "source": [
    "uh2 = fem.Function(U)\n",
    "\n",
    "A = fem.petsc.assemble_matrix(fem.form(a00), bcs=[bc])\n",
    "A.assemble()\n",
    "B = fem.petsc.assemble_vector(fem.form(b))\n",
    "\n",
    "# A = fem.petsc.create_matrix(fem.form(a00))\n",
    "# B = fem.petsc.create_vector(fem.form(b))\n",
    "\n",
    "# A.zeroEntries()\n",
    "# fem.petsc.assemble_matrix(A, fem.form(a00), bcs=[bc])\n",
    "# A.assemble()\n",
    "\n",
    "# with B.localForm() as B_local:\n",
    "#     B_local.set(0.0)\n",
    "# fem.petsc.assemble_vector(B, fem.form(b))\n",
    "\n",
    "fem.apply_lifting(B, [fem.form(a00)], bcs=[[bc]])\n",
    "B.ghostUpdate(addv=PETSc.InsertMode.ADD, mode=PETSc.ScatterMode.REVERSE)\n",
    "fem.set_bc(B, [bc])\n",
    "\n",
    "solver = PETSc.KSP().create(A.getComm())\n",
    "solver.setOperators(A)\n",
    "solver.setType(PETSc.KSP.Type.PREONLY)\n",
    "solver.getPC().setType(PETSc.PC.Type.LU)\n",
    "solver.solve(B, uh2.vector)\n",
    "\n",
    "uh2.x.scatter_forward()"
   ]
  },
  {
   "cell_type": "code",
   "execution_count": 29,
   "metadata": {},
   "outputs": [],
   "source": [
    "uc.name = \"Displacement\"\n",
    "uh.name = \"linear solver\"\n",
    "uh2.name = \"manual solver\"\n",
    "\n",
    "with io.XDMFFile(MPI.COMM_WORLD, \"solution_0.xdmf\", \"w\", encoding=io.XDMFFile.Encoding.HDF5) as file:\n",
    "    file.write_mesh(domain)\n",
    "\n",
    "with io.XDMFFile(MPI.COMM_WORLD, \"solution_0.xdmf\", \"a\", encoding=io.XDMFFile.Encoding.HDF5) as file:\n",
    "    file.write_function(uc)\n",
    "    file.write_function(uh)\n",
    "    file.write_function(uh2)"
   ]
  },
  {
   "cell_type": "code",
   "execution_count": null,
   "metadata": {},
   "outputs": [],
   "source": []
  }
 ],
 "metadata": {
  "interpreter": {
   "hash": "31f2aee4e71d21fbe5cf8b01ff0e069b9275f58929596ceb00d14d90e3e16cd6"
  },
  "kernelspec": {
   "display_name": "Python 3.9.7 64-bit",
   "language": "python",
   "name": "python3"
  },
  "language_info": {
   "codemirror_mode": {
    "name": "ipython",
    "version": 3
   },
   "file_extension": ".py",
   "mimetype": "text/x-python",
   "name": "python",
   "nbconvert_exporter": "python",
   "pygments_lexer": "ipython3",
   "version": "3.9.7"
  },
  "orig_nbformat": 4
 },
 "nbformat": 4,
 "nbformat_minor": 2
}
