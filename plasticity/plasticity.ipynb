{
 "cells": [
  {
   "cell_type": "markdown",
   "metadata": {},
   "source": [
    "Implementation of 2D elasto-plastic problem using FEniCS-X. The code is based on a [legacy solution](https://comet-fenics.readthedocs.io/en/latest/demo/2D_plasticity/vonMises_plasticity.py.html) for FEniCS 2019.\n",
    "\n",
    "The program was tested for 0.3.1.0 version of Dolfinx."
   ]
  },
  {
   "cell_type": "code",
   "execution_count": 1,
   "metadata": {},
   "outputs": [],
   "source": [
    "#TODO https://github.com/FEniCS/dolfinx/blob/main/python/test/unit/fem/test_expression.py"
   ]
  },
  {
   "cell_type": "code",
   "execution_count": 2,
   "metadata": {},
   "outputs": [],
   "source": [
    "import meshio\n",
    "import numpy as np\n",
    "\n",
    "import ufl\n",
    "from dolfinx import fem, io\n",
    "from mpi4py import MPI\n",
    "from petsc4py import PETSc\n",
    "from dolfinx.geometry import (BoundingBoxTree, compute_colliding_cells, compute_collisions)\n",
    "import time\n",
    "import basix\n",
    "\n",
    "def create_mesh(mesh, cell_type, prune_z=False):\n",
    "    cells = mesh.get_cells_type(cell_type)\n",
    "    cell_data = mesh.get_cell_data(\"gmsh:physical\", cell_type)\n",
    "    points = mesh.points[:,:2] if prune_z else mesh.points\n",
    "    out_mesh = meshio.Mesh(points=points, cells={cell_type: cells}, cell_data={\"name_to_read\":[cell_data]})\n",
    "    return out_mesh\n",
    "\n",
    "# defining function to interpolate function defined over quadrature elements\n",
    "def interpolate_quadrature(ufl_expr, fem_func):\n",
    "    q_dim = fem_func.function_space._ufl_element.degree()\n",
    "    mesh = fem_func.ufl_function_space().mesh\n",
    "    \n",
    "    basix_celltype = getattr(basix.CellType, mesh.topology.cell_type.name)\n",
    "    quadrature_points, weights = basix.make_quadrature(basix_celltype, q_dim)\n",
    "    map_c = mesh.topology.index_map(mesh.topology.dim)\n",
    "    num_cells = map_c.size_local + map_c.num_ghosts\n",
    "    cells = np.arange(0, num_cells, dtype=np.int32)\n",
    "\n",
    "    expr_expr = fem.Expression(ufl_expr, quadrature_points)\n",
    "    expr_eval = expr_expr.eval(cells)\n",
    "    fem_func.x.array[:] = expr_eval.flatten()[:]\n",
    "    fem_func.x.scatter_forward()"
   ]
  },
  {
   "cell_type": "code",
   "execution_count": 3,
   "metadata": {},
   "outputs": [
    {
     "name": "stdout",
     "output_type": "stream",
     "text": [
      "\n",
      "<meshio mesh object>\n",
      "  Number of points: 811\n",
      "  Number of cells:\n",
      "    line: 10\n",
      "    line: 69\n",
      "    line: 10\n",
      "    line: 53\n",
      "    triangle: 1478\n",
      "  Cell sets: gmsh:bounding_entities\n",
      "  Point data: gmsh:dim_tags\n",
      "  Cell data: gmsh:physical, gmsh:geometrical\n"
     ]
    }
   ],
   "source": [
    "if MPI.COMM_WORLD.rank == 0:\n",
    "\n",
    "    #It works with the msh4 only!!\n",
    "    msh = meshio.read(\"thick_cylinder.msh\")\n",
    "\n",
    "    # Create and save one file for the mesh, and one file for the facets \n",
    "    triangle_mesh = create_mesh(msh, \"triangle\", prune_z=True)\n",
    "    line_mesh = create_mesh(msh, \"line\", prune_z=True)\n",
    "    meshio.write(\"thick_cylinder.xdmf\", triangle_mesh)\n",
    "    meshio.write(\"mt.xdmf\", line_mesh)\n",
    "    print(msh)\n",
    "    "
   ]
  },
  {
   "cell_type": "code",
   "execution_count": 4,
   "metadata": {},
   "outputs": [],
   "source": [
    "with io.XDMFFile(MPI.COMM_WORLD, \"thick_cylinder.xdmf\", \"r\") as xdmf:\n",
    "    mesh = xdmf.read_mesh(name=\"Grid\")\n",
    "    ct = xdmf.read_meshtags(mesh, name=\"Grid\")\n",
    "\n",
    "mesh.topology.create_connectivity(mesh.topology.dim, mesh.topology.dim - 1)\n",
    "\n",
    "with io.XDMFFile(MPI.COMM_WORLD, \"mt.xdmf\", \"r\") as xdmf:\n",
    "    ft = xdmf.read_meshtags(mesh, name=\"Grid\")"
   ]
  },
  {
   "cell_type": "code",
   "execution_count": 5,
   "metadata": {},
   "outputs": [],
   "source": [
    "# elastic parameters\n",
    "E = 70e3\n",
    "nu = 0.3\n",
    "lmbda = E*nu/(1+nu)/(1-2*nu)\n",
    "mu = fem.Constant(mesh, PETSc.ScalarType(E/2./(1+nu)))\n",
    "sig0 = fem.Constant(mesh, PETSc.ScalarType(250))  # yield strength\n",
    "Et = E/100.  # tangent modulus\n",
    "H = E*Et/(E-Et)  # hardening modulus\n",
    "\n",
    "Re, Ri = 1.3, 1.   # external/internal radius"
   ]
  },
  {
   "cell_type": "code",
   "execution_count": 6,
   "metadata": {},
   "outputs": [],
   "source": [
    "deg_u = 2\n",
    "deg_stress = 2\n",
    "V = fem.VectorFunctionSpace(mesh, (\"CG\", deg_u))\n",
    "We = ufl.VectorElement(\"Quadrature\", mesh.ufl_cell(), degree=deg_stress, dim=4, quad_scheme='default')\n",
    "W0e = ufl.FiniteElement(\"Quadrature\", mesh.ufl_cell(), degree=deg_stress, quad_scheme='default')\n",
    "W = fem.FunctionSpace(mesh, We)\n",
    "W0 = fem.FunctionSpace(mesh, W0e)"
   ]
  },
  {
   "cell_type": "code",
   "execution_count": 7,
   "metadata": {},
   "outputs": [],
   "source": [
    "sig = fem.Function(W)\n",
    "sig_old = fem.Function(W)\n",
    "n_elas = fem.Function(W)\n",
    "beta = fem.Function(W0)\n",
    "p = fem.Function(W0, name=\"Cumulative_plastic_strain\")\n",
    "dp = fem.Function(W0)\n",
    "u = fem.Function(V, name=\"Total_displacement\")\n",
    "du = fem.Function(V, name=\"Iteration_correction\")\n",
    "Du = fem.Function(V, name=\"Current_increment\")\n",
    "v = ufl.TrialFunction(V)\n",
    "u_ = ufl.TestFunction(V)\n",
    "\n",
    "P0 = fem.FunctionSpace(mesh, (\"DG\", 0))\n",
    "p_avg = fem.Function(P0, name=\"Plastic_strain\")\n",
    "\n",
    "zero_Du = fem.Function(V)"
   ]
  },
  {
   "cell_type": "code",
   "execution_count": 8,
   "metadata": {},
   "outputs": [],
   "source": [
    "left_marker = 3\n",
    "down_marker = 1\n",
    "left_facets = ft.indices[ft.values == left_marker]\n",
    "down_facets = ft.indices[ft.values == down_marker]\n",
    "left_dofs = fem.locate_dofs_topological(V.sub(0), mesh.topology.dim-1, left_facets)\n",
    "down_dofs = fem.locate_dofs_topological(V.sub(1), mesh.topology.dim-1, down_facets)\n",
    "\n",
    "bcs = [fem.dirichletbc(PETSc.ScalarType(0), left_dofs, V.sub(0)), fem.dirichletbc(PETSc.ScalarType(0), down_dofs, V.sub(1))]"
   ]
  },
  {
   "cell_type": "code",
   "execution_count": 9,
   "metadata": {},
   "outputs": [],
   "source": [
    "n = ufl.FacetNormal(mesh)\n",
    "q_lim = float(2/np.sqrt(3)*np.log(Re/Ri)*sig0.value)\n",
    "\n",
    "# class Loading:\n",
    "#     def __init__(self):\n",
    "#         self.q = q_lim\n",
    "#         self.t = 0.0\n",
    "\n",
    "#     def eval(self, x):\n",
    "#         return np.full(x.shape[1], -self.q * self.t)\n",
    "\n",
    "# loading = Loading()\n",
    "# load_func.interpolate(loading.eval)\n",
    "V_real = fem.FunctionSpace(mesh, (\"CG\", deg_u))\n",
    "loading = fem.Function(V_real)\n",
    "\n",
    "# loading.interpolate(lambda x: (np.zeros_like(x[1])))\n",
    "# loading.vector.ghostUpdate(addv=PETSc.InsertMode.INSERT, mode=PETSc.ScatterMode.FORWARD)\n",
    "\n",
    "def F_ext(v):\n",
    "    return -loading * ufl.inner(n, v)*ds(4)\n",
    "\n",
    "def eps(v):\n",
    "    e = ufl.sym(ufl.grad(v))\n",
    "    return ufl.as_tensor([[e[0, 0], e[0, 1], 0],\n",
    "                          [e[0, 1], e[1, 1], 0],\n",
    "                          [0, 0, 0]])\n",
    "def sigma(eps_el):\n",
    "    return lmbda*ufl.tr(eps_el)*ufl.Identity(3) + 2*mu*eps_el\n",
    "\n",
    "def as_3D_tensor(X):\n",
    "    return ufl.as_tensor([[X[0], X[3], 0],\n",
    "                          [X[3], X[1], 0],\n",
    "                          [0, 0, X[2]]])\n",
    "\n",
    "ppos = lambda x: (x + ufl.sqrt(x**2))/2.\n",
    "def proj_sig(deps, old_sig, old_p):\n",
    "    sig_n = as_3D_tensor(old_sig)\n",
    "    sig_elas = sig_n + sigma(deps)\n",
    "    s = ufl.dev(sig_elas)\n",
    "    sig_eq = ufl.sqrt(3/2.*ufl.inner(s, s))\n",
    "    f_elas = sig_eq - sig0 - H*old_p\n",
    "    dp = ppos(f_elas)/(3*mu+H)\n",
    "    n_elas = s/sig_eq*ppos(f_elas)/f_elas\n",
    "    beta = 3*mu*dp/sig_eq\n",
    "    new_sig = sig_elas-beta*s\n",
    "    return ufl.as_vector([new_sig[0, 0], new_sig[1, 1], new_sig[2, 2], new_sig[0, 1]]), \\\n",
    "           ufl.as_vector([n_elas[0, 0], n_elas[1, 1], n_elas[2, 2], n_elas[0, 1]]), \\\n",
    "           beta, dp         \n",
    "\n",
    "def sigma_tang(e):\n",
    "    N_elas = as_3D_tensor(n_elas)\n",
    "    return sigma(e) - 3*mu*(3*mu/(3*mu+H)-beta)*ufl.inner(N_elas, e)*N_elas - 2*mu*beta*ufl.dev(e)  "
   ]
  },
  {
   "cell_type": "code",
   "execution_count": 10,
   "metadata": {},
   "outputs": [],
   "source": [
    "ds = ufl.Measure(\"ds\", domain=mesh, subdomain_data=ft)\n",
    "dx = ufl.Measure(\n",
    "    \"dx\",\n",
    "    domain=mesh,\n",
    "    metadata={\"quadrature_degree\": deg_stress, \"quadrature_scheme\": \"default\"},\n",
    ")\n",
    "\n",
    "a_Newton = ufl.inner(eps(v), sigma_tang(eps(u_)))*dx\n",
    "res = -ufl.inner(eps(u_), as_3D_tensor(sig))*dx + F_ext(u_)\n",
    "\n",
    "def project(original_field, target_field, bcs=[]):\n",
    "    # original_field -> target_field\n",
    "    # Ensure we have a mesh and attach to measure\n",
    "    V = target_field.function_space\n",
    "\n",
    "    # Define variational problem for projection\n",
    "    w = ufl.TestFunction(V)\n",
    "    Pv = ufl.TrialFunction(V)\n",
    "    a = fem.form(ufl.inner(Pv, w) * dx)\n",
    "    L = fem.form(ufl.inner(original_field, w) * dx)\n",
    "\n",
    "    # Assemble linear system\n",
    "    A = fem.petsc.assemble_matrix(a, bcs)\n",
    "    A.assemble()\n",
    "    b = fem.petsc.assemble_vector(L)\n",
    "    fem.petsc.apply_lifting(b, [a], [bcs])\n",
    "    b.ghostUpdate(addv=PETSc.InsertMode.ADD, mode=PETSc.ScatterMode.REVERSE)\n",
    "    fem.petsc.set_bc(b, bcs)\n",
    "\n",
    "    # Solve linear system\n",
    "    solver = PETSc.KSP().create(A.getComm())\n",
    "    solver.setOperators(A)\n",
    "    solver.solve(b, target_field.vector)  \n",
    "    target_field.x.scatter_forward()\n"
   ]
  },
  {
   "cell_type": "code",
   "execution_count": 11,
   "metadata": {},
   "outputs": [],
   "source": [
    "problem = fem.petsc.LinearProblem(\n",
    "    a_Newton,\n",
    "    res,\n",
    "    bcs=bcs,\n",
    "    petsc_options={\n",
    "        \"pc_type\": \"lu\",\n",
    "        \"pc_factor_mat_solver_type\": \"mumps\",\n",
    "    },\n",
    ")"
   ]
  },
  {
   "cell_type": "code",
   "execution_count": 12,
   "metadata": {},
   "outputs": [],
   "source": [
    "# Defining a cell containing (Ri, 0) point, where we calculate a value of u\n",
    "\n",
    "cells = []\n",
    "points_on_proc = []\n",
    "x_point = np.zeros((1, 3))\n",
    "x_point[0][0] = Ri\n",
    "tree = BoundingBoxTree(mesh, mesh.geometry.dim)\n",
    "cell_candidates = compute_collisions(tree, x_point)\n",
    "colliding_cells = compute_colliding_cells(mesh, cell_candidates, x_point)\n",
    "for i, point in enumerate(x_point):\n",
    "    if len(colliding_cells.links(i)) > 0:\n",
    "        points_on_proc.append(point)\n",
    "        cells.append(colliding_cells.links(i)[0])"
   ]
  },
  {
   "cell_type": "code",
   "execution_count": 13,
   "metadata": {},
   "outputs": [
    {
     "name": "stdout",
     "output_type": "stream",
     "text": [
      "nRes0 , 2.85368238440022 \n",
      " Increment: 1, load = 17.7621446711497\n",
      "    Residual: 3.5986867330344404e-12\n",
      "nRes0 , 1.1820339463237637 \n",
      " Increment: 2, load = 25.119465890772904\n",
      "    Residual: 1.4779823405049433e-12\n",
      "nRes0 , 0.9070065477214541 \n",
      " Increment: 3, load = 30.764937021820067\n",
      "    Residual: 1.1366423843694714e-12\n",
      "nRes0 , 0.7646418903549145 \n",
      " Increment: 4, load = 35.5242893422994\n",
      "    Residual: 9.597922952993475e-13\n",
      "nRes0 , 0.6736630289121138 \n",
      " Increment: 5, load = 39.717362910876375\n",
      "    Residual: 8.532596121932003e-13\n",
      "nRes0 , 0.6090379320367267 \n",
      " Increment: 6, load = 43.50819118181207\n",
      "    Residual: 7.665703443740573e-13\n",
      "nRes0 , 0.5600681801393694 \n",
      " Increment: 7, load = 46.99421755101324\n",
      "    Residual: 7.013589968978524e-13\n",
      "nRes0 , 0.5212987515591537 \n",
      " Increment: 8, load = 50.23893178154581\n",
      "    Residual: 6.545878613294919e-13\n",
      "nRes0 , 0.48961449175264043 \n",
      " Increment: 9, load = 53.286434013449096\n",
      "    Residual: 6.144963001855129e-13\n",
      "nRes0 , 0.4630889002041811 \n",
      " Increment: 10, load = 56.16883329025551\n",
      "    Residual: 5.854895017209372e-13\n",
      "nRes0 , 0.4404576864974017 \n",
      " Increment: 11, load = 58.910369346214146\n",
      "    Residual: 0.02021571883782059\n",
      "    Residual: 0.002329839662326406\n",
      "    Residual: 3.600900558795962e-05\n",
      "    Residual: 1.6587888677485623e-10\n",
      "nRes0 , 0.42085201699873637 \n",
      " Increment: 12, load = 61.529874043640135\n",
      "    Residual: 0.5616188935163507\n",
      "    Residual: 0.011702234881428008\n",
      "    Residual: 5.276606578218334e-05\n",
      "    Residual: 2.2038389954907674e-11\n",
      "nRes0 , 0.4036524039532681 \n",
      " Increment: 13, load = 64.0423233740397\n",
      "    Residual: 1.0216022957770214\n",
      "    Residual: 0.015870731528997345\n",
      "    Residual: 1.1288392324447707e-05\n",
      "    Residual: 1.5257121221004432e-11\n",
      "nRes0 , 0.3884036122544887 \n",
      " Increment: 14, load = 66.45985981375466\n",
      "    Residual: 1.0346905059887572\n",
      "    Residual: 0.031429898430653205\n",
      "    Residual: 0.0002731282141015297\n",
      "    Residual: 6.492425851229694e-10\n",
      "nRes0 , 0.37476257705489535 \n",
      " Increment: 15, load = 68.7924905042896\n",
      "    Residual: 0.9993581824659903\n",
      "    Residual: 0.03454066294008125\n",
      "    Residual: 0.0010926528518624779\n",
      "    Residual: 1.2719844844568947e-08\n",
      "    Residual: 2.83791356548676e-13\n",
      "nRes0 , 0.3624651874533521 \n",
      " Increment: 16, load = 71.0485786845988\n",
      "    Residual: 1.1754018868976128\n",
      "    Residual: 0.051283135188294325\n",
      "    Residual: 0.0055235469334193625\n",
      "    Residual: 1.7395425124139505e-07\n",
      "    Residual: 3.4013174851098567e-13\n",
      "nRes0 , 0.35130435524568937 \n",
      " Increment: 17, load = 73.23519861665207\n",
      "    Residual: 1.4022311267458318\n",
      "    Residual: 0.14367205228046942\n",
      "    Residual: 0.008161098903762235\n",
      "    Residual: 7.15666449760207e-06\n",
      "    Residual: 6.173266293042772e-13\n",
      "nRes0 , 0.3411150993253876 \n",
      " Increment: 18, load = 75.3583976723187\n",
      "    Residual: 1.9783341074082117\n",
      "    Residual: 0.9321474146271235\n",
      "    Residual: 0.5089944171943788\n",
      "    Residual: 0.00590688498190964\n",
      "    Residual: 2.139856987143924e-06\n",
      "    Residual: 1.3329459799180718e-12\n",
      "nRes0 , 0.3317641383908143 \n",
      " Increment: 19, load = 77.42339364209101\n",
      "    Residual: 1.832046163131483\n",
      "    Residual: 0.2098916570451473\n",
      "    Residual: 0.0009406106059742005\n",
      "    Residual: 1.3575213255032148e-08\n",
      "    Residual: 7.359632212699409e-12\n",
      "nRes0 , 0.32314246486232656 \n",
      " Increment: 20, load = 79.43472582175275\n",
      "    Residual: 0.21253380683156042\n",
      "    Residual: 0.0004046307574780914\n",
      "    Residual: 4.3617586719111327e-10\n",
      "rank#0: Time = 5.985 (s)\n"
     ]
    }
   ],
   "source": [
    "Nitermax, tol = 200, 1e-8  # parameters of the Newton-Raphson procedure\n",
    "Nincr = 20\n",
    "load_steps = np.linspace(0, 1.1, Nincr+1)[1:]**0.5\n",
    "results = np.zeros((Nincr+1, 2))\n",
    "xdmf = io.XDMFFile(MPI.COMM_WORLD, \"plasticity.xdmf\", \"w\", encoding=io.XDMFFile.Encoding.HDF5)\n",
    "xdmf.write_mesh(mesh)\n",
    "\n",
    "start = time.time()\n",
    "\n",
    "for (i, t) in enumerate(load_steps):\n",
    "    # loading.t = t\n",
    "    # load_func.interpolate(loading.eval)\n",
    "    loading.interpolate(lambda x: (t * q_lim * np.ones_like(x[1])))\n",
    "    loading.x.scatter_forward()\n",
    "\n",
    "    Res0 = fem.petsc.assemble_vector(fem.form(res))\n",
    "    Res0.ghostUpdate(addv=PETSc.InsertMode.ADD, mode=PETSc.ScatterMode.REVERSE)\n",
    "    fem.set_bc(Res0, bcs, du.vector)\n",
    "\n",
    "    nRes0 = Res0.norm() # Which one? - ufl.sqrt(Res.dot(Res))\n",
    "    nRes = 1\n",
    "    zero_Du.vector.copy(Du.vector)\n",
    "    Du.x.scatter_forward()\n",
    "    if MPI.COMM_WORLD.rank == 0:\n",
    "        print(f\"nRes0 , {nRes0} \\n Increment: {str(i+1)}, load = {t * q_lim}\")\n",
    "    niter = 0\n",
    "     \n",
    "    while nRes/nRes0 > tol and niter < Nitermax:\n",
    "        du = problem.solve()\n",
    "        du.x.scatter_forward() \n",
    "\n",
    "        Du.vector.axpy(1, du.vector) # Du = Du + 1*du\n",
    "        Du.x.scatter_forward() \n",
    "\n",
    "        deps = eps(Du)\n",
    "        sig_, n_elas_, beta_, dp_ = proj_sig(deps, sig_old, p)\n",
    "\n",
    "        # project(sig_, sig)\n",
    "        # project(n_elas_, n_elas)\n",
    "        # project(beta_, beta)\n",
    "        interpolate_quadrature(sig_, sig)\n",
    "        interpolate_quadrature(n_elas_, n_elas)\n",
    "        interpolate_quadrature(beta_, beta)\n",
    "\n",
    "        Res = fem.petsc.assemble_vector(fem.form(res))\n",
    "        Res.ghostUpdate(addv=PETSc.InsertMode.ADD, mode=PETSc.ScatterMode.REVERSE)\n",
    "        fem.set_bc(Res, bcs, du.vector)\n",
    "\n",
    "        nRes = Res.norm() \n",
    "        if MPI.COMM_WORLD.rank == 0:\n",
    "            print(f\"    Residual: {nRes}\")\n",
    "        niter += 1\n",
    "    u.vector.axpy(1, Du.vector) # u = u + 1*Du\n",
    "    u.x.scatter_forward()\n",
    "\n",
    "    sig.vector.copy(sig_old.vector)\n",
    "    sig.x.scatter_forward()\n",
    "\n",
    "    # project(dp_, dp)\n",
    "    interpolate_quadrature(dp_, dp)\n",
    "    p.vector.axpy(1, dp.vector)\n",
    "    p.x.scatter_forward()\n",
    "\n",
    "    project(p, p_avg)\n",
    "    # interpolate_quadrature(p, p_avg)\n",
    "    p_avg.x.scatter_forward()\n",
    "    \n",
    "    xdmf.write_function(u, t)\n",
    "    xdmf.write_function(p_avg, t)\n",
    "\n",
    "    if len(points_on_proc) > 0:\n",
    "        results[i+1, :] = (u.eval(points_on_proc, cells)[0], t)\n",
    "\n",
    "xdmf.close()\n",
    "end = time.time()\n",
    "print(f'rank#{MPI.COMM_WORLD.rank}: Time = {end-start:.3f} (s)')"
   ]
  },
  {
   "cell_type": "code",
   "execution_count": 28,
   "metadata": {},
   "outputs": [
    {
     "data": {
      "image/png": "[encoded data removed]",
      "text/plain": [
       "<Figure size 432x288 with 1 Axes>"
      ]
     },
     "metadata": {
      "needs_background": "light"
     },
     "output_type": "display_data"
    }
   ],
   "source": [
    "if len(points_on_proc) > 0:\n",
    "    import matplotlib.pyplot as plt\n",
    "    plt.plot(results[:, 0], results[:, 1], \"-o\")\n",
    "    plt.xlabel(\"Displacement of inner boundary\")\n",
    "    plt.ylabel(r\"Applied pressure $q/q_{lim}$\")\n",
    "    plt.savefig(f\"displacement_rank{MPI.COMM_WORLD.rank:d}.png\")\n",
    "    plt.show()"
   ]
  },
  {
   "cell_type": "code",
   "execution_count": 32,
   "metadata": {},
   "outputs": [
    {
     "data": {
      "text/plain": [
       "<dolfinx.cpp.la.Vector_float64 at 0x7f0cb0f75030>"
      ]
     },
     "execution_count": 32,
     "metadata": {},
     "output_type": "execute_result"
    }
   ],
   "source": [
    "u.x"
   ]
  },
  {
   "cell_type": "code",
   "execution_count": 31,
   "metadata": {},
   "outputs": [
    {
     "data": {
      "text/plain": [
       "<petsc4py.PETSc.Vec at 0x7f0cb0e9fe50>"
      ]
     },
     "execution_count": 31,
     "metadata": {},
     "output_type": "execute_result"
    }
   ],
   "source": [
    "u.vector"
   ]
  },
  {
   "cell_type": "code",
   "execution_count": null,
   "metadata": {},
   "outputs": [],
   "source": [
    "  # A.zeroEntries()\n",
    "    # fem.petsc.assemble_matrix(A, fem.form(a_Newton), bcs=bcs)\n",
    "    # A.assemble()\n",
    "\n",
    "    # Res0 = fem.petsc.assemble_vector(fem.form(res))\n",
    "    # with Res0.localForm() as loc_b:\n",
    "    #     loc_b.set(0.)\n",
    "    # fem.petsc.assemble_vector(Res0, fem.form(res))\n",
    "    # Res0.assemble()\n",
    "\n",
    "    # fem.petsc.apply_lifting(Res0, [fem.form(a_Newton)], [bcs], x0=[Du.vector], scale=-1.0)\n",
    "    # Res0.ghostUpdate(addv=PETSc.InsertMode.ADD, mode=PETSc.ScatterMode.REVERSE)\n",
    "    # fem.petsc.set_bc(Res, bcs, Du.vector, -1.0)\n",
    "\n",
    "    # solver.setOperators(A)"
   ]
  },
  {
   "cell_type": "code",
   "execution_count": null,
   "metadata": {},
   "outputs": [],
   "source": [
    "# Res.array.shape"
   ]
  },
  {
   "cell_type": "code",
   "execution_count": null,
   "metadata": {},
   "outputs": [],
   "source": [
    "Nitermax, tol = 200, 1e-8  # parameters of the Newton-Raphson procedure\n",
    "Nincr = 20\n",
    "load_steps = np.linspace(0, 1.1, Nincr+1)[1:]**0.5\n",
    "results = np.zeros((Nincr+1, 2))\n",
    "t = load_steps[0]\n",
    "i = 0\n",
    "for (i, t) in enumerate(load_steps):\n",
    "    # loading.t = t\n",
    "    # load_func.interpolate(loading.eval)\n",
    "    loading.interpolate(lambda x: (t * q_lim * np.ones_like(x[1])))\n",
    "    loading.vector.ghostUpdate(\n",
    "        addv=PETSc.InsertMode.INSERT, mode=PETSc.ScatterMode.FORWARD\n",
    "    )\n",
    "    # A, Res = assemble_system(a_Newton, res, bcs)\n",
    "    fem.petsc.assemble_matrix(A, fem.form(a_Newton), bcs=bcs)\n",
    "    A.assemble()\n",
    "    # fem.petsc.assemble_vector(Res, fem.form(res))\n",
    "    with Res.localForm() as loc_b:\n",
    "        loc_b.set(0)\n",
    "    # Res.assemble()\n",
    "    fem.petsc.assemble_vector(Res, fem.form(res))\n",
    "\n",
    "    fem.petsc.apply_lifting(Res, [fem.form(a_Newton)], [bcs])\n",
    "    Res.ghostUpdate(addv=PETSc.InsertMode.ADD_VALUES, mode=PETSc.ScatterMode.REVERSE)\n",
    "    fem.petsc.set_bc(Res, bcs)\n",
    "    # uh = fem.Function(V)\n",
    "    print(Res.array.max())\n",
    "    nRes0 = Res.norm() # Which one?\n",
    "    nRes = 1\n",
    "    # zero_Du.vector.copy(Du.vector)\n",
    "    # Du.vector.ghostUpdate(addv=PETSc.InsertMode.INSERT, mode=PETSc.ScatterMode.FORWARD)\n",
    "    # Du.interpolate(lambda x : (np.zeros_like(x[0]), np.zeros_like(x[1])))\n",
    "    # Du.interpolate(fem.Constant(mesh, (ScalarType(0), ScalarType(0))))\n",
    "    print(\"Increment:\", str(i+1), t * q_lim)\n",
    "    niter = 0\n",
    "        \n",
    "    while nRes > tol and niter < Nitermax:\n",
    "        # du = problem.solve()\n",
    "        print(du.vector.max())\n",
    "        solver.solve(Res, du.vector) #, \"mumps\"\n",
    "        du.x.scatter_forward() \n",
    "        print(du.vector.min())\n",
    "\n",
    "        # Du.assign(Du+du)\n",
    "        Du.vector.axpy(1, du.vector) # Du = Du + 1*du\n",
    "        Du.x.scatter_forward() \n",
    "\n",
    "        deps = eps(Du)\n",
    "        sig_, n_elas_, beta_, dp_ = proj_sig(deps, sig_old, p)\n",
    "        # local_project(sig_, W, sig)\n",
    "        # local_project(n_elas_, W, n_elas)\n",
    "        # local_project(beta_, W0, beta)\n",
    "        # print(sig_, '\\n', sig)\n",
    "        project(sig_, sig)\n",
    "        project(n_elas_, n_elas)\n",
    "        project(beta_, beta)\n",
    "        \n",
    "        # A, Res = assemble_system(a_Newton, res, bcs)\n",
    "\n",
    "        # fem.petsc.assemble_matrix(A, fem.form(a_Newton), bcs=bcs)\n",
    "        # A.assemble()\n",
    "        fem.petsc.assemble_vector(Res, fem.form(res))\n",
    "        # with Res.localForm() as loc_b:\n",
    "        #     loc_b.set(0)\n",
    "        Res.assemble()\n",
    "\n",
    "        fem.petsc.apply_lifting(Res, [fem.form(a_Newton)], [bcs])\n",
    "        Res.ghostUpdate(addv=PETSc.InsertMode.ADD_VALUES, mode=PETSc.ScatterMode.REVERSE)\n",
    "        fem.petsc.set_bc(Res, bcs)\n",
    "\n",
    "        nRes = Res.norm()\n",
    "        print(\"    Residual:\", nRes, dp.vector.max())\n",
    "        niter += 1\n",
    "    # u.assign(u+Du)\n",
    "    u.vector.axpy(1, Du.vector) # u = u + 1*Du\n",
    "    u.vector.ghostUpdate(addv=PETSc.InsertMode.INSERT, mode=PETSc.ScatterMode.FORWARD)\n",
    "\n",
    "    # sig_old.assign(sig)\n",
    "    # p.assign(p+local_project(dp_, W0))\n",
    "    sig.vector.copy(sig_old.vector)\n",
    "    sig_old.vector.ghostUpdate(\n",
    "        addv=PETSc.InsertMode.INSERT, mode=PETSc.ScatterMode.FORWARD\n",
    "    )\n",
    "    project(dp_, dp)\n",
    "    p.vector.axpy(1, dp.vector)\n",
    "    p.vector.ghostUpdate(addv=PETSc.InsertMode.INSERT, mode=PETSc.ScatterMode.FORWARD)\n"
   ]
  },
  {
   "cell_type": "code",
   "execution_count": 24,
   "metadata": {},
   "outputs": [
    {
     "name": "stdout",
     "output_type": "stream",
     "text": [
      "Increment: 1 25.119465890772904\n",
      "(0, 0.0)\n",
      "(0, 0.0)\n",
      "    Residual: 0.0 (0, 0.0)\n",
      "Increment: 2 35.5242893422994\n",
      "(0, 0.0)\n",
      "(0, 0.0)\n",
      "    Residual: 0.0 (0, 0.0)\n",
      "Increment: 3 43.50819118181207\n",
      "(0, 0.0)\n",
      "(0, 0.0)\n",
      "    Residual: 0.0 (0, 0.0)\n",
      "Increment: 4 50.23893178154581\n",
      "(0, 0.0)\n",
      "(0, 0.0)\n",
      "    Residual: 0.0 (0, 0.0)\n",
      "Increment: 5 56.16883329025551\n",
      "(0, 0.0)\n",
      "(0, 0.0)\n",
      "    Residual: 0.0 (0, 0.0)\n",
      "Increment: 6 61.529874043640135\n",
      "(0, 0.0)\n",
      "(0, 0.0)\n",
      "    Residual: 0.0 (0, 0.0)\n",
      "Increment: 7 66.45985981375466\n",
      "(0, 0.0)\n",
      "(0, 0.0)\n",
      "    Residual: 0.0 (0, 0.0)\n",
      "Increment: 8 71.0485786845988\n",
      "(0, 0.0)\n",
      "(0, 0.0)\n",
      "    Residual: 0.0 (0, 0.0)\n",
      "Increment: 9 75.3583976723187\n",
      "(0, 0.0)\n",
      "(0, 0.0)\n",
      "    Residual: 0.0 (0, 0.0)\n",
      "Increment: 10 79.43472582175275\n",
      "(0, 0.0)\n",
      "(0, 0.0)\n",
      "    Residual: 0.0 (0, 0.0)\n"
     ]
    }
   ],
   "source": [
    "Nitermax, tol = 200, 1e-8  # parameters of the Newton-Raphson procedure\n",
    "Nincr = 20\n",
    "load_steps = np.linspace(0, 1.1, Nincr+1)[1:]**0.5\n",
    "results = np.zeros((Nincr+1, 2))\n",
    "for (i, t) in enumerate(load_steps):\n",
    "    # loading.t = t\n",
    "    # load_func.interpolate(loading.eval)\n",
    "    loading.interpolate(lambda x: (t * q_lim * np.ones_like(x[1])))\n",
    "    loading.vector.ghostUpdate(\n",
    "        addv=PETSc.InsertMode.INSERT, mode=PETSc.ScatterMode.FORWARD\n",
    "    )\n",
    "    # A, Res = assemble_system(a_Newton, res, bcs)\n",
    "    fem.petsc.assemble_matrix(A, fem.form(a_Newton), bcs=bcs)\n",
    "    A.assemble()\n",
    "    # fem.petsc.assemble_vector(Res, fem.form(res))\n",
    "    with Res.localForm() as loc_b:\n",
    "        loc_b.set(0)\n",
    "    # Res.assemble()\n",
    "    fem.petsc.assemble_vector(Res, fem.form(res))\n",
    "\n",
    "    fem.petsc.apply_lifting(Res, [fem.form(a_Newton)], [bcs])\n",
    "    Res.ghostUpdate(addv=PETSc.InsertMode.ADD_VALUES, mode=PETSc.ScatterMode.REVERSE)\n",
    "    fem.petsc.set_bc(Res, bcs)\n",
    "    # uh = fem.Function(V)\n",
    "    nRes0 = Res.norm() # Which one?\n",
    "    nRes = 1\n",
    "    # zero_Du.vector.copy(Du.vector)\n",
    "    # Du.vector.ghostUpdate(addv=PETSc.InsertMode.INSERT, mode=PETSc.ScatterMode.FORWARD)\n",
    "    # Du.interpolate(lambda x : (np.zeros_like(x[0]), np.zeros_like(x[1])))\n",
    "    # Du.interpolate(fem.Constant(mesh, (ScalarType(0), ScalarType(0))))\n",
    "    print(\"Increment:\", str(i+1), t * q_lim)\n",
    "    niter = 0\n",
    "     \n",
    "    while nRes > tol and niter < Nitermax:\n",
    "        # du = problem.solve()\n",
    "        print(du.vector.max())\n",
    "        solver.solve(Res, du.vector) #, \"mumps\"\n",
    "        du.x.scatter_forward() \n",
    "        print(du.vector.min())\n",
    "\n",
    "        # Du.assign(Du+du)\n",
    "        Du.vector.axpy(1, du.vector) # Du = Du + 1*du\n",
    "        Du.x.scatter_forward() \n",
    "\n",
    "        deps = eps(Du)\n",
    "        sig_, n_elas_, beta_, dp_ = proj_sig(deps, sig_old, p)\n",
    "        # local_project(sig_, W, sig)\n",
    "        # local_project(n_elas_, W, n_elas)\n",
    "        # local_project(beta_, W0, beta)\n",
    "        # print(sig_, '\\n', sig)\n",
    "        project(sig_, sig)\n",
    "        project(n_elas_, n_elas)\n",
    "        project(beta_, beta)\n",
    "        \n",
    "        # A, Res = assemble_system(a_Newton, res, bcs)\n",
    "\n",
    "        # fem.petsc.assemble_matrix(A, fem.form(a_Newton), bcs=bcs)\n",
    "        # A.assemble()\n",
    "        fem.petsc.assemble_vector(Res, fem.form(res))\n",
    "        # with Res.localForm() as loc_b:\n",
    "        #     loc_b.set(0)\n",
    "        Res.assemble()\n",
    "\n",
    "        fem.petsc.apply_lifting(Res, [fem.form(a_Newton)], [bcs])\n",
    "        Res.ghostUpdate(addv=PETSc.InsertMode.ADD_VALUES, mode=PETSc.ScatterMode.REVERSE)\n",
    "        fem.petsc.set_bc(Res, bcs)\n",
    "\n",
    "        nRes = Res.norm()\n",
    "        print(\"    Residual:\", nRes, dp.vector.max())\n",
    "        niter += 1\n",
    "    # u.assign(u+Du)\n",
    "    u.vector.axpy(1, Du.vector) # u = u + 1*Du\n",
    "    u.vector.ghostUpdate(addv=PETSc.InsertMode.INSERT, mode=PETSc.ScatterMode.FORWARD)\n",
    "\n",
    "    # sig_old.assign(sig)\n",
    "    # p.assign(p+local_project(dp_, W0))\n",
    "    sig.vector.copy(sig_old.vector)\n",
    "    sig_old.vector.ghostUpdate(\n",
    "        addv=PETSc.InsertMode.INSERT, mode=PETSc.ScatterMode.FORWARD\n",
    "    )\n",
    "    project(dp_, dp)\n",
    "    p.vector.axpy(1, dp.vector)\n",
    "    p.vector.ghostUpdate(addv=PETSc.InsertMode.INSERT, mode=PETSc.ScatterMode.FORWARD)\n"
   ]
  },
  {
   "cell_type": "code",
   "execution_count": 57,
   "metadata": {},
   "outputs": [
    {
     "data": {
      "text/plain": [
       "6198"
      ]
     },
     "execution_count": 57,
     "metadata": {},
     "output_type": "execute_result"
    }
   ],
   "source": [
    "du.vector.size"
   ]
  },
  {
   "cell_type": "code",
   "execution_count": 76,
   "metadata": {},
   "outputs": [
    {
     "data": {
      "text/plain": [
       "6198"
      ]
     },
     "execution_count": 76,
     "metadata": {},
     "output_type": "execute_result"
    }
   ],
   "source": [
    "du.x.array.size"
   ]
  },
  {
   "cell_type": "code",
   "execution_count": 66,
   "metadata": {},
   "outputs": [
    {
     "data": {
      "text/plain": [
       "<bound method DofMap.cell_dofs of <dolfinx.fem.dofmap.DofMap object at 0x7f91b4fdb9d0>>"
      ]
     },
     "execution_count": 66,
     "metadata": {},
     "output_type": "execute_result"
    }
   ],
   "source": [
    "V.dofmap."
   ]
  },
  {
   "cell_type": "code",
   "execution_count": 52,
   "metadata": {},
   "outputs": [],
   "source": [
    "import dolfinx"
   ]
  },
  {
   "cell_type": "code",
   "execution_count": 53,
   "metadata": {},
   "outputs": [
    {
     "data": {
      "text/plain": [
       "_Feature((3, 7, 0, 'beta', 1), (3, 10, 0, 'alpha', 0), 16777216)"
      ]
     },
     "execution_count": 53,
     "metadata": {},
     "output_type": "execute_result"
    }
   ],
   "source": [
    "dolfinx.mesh."
   ]
  },
  {
   "cell_type": "code",
   "execution_count": 70,
   "metadata": {},
   "outputs": [
    {
     "data": {
      "text/plain": [
       "2956"
      ]
     },
     "execution_count": 70,
     "metadata": {},
     "output_type": "execute_result"
    }
   ],
   "source": [
    "1478*2"
   ]
  },
  {
   "cell_type": "code",
   "execution_count": 75,
   "metadata": {},
   "outputs": [
    {
     "data": {
      "text/plain": [
       "3099"
      ]
     },
     "execution_count": 75,
     "metadata": {},
     "output_type": "execute_result"
    }
   ],
   "source": [
    "V.dofmap.index_map.size_global"
   ]
  },
  {
   "cell_type": "code",
   "execution_count": 73,
   "metadata": {},
   "outputs": [
    {
     "name": "stdout",
     "output_type": "stream",
     "text": [
      "Number of dofs (owned) by rank : 6198\n",
      "Number of dofs global: 6198\n"
     ]
    }
   ],
   "source": [
    "num_dofs_local = (V.dofmap.index_map.size_local) * V.dofmap.index_map_bs\n",
    "num_dofs_global = V.dofmap.index_map.size_global * V.dofmap.index_map_bs\n",
    "\n",
    "print(f\"Number of dofs (owned) by rank : {num_dofs_local}\")\n",
    "# if COMM_WORLD.rank ==0:\n",
    "print(f\"Number of dofs global: {num_dofs_global}\")"
   ]
  },
  {
   "cell_type": "code",
   "execution_count": null,
   "metadata": {},
   "outputs": [],
   "source": []
  }
 ],
 "metadata": {
  "interpreter": {
   "hash": "31f2aee4e71d21fbe5cf8b01ff0e069b9275f58929596ceb00d14d90e3e16cd6"
  },
  "kernelspec": {
   "display_name": "Python 3.8.10 64-bit",
   "language": "python",
   "name": "python3"
  },
  "language_info": {
   "codemirror_mode": {
    "name": "ipython",
    "version": 3
   },
   "file_extension": ".py",
   "mimetype": "text/x-python",
   "name": "python",
   "nbconvert_exporter": "python",
   "pygments_lexer": "ipython3",
   "version": "3.8.10"
  },
  "orig_nbformat": 4
 },
 "nbformat": 4,
 "nbformat_minor": 2
}
