{
 "cells": [
  {
   "cell_type": "code",
   "execution_count": 18,
   "metadata": {},
   "outputs": [],
   "source": [
    "import numba\n",
    "import numpy as np\n",
    "\n",
    "import ufl\n",
    "from dolfinx import fem, mesh, io\n",
    "\n",
    "from mpi4py import MPI\n",
    "from petsc4py import PETSc\n",
    "\n",
    "import sys\n",
    "sys.path.append(\"../\")\n",
    "import fenicsx_support\n",
    "import custom_assembling as ca\n"
   ]
  },
  {
   "cell_type": "code",
   "execution_count": 19,
   "metadata": {},
   "outputs": [],
   "source": [
    "N = 2\n",
    "domain = mesh.create_unit_square(MPI.COMM_WORLD, N, N)\n",
    "\n",
    "deg, q_deg = 1, 2\n",
    "V = fem.VectorFunctionSpace(domain, (\"P\", deg))\n",
    "\n",
    "# quadrature elements and function spaces\n",
    "QV = ufl.VectorElement(\n",
    "    \"Quadrature\", domain.ufl_cell(), q_deg, quad_scheme=\"default\", dim=3\n",
    ")\n",
    "\n",
    "QT = ufl.TensorElement(\n",
    "    \"Quadrature\",\n",
    "    domain.ufl_cell(),\n",
    "    q_deg,\n",
    "    quad_scheme=\"default\",\n",
    "    shape=(3, 3),\n",
    ")\n",
    "VQV = fem.FunctionSpace(domain, QV)\n",
    "VQT = fem.FunctionSpace(domain, QT)\n",
    "\n",
    "# define functions\n",
    "u_, du = ufl.TestFunction(V), ufl.TrialFunction(V)\n",
    "u = fem.Function(V)\n",
    "q_sigma0 = fem.Function(VQV)\n",
    "q_dsigma = fem.Function(VQT, name='stiffness')\n",
    "\n",
    "num_dofs_global = V.dofmap.index_map.size_global * V.dofmap.index_map_bs\n",
    "num_gauss_local = len(q_sigma0.x.array[:]) // 3\n",
    "num_gauss_global = domain.comm.reduce(num_gauss_local, op=MPI.SUM, root=0)\n",
    "\n",
    "# define form\n",
    "dxm = ufl.dx(metadata={\"quadrature_degree\": q_deg, \"quadrature_scheme\": \"default\"})\n",
    "\n",
    "def eps(u):\n",
    "    e = ufl.sym(ufl.grad(u))\n",
    "    return ufl.as_vector((e[0, 0], e[1, 1], 2 * e[0, 1]))\n",
    "\n",
    "E, nu = 20000, 0.3\n",
    "\n",
    "# Hookes law for plane stress\n",
    "C11 = E / (1.0 - nu * nu)\n",
    "C12 = C11 * nu\n",
    "C33 = C11 * 0.5 * (1.0 - nu)\n",
    "C = np.array([[C11, C12, 0.0], [C12, C11, 0.0], [0.0, 0.0, C33]], dtype=PETSc.ScalarType)\n",
    "\n",
    "r\"\"\"\n",
    "Set up \n",
    "\n",
    "  +---------+\n",
    "/||         |->\n",
    "/||         |->\n",
    "/||         |-> u_bc\n",
    "  o---------+\n",
    " / \\\n",
    "-----\n",
    "\"\"\"\n",
    "\n",
    "\n",
    "def left(x):\n",
    "    return np.isclose(x[0], 0.0)\n",
    "\n",
    "\n",
    "def right(x):\n",
    "    return np.isclose(x[0], 1.0)\n",
    "\n",
    "\n",
    "def origin(x):\n",
    "    return np.logical_and(np.isclose(x[0], 0.0), np.isclose(x[1], 0.0))\n",
    "\n",
    "\n",
    "u_bc = fem.Constant(domain, 0.0)  # expression for boundary displacement\n",
    "\n",
    "dim = domain.topology.dim - 1\n",
    "b_facets_l = mesh.locate_entities_boundary(domain, dim, left)\n",
    "b_facets_r = mesh.locate_entities_boundary(domain, dim, right)\n",
    "b_facets_o = mesh.locate_entities_boundary(domain, dim - 1, origin)\n",
    "\n",
    "b_dofs_l = fem.locate_dofs_topological(V.sub(0), dim, b_facets_l)\n",
    "b_dofs_r = fem.locate_dofs_topological(V.sub(0), dim, b_facets_r)\n",
    "b_dofs_o = fem.locate_dofs_topological(V.sub(1), dim - 1, b_facets_o)\n",
    "\n",
    "bcs = [\n",
    "    fem.dirichletbc(PETSc.ScalarType(0), b_dofs_l, V.sub(0)),\n",
    "    fem.dirichletbc(u_bc, b_dofs_r, V.sub(0)),\n",
    "    fem.dirichletbc(PETSc.ScalarType(0), b_dofs_o, V.sub(1)),\n",
    "]"
   ]
  },
  {
   "cell_type": "code",
   "execution_count": 20,
   "metadata": {},
   "outputs": [],
   "source": [
    "bc = fem.dirichletbc(u_bc, b_dofs_r, V.sub(0))"
   ]
  },
  {
   "cell_type": "code",
   "execution_count": 21,
   "metadata": {},
   "outputs": [
    {
     "data": {
      "text/plain": [
       "array(0.)"
      ]
     },
     "execution_count": 21,
     "metadata": {},
     "output_type": "execute_result"
    }
   ],
   "source": [
    "bc.g.value"
   ]
  },
  {
   "cell_type": "code",
   "execution_count": 22,
   "metadata": {},
   "outputs": [
    {
     "data": {
      "text/plain": [
       "(array([ 2,  4, 10], dtype=int32), 3)"
      ]
     },
     "execution_count": 22,
     "metadata": {},
     "output_type": "execute_result"
    }
   ],
   "source": [
    "bc.dof_indices()"
   ]
  },
  {
   "cell_type": "code",
   "execution_count": 23,
   "metadata": {},
   "outputs": [
    {
     "data": {
      "text/plain": [
       "array([[ 0,  1,  2,  3,  4,  5],\n",
       "       [ 0,  1,  6,  7,  4,  5],\n",
       "       [ 8,  9,  0,  1,  6,  7],\n",
       "       [ 6,  7,  4,  5, 10, 11],\n",
       "       [ 8,  9, 12, 13,  6,  7],\n",
       "       [ 6,  7, 14, 15, 10, 11],\n",
       "       [12, 13,  6,  7, 14, 15],\n",
       "       [12, 13, 16, 17, 14, 15]], dtype=int32)"
      ]
     },
     "execution_count": 23,
     "metadata": {},
     "output_type": "execute_result"
    }
   ],
   "source": [
    "V.dofmap.cell_dofs(3)\n",
    "dofmap = ca.get_topological_dofmap(V)\n",
    "dofmap\n",
    "# for cell in range(2):\n",
    "#     pos = dofmap[cell]\n",
    "    # u_local = u[pos]"
   ]
  },
  {
   "cell_type": "code",
   "execution_count": 24,
   "metadata": {},
   "outputs": [
    {
     "data": {
      "text/plain": [
       "array([8, 9, 0, 1, 6, 7], dtype=int32)"
      ]
     },
     "execution_count": 24,
     "metadata": {},
     "output_type": "execute_result"
    }
   ],
   "source": [
    "arr = dofmap[2]\n",
    "ind = np.arange(6)\n",
    "arr[ind]"
   ]
  },
  {
   "cell_type": "code",
   "execution_count": 25,
   "metadata": {},
   "outputs": [],
   "source": [
    "def sigma(u):\n",
    "    return ufl.dot(eps(u), C_const)\n",
    "\n",
    "def get_eval(self:ca.CustomFunction):\n",
    "    tabulated_eps = self.tabulated_input_expression\n",
    "    n_gauss_points = len(self.input_expression.X)\n",
    "    stiffness = self.stiffness.value.reshape((n_gauss_points, -1))\n",
    "    local_dim = self.local_dim\n",
    "    \n",
    "    @numba.njit\n",
    "    def eval(values, coeffs_values, constants_values, coordinates, local_index, orientation):\n",
    "        epsilon_local = np.zeros(local_dim, dtype=PETSc.ScalarType)\n",
    "        sigma_local = values.reshape((n_gauss_points, -1))\n",
    "        C_local = np.zeros(stiffness.shape, dtype=PETSc.ScalarType)\n",
    "\n",
    "        tabulated_eps(ca.ffi.from_buffer(epsilon_local), \n",
    "                      ca.ffi.from_buffer(coeffs_values), \n",
    "                      ca.ffi.from_buffer(constants_values), \n",
    "                      ca.ffi.from_buffer(coordinates), ca.ffi.from_buffer(local_index), ca.ffi.from_buffer(orientation))\n",
    "        \n",
    "        epsilon_local = epsilon_local.reshape((n_gauss_points, -1))\n",
    "\n",
    "        for i in range(n_gauss_points):\n",
    "            sigma_local[i][:] = np.dot(stiffness[i].reshape((3,3)), epsilon_local[i]) \n",
    "        \n",
    "        values = sigma_local.flatten()\n",
    "        \n",
    "        C_local = stiffness\n",
    "        \n",
    "        # print(C_local.shape)\n",
    "\n",
    "        return [C_local.flatten()]\n",
    "    return eval\n"
   ]
  },
  {
   "cell_type": "code",
   "execution_count": 26,
   "metadata": {},
   "outputs": [],
   "source": [
    "from dolfinx import la\n",
    "import typing\n",
    "\n",
    "def get_dummy_x(V: fem.FunctionSpace) -> la.vector:\n",
    "    dummy_domain = mesh.create_unit_square(MPI.COMM_WORLD, 1, 1)\n",
    "    dummy_V = fem.FunctionSpace(dummy_domain, V._ufl_element)\n",
    "    return la.vector(dummy_V.dofmap.index_map, dummy_V.dofmap.index_map_bs)\n",
    "\n",
    "class DummyFunction(fem.Function): #or ConstantFunction?\n",
    "    def __init__(self, V: fem.FunctionSpace, name: typing.Optional[str] = None ):\n",
    "        super().__init__(V=V, x=get_dummy_x(V), name=name)\n",
    "        self.value = self.x.array.reshape((2, -1))[0]\n",
    "    \n",
    "    def fill(self, value: np.ndarray):\n",
    "        self.value[:] = value"
   ]
  },
  {
   "cell_type": "code",
   "execution_count": 27,
   "metadata": {},
   "outputs": [
    {
     "data": {
      "text/plain": [
       "array([[[21978.02197802,  6593.40659341,     0.        ],\n",
       "        [ 6593.40659341, 21978.02197802,     0.        ],\n",
       "        [    0.        ,     0.        ,  7692.30769231]],\n",
       "\n",
       "       [[21978.02197802,  6593.40659341,     0.        ],\n",
       "        [ 6593.40659341, 21978.02197802,     0.        ],\n",
       "        [    0.        ,     0.        ,  7692.30769231]],\n",
       "\n",
       "       [[21978.02197802,  6593.40659341,     0.        ],\n",
       "        [ 6593.40659341, 21978.02197802,     0.        ],\n",
       "        [    0.        ,     0.        ,  7692.30769231]]])"
      ]
     },
     "execution_count": 27,
     "metadata": {},
     "output_type": "execute_result"
    }
   ],
   "source": [
    "q_dsigma = DummyFunction(VQT, name='stiffness')\n",
    "n_gauss_nodes = 3\n",
    "new_values = np.tile(C.flatten(), n_gauss_nodes)\n",
    "q_dsigma.fill(new_values)\n",
    "q_dsigma.value.reshape((n_gauss_nodes, *C.shape))"
   ]
  },
  {
   "cell_type": "code",
   "execution_count": 28,
   "metadata": {},
   "outputs": [
    {
     "data": {
      "text/plain": [
       "[Coefficient(FunctionSpace(Mesh(VectorElement(FiniteElement('Lagrange', triangle, 1), dim=2), 2), TensorElement(FiniteElement('Quadrature', triangle, 2, quad_scheme='default'), shape=(3, 3), symmetry={})), 140071013495424)]"
      ]
     },
     "execution_count": 28,
     "metadata": {},
     "output_type": "execute_result"
    }
   ],
   "source": [
    "q_sigma = ca.CustomFunction(VQV, eps(u), [q_dsigma], get_eval)\n",
    "# q_dsigma = fem.Function(VQT)\n",
    "# print(q_dsigma.x.array[:].shape)\n",
    "# # q_dsigma = fem.Function(VQT, get_dummy_x(VQT), name='stiffness')\n",
    "# print(q_dsigma.x.array[:].shape)\n",
    "# q_sigma.add_coefficient(q_dsigma)\n",
    "q_sigma.coefficients"
   ]
  },
  {
   "cell_type": "code",
   "execution_count": 29,
   "metadata": {},
   "outputs": [],
   "source": [
    "C_const = fem.Constant(domain, C)\n",
    "# q_dsigma = fem.Function(VQT, name='stiffness')\n",
    "# q_dsigma.x.array[:] = np.tile(C.flatten(), 24)\n",
    "# q_sigma = fem.Function(VQV)\n",
    "\n",
    "R = ufl.inner(eps(u_), q_sigma) * dxm\n",
    "dR = ufl.inner(eps(du), ufl.dot(q_sigma.stiffness, eps(u_))) * dxm\n",
    "\n",
    "R0 = ufl.inner(eps(u_), q_sigma0) * dxm\n",
    "dR0 = ufl.inner(eps(du), ufl.dot(C_const, eps(u_))) * dxm"
   ]
  },
  {
   "cell_type": "code",
   "execution_count": 30,
   "metadata": {},
   "outputs": [],
   "source": [
    "# bc_indexes = np.sort(np.concatenate([bc.dof_indices()[0] for bc in bcs]) )"
   ]
  },
  {
   "cell_type": "code",
   "execution_count": 31,
   "metadata": {},
   "outputs": [
    {
     "name": "stdout",
     "output_type": "stream",
     "text": [
      "Solving t =  0.000 with u_bc.value =  0.000...\n",
      "rank = 0 u - u0\n",
      " 0.0 \n",
      "\n",
      "Solving t =  0.250 with u_bc.value = 10.500...\n",
      "rank = 0 u - u0\n",
      " 0.0 \n",
      "\n",
      "Solving t =  0.500 with u_bc.value = 21.000...\n",
      "rank = 0 u - u0\n",
      " 1.8815947990869657e-14 \n",
      "\n",
      "Solving t =  0.750 with u_bc.value = 31.500...\n",
      "rank = 0 u - u0\n",
      " 3.5495863371570936e-14 \n",
      "\n",
      "Solving t =  1.000 with u_bc.value = 42.000...\n",
      "rank = 0 u - u0\n",
      " 4.74774028131087e-14 \n",
      "\n"
     ]
    }
   ],
   "source": [
    "# bb = fem.petsc.create_vector(fem.form(R0))\n",
    "# with bb.localForm() as b_local:\n",
    "#     b_local.set(0.0)\n",
    "\n",
    "# gg = fem.petsc.create_vector(fem.form(R0))\n",
    "# with gg.localForm() as b_local:\n",
    "#     b_local.set(0.0)\n",
    "\n",
    "# g0 = fem.petsc.create_vector(fem.form(R0))\n",
    "# with g0.localForm() as b_local:\n",
    "#     b_local.set(19.0)\n",
    "\n",
    "# xx0 = fem.petsc.create_vector(fem.form(R0))\n",
    "# with g0.localForm() as b_local:\n",
    "#     b_local.set(0.0)\n",
    "\n",
    "# A_brut = fem.petsc.create_matrix(fem.form(dR0))\n",
    "# A_brut.zeroEntries()\n",
    "A0 = fem.petsc.create_matrix(fem.form(dR0))\n",
    "A0.zeroEntries()\n",
    "b0 = fem.petsc.create_vector(fem.form(R0))\n",
    "with b0.localForm() as b_local:\n",
    "    b_local.set(0.0)\n",
    "u0 = fem.Function(V)\n",
    "\n",
    "# q_sigma.vector.set(0)\n",
    "q_sigma0.vector.set(0)\n",
    "\n",
    "solver0 = PETSc.KSP().create(domain.comm)\n",
    "solver0.setType(\"preonly\")\n",
    "solver0.getPC().setType(\"lu\")\n",
    "\n",
    "# f = io.XDMFFile(domain.comm, \"displacements.xdmf\", \"w\", encoding=io.XDMFFile.Encoding.HDF5)\n",
    "# f.write_mesh(domain)\n",
    "\n",
    "u = fem.Function(V)\n",
    "u.name = \"Displacement\"\n",
    "my_solver = ca.CustomSolver(dR, R, u, bcs)\n",
    "scale = -1.0\n",
    "\n",
    "u_bc_max = 42.0\n",
    "ts = np.linspace(0.0, 1.0, 5)\n",
    "for t in ts:\n",
    "    # update value of Dirichlet BC\n",
    "    u_bc.value = t * u_bc_max\n",
    "\n",
    "    print(f\"Solving {t = :6.3f} with {u_bc.value = :6.3f}...\")\n",
    "\n",
    "    eps_calculated = fenicsx_support.interpolate_quadrature(eps(u0), q_deg, domain)\n",
    "    strain_matrix = eps_calculated.reshape((-1, 3))\n",
    "    n_gauss = len(strain_matrix) #global in the domain\n",
    "\n",
    "    q_sigma0.x.array[:] = (strain_matrix @ C).flatten()\n",
    "    # q_sigma.x.array[:] = (strain_matrix @ C).flatten()\n",
    "    \n",
    "    q_sigma0.x.scatter_forward()\n",
    "    # q_sigma.x.scatter_forward()\n",
    "\n",
    "    # q_dsigma.x.array[:] = np.tile(C.flatten(), n_gauss)\n",
    "    # print('q_sigma0\\n', q_sigma0.x.array[:])\n",
    "    # update matrix (pointless in linear elasticity...)\n",
    "    A0.zeroEntries()\n",
    "    # A_brut.zeroEntries()\n",
    "    # update residual vector\n",
    "\n",
    "    # with bb.localForm() as b_local:\n",
    "    #     b_local.set(0.0)\n",
    "\n",
    "    # with g0.localForm() as b_local:\n",
    "    #     b_local.set(0.0)\n",
    "\n",
    "    # with gg.localForm() as b_local:\n",
    "    #     b_local.set(0.0)\n",
    "\n",
    "    with b0.localForm() as b_local:\n",
    "        b_local.set(0.0)\n",
    "\n",
    "    fem.petsc.assemble_matrix(A0, fem.form(dR0), bcs=bcs)\n",
    "    A0.assemble()\n",
    "\n",
    "    fem.petsc.assemble_vector(b0, fem.form(R0))\n",
    "    # print(A0[:,:])\n",
    "    # print('b0 assembled\\n', b0[:],'\\n')\n",
    "\n",
    "\n",
    "    fem.apply_lifting(b0, [fem.form(dR0)], bcs=[bcs], x0=[u0.vector], scale=-1.0)\n",
    "    # print('b0 lifted\\n', b0[:],'\\n')\n",
    "\n",
    "    b0.ghostUpdate(addv=PETSc.InsertMode.ADD, mode=PETSc.ScatterMode.REVERSE)\n",
    "\n",
    "    fem.set_bc(b0, bcs, u0.vector, -1.0)\n",
    "    # print('g0 - u0\\n',g0[:] - u0.vector[:],'\\n')\n",
    "    # print('b0 lifted\\n', b0[:],'\\n')\n",
    "\n",
    "    # fem.petsc.assemble_vector(g0, fem.form(R0))\n",
    "    # # print('g0 assembled\\n', g0[:],'\\n')\n",
    "    # fem.petsc.assemble_matrix(A_brut, fem.form(dR0))\n",
    "    # A_brut.assemble()\n",
    "    \n",
    "    # fem.apply_lifting(g0, [fem.form(dR0)], bcs=[bcs], x0=[u0.vector], scale=scale)\n",
    "    # # print('g0 lifted\\n', g0[:], '\\n')\n",
    "\n",
    "    # # print('u0\\n', u0.vector[:])\n",
    "    # fem.set_bc(g0, bcs, x0=u0.vector, scale=scale)\n",
    "    # # print('g0\\n',g0[:],'\\n')\n",
    "\n",
    "    # fem.petsc.assemble_vector(bb, fem.form(R0))\n",
    "\n",
    "\n",
    "    # x0 = np.zeros_like(u0.vector[:])\n",
    "    # for i, this_u0 in enumerate(u0.vector[:]):\n",
    "    #     if i in bc_indexes:\n",
    "    #         x0[i] = this_u0\n",
    "    # # print(x0)\n",
    "    # fem.set_bc(gg, bcs)\n",
    "    # fem.set_bc(xx0, bcs, gg[:] + u0.vector[:], scale=-1.)\n",
    "    # print(gg[:])\n",
    "    # print(xx0[:])\n",
    "    # print('Agg\\n', bb[:] - A_brut[:,:] @ gg[:], '\\n') # gg - changes each time step as bc condition \n",
    "    # print('Agg - g0\\n', A_brut[:,:] @ (gg[:]) - g0[:], '\\n')\n",
    "    # print('Agg - g0\\n', bb[:] - scale * A_brut[:,:] @ (gg[:] - x0[:]), '\\n')\n",
    "    # print(my_solver.b[:])\n",
    "\n",
    "\n",
    "    solver0.setOperators(A0)\n",
    "    du0 = fem.Function(V)  # Should be outside of loop, instructive here.\n",
    "    solver0.solve(b0, du0.vector)\n",
    "    \n",
    "    # Solve for the displacement increment du, apply it and udpate ghost values\n",
    "    du = fem.Function(V)  # Should be outside of loop, instructive here.\n",
    "    my_solver.solve(du, x0=u0.x.array, scale=scale)\n",
    "    # print(my_solver.b[:] - g0[:])\n",
    "\n",
    "\n",
    "    u0.x.array[:] -= du0.x.array[:]\n",
    "    u0.x.scatter_forward()\n",
    "    \n",
    "    u.x.array[:] -= du.x.array[:]\n",
    "    u.x.scatter_forward()\n",
    "\n",
    "    # print(f'rank = {MPI.COMM_WORLD.rank} u - u0\\n {u.x.array[:]} \\n {u0.x.array[:]} \\n')\n",
    "    print(f'rank = {MPI.COMM_WORLD.rank} u - u0\\n {np.linalg.norm(u.x.array[:] - u0.x.array[:])} \\n')\n",
    "    # assert np.linalg.norm(u.x.array[:] - u0.x.array[:]) < 1.0e-10\n",
    "    # print(f'rank = {MPI.COMM_WORLD.rank} q_sigma - q_sigma0\\n {np.linalg.norm(q_sigma.x.array[:] - q_sigma0.x.array[:])} \\n')\n",
    "\n",
    "    # print(f'{q_sigma.x.array}')\n",
    "    # print(f'{q_sigma0.x.array}')\n",
    "    # post processing\n",
    "    # f.write_function(u, t)\n",
    "\n",
    "# f.close()"
   ]
  },
  {
   "cell_type": "code",
   "execution_count": null,
   "metadata": {},
   "outputs": [],
   "source": []
  }
 ],
 "metadata": {
  "interpreter": {
   "hash": "31f2aee4e71d21fbe5cf8b01ff0e069b9275f58929596ceb00d14d90e3e16cd6"
  },
  "kernelspec": {
   "display_name": "Python 3.9.7 64-bit",
   "language": "python",
   "name": "python3"
  },
  "language_info": {
   "codemirror_mode": {
    "name": "ipython",
    "version": 3
   },
   "file_extension": ".py",
   "mimetype": "text/x-python",
   "name": "python",
   "nbconvert_exporter": "python",
   "pygments_lexer": "ipython3",
   "version": "3.9.7"
  },
  "orig_nbformat": 4
 },
 "nbformat": 4,
 "nbformat_minor": 2
}
