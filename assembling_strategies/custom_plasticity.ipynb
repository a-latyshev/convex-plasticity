{
 "cells": [
  {
   "cell_type": "markdown",
   "metadata": {},
   "source": [
    "Implementation of 2D elasto-plastic problem using FEniCS-X. The code is based on a [legacy solution](https://comet-fenics.readthedocs.io/en/latest/demo/2D_plasticity/vonMises_plasticity.py.html) for FEniCS 2019."
   ]
  },
  {
   "cell_type": "code",
   "execution_count": 1,
   "metadata": {},
   "outputs": [],
   "source": [
    "import meshio\n",
    "import numpy as np\n",
    "import numba\n",
    "\n",
    "import ufl\n",
    "from dolfinx import fem, io\n",
    "from mpi4py import MPI\n",
    "from petsc4py import PETSc\n",
    "from dolfinx.geometry import (BoundingBoxTree, compute_colliding_cells, compute_collisions)\n",
    "import time\n",
    "\n",
    "import sys\n",
    "sys.path.append(\"../assembling_strategies\")\n",
    "import custom_assembling as ca\n",
    "sys.path.append(\"..\")\n",
    "import fenicsx_support as fs"
   ]
  },
  {
   "cell_type": "code",
   "execution_count": 2,
   "metadata": {},
   "outputs": [],
   "source": [
    "sys.path.append('../optimisation/')\n",
    "import convex_return_mapping as crm\n",
    "import plasticity_framework as pf\n",
    "import logging"
   ]
  },
  {
   "cell_type": "code",
   "execution_count": 3,
   "metadata": {},
   "outputs": [],
   "source": [
    "\n",
    "\n",
    "Pa_dim = 70e3\n",
    "E = 70e3 / Pa_dim #[-]\n",
    "nu = 0.3 #[-]\n",
    "sig0 = 250 / Pa_dim #[-]\n",
    "Et = E/100.  # tangent modulus\n",
    "H = E*Et/(E-Et)  # hardening modulus\n",
    "\n",
    "vonMises = crm.vonMises(sig0, H)\n",
    "material_vM = crm.Material(crm.IsotropicElasticity(E, nu), vonMises)\n",
    "\n",
    "logger = logging.getLogger('analysis')\n",
    "logger.setLevel(logging.INFO)\n",
    "logger.setLevel(pf.LOG_INFO_STAR)\n",
    "# logger.setLevel(logging.WARNING)\n",
    "\n"
   ]
  },
  {
   "cell_type": "code",
   "execution_count": 4,
   "metadata": {},
   "outputs": [
    {
     "name": "stderr",
     "output_type": "stream",
     "text": [
      "Level 25:analysis:rank#0: mesh info: 811 nodes (global), 1478 cells (global), 4434 quadrature_points (global)\n",
      "Level 25:analysis:rank#0: mesh info: 811 nodes (local), 1478 cells (local), 4434 quadrature_points (local)\n"
     ]
    },
    {
     "name": "stdout",
     "output_type": "stream",
     "text": [
      "\n"
     ]
    }
   ],
   "source": [
    "custom_plasticity = ca.CustomPlasticity(material_vM, logger=logger)\n"
   ]
  },
  {
   "cell_type": "code",
   "execution_count": 5,
   "metadata": {},
   "outputs": [
    {
     "name": "stderr",
     "output_type": "stream",
     "text": [
      "Level 25:analysis:rank#0: Step: 1, Iterations = 1, Time = 8.22 (s)\n",
      "Level 25:analysis:rank#0: Step: 2, Iterations = 1, Time = 0.05 (s)\n",
      "Level 25:analysis:rank#0: Step: 3, Iterations = 1, Time = 0.07 (s)\n",
      "Level 25:analysis:rank#0: Step: 4, Iterations = 1, Time = 0.07 (s)\n"
     ]
    },
    {
     "name": "stdout",
     "output_type": "stream",
     "text": [
      "    Residual: 6.637762281948454e-17\n",
      "    Residual: 2.7281722350465728e-17\n",
      "    Residual: 2.1000346528361913e-17\n",
      "    Residual: 1.7525599639407553e-17\n"
     ]
    },
    {
     "name": "stderr",
     "output_type": "stream",
     "text": [
      "Level 25:analysis:rank#0: Step: 5, Iterations = 1, Time = 0.06 (s)\n",
      "Level 25:analysis:rank#0: Step: 6, Iterations = 1, Time = 0.06 (s)\n",
      "Level 25:analysis:rank#0: Step: 7, Iterations = 1, Time = 0.08 (s)\n"
     ]
    },
    {
     "name": "stdout",
     "output_type": "stream",
     "text": [
      "    Residual: 1.574525688931903e-17\n",
      "    Residual: 1.4267182237990433e-17\n",
      "    Residual: 1.2693462697237788e-17\n"
     ]
    },
    {
     "name": "stderr",
     "output_type": "stream",
     "text": [
      "Level 25:analysis:rank#0: Step: 8, Iterations = 1, Time = 0.08 (s)\n",
      "Level 25:analysis:rank#0: Step: 9, Iterations = 1, Time = 0.08 (s)\n",
      "Level 25:analysis:rank#0: Step: 10, Iterations = 1, Time = 0.07 (s)\n"
     ]
    },
    {
     "name": "stdout",
     "output_type": "stream",
     "text": [
      "    Residual: 1.1646453474565504e-17\n",
      "    Residual: 1.1309175010042886e-17\n",
      "    Residual: 1.0576925537998823e-17\n"
     ]
    },
    {
     "name": "stderr",
     "output_type": "stream",
     "text": [
      "Level 25:analysis:rank#0: Step: 11, Iterations = 4, Time = 0.22 (s)\n"
     ]
    },
    {
     "name": "stdout",
     "output_type": "stream",
     "text": [
      "    Residual: 2.9735062240222485e-07\n",
      "    Residual: 3.6411898484524944e-08\n",
      "    Residual: 5.379233685767653e-13\n",
      "    Residual: 2.959661011247965e-18\n",
      "    Residual: 8.0947957214224e-06\n"
     ]
    },
    {
     "name": "stderr",
     "output_type": "stream",
     "text": [
      "Level 25:analysis:rank#0: Step: 12, Iterations = 4, Time = 0.20 (s)\n"
     ]
    },
    {
     "name": "stdout",
     "output_type": "stream",
     "text": [
      "    Residual: 1.673731893803967e-07\n",
      "    Residual: 6.025038187645872e-09\n",
      "    Residual: 2.107231464569629e-14\n",
      "    Residual: 1.4562235904453592e-05\n"
     ]
    },
    {
     "name": "stderr",
     "output_type": "stream",
     "text": [
      "Level 25:analysis:rank#0: Step: 13, Iterations = 4, Time = 0.25 (s)\n"
     ]
    },
    {
     "name": "stdout",
     "output_type": "stream",
     "text": [
      "    Residual: 2.3321763862936507e-07\n",
      "    Residual: 1.9239954497220003e-10\n",
      "    Residual: 2.313831163187471e-16\n",
      "    Residual: 1.486820468489594e-05\n",
      "    Residual: 4.761391129858838e-07\n",
      "    Residual: 1.7067109709212658e-08\n",
      "    Residual: 1.5460237629376783e-13\n"
     ]
    },
    {
     "name": "stderr",
     "output_type": "stream",
     "text": [
      "Level 25:analysis:rank#0: Step: 14, Iterations = 5, Time = 0.25 (s)\n",
      "Level 25:analysis:rank#0: Step: 15, Iterations = 4, Time = 0.19 (s)\n"
     ]
    },
    {
     "name": "stdout",
     "output_type": "stream",
     "text": [
      "    Residual: 3.4370919849374576e-18\n",
      "    Residual: 1.4276792475290885e-05\n",
      "    Residual: 4.838462886470163e-07\n",
      "    Residual: 9.074710764906919e-10\n",
      "    Residual: 7.294634445552847e-15\n"
     ]
    },
    {
     "name": "stderr",
     "output_type": "stream",
     "text": [
      "Level 25:analysis:rank#0: Step: 16, Iterations = 5, Time = 0.25 (s)\n"
     ]
    },
    {
     "name": "stdout",
     "output_type": "stream",
     "text": [
      "    Residual: 1.687286459877195e-05\n",
      "    Residual: 7.530032785319998e-07\n",
      "    Residual: 5.31314547158324e-08\n",
      "    Residual: 3.3928619903923857e-12\n",
      "    Residual: 4.725748827036771e-18\n",
      "    Residual: 2.0146977003845566e-05\n"
     ]
    },
    {
     "name": "stderr",
     "output_type": "stream",
     "text": [
      "Level 25:analysis:rank#0: Step: 17, Iterations = 5, Time = 0.24 (s)\n"
     ]
    },
    {
     "name": "stdout",
     "output_type": "stream",
     "text": [
      "    Residual: 2.028796223149478e-06\n",
      "    Residual: 2.3457967821603241e-07\n",
      "    Residual: 3.3624792346486956e-11\n",
      "    Residual: 6.497760944590444e-18\n",
      "    Residual: 2.8267550344773028e-05\n",
      "    Residual: 1.3745724690698899e-05\n"
     ]
    },
    {
     "name": "stderr",
     "output_type": "stream",
     "text": [
      "Level 25:analysis:rank#0: Step: 18, Iterations = 6, Time = 0.30 (s)\n"
     ]
    },
    {
     "name": "stdout",
     "output_type": "stream",
     "text": [
      "    Residual: 9.929676459830873e-06\n",
      "    Residual: 1.3714783736657063e-07\n",
      "    Residual: 6.628288855138009e-11\n",
      "    Residual: 3.648993471904909e-17\n",
      "    Residual: 2.6439233510559496e-05\n"
     ]
    },
    {
     "name": "stderr",
     "output_type": "stream",
     "text": [
      "Level 25:analysis:rank#0: Step: 19, Iterations = 5, Time = 0.27 (s)\n"
     ]
    },
    {
     "name": "stdout",
     "output_type": "stream",
     "text": [
      "    Residual: 2.9945418459876755e-06\n",
      "    Residual: 1.247163215575103e-08\n",
      "    Residual: 1.5670752203625261e-13\n",
      "    Residual: 1.0422643815077164e-16\n",
      "    Residual: 2.87953536090331e-06\n"
     ]
    },
    {
     "name": "stderr",
     "output_type": "stream",
     "text": [
      "Level 25:analysis:rank#0: Step: 20, Iterations = 3, Time = 0.18 (s)\n",
      "Level 25:analysis:rank#0: Time (total) = 11.22 (s)\n",
      "\n"
     ]
    },
    {
     "name": "stdout",
     "output_type": "stream",
     "text": [
      "    Residual: 7.299620244720802e-09\n",
      "    Residual: 9.020895425717276e-15\n"
     ]
    },
    {
     "data": {
      "text/plain": [
       "([array([1., 0., 0.])],\n",
       " array([[0.00000000e+00, 0.00000000e+00],\n",
       "        [9.98948225e-04, 2.34520788e-01],\n",
       "        [1.41272613e-03, 3.31662479e-01],\n",
       "        [1.73022908e-03, 4.06201920e-01],\n",
       "        [1.99789645e-03, 4.69041576e-01],\n",
       "        [2.23371614e-03, 5.24404424e-01],\n",
       "        [2.44691343e-03, 5.74456265e-01],\n",
       "        [2.64296858e-03, 6.20483682e-01],\n",
       "        [2.82545225e-03, 6.63324958e-01],\n",
       "        [2.99684467e-03, 7.03562364e-01],\n",
       "        [3.15895165e-03, 7.41619849e-01],\n",
       "        [3.31322138e-03, 7.77817459e-01],\n",
       "        [3.47432413e-03, 8.12403840e-01],\n",
       "        [3.65173824e-03, 8.45576726e-01],\n",
       "        [3.85100608e-03, 8.77496439e-01],\n",
       "        [4.08148631e-03, 9.08295106e-01],\n",
       "        [4.36392056e-03, 9.38083152e-01],\n",
       "        [4.74677949e-03, 9.66953980e-01],\n",
       "        [5.81413056e-03, 9.94987437e-01],\n",
       "        [1.36633275e-02, 1.02225242e+00],\n",
       "        [2.37859479e-02, 1.04880885e+00]]),\n",
       " 11.218694686889648,\n",
       " Coefficient(FunctionSpace(Mesh(VectorElement(FiniteElement('Lagrange', triangle, 1), dim=2), 0), VectorElement(FiniteElement('Quadrature', triangle, 2, quad_scheme='default'), dim=4)), 139957640508992),\n",
       " Coefficient(FunctionSpace(Mesh(VectorElement(FiniteElement('Lagrange', triangle, 1), dim=2), 0), FiniteElement('Quadrature', triangle, 2, quad_scheme='default')), 139957640542592),\n",
       " Coefficient(FunctionSpace(Mesh(VectorElement(FiniteElement('Lagrange', triangle, 1), dim=2), 0), VectorElement(FiniteElement('Lagrange', triangle, 2), dim=2)), 139957779533184))"
      ]
     },
     "execution_count": 5,
     "metadata": {},
     "output_type": "execute_result"
    }
   ],
   "source": [
    "custom_plasticity.solve()"
   ]
  },
  {
   "cell_type": "code",
   "execution_count": 2,
   "metadata": {},
   "outputs": [
    {
     "name": "stdout",
     "output_type": "stream",
     "text": [
      "\n",
      "<meshio mesh object>\n",
      "  Number of points: 50\n",
      "  Number of cells:\n",
      "    line: 2\n",
      "    line: 14\n",
      "    line: 2\n",
      "    line: 11\n",
      "    triangle: 69\n",
      "  Cell sets: gmsh:bounding_entities\n",
      "  Point data: gmsh:dim_tags\n",
      "  Cell data: gmsh:physical, gmsh:geometrical\n"
     ]
    }
   ],
   "source": [
    "if MPI.COMM_WORLD.rank == 0:\n",
    "    #It works with the msh4 only!!\n",
    "    msh = meshio.read(\"thick_cylinder_coarse.msh\")\n",
    "\n",
    "    # Create and save one file for the mesh, and one file for the facets \n",
    "    triangle_mesh = fs.create_mesh(msh, \"triangle\", prune_z=True)\n",
    "    line_mesh = fs.create_mesh(msh, \"line\", prune_z=True)\n",
    "    meshio.write(\"thick_cylinder.xdmf\", triangle_mesh)\n",
    "    meshio.write(\"mt.xdmf\", line_mesh)\n",
    "    print(msh)"
   ]
  },
  {
   "cell_type": "code",
   "execution_count": 3,
   "metadata": {},
   "outputs": [],
   "source": [
    "with io.XDMFFile(MPI.COMM_WORLD, \"thick_cylinder.xdmf\", \"r\") as xdmf:\n",
    "    mesh = xdmf.read_mesh(name=\"Grid\")\n",
    "    ct = xdmf.read_meshtags(mesh, name=\"Grid\")\n",
    "\n",
    "mesh.topology.create_connectivity(mesh.topology.dim, mesh.topology.dim - 1)\n",
    "\n",
    "with io.XDMFFile(MPI.COMM_WORLD, \"mt.xdmf\", \"r\") as xdmf:\n",
    "    ft = xdmf.read_meshtags(mesh, name=\"Grid\")"
   ]
  },
  {
   "cell_type": "code",
   "execution_count": 4,
   "metadata": {},
   "outputs": [],
   "source": [
    "# elastic parameters\n",
    "E = 70e3\n",
    "nu = 0.3\n",
    "lambda_ = E*nu/(1+nu)/(1-2*nu)\n",
    "mu_ = E/2./(1+nu)\n",
    "\n",
    "sig0 = 250.  # yield strength\n",
    "Et = E/100.  # tangent modulus\n",
    "H = E*Et/(E-Et)  # hardening modulus\n",
    "\n",
    "Re, Ri = 1.3, 1.   # external/internal radius\n",
    "\n",
    "TPV = np.finfo(PETSc.ScalarType).eps # très petite value \n",
    "\n",
    "q_lim = float(2/np.sqrt(3)*np.log(Re/Ri)*sig0)"
   ]
  },
  {
   "cell_type": "code",
   "execution_count": 5,
   "metadata": {},
   "outputs": [],
   "source": [
    "deg_u = 2\n",
    "deg_stress = 2\n",
    "V = fem.VectorFunctionSpace(mesh, (\"CG\", deg_u))\n",
    "We = ufl.VectorElement(\"Quadrature\", mesh.ufl_cell(), degree=deg_stress, dim=4, quad_scheme='default')\n",
    "W0e = ufl.FiniteElement(\"Quadrature\", mesh.ufl_cell(), degree=deg_stress, quad_scheme='default')\n",
    "W = fem.FunctionSpace(mesh, We)\n",
    "W0 = fem.FunctionSpace(mesh, W0e)"
   ]
  },
  {
   "cell_type": "code",
   "execution_count": 6,
   "metadata": {},
   "outputs": [],
   "source": [
    "sig_old = fem.Function(W, name=\"sig_old\")\n",
    "p = fem.Function(W0, name=\"p\")\n",
    "dp = fem.Function(W0, name=\"dp\")\n",
    "u = fem.Function(V, name=\"Total_displacement\")\n",
    "Du = fem.Function(V, name=\"Current_increment\")\n",
    "\n",
    "v = ufl.TrialFunction(V)\n",
    "u_ = ufl.TestFunction(V)\n",
    "\n",
    "P0 = fem.FunctionSpace(mesh, (\"DG\", 0))\n",
    "p_avg = fem.Function(P0, name=\"Plastic_strain\")"
   ]
  },
  {
   "cell_type": "code",
   "execution_count": 7,
   "metadata": {},
   "outputs": [],
   "source": [
    "I = np.eye(3)\n",
    "J4 = 1./3. * np.tensordot(I, I, axes=0)\n",
    "I4 = np.einsum('ij,kl->ikjl', I, I)\n",
    "K4 = DEV = I4 - J4\n",
    "C_elas = (3*lambda_ + 2*mu_)*J4 + 2*mu_*K4\n",
    "C_elas_const = fem.Constant(mesh, C_elas.astype(np.dtype(PETSc.ScalarType)))\n",
    "\n",
    "QTe = ufl.TensorElement(\"Quadrature\", mesh.ufl_cell(), degree=deg_stress, shape=C_elas.shape, quad_scheme='default') #, symmetry=True?\n",
    "QT = fem.FunctionSpace(mesh, QTe)\n",
    "\n",
    "C_tang = ca.DummyFunction(QT, name='tangent') # 2 * n_gauss_points * 3 * 3 * 3 * 3"
   ]
  },
  {
   "cell_type": "code",
   "execution_count": 8,
   "metadata": {},
   "outputs": [],
   "source": [
    "left_marker = 3\n",
    "down_marker = 1\n",
    "left_facets = ft.indices[ft.values == left_marker]\n",
    "down_facets = ft.indices[ft.values == down_marker]\n",
    "left_dofs = fem.locate_dofs_topological(V.sub(0), mesh.topology.dim-1, left_facets)\n",
    "down_dofs = fem.locate_dofs_topological(V.sub(1), mesh.topology.dim-1, down_facets)\n",
    "\n",
    "bcs = [fem.dirichletbc(PETSc.ScalarType(0), left_dofs, V.sub(0)), fem.dirichletbc(PETSc.ScalarType(0), down_dofs, V.sub(1))]"
   ]
  },
  {
   "cell_type": "code",
   "execution_count": 9,
   "metadata": {},
   "outputs": [],
   "source": [
    "@numba.njit(fastmath=True)\n",
    "def as_3D_array(X):\n",
    "    return np.asarray([[X[0], X[3], 0],\n",
    "                       [X[3], X[1], 0],\n",
    "                       [0, 0, X[2]]])\n",
    "                       \n",
    "@numba.njit(fastmath=True)\n",
    "def ppos(x):\n",
    "    return (x + np.sqrt(x**2))/2.\n",
    "\n",
    "@numba.njit(fastmath=True)\n",
    "def sigma(eps_el):\n",
    "    return lambda_*np.trace(eps_el)*I + 2*mu_*eps_el\n",
    "\n",
    "@numba.njit(fastmath=True)\n",
    "def tensor_product(A, B):\n",
    "    # n_i, n_j = A.shape\n",
    "    # n_k, n_l = B.shape\n",
    "    C = np.zeros((*A.shape, *B.shape), dtype=PETSc.ScalarType)\n",
    "    for i in range(3):\n",
    "        for j in range(3):\n",
    "            for k in range(3):\n",
    "                for l in range(3):\n",
    "                    C[i,j,k,l] = A[i,j] * B[k,l]\n",
    "    return C\n",
    "                    \n",
    "@numba.njit(fastmath=True)\n",
    "def get_C_tang(beta, n_elas):\n",
    "    return C_elas - 3*mu_*(3*mu_/(3*mu_+H)-beta)*tensor_product(n_elas, n_elas) - 2*mu_*beta*DEV \n",
    "\n",
    "@numba.njit(fastmath=True)\n",
    "def inner(A, B):\n",
    "    return np.sum(A * B)"
   ]
  },
  {
   "cell_type": "code",
   "execution_count": 10,
   "metadata": {},
   "outputs": [],
   "source": [
    "n = ufl.FacetNormal(mesh)\n",
    "loading = fem.Constant(mesh, PETSc.ScalarType(0.0))\n",
    "\n",
    "def F_ext(v):\n",
    "    return -loading * ufl.inner(n, v)*ds(4)\n",
    "\n",
    "def eps(v):\n",
    "    e = ufl.sym(ufl.grad(v))\n",
    "    return ufl.as_tensor([[e[0, 0], e[0, 1], 0],\n",
    "                          [e[0, 1], e[1, 1], 0],\n",
    "                          [0, 0, 0]])\n",
    "\n",
    "def as_3D_tensor(X):\n",
    "    return ufl.as_tensor([[X[0], X[3], 0],\n",
    "                          [X[3], X[1], 0],\n",
    "                          [0, 0, X[2]]])\n",
    "\n",
    "def inner_product(C, epsilon):\n",
    "    i, j, k, l = ufl.indices(4)\n",
    "    return ufl.as_tensor( (C[i,j,k,l] * epsilon[k,l]), (i,j) )"
   ]
  },
  {
   "cell_type": "code",
   "execution_count": 11,
   "metadata": {},
   "outputs": [],
   "source": [
    "def get_eval(self: ca.CustomFunction):\n",
    "    tabulated_eps = self.tabulated_input_expression\n",
    "    n_gauss_points = len(self.input_expression.X)\n",
    "    local_shape = self.local_shape\n",
    "    C_tang_shape = self.tangent.shape\n",
    "\n",
    "    @numba.njit(fastmath=True)\n",
    "    def eval(sigma_current_local, sigma_old_local, p_old_local, dp_local, coeffs_values, constants_values, coordinates, local_index, orientation):\n",
    "        deps_local = np.zeros(n_gauss_points*3*3, dtype=PETSc.ScalarType)\n",
    "        \n",
    "        C_tang_local = np.zeros((n_gauss_points, *C_tang_shape), dtype=PETSc.ScalarType)\n",
    "        \n",
    "        sigma_old = sigma_old_local.reshape((n_gauss_points, *local_shape))\n",
    "        sigma_new = sigma_current_local.reshape((n_gauss_points, *local_shape))\n",
    "\n",
    "        tabulated_eps(ca.ffi.from_buffer(deps_local), \n",
    "                      ca.ffi.from_buffer(coeffs_values), \n",
    "                      ca.ffi.from_buffer(constants_values), \n",
    "                      ca.ffi.from_buffer(coordinates), ca.ffi.from_buffer(local_index), ca.ffi.from_buffer(orientation))\n",
    "        \n",
    "        deps_local = deps_local.reshape((n_gauss_points, 3, 3))\n",
    "\n",
    "        n_elas = np.zeros((3, 3), dtype=PETSc.ScalarType) \n",
    "        beta = np.zeros(1, dtype=PETSc.ScalarType) \n",
    "        dp = np.zeros(1, dtype=PETSc.ScalarType) \n",
    "\n",
    "        for q in range(n_gauss_points):\n",
    "            sig_n = as_3D_array(sigma_old[q])\n",
    "            sig_elas = sig_n + sigma(deps_local[q])\n",
    "            s = sig_elas - np.trace(sig_elas)*I/3.\n",
    "            sig_eq = np.sqrt(3./2. * inner(s, s))\n",
    "            f_elas = sig_eq - sig0 - H*p_old_local[q]\n",
    "            f_elas_plus = ppos(f_elas)\n",
    "            dp[:] = f_elas_plus/(3*mu_+H)\n",
    "            \n",
    "            sig_eq += TPV # for the case when sig_eq is equal to 0.0\n",
    "            n_elas[:,:] = s/sig_eq*f_elas_plus/f_elas\n",
    "            beta[:] = 3*mu_*dp/sig_eq\n",
    "      \n",
    "            new_sig = sig_elas - beta*s\n",
    "            sigma_new[q][:] = np.asarray([new_sig[0, 0], new_sig[1, 1], new_sig[2, 2], new_sig[0, 1]])\n",
    "            dp_local[q] = dp[0]\n",
    "            \n",
    "            C_tang_local[q][:] = get_C_tang(beta, n_elas)\n",
    "        \n",
    "        return [C_tang_local.flatten()] \n",
    "    return eval"
   ]
  },
  {
   "cell_type": "code",
   "execution_count": 12,
   "metadata": {},
   "outputs": [],
   "source": [
    "@numba.njit(fastmath=True)\n",
    "def local_assembling_b(cell, geometry, entity_local_index, perm, u_local,\n",
    "                coeffs_global_values_A, coeffs_eval_list_A, coeffs_constants_values_A, coeffs_dummies_values_A, coeffs_subcoeffs_values_A, \n",
    "                coeffs_global_values_b, coeffs_eval_list_b, coeffs_constants_values_b, coeffs_dummies_values_b, coeffs_subcoeffs_values_b):\n",
    "    sigma_local = coeffs_global_values_b[0][cell]\n",
    "    p_local = coeffs_subcoeffs_values_b[0][cell]\n",
    "    dp_local = coeffs_subcoeffs_values_b[1][cell]\n",
    "    sigma_old_local = coeffs_subcoeffs_values_b[2][cell]\n",
    "\n",
    "    output_values = coeffs_eval_list_b[0](sigma_local, \n",
    "                                     sigma_old_local,\n",
    "                                     p_local,\n",
    "                                     dp_local,\n",
    "                                     u_local, \n",
    "                                     coeffs_constants_values_b[0], \n",
    "                                     geometry, entity_local_index, perm)\n",
    "\n",
    "    coeffs_b = sigma_local\n",
    "\n",
    "    for i in range(len(coeffs_dummies_values_b)):\n",
    "        coeffs_dummies_values_b[i][:] = output_values[i] #C_tang update\n",
    "\n",
    "    return coeffs_b\n",
    "\n",
    "@numba.njit(fastmath=True)\n",
    "def local_assembling_A(cell, geometry, entity_local_index, perm, u_local,\n",
    "                coeffs_global_values_A, coeffs_eval_list_A, coeffs_constants_values_A, coeffs_dummies_values_A, coeffs_subcoeffs_values_A, \n",
    "                coeffs_global_values_b, coeffs_eval_list_b, coeffs_constants_values_b, coeffs_dummies_values_b, coeffs_subcoeffs_values_b):\n",
    "    coeffs_A = coeffs_dummies_values_b[0]\n",
    "    return coeffs_A"
   ]
  },
  {
   "cell_type": "code",
   "execution_count": 13,
   "metadata": {},
   "outputs": [],
   "source": [
    "sig = ca.CustomFunction(W, eps(Du), [C_tang, p, dp, sig_old], get_eval)"
   ]
  },
  {
   "cell_type": "code",
   "execution_count": 14,
   "metadata": {},
   "outputs": [],
   "source": [
    "ds = ufl.Measure(\"ds\", domain=mesh, subdomain_data=ft)\n",
    "dx = ufl.Measure(\n",
    "    \"dx\",\n",
    "    domain=mesh,\n",
    "    metadata={\"quadrature_degree\": deg_stress, \"quadrature_scheme\": \"default\"},\n",
    ")\n",
    "\n",
    "a_Newton = ufl.inner(eps(v), inner_product(sig.tangent, eps(u_)))*dx\n",
    "res = -ufl.inner(eps(u_), as_3D_tensor(sig))*dx \n",
    "res_Neumann = F_ext(u_)"
   ]
  },
  {
   "cell_type": "code",
   "execution_count": 15,
   "metadata": {},
   "outputs": [],
   "source": [
    "my_solver = ca.CustomProblem(a_Newton, res, Du, local_assembling_A, local_assembling_b, bcs, res_Neumann)"
   ]
  },
  {
   "cell_type": "code",
   "execution_count": 16,
   "metadata": {},
   "outputs": [],
   "source": [
    "# Defining a cell containing (Ri, 0) point, where we calculate a value of u\n",
    "x_point = np.array([[Ri, 0, 0]])\n",
    "cells, points_on_proc = fs.find_cell_by_point(mesh, x_point)"
   ]
  },
  {
   "cell_type": "code",
   "execution_count": 21,
   "metadata": {},
   "outputs": [
    {
     "name": "stdout",
     "output_type": "stream",
     "text": [
      "\n",
      "nRes0 , 2.150960314604377e-12 \n",
      " Increment: 1, load = 17.7621446711497\n",
      "    Residual: 9.48996945629055e-13\n",
      "\n",
      "nRes0 , 9.48996945629055e-13 \n",
      " Increment: 2, load = 25.119465890772904\n",
      "    Residual: 3.8417036525202644e-13\n",
      "\n",
      "nRes0 , 3.8417036525202644e-13 \n",
      " Increment: 3, load = 30.764937021820067\n",
      "    Residual: 2.9737656807880304e-13\n",
      "\n",
      "nRes0 , 2.9737656807880304e-13 \n",
      " Increment: 4, load = 35.5242893422994\n",
      "    Residual: 2.382864627230826e-13\n",
      "\n",
      "nRes0 , 2.382864627230826e-13 \n",
      " Increment: 5, load = 39.717362910876375\n",
      "    Residual: 2.1803518885070094e-13\n",
      "\n",
      "nRes0 , 2.1803518885070094e-13 \n",
      " Increment: 6, load = 43.50819118181207\n",
      "    Residual: 1.9114498356405463e-13\n",
      "\n",
      "nRes0 , 1.9114498356405463e-13 \n",
      " Increment: 7, load = 46.99421755101324\n",
      "    Residual: 1.7503252869583475e-13\n",
      "\n",
      "nRes0 , 1.7503252869583475e-13 \n",
      " Increment: 8, load = 50.23893178154581\n",
      "    Residual: 1.5669926827478192e-13\n",
      "\n",
      "nRes0 , 1.5669926827478192e-13 \n",
      " Increment: 9, load = 53.286434013449096\n",
      "    Residual: 1.624453964628051e-13\n",
      "\n",
      "nRes0 , 1.624453964628051e-13 \n",
      " Increment: 10, load = 56.16883329025551\n",
      "    Residual: 1.4728429466632327e-13\n",
      "\n",
      "nRes0 , 1.4728429466632327e-13 \n",
      " Increment: 11, load = 58.910369346214146\n",
      "    Residual: 1.479360912704119e-13\n",
      "\n",
      "nRes0 , 1.479360912704119e-13 \n",
      " Increment: 12, load = 61.529874043640135\n",
      "    Residual: 1.0879776420211504\n",
      "    Residual: 0.005108961200395621\n",
      "    Residual: 2.2302712299023996e-07\n",
      "    Residual: 6.830476653861236e-14\n",
      "\n",
      "nRes0 , 6.830476653861236e-14 \n",
      " Increment: 13, load = 64.0423233740397\n",
      "    Residual: 0.8312913313342347\n",
      "    Residual: 0.003961582819338943\n",
      "    Residual: 1.195518012039368e-07\n",
      "    Residual: 6.517703616456033e-14\n",
      "\n",
      "nRes0 , 6.517703616456033e-14 \n",
      " Increment: 14, load = 66.45985981375466\n",
      "    Residual: 0.5117161065955671\n",
      "    Residual: 0.0017493279921571665\n",
      "    Residual: 3.1100816408098286e-08\n",
      "    Residual: 6.926378470064494e-14\n",
      "\n",
      "nRes0 , 6.926378470064494e-14 \n",
      " Increment: 15, load = 68.7924905042896\n",
      "    Residual: 1.7971712148573444\n",
      "    Residual: 0.471971847926465\n",
      "    Residual: 0.0006833537586980132\n",
      "    Residual: 4.834267648459457e-09\n",
      "\n",
      "nRes0 , 4.834267648459457e-09 \n",
      " Increment: 16, load = 71.0485786845988\n",
      "    Residual: 2.2735059150454884\n",
      "    Residual: 0.19022308772770313\n",
      "    Residual: 0.00017412870341578478\n",
      "    Residual: 8.999789336589747e-10\n",
      "\n",
      "nRes0 , 8.999789336589747e-10 \n",
      " Increment: 17, load = 73.23519861665207\n",
      "    Residual: 1.9203074813241727\n",
      "    Residual: 0.029040303943742057\n",
      "    Residual: 1.948861374955045e-05\n",
      "    Residual: 1.7150898037189657e-11\n",
      "\n",
      "nRes0 , 1.7150898037189657e-11 \n",
      " Increment: 18, load = 75.3583976723187\n",
      "    Residual: 3.4661950681109457\n",
      "    Residual: 0.3154805498267299\n",
      "    Residual: 0.037232590388951985\n",
      "    Residual: 0.00015174176988355399\n",
      "    Residual: 1.163838506579567e-09\n",
      "\n",
      "nRes0 , 1.163838506579567e-09 \n",
      " Increment: 19, load = 77.42339364209101\n",
      "    Residual: 10.448139870856638\n",
      "    Residual: 3.621797261266285\n",
      "    Residual: 0.4188652555826398\n",
      "    Residual: 0.006100844489390076\n",
      "    Residual: 1.6941970796781832e-06\n",
      "    Residual: 1.5622622635007843e-12\n",
      "\n",
      "nRes0 , 1.5622622635007843e-12 \n",
      " Increment: 20, load = 79.43472582175275\n",
      "    Residual: 0.5645477017614061\n",
      "    Residual: 0.002050975780513018\n",
      "    Residual: 1.0105536725853963e-08\n",
      "    Residual: 2.150960314604377e-12\n",
      "rank#0: Time = 0.192 (s)\n"
     ]
    }
   ],
   "source": [
    "Nitermax, tol = 200, 1e-8  # parameters of the Newton-Raphson procedure\n",
    "Nincr = 20\n",
    "load_steps = np.linspace(0, 1.1, Nincr+1)[1:]**0.5\n",
    "\n",
    "results = np.zeros((Nincr+1, 2))\n",
    "# xdmf = io.XDMFFile(MPI.COMM_WORLD, \"plasticity.xdmf\", \"w\", encoding=io.XDMFFile.Encoding.HDF5)\n",
    "# xdmf.write_mesh(mesh)\n",
    "\n",
    "form_res_Neumann = fem.form(res_Neumann)\n",
    "Res_Neumann = fem.petsc.create_vector(form_res_Neumann)\n",
    "sig.vector.set(0.0)\n",
    "sig_old.vector.set(0.0)\n",
    "p.vector.set(0.0)\n",
    "dp.vector.set(0.0)\n",
    "u.vector.set(0.0)\n",
    "Du.vector.set(0.0)\n",
    "\n",
    "my_solver.assemble_matrix()\n",
    "\n",
    "start = time.time()\n",
    "\n",
    "for (i, t) in enumerate(load_steps):\n",
    "    loading.value = t * q_lim\n",
    "    Du.x.array[:] = 0\n",
    "\n",
    "    if MPI.COMM_WORLD.rank == 0:\n",
    "        print(f\"\\nnRes0 , {my_solver.b.norm()} \\n Increment: {str(i+1)}, load = {loading.value}\")\n",
    "    niters = my_solver.solve()\n",
    "        \n",
    "    u.vector.axpy(1, Du.vector) # u = u + 1*Du\n",
    "    u.x.scatter_forward()\n",
    "\n",
    "    sig_old.x.array[:] = sig.x.array\n",
    "    p.vector.axpy(1, dp.vector)\n",
    "    p.x.scatter_forward()\n",
    "\n",
    "    # project(p, p_avg)\n",
    "    # p_avg.x.scatter_forward()\n",
    "    \n",
    "    # xdmf.write_function(u, t)\n",
    "    # xdmf.write_function(p_avg, t)\n",
    "\n",
    "    if len(points_on_proc) > 0:\n",
    "        results[i+1, :] = (u.eval(points_on_proc, cells)[0], t)\n",
    "\n",
    "# xdmf.close()\n",
    "end = time.time()\n",
    "print(f'rank#{MPI.COMM_WORLD.rank}: Time = {end-start:.3f} (s)')"
   ]
  },
  {
   "cell_type": "code",
   "execution_count": 18,
   "metadata": {},
   "outputs": [
    {
     "data": {
      "image/png": "[encoded data removed]",
      "text/plain": [
       "<Figure size 432x288 with 1 Axes>"
      ]
     },
     "metadata": {
      "needs_background": "light"
     },
     "output_type": "display_data"
    }
   ],
   "source": [
    "if len(points_on_proc) > 0:\n",
    "    import matplotlib.pyplot as plt\n",
    "    plt.plot(results[:, 0], results[:, 1], \"-o\")\n",
    "    plt.xlabel(\"Displacement of inner boundary\")\n",
    "    plt.ylabel(r\"Applied pressure $q/q_{lim}$\")\n",
    "    plt.savefig(f\"displacement_rank{MPI.COMM_WORLD.rank:d}.png\")\n",
    "    plt.show()"
   ]
  },
  {
   "cell_type": "code",
   "execution_count": 1,
   "metadata": {},
   "outputs": [],
   "source": []
  },
  {
   "cell_type": "code",
   "execution_count": 5,
   "metadata": {},
   "outputs": [
    {
     "name": "stdout",
     "output_type": "stream",
     "text": [
      "\n"
     ]
    },
    {
     "name": "stderr",
     "output_type": "stream",
     "text": [
      "Level 25:analysis:rank#0: mesh info: 811 nodes (global), 1478 cells (global), 4434 quadrature_points (global)\n",
      "Level 25:analysis:rank#0: mesh info: 811 nodes (local), 1478 cells (local), 4434 quadrature_points (local)\n"
     ]
    },
    {
     "ename": "AttributeError",
     "evalue": "module 'dolfinx.mesh' has no attribute 'ufl_cell'",
     "output_type": "error",
     "traceback": [
      "\u001b[0;31m---------------------------------------------------------------------------\u001b[0m",
      "\u001b[0;31mAttributeError\u001b[0m                            Traceback (most recent call last)",
      "\u001b[1;32m/mnt/work_folder/convex-plasticity/assembling_strategies/custom_plasticity.ipynb Cell 22\u001b[0m in \u001b[0;36m<cell line: 1>\u001b[0;34m()\u001b[0m\n\u001b[0;32m----> <a href='vscode-notebook-cell://attached-container%2B7b22636f6e7461696e65724e616d65223a2266656e696373227d/mnt/work_folder/convex-plasticity/assembling_strategies/custom_plasticity.ipynb#X32sdnNjb2RlLXJlbW90ZQ%3D%3D?line=0'>1</a>\u001b[0m custom_plasticity \u001b[39m=\u001b[39m ca\u001b[39m.\u001b[39;49mCustomPlasticity(material_vM, logger\u001b[39m=\u001b[39;49mlogger)\n",
      "File \u001b[0;32m/mnt/work_folder/convex-plasticity/assembling_strategies/custom_assembling.py:1029\u001b[0m, in \u001b[0;36mCustomPlasticity.__init__\u001b[0;34m(self, material, mesh_name, logger, solver)\u001b[0m\n\u001b[1;32m   1026\u001b[0m C_elas \u001b[39m=\u001b[39m (\u001b[39m3\u001b[39m\u001b[39m*\u001b[39mlambda_ \u001b[39m+\u001b[39m \u001b[39m2\u001b[39m\u001b[39m*\u001b[39mmu_)\u001b[39m*\u001b[39mJ4 \u001b[39m+\u001b[39m \u001b[39m2\u001b[39m\u001b[39m*\u001b[39mmu_\u001b[39m*\u001b[39mK4\n\u001b[1;32m   1027\u001b[0m \u001b[39m# C_elas_const = fem.Constant(mesh, C_elas.astype(np.dtype(PETSc.ScalarType)))\u001b[39;00m\n\u001b[0;32m-> 1029\u001b[0m QTe \u001b[39m=\u001b[39m ufl\u001b[39m.\u001b[39mTensorElement(\u001b[39m\"\u001b[39m\u001b[39mQuadrature\u001b[39m\u001b[39m\"\u001b[39m, mesh\u001b[39m.\u001b[39;49mufl_cell(), degree\u001b[39m=\u001b[39m\u001b[39mself\u001b[39m\u001b[39m.\u001b[39mdeg_stress, shape\u001b[39m=\u001b[39mC_elas\u001b[39m.\u001b[39mshape, quad_scheme\u001b[39m=\u001b[39m\u001b[39m'\u001b[39m\u001b[39mdefault\u001b[39m\u001b[39m'\u001b[39m) \u001b[39m#, symmetry=True?\u001b[39;00m\n\u001b[1;32m   1030\u001b[0m QT \u001b[39m=\u001b[39m fem\u001b[39m.\u001b[39mFunctionSpace(mesh, QTe)\n\u001b[1;32m   1032\u001b[0m \u001b[39mself\u001b[39m\u001b[39m.\u001b[39mC_tang \u001b[39m=\u001b[39m DummyFunction(QT, name\u001b[39m=\u001b[39m\u001b[39m'\u001b[39m\u001b[39mtangent\u001b[39m\u001b[39m'\u001b[39m) \u001b[39m# 2 * n_gauss_points * 3 * 3 * 3 * 3\u001b[39;00m\n",
      "\u001b[0;31mAttributeError\u001b[0m: module 'dolfinx.mesh' has no attribute 'ufl_cell'"
     ]
    }
   ],
   "source": []
  },
  {
   "cell_type": "code",
   "execution_count": 19,
   "metadata": {},
   "outputs": [],
   "source": [
    "#   Summary!!!!!\n",
    "# b3 = Function(V)\n",
    "\n",
    "# b3.x.array[:] = 0.0\n",
    "\n",
    "# is the same as\n",
    "\n",
    "# with b3.vector.localForm() as b_local:\n",
    "#     b_local.set(0.0)\n",
    "\n",
    "# or is the same as\n",
    "\n",
    "# b3.vector.set(5.0)\n",
    "# b3.x.scatter_forward()"
   ]
  },
  {
   "cell_type": "code",
   "execution_count": 20,
   "metadata": {},
   "outputs": [],
   "source": [
    "## JAX library !"
   ]
  }
 ],
 "metadata": {
  "interpreter": {
   "hash": "31f2aee4e71d21fbe5cf8b01ff0e069b9275f58929596ceb00d14d90e3e16cd6"
  },
  "kernelspec": {
   "display_name": "Python 3.8.10 64-bit",
   "language": "python",
   "name": "python3"
  },
  "language_info": {
   "codemirror_mode": {
    "name": "ipython",
    "version": 3
   },
   "file_extension": ".py",
   "mimetype": "text/x-python",
   "name": "python",
   "nbconvert_exporter": "python",
   "pygments_lexer": "ipython3",
   "version": "3.9.7"
  },
  "orig_nbformat": 4
 },
 "nbformat": 4,
 "nbformat_minor": 2
}
