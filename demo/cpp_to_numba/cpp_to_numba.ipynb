{
 "cells": [
  {
   "cell_type": "code",
   "execution_count": 1,
   "metadata": {},
   "outputs": [],
   "source": [
    "import numba"
   ]
  },
  {
   "cell_type": "code",
   "execution_count": 3,
   "metadata": {},
   "outputs": [
    {
     "name": "stdout",
     "output_type": "stream",
     "text": [
      "usage: cxx2py.py [-h] [-m MODULENAME] [--clang-exe CLANG_EXE]\n",
      "                 [--clang-ast-dump-flags CLANG_AST_DUMP_FLAGS]\n",
      "                 [--clang-build-flags CLANG_BUILD_FLAGS]\n",
      "                 [--clang-extra-flags CLANG_EXTRA_FLAGS] [--build] [--verbose]\n",
      "                 file [file ...]\n",
      "\n",
      "Generate ctypes wrappers to C++ library functions\n",
      "\n",
      "positional arguments:\n",
      "  file                  C++ header/source file\n",
      "\n",
      "options:\n",
      "  -h, --help            show this help message and exit\n",
      "  -m MODULENAME, --modulename MODULENAME\n",
      "                        Python module name of ctypes wrappers (default:\n",
      "                        untitled)\n",
      "  --clang-exe CLANG_EXE\n",
      "                        Path to clang compiler (default: clang++)\n",
      "  --clang-ast-dump-flags CLANG_AST_DUMP_FLAGS\n",
      "                        Override flags to clang ast dump command (default:\n",
      "                        '-Xclang -ast-dump -fsyntax-only -fno-diagnostics-\n",
      "                        color')\n",
      "  --clang-build-flags CLANG_BUILD_FLAGS\n",
      "                        Override flags to clang build shared library command\n",
      "                        (default: '-shared -fPIC')\n",
      "  --clang-extra-flags CLANG_EXTRA_FLAGS\n",
      "                        Extra flags to clang command (default: '')\n",
      "  --build               Build shared library (default: False)\n",
      "  --verbose             Be verbose (default: False)\n"
     ]
    }
   ],
   "source": [
    "!python cxx2py.py --help"
   ]
  },
  {
   "cell_type": "code",
   "execution_count": 1,
   "metadata": {},
   "outputs": [
    {
     "name": "stdout",
     "output_type": "stream",
     "text": [
      "DONE\n",
      "\n",
      "As a quick test, try running:\n",
      "\n",
      "  LD_LIBRARY_PATH=. python -c \"import libfoo as m; print(m.__all__)\"\n"
     ]
    }
   ],
   "source": [
    "!python cxx2py.py -m libfoo foo.hpp foo.cpp --build"
   ]
  },
  {
   "cell_type": "code",
   "execution_count": 2,
   "metadata": {},
   "outputs": [
    {
     "name": "stdout",
     "output_type": "stream",
     "text": [
      "/home/andrash/anaconda3/envs/cxx2py-demo/lib/python3.10/site-packages/rbc/targetinfo.py:444: UserWarning: Using sizeof(int) == 4\n",
      "  warnings.warn('Using sizeof(int) == 4')\n",
      "['foo', 'ns__ns2__bar', 'ns__ns2__BarCls__fun']\n"
     ]
    }
   ],
   "source": [
    "!  LD_LIBRARY_PATH=. python -c \"import libfoo as m; print(m.__all__)\"\n"
   ]
  },
  {
   "cell_type": "code",
   "execution_count": 1,
   "metadata": {},
   "outputs": [
    {
     "name": "stderr",
     "output_type": "stream",
     "text": [
      "/home/andrash/anaconda3/envs/cxx2py-demo/lib/python3.10/site-packages/rbc/targetinfo.py:444: UserWarning: Using sizeof(int) == 4\n",
      "  warnings.warn('Using sizeof(int) == 4')\n"
     ]
    }
   ],
   "source": [
    "import libfoo"
   ]
  },
  {
   "cell_type": "code",
   "execution_count": 6,
   "metadata": {},
   "outputs": [
    {
     "data": {
      "text/plain": [
       "14.3"
      ]
     },
     "execution_count": 6,
     "metadata": {},
     "output_type": "execute_result"
    },
    {
     "name": "stdout",
     "output_type": "stream",
     "text": [
      "in ns::ns2::bar(2.000000)\n"
     ]
    }
   ],
   "source": [
    "libfoo.ns__ns2__bar(2)"
   ]
  },
  {
   "cell_type": "code",
   "execution_count": 9,
   "metadata": {},
   "outputs": [],
   "source": [
    "d = libfoo.ns__ns2__Ba"
   ]
  },
  {
   "cell_type": "code",
   "execution_count": 10,
   "metadata": {},
   "outputs": [
    {
     "data": {
      "text/plain": [
       "54321"
      ]
     },
     "execution_count": 10,
     "metadata": {},
     "output_type": "execute_result"
    }
   ],
   "source": [
    "d"
   ]
  },
  {
   "cell_type": "code",
   "execution_count": null,
   "metadata": {},
   "outputs": [],
   "source": []
  }
 ],
 "metadata": {
  "kernelspec": {
   "display_name": "Python 3.10.5 ('cxx2py-demo')",
   "language": "python",
   "name": "python3"
  },
  "language_info": {
   "codemirror_mode": {
    "name": "ipython",
    "version": 3
   },
   "file_extension": ".py",
   "mimetype": "text/x-python",
   "name": "python",
   "nbconvert_exporter": "python",
   "pygments_lexer": "ipython3",
   "version": "3.10.4"
  },
  "orig_nbformat": 4,
  "vscode": {
   "interpreter": {
    "hash": "5f61fb2f7ebf64630f2437318a5012e4176fdda29644656e3f1ca07a6c7d721b"
   }
  }
 },
 "nbformat": 4,
 "nbformat_minor": 2
}
