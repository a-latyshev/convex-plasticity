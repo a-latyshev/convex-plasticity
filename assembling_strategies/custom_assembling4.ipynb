{
 "cells": [
  {
   "cell_type": "code",
   "execution_count": 49,
   "metadata": {},
   "outputs": [],
   "source": [
    "import numba\n",
    "import numpy as np\n",
    "\n",
    "import ufl\n",
    "from dolfinx import fem, mesh, io\n",
    "\n",
    "from mpi4py import MPI\n",
    "from petsc4py import PETSc\n",
    "\n",
    "import time \n",
    "\n",
    "import sys\n",
    "sys.path.append(\"../\")\n",
    "import fenicsx_support\n",
    "import custom_assembling as ca"
   ]
  },
  {
   "cell_type": "code",
   "execution_count": 50,
   "metadata": {},
   "outputs": [],
   "source": [
    "N = 2\n",
    "domain = mesh.create_unit_square(MPI.COMM_WORLD, N, N)\n",
    "\n",
    "deg, q_deg = 1, 2\n",
    "V = fem.VectorFunctionSpace(domain, (\"P\", deg))\n",
    "\n",
    "# quadrature elements and function spaces\n",
    "QV = ufl.VectorElement(\n",
    "    \"Quadrature\", domain.ufl_cell(), q_deg, quad_scheme=\"default\", dim=3\n",
    ")\n",
    "\n",
    "QT = ufl.TensorElement(\n",
    "    \"Quadrature\",\n",
    "    domain.ufl_cell(),\n",
    "    q_deg,\n",
    "    quad_scheme=\"default\",\n",
    "    shape=(3, 3),\n",
    ")\n",
    "VQV = fem.FunctionSpace(domain, QV)\n",
    "VQT = fem.FunctionSpace(domain, QT)\n",
    "\n",
    "# define functions\n",
    "u_, du = ufl.TestFunction(V), ufl.TrialFunction(V)\n",
    "u = fem.Function(V)\n",
    "q_sigma0 = fem.Function(VQV)\n",
    "q_dsigma = fem.Function(VQT, name='stiffness')\n",
    "\n",
    "num_dofs_global = V.dofmap.index_map.size_global * V.dofmap.index_map_bs\n",
    "num_gauss_local = len(q_sigma0.x.array[:]) // 3\n",
    "num_gauss_global = domain.comm.reduce(num_gauss_local, op=MPI.SUM, root=0)\n",
    "\n",
    "# define form\n",
    "dxm = ufl.dx(metadata={\"quadrature_degree\": q_deg, \"quadrature_scheme\": \"default\"})\n",
    "\n",
    "def eps(u):\n",
    "    e = ufl.sym(ufl.grad(u))\n",
    "    return ufl.as_vector((e[0, 0], e[1, 1], 2 * e[0, 1]))\n",
    "\n",
    "E, nu = 20000, 0.3\n",
    "\n",
    "# Hookes law for plane stress\n",
    "C11 = E / (1.0 - nu * nu)\n",
    "C12 = C11 * nu\n",
    "C33 = C11 * 0.5 * (1.0 - nu)\n",
    "C = np.array([[C11, C12, 0.0], [C12, C11, 0.0], [0.0, 0.0, C33]], dtype=PETSc.ScalarType)\n",
    "\n",
    "r\"\"\"\n",
    "Set up \n",
    "\n",
    "  +---------+\n",
    "/||         |->\n",
    "/||         |->\n",
    "/||         |-> u_bc\n",
    "  o---------+\n",
    " / \\\n",
    "-----\n",
    "\"\"\"\n",
    "\n",
    "\n",
    "def left(x):\n",
    "    return np.isclose(x[0], 0.0)\n",
    "\n",
    "\n",
    "def right(x):\n",
    "    return np.isclose(x[0], 1.0)\n",
    "\n",
    "\n",
    "def origin(x):\n",
    "    return np.logical_and(np.isclose(x[0], 0.0), np.isclose(x[1], 0.0))\n",
    "\n",
    "\n",
    "u_bc = fem.Constant(domain, 0.0)  # expression for boundary displacement\n",
    "\n",
    "dim = domain.topology.dim - 1\n",
    "b_facets_l = mesh.locate_entities_boundary(domain, dim, left)\n",
    "b_facets_r = mesh.locate_entities_boundary(domain, dim, right)\n",
    "b_facets_o = mesh.locate_entities_boundary(domain, dim - 1, origin)\n",
    "\n",
    "b_dofs_l = fem.locate_dofs_topological(V.sub(0), dim, b_facets_l)\n",
    "b_dofs_r = fem.locate_dofs_topological(V.sub(0), dim, b_facets_r)\n",
    "b_dofs_o = fem.locate_dofs_topological(V.sub(1), dim - 1, b_facets_o)\n",
    "\n",
    "bcs = [\n",
    "    fem.dirichletbc(PETSc.ScalarType(0), b_dofs_l, V.sub(0)),\n",
    "    fem.dirichletbc(u_bc, b_dofs_r, V.sub(0)),\n",
    "    fem.dirichletbc(PETSc.ScalarType(0), b_dofs_o, V.sub(1)),\n",
    "]"
   ]
  },
  {
   "cell_type": "code",
   "execution_count": 51,
   "metadata": {},
   "outputs": [],
   "source": [
    "# lambda_ = E*nu/(1+nu)/(1-2*nu)\n",
    "# mu_ = E/2./(1+nu)\n",
    "\n",
    "# I = np.eye(3)\n",
    "# J4 = 1./3. * np.tensordot(I, I, axes=0)\n",
    "# I4 = np.einsum('ij,kl->ikjl', I, I)\n",
    "# K4 = DEV = I4 - J4\n",
    "# C_elas = (3*lambda_ + 2*mu_)*J4 + 2*mu_*K4\n",
    "\n",
    "# QTe = ufl.TensorElement(\"Quadrature\", mesh.ufl_cell(), degree=q_deg, shape=C_elas.shape, quad_scheme='default') #, symmetry=True?\n",
    "# QT = fem.FunctionSpace(mesh, QTe)\n",
    "\n",
    "# C_dummy = ca.DummyFunction(QT, name='tangent') # 2 * n_gauss_points * 3 * 3 * 3 * 3\n",
    "\n",
    "@numba.njit(fastmath=True)\n",
    "def get_C():\n",
    "    return C\n",
    "\n",
    "# @numba.njit(fastmath=True)\n",
    "# def inner(A, B):\n",
    "#     return np.sum(A * B)"
   ]
  },
  {
   "cell_type": "code",
   "execution_count": 52,
   "metadata": {},
   "outputs": [],
   "source": [
    "def sigma(u):\n",
    "    return ufl.dot(eps(u), C_const)\n",
    "\n",
    "def get_eval(self:ca.CustomFunction):\n",
    "    tabulated_eps = self.tabulated_input_expression\n",
    "    n_gauss_points = len(self.input_expression.X)\n",
    "    local_shape = self.local_shape\n",
    "    C_shape = self.stiffness.shape\n",
    "\n",
    "    @numba.njit(fastmath=True)\n",
    "    def eval(sigma_current_local, coeffs_values, constants_values, coordinates, local_index, orientation):\n",
    "        epsilon_local = np.zeros(n_gauss_points*3, dtype=PETSc.ScalarType)\n",
    "\n",
    "        C_local = np.zeros((n_gauss_points, *C_shape), dtype=PETSc.ScalarType)\n",
    "        \n",
    "        sigma_local = sigma_current_local.reshape((n_gauss_points, *local_shape))\n",
    "\n",
    "        tabulated_eps(ca.ffi.from_buffer(epsilon_local), \n",
    "                      ca.ffi.from_buffer(coeffs_values), \n",
    "                      ca.ffi.from_buffer(constants_values), \n",
    "                      ca.ffi.from_buffer(coordinates), ca.ffi.from_buffer(local_index), ca.ffi.from_buffer(orientation))\n",
    "        \n",
    "        epsilon_local = epsilon_local.reshape((n_gauss_points, -1))\n",
    "\n",
    "        for q in range(n_gauss_points):\n",
    "            C_local[q][:] = get_C() #change DummyFunction here\n",
    "            sigma_local[q][:] = np.dot(C_local[q], epsilon_local[q]) \n",
    "        \n",
    "        sigma_current_local[:] = sigma_local.flatten()\n",
    "\n",
    "        \n",
    "        return [C_local.flatten()]\n",
    "    return eval"
   ]
  },
  {
   "cell_type": "code",
   "execution_count": 53,
   "metadata": {},
   "outputs": [],
   "source": [
    "@numba.njit(fastmath=True)\n",
    "def local_assembling_b(cell, coeffs_values_global_b, coeffs_coeff_values_b, coeffs_dummy_values_b, coeffs_eval_b, u_local, coeffs_constants_b, geometry, entity_local_index, perm):\n",
    "    sigma_local = coeffs_values_global_b[0][cell]\n",
    "    \n",
    "    output_values = coeffs_eval_b[0](sigma_local, \n",
    "                                     u_local, \n",
    "                                     coeffs_constants_b[0], \n",
    "                                     geometry, entity_local_index, perm)\n",
    "\n",
    "    coeffs_b = sigma_local\n",
    "\n",
    "    for i in range(len(coeffs_dummy_values_b)):\n",
    "        coeffs_dummy_values_b[i][:] = output_values[i] #C update\n",
    "\n",
    "    return coeffs_b\n",
    "\n",
    "@numba.njit(fastmath=True)\n",
    "def local_assembling_A(coeffs_dummy_values_b):\n",
    "    coeffs_A = coeffs_dummy_values_b[0]\n",
    "    return coeffs_A"
   ]
  },
  {
   "cell_type": "code",
   "execution_count": 54,
   "metadata": {},
   "outputs": [],
   "source": [
    "q_dsigma = ca.DummyFunction(VQT, name='stiffness')\n",
    "# n_gauss_nodes = 3\n",
    "# new_values = np.tile(C.flatten(), n_gauss_nodes)\n",
    "# q_dsigma.fill(new_values)"
   ]
  },
  {
   "cell_type": "code",
   "execution_count": 55,
   "metadata": {},
   "outputs": [],
   "source": [
    "C_const = fem.Constant(domain, C)\n",
    "q_sigma = ca.CustomFunction(VQV, eps(u), [q_dsigma], get_eval)\n",
    "\n",
    "R = ufl.inner(q_sigma, eps(u_)) * dxm\n",
    "dR = ufl.inner(ufl.dot(q_sigma.stiffness, eps(du)), eps(u_)) * dxm\n",
    "\n",
    "R0 = ufl.inner(q_sigma0, eps(u_)) * dxm\n",
    "dR0 = ufl.inner(ufl.dot(C_const, eps(du)), eps(u_)) * dxm"
   ]
  },
  {
   "cell_type": "code",
   "execution_count": 63,
   "metadata": {},
   "outputs": [
    {
     "name": "stdout",
     "output_type": "stream",
     "text": [
      "Solving t =  0.000 with u_bc.value =  0.000...\n",
      "rank = 0 u - u0\n",
      " 0.0 \n",
      "\n",
      "rank = 0 q_sigma - q_sigma0\n",
      " 0.0 \n",
      "\n",
      "Solving t =  0.250 with u_bc.value = 10.500...\n",
      "rank = 0 u - u0\n",
      " 0.0 \n",
      "\n",
      "rank = 0 q_sigma - q_sigma0\n",
      " 0.0 \n",
      "\n",
      "Solving t =  0.500 with u_bc.value = 21.000...\n",
      "rank = 0 u - u0\n",
      " 7.40825963829271e-15 \n",
      "\n",
      "rank = 0 q_sigma - q_sigma0\n",
      " 7.315697155188111e-11 \n",
      "\n",
      "Solving t =  0.750 with u_bc.value = 31.500...\n",
      "rank = 0 u - u0\n",
      " 4.495037960367263e-15 \n",
      "\n",
      "rank = 0 q_sigma - q_sigma0\n",
      " 3.4922538193749433e-10 \n",
      "\n",
      "Solving t =  1.000 with u_bc.value = 42.000...\n",
      "rank = 0 u - u0\n",
      " 7.236245847090646e-15 \n",
      "\n",
      "rank = 0 q_sigma - q_sigma0\n",
      " 4.868532184299251e-10 \n",
      "\n"
     ]
    }
   ],
   "source": [
    "A0 = fem.petsc.create_matrix(fem.form(dR0))\n",
    "A0.zeroEntries()\n",
    "b0 = fem.petsc.create_vector(fem.form(R0))\n",
    "with b0.localForm() as b_local:\n",
    "    b_local.set(0.0)\n",
    "u0 = fem.Function(V)\n",
    "\n",
    "q_sigma.vector.set(0)\n",
    "q_sigma0.vector.set(0)\n",
    "\n",
    "solver0 = PETSc.KSP().create(domain.comm)\n",
    "solver0.setType(\"preonly\")\n",
    "solver0.getPC().setType(\"lu\")\n",
    "\n",
    "# f = io.XDMFFile(domain.comm, \"displacements.xdmf\", \"w\", encoding=io.XDMFFile.Encoding.HDF5)\n",
    "# f.write_mesh(domain)\n",
    "\n",
    "u = fem.Function(V)\n",
    "u.name = \"Displacement\"\n",
    "# my_solver = ca.CustomSolver(dR, R, u, bcs)\n",
    "my_solver = ca.CustomSolver(dR, R, u, local_assembling_A, local_assembling_b, bcs)\n",
    "\n",
    "scale = -1.0\n",
    "\n",
    "u_bc_max = 42.0\n",
    "ts = np.linspace(0.0, 1.0, 5)\n",
    "for t in ts:\n",
    "    # update value of Dirichlet BC\n",
    "    u_bc.value = t * u_bc_max\n",
    "\n",
    "    print(f\"Solving {t = :6.3f} with {u_bc.value = :6.3f}...\")\n",
    "\n",
    "    eps_calculated = fenicsx_support.interpolate_quadrature(eps(u0), q_deg, domain)\n",
    "    strain_matrix = eps_calculated.reshape((-1, 3))\n",
    "    n_gauss = len(strain_matrix) #global in the domain\n",
    "\n",
    "    q_sigma0.x.array[:] = (strain_matrix @ C).flatten()\n",
    "    # q_sigma.x.array[:] = (strain_matrix @ C).flatten()\n",
    "    \n",
    "    q_sigma0.x.scatter_forward()\n",
    "    q_sigma.x.scatter_forward()\n",
    "\n",
    "    # q_dsigma.x.array[:] = np.tile(C.flatten(), n_gauss)\n",
    "\n",
    "    A0.zeroEntries()\n",
    "\n",
    "    with b0.localForm() as b_local:\n",
    "        b_local.set(0.0)\n",
    "\n",
    "    fem.petsc.assemble_matrix(A0, fem.form(dR0), bcs=bcs)\n",
    "    A0.assemble()\n",
    "\n",
    "    fem.petsc.assemble_vector(b0, fem.form(R0))\n",
    "\n",
    "    fem.apply_lifting(b0, [fem.form(dR0)], bcs=[bcs], x0=[u0.vector], scale=-1.0)\n",
    "    b0.ghostUpdate(addv=PETSc.InsertMode.ADD, mode=PETSc.ScatterMode.REVERSE)\n",
    "    fem.set_bc(b0, bcs, u0.vector, -1.0)\n",
    "\n",
    "    solver0.setOperators(A0)\n",
    "    du0 = fem.Function(V)  # Should be outside of loop, instructive here.\n",
    "    solver0.solve(b0, du0.vector)\n",
    "    \n",
    "    # Solve for the displacement increment du, apply it and udpate ghost values\n",
    "    du = fem.Function(V)  # Should be outside of loop, instructive here.\n",
    "    start = time.time()\n",
    "    my_solver.assemble(x0=u0.x.array, scale=-1.)\n",
    "    my_solver.solve(du)\n",
    "    # print(my_solver.b[:] - g0[:])\n",
    "\n",
    "    u0.x.array[:] -= du0.x.array[:]\n",
    "    u0.x.scatter_forward()\n",
    "    \n",
    "    u.x.array[:] -= du.x.array[:]\n",
    "    u.x.scatter_forward()\n",
    "\n",
    "    # print(f'rank = {MPI.COMM_WORLD.rank} u - u0\\n {u.x.array[:]} \\n {u0.x.array[:]} \\n')\n",
    "    print(f'rank = {MPI.COMM_WORLD.rank} u - u0\\n {np.linalg.norm(u.x.array[:] - u0.x.array[:])} \\n')\n",
    "    assert np.linalg.norm(u.x.array[:] - u0.x.array[:]) < 1.0e-10\n",
    "    print(f'rank = {MPI.COMM_WORLD.rank} q_sigma - q_sigma0\\n {np.linalg.norm(q_sigma.x.array[:] - q_sigma0.x.array[:])} \\n')\n",
    "\n",
    "    # print(f'{q_sigma.x.array}')\n",
    "    # print(f'{q_sigma0.x.array}')\n",
    "    # post processing\n",
    "    # f.write_function(u, t)\n",
    "\n",
    "# f.close()"
   ]
  },
  {
   "cell_type": "code",
   "execution_count": 57,
   "metadata": {},
   "outputs": [
    {
     "data": {
      "text/plain": [
       "(3,)"
      ]
     },
     "execution_count": 57,
     "metadata": {},
     "output_type": "execute_result"
    }
   ],
   "source": [
    "VQV._ufl_element.value_shape()"
   ]
  },
  {
   "cell_type": "code",
   "execution_count": 58,
   "metadata": {},
   "outputs": [
    {
     "data": {
      "text/plain": [
       "(3, 3)"
      ]
     },
     "execution_count": 58,
     "metadata": {},
     "output_type": "execute_result"
    }
   ],
   "source": [
    "VQT._ufl_element.reference_value_shape()"
   ]
  },
  {
   "cell_type": "code",
   "execution_count": 59,
   "metadata": {},
   "outputs": [
    {
     "data": {
      "text/plain": [
       "False"
      ]
     },
     "execution_count": 59,
     "metadata": {},
     "output_type": "execute_result"
    }
   ],
   "source": [
    "import numpy as np\n",
    "A = np.arange(5)\n",
    "B = np.arange(5)\n",
    "A is B"
   ]
  },
  {
   "cell_type": "code",
   "execution_count": 60,
   "metadata": {},
   "outputs": [
    {
     "data": {
      "text/plain": [
       "array([ 0,  5, 10, 15, 20])"
      ]
     },
     "execution_count": 60,
     "metadata": {},
     "output_type": "execute_result"
    }
   ],
   "source": [
    "A[:] = B\n",
    "A is B\n",
    "B *= 5\n",
    "B"
   ]
  },
  {
   "cell_type": "code",
   "execution_count": 61,
   "metadata": {},
   "outputs": [
    {
     "data": {
      "text/plain": [
       "array([0, 1, 2, 3, 4])"
      ]
     },
     "execution_count": 61,
     "metadata": {},
     "output_type": "execute_result"
    }
   ],
   "source": [
    "A"
   ]
  },
  {
   "cell_type": "code",
   "execution_count": 62,
   "metadata": {},
   "outputs": [
    {
     "data": {
      "text/plain": [
       "True"
      ]
     },
     "execution_count": 62,
     "metadata": {},
     "output_type": "execute_result"
    }
   ],
   "source": [
    "A = B\n",
    "A is B"
   ]
  },
  {
   "cell_type": "code",
   "execution_count": null,
   "metadata": {},
   "outputs": [],
   "source": []
  }
 ],
 "metadata": {
  "interpreter": {
   "hash": "31f2aee4e71d21fbe5cf8b01ff0e069b9275f58929596ceb00d14d90e3e16cd6"
  },
  "kernelspec": {
   "display_name": "Python 3.9.7 64-bit",
   "language": "python",
   "name": "python3"
  },
  "language_info": {
   "codemirror_mode": {
    "name": "ipython",
    "version": 3
   },
   "file_extension": ".py",
   "mimetype": "text/x-python",
   "name": "python",
   "nbconvert_exporter": "python",
   "pygments_lexer": "ipython3",
   "version": "3.9.7"
  },
  "orig_nbformat": 4
 },
 "nbformat": 4,
 "nbformat_minor": 2
}
