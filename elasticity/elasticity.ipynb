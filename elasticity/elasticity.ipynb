{
 "cells": [
  {
   "cell_type": "code",
   "execution_count": 1,
   "metadata": {},
   "outputs": [],
   "source": [
    "import numpy as np\n",
    "\n",
    "import ufl\n",
    "from dolfinx import fem, io, mesh, plot\n",
    "from ufl import ds, dx, grad, inner\n",
    "\n",
    "from mpi4py import MPI\n",
    "from petsc4py.PETSc import ScalarType\n",
    "import pyvista"
   ]
  },
  {
   "cell_type": "code",
   "execution_count": 38,
   "metadata": {},
   "outputs": [],
   "source": [
    "L = 1\n",
    "W = 0.2\n",
    "mu = 1\n",
    "rho = 1\n",
    "delta = W/L\n",
    "gamma = 0.4*delta**2\n",
    "beta = 1.25\n",
    "lambda_ = beta\n",
    "g = gamma"
   ]
  },
  {
   "cell_type": "code",
   "execution_count": 40,
   "metadata": {},
   "outputs": [],
   "source": [
    "# Create mesh and define function space\n",
    "# mesh = BoxMesh(Point(0, 0, 0), Point(L, W, W), 10, 3, 3)\n",
    "msh = mesh.create_rectangle(comm=MPI.COMM_WORLD,\n",
    "                            points=((0.0, 0.0), (L, W)), n=(32, 16),\n",
    "                            cell_type=mesh.CellType.triangle,)\n",
    "\n",
    "V = fem.VectorFunctionSpace(msh, (\"Lagrange\", 1))"
   ]
  },
  {
   "cell_type": "code",
   "execution_count": 41,
   "metadata": {},
   "outputs": [],
   "source": [
    "facets = mesh.locate_entities_boundary(msh, dim=1,\n",
    "                                       marker=lambda x: np.isclose(x[0], 0.0))\n",
    "\n",
    "dofs = fem.locate_dofs_topological(V=V, entity_dim=1, entities=facets)\n",
    "bc = fem.dirichletbc(value=fem.Constant(msh, (ScalarType(0), ScalarType(0))), dofs=dofs, V=V)"
   ]
  },
  {
   "cell_type": "code",
   "execution_count": 42,
   "metadata": {},
   "outputs": [],
   "source": [
    "u = ufl.TrialFunction(V)\n",
    "v = ufl.TestFunction(V)\n",
    "\n",
    "def epsilon(u):\n",
    "    # return 0.5*(ufl.nabla_grad(u) + ufl.nabla_grad(u).T)\n",
    "    return ufl.sym(ufl.nabla_grad(u))\n",
    "\n",
    "def sigma(u):\n",
    "    return lambda_*ufl.nabla_div(u)*ufl.Identity(u.geometric_dimension()) + 2*mu*epsilon(u)\n",
    "\n",
    "# Define variational problem\n",
    "f = fem.Constant(msh, (ScalarType(0), ScalarType(-rho*g)))\n",
    "T = fem.Constant(msh, (ScalarType(0), ScalarType(0)))\n",
    "a = inner(sigma(u), epsilon(v))*dx\n",
    "L = inner(f, v)*dx + inner(T, v)*ds\n",
    "\n",
    "problem = fem.petsc.LinearProblem(a, L, bcs=[bc], petsc_options={\"ksp_type\": \"preonly\", \"pc_type\": \"lu\"})\n",
    "uh = problem.solve()"
   ]
  },
  {
   "cell_type": "code",
   "execution_count": 43,
   "metadata": {},
   "outputs": [],
   "source": [
    "with io.XDMFFile(MPI.COMM_SELF, \"mesh_rank_{}.xdmf\".format(MPI.COMM_WORLD.rank), \"w\") as file:\n",
    "    file.write_mesh(msh)\n",
    "    file.write_function(uh)"
   ]
  },
  {
   "cell_type": "code",
   "execution_count": null,
   "metadata": {},
   "outputs": [],
   "source": [
    "cells, types, x = plot.create_vtk_mesh(msh, 2)\n",
    "grid = pyvista.UnstructuredGrid(cells, types, x)\n",
    "plotter = pyvista.Plotter()\n",
    "plotter.add_mesh(grid, show_edges=True)\n",
    "plotter.view_xy()\n",
    "# plotter.show()\n",
    "# if not pyvista.OFF_SCREEN:\n",
    "#     plotter.show()\n",
    "# else:\n",
    "plotter.screenshot(\"tmp.png\")\n",
    "# pyvista.start_xvfb()\n",
    "# figure = plotter.screenshot(\"fundamentals_mesh.png\")"
   ]
  }
 ],
 "metadata": {
  "interpreter": {
   "hash": "31f2aee4e71d21fbe5cf8b01ff0e069b9275f58929596ceb00d14d90e3e16cd6"
  },
  "kernelspec": {
   "display_name": "Python 3.8.10 64-bit",
   "language": "python",
   "name": "python3"
  },
  "language_info": {
   "codemirror_mode": {
    "name": "ipython",
    "version": 3
   },
   "file_extension": ".py",
   "mimetype": "text/x-python",
   "name": "python",
   "nbconvert_exporter": "python",
   "pygments_lexer": "ipython3",
   "version": "3.9.7"
  },
  "orig_nbformat": 4
 },
 "nbformat": 4,
 "nbformat_minor": 2
}
