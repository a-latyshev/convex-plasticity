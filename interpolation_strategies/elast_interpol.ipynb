{
 "cells": [
  {
   "cell_type": "code",
   "execution_count": 1,
   "metadata": {},
   "outputs": [],
   "source": [
    "import numpy as np\n",
    "\n",
    "import ufl\n",
    "import basix\n",
    "from dolfinx import mesh, fem, io\n",
    "from ufl import ds, dx\n",
    "\n",
    "from mpi4py import MPI\n",
    "from petsc4py import PETSc"
   ]
  },
  {
   "cell_type": "code",
   "execution_count": 2,
   "metadata": {},
   "outputs": [
    {
     "data": {
      "text/plain": [
       "'0.3.1.0'"
      ]
     },
     "execution_count": 2,
     "metadata": {},
     "output_type": "execute_result"
    }
   ],
   "source": [
    "import dolfinx\n",
    "dolfinx.__version__"
   ]
  },
  {
   "cell_type": "code",
   "execution_count": 3,
   "metadata": {},
   "outputs": [],
   "source": [
    "def project(original_field, target_field, dx=ufl.dx, bcs=[]):\n",
    "    # original_field -> target_field\n",
    "    # Ensure we have a mesh and attach to measure\n",
    "    V = target_field.function_space\n",
    "\n",
    "    # Define variational problem for projection\n",
    "    w = ufl.TestFunction(V)\n",
    "    Pv = ufl.TrialFunction(V)\n",
    "    a = fem.form(ufl.inner(Pv, w) * dx)\n",
    "    L = fem.form(ufl.inner(original_field, w) * dx)\n",
    "\n",
    "    # Assemble linear system\n",
    "    A = fem.petsc.assemble_matrix(a, bcs)\n",
    "    A.assemble()\n",
    "    b = fem.petsc.assemble_vector(L)\n",
    "    fem.petsc.apply_lifting(b, [a], [bcs])\n",
    "    b.ghostUpdate(addv=PETSc.InsertMode.ADD, mode=PETSc.ScatterMode.REVERSE)\n",
    "    fem.petsc.set_bc(b, bcs)\n",
    "\n",
    "    # Solve linear system\n",
    "    solver = PETSc.KSP().create(A.getComm())\n",
    "    solver.setOperators(A)\n",
    "    solver.solve(b, target_field.vector)  \n",
    "    target_field.x.scatter_forward()"
   ]
  },
  {
   "cell_type": "code",
   "execution_count": 4,
   "metadata": {},
   "outputs": [],
   "source": [
    "L = 1\n",
    "W = 0.1\n",
    "mu = 1\n",
    "rho = 1\n",
    "delta = W/L\n",
    "gamma = 0.4*delta**2\n",
    "beta = 1.25\n",
    "lambda_ = beta\n",
    "g = gamma"
   ]
  },
  {
   "cell_type": "code",
   "execution_count": 5,
   "metadata": {},
   "outputs": [],
   "source": [
    "# Create mesh and define function space\n",
    "domain = mesh.create_rectangle(comm=MPI.COMM_WORLD,\n",
    "                            points=((0.0, 0.0), (L, W)), n=(64, 16),\n",
    "                            cell_type=mesh.CellType.triangle,)\n",
    "\n",
    "dxm = ufl.Measure(\n",
    "    \"dx\",\n",
    "    domain=domain,\n",
    "    metadata={\"quadrature_degree\": 2, \"quadrature_scheme\": \"default\"},\n",
    ")\n",
    "\n",
    "deg_u = 1\n",
    "deg_stress = 0\n",
    "deg_q = 1\n",
    "\n",
    "DIM = domain.geometry.dim # == domain.topology.dim\n",
    "\n",
    "QV0e = ufl.VectorElement(\"Quadrature\", domain.ufl_cell(), degree=1, dim=3, quad_scheme='default')\n",
    "QV0dim2e = ufl.VectorElement(\"Quadrature\", domain.ufl_cell(), degree=1, dim=2, quad_scheme='default')\n",
    "DGV0e = ufl.VectorElement(\"DG\", domain.ufl_cell(), degree=0, dim=3)\n",
    "QV2e = ufl.VectorElement(\"Quadrature\", domain.ufl_cell(), degree=2, dim=3, quad_scheme='default')\n",
    "\n",
    "Q0 = fem.FunctionSpace(domain, ufl.FiniteElement(\"Quadrature\", domain.ufl_cell(), degree=0, quad_scheme='default'))\n",
    "Q1 = fem.FunctionSpace(domain, ufl.FiniteElement(\"Quadrature\", domain.ufl_cell(), degree=1, quad_scheme='default'))\n",
    "Q2 = fem.FunctionSpace(domain, ufl.FiniteElement(\"Quadrature\", domain.ufl_cell(), degree=2, quad_scheme='default'))\n",
    "QV0 = fem.FunctionSpace(domain, QV0e)\n",
    "QV0dim2 = fem.FunctionSpace(domain, QV0dim2e)\n",
    "QV2 = fem.FunctionSpace(domain, QV2e)\n",
    "\n",
    "DG0 = fem.FunctionSpace(domain, ('DG', 0))\n",
    "DG1 = fem.FunctionSpace(domain, ('DG', 1))\n",
    "DGV0 = fem.FunctionSpace(domain, DGV0e)\n",
    "\n",
    "CG1 = fem.FunctionSpace(domain, ('CG', 1))\n",
    "V = fem.VectorFunctionSpace(domain, (\"Lagrange\", deg_u))\n",
    "#Q0 == Q1 == DG0"
   ]
  },
  {
   "cell_type": "code",
   "execution_count": 29,
   "metadata": {},
   "outputs": [
    {
     "name": "stdout",
     "output_type": "stream",
     "text": [
      "Nodes global = 1105, Cells global = 2048\n",
      "Number of dofs global V: 1105\n",
      "Number of dofs global Q0: 2048\n",
      "Number of dofs global Q1: 2048\n",
      "Number of dofs global Q2: 6144\n",
      "Number of dofs global DG0: 2048\n",
      "Number of dofs global DG1: 6144\n",
      "Number of dofs global CG1: 1105\n"
     ]
    }
   ],
   "source": [
    "num_nodes_global = domain.topology.index_map(domain.topology.dim-2).size_global\n",
    "num_cells_global = domain.topology.index_map(domain.topology.dim).size_global\n",
    "\n",
    "# num_dofs_local = (V.dofmap.index_map.size_local) #* V.dofmap.index_map_bs\n",
    "num_dofs_global = V.dofmap.index_map.size_global #* V.dofmap.index_map_bs\n",
    "# num_dofs = domain.topology.index_map(domain.topology.dim).size_local \n",
    "# V.num_sub_spaces == V.dofmap.index_map_bs\n",
    "# print(f\"Number of dofs (owned) by rank : {num_dofs_local}\")\n",
    "if MPI.COMM_WORLD.rank == 0:\n",
    "    print(f\"Nodes global = {num_nodes_global}, Cells global = {num_cells_global}\")\n",
    "    print(f\"Number of dofs global V: {num_dofs_global}\")\n",
    "    print(f\"Number of dofs global Q0: {Q0.dofmap.index_map.size_global}\")\n",
    "    print(f\"Number of dofs global Q1: {Q1.dofmap.index_map.size_global}\")\n",
    "    print(f\"Number of dofs global Q2: {Q2.dofmap.index_map.size_global}\")\n",
    "    print(f\"Number of dofs global DG0: {DG0.dofmap.index_map.size_global}\")\n",
    "    print(f\"Number of dofs global DG1: {DG1.dofmap.index_map.size_global}\")\n",
    "    print(f\"Number of dofs global CG1: {CG1.dofmap.index_map.size_global}\")"
   ]
  },
  {
   "cell_type": "code",
   "execution_count": 30,
   "metadata": {},
   "outputs": [],
   "source": [
    "facets = mesh.locate_entities_boundary(domain, dim=1,\n",
    "                                       marker=lambda x: np.isclose(x[0], 0.0))\n",
    "\n",
    "dofs = fem.locate_dofs_topological(V=V, entity_dim=1, entities=facets)\n",
    "bc = fem.dirichletbc(value=fem.Constant(domain, (PETSc.ScalarType(0), PETSc.ScalarType(0))), dofs=dofs, V=V)"
   ]
  },
  {
   "cell_type": "code",
   "execution_count": 31,
   "metadata": {},
   "outputs": [],
   "source": [
    "u = ufl.TrialFunction(V)\n",
    "v = ufl.TestFunction(V)\n",
    "\n",
    "def epsilon(u):\n",
    "    return ufl.sym(ufl.grad(u))\n",
    "\n",
    "def sigma(u):\n",
    "    return lambda_*ufl.div(u)*ufl.Identity(u.geometric_dimension()) + 2*mu*epsilon(u)\n",
    "\n",
    "# Define variational problem\n",
    "f = fem.Constant(domain, (PETSc.ScalarType(0), PETSc.ScalarType(-rho*g)))\n",
    "T = fem.Constant(domain, (PETSc.ScalarType(0), PETSc.ScalarType(0)))\n",
    "a = ufl.inner(sigma(u), epsilon(v))*dx\n",
    "b = ufl.inner(f, v)*dx + ufl.inner(T, v)*ds\n",
    "\n",
    "problem = fem.petsc.LinearProblem(a, b, bcs=[bc], petsc_options={\"ksp_type\": \"preonly\", \"pc_type\": \"lu\"})\n",
    "uh = problem.solve()\n",
    "uh.x.scatter_forward()\n",
    "\n",
    "A = fem.petsc.create_matrix(fem.form(a))\n",
    "B = fem.petsc.create_vector(fem.form(b))\n",
    "uh2 = fem.Function(V)\n",
    "\n",
    "A.zeroEntries()\n",
    "fem.petsc.assemble_matrix(A, fem.form(a), bcs=[bc])\n",
    "A.assemble()\n",
    "\n",
    "with B.localForm() as B_local:\n",
    "    B_local.set(0.0)\n",
    "fem.petsc.assemble_vector(B, fem.form(b))\n",
    "\n",
    "fem.apply_lifting(B, [fem.form(a)], bcs=[[bc]])\n",
    "B.ghostUpdate(addv=PETSc.InsertMode.ADD, mode=PETSc.ScatterMode.REVERSE)\n",
    "fem.set_bc(B, [bc])\n",
    "\n",
    "solver = PETSc.KSP().create(A.getComm())\n",
    "solver.setOperators(A)\n",
    "solver.solve(B, uh2.vector)\n",
    "solver.setType(PETSc.KSP.Type.PREONLY)\n",
    "solver.getPC().setType(PETSc.PC.Type.LU)\n",
    "uh2.x.scatter_forward()"
   ]
  },
  {
   "cell_type": "code",
   "execution_count": 32,
   "metadata": {},
   "outputs": [],
   "source": [
    "# defining function to interpolate function defined over quadrature elements\n",
    "def interpolate_quadrature(ufl_expr, fem_func):\n",
    "    q_dim = fem_func.function_space._ufl_element.degree()\n",
    "    mesh = fem_func.ufl_function_space().mesh\n",
    "    \n",
    "    basix_celltype = getattr(basix.CellType, domain.topology.cell_type.name)\n",
    "    quadrature_points, weights = basix.make_quadrature(basix_celltype, q_dim)\n",
    "    map_c = mesh.topology.index_map(mesh.topology.dim)\n",
    "    num_cells = map_c.size_local + map_c.num_ghosts\n",
    "    cells = np.arange(0, num_cells, dtype=np.int32)\n",
    "\n",
    "    expr_expr = fem.Expression(ufl_expr, quadrature_points)\n",
    "    expr_eval = expr_expr.eval(cells)\n",
    "    fem_func.x.array[:] = expr_eval.flatten()[:]\n",
    "    fem_func.x.scatter_forward()\n",
    "\n",
    "    # with funct.vector.localForm() as funct_local:\n",
    "    #     funct_local.setBlockSize(funct.function_space.dofmap.bs)\n",
    "    #     funct_local.setValuesBlocked(\n",
    "    #         funct.function_space.dofmap.list.array,\n",
    "    #         expr_eval,\n",
    "    #         addv=PETSc.InsertMode.INSERT,\n",
    "    #     )"
   ]
  },
  {
   "cell_type": "code",
   "execution_count": 33,
   "metadata": {},
   "outputs": [],
   "source": [
    "sigmah = sigma(uh)\n",
    "sigma_xx_ = sigmah[0,0]\n",
    "sigma_xy_ = sigmah[0,1]\n",
    "sigma_yy_ = sigmah[1,1]\n",
    "\n",
    "sigma_vec = ufl.as_vector([sigmah[0, 0], sigmah[0, 1], sigmah[1, 1]])\n",
    "sigma_vec2 = ufl.as_vector([sigmah[0, 0], sigmah[0, 1]])"
   ]
  },
  {
   "cell_type": "code",
   "execution_count": 34,
   "metadata": {},
   "outputs": [],
   "source": [
    "sigma_xx_Q0 = fem.Function(Q0)\n",
    "sigma_xx_DG0 = fem.Function(DG0)\n",
    "sigma_xx_DG1 = fem.Function(DG1)\n",
    "\n",
    "sigma_xx_DG0_interp = fem.Function(DG0)\n",
    "sigma_xy_DG0_interp = fem.Function(DG0)\n",
    "sigma_yy_DG0_interp = fem.Function(DG0)\n",
    "sigma_DGV0_interp = fem.Function(DGV0)\n",
    "\n",
    "sigma_xx_DG1_interp = fem.Function(DG1)\n",
    "\n",
    "sigma_xx_Q0_interp = fem.Function(Q0)\n",
    "sigma_xy_Q0_interp = fem.Function(Q0)\n",
    "sigma_yy_Q0_interp = fem.Function(Q0)\n",
    "sigma_QV0 = fem.Function(QV0)\n",
    "sigma_QV0dim2 = fem.Function(QV0dim2)\n",
    "\n",
    "sigma_xx_Q2_interp = fem.Function(Q2)\n",
    "sigma_xy_Q2_interp = fem.Function(Q2)\n",
    "sigma_yy_Q2_interp = fem.Function(Q2)\n",
    "sigma_QV2 = fem.Function(QV2)\n",
    "\n",
    "sigma_xx_Q2_CG1 = fem.Function(CG1)\n",
    "sigma_xx_Q2_DG1 = fem.Function(DG1)"
   ]
  },
  {
   "cell_type": "code",
   "execution_count": 35,
   "metadata": {},
   "outputs": [],
   "source": [
    "project(sigma_xx_, sigma_xx_Q0)\n",
    "project(sigma_xx_, sigma_xx_DG0)\n",
    "project(sigma_xx_, sigma_xx_DG1)\n",
    "# project(sigma_vec, sigma_QV0) #failed"
   ]
  },
  {
   "cell_type": "code",
   "execution_count": 36,
   "metadata": {},
   "outputs": [],
   "source": [
    "expr = fem.Expression(sigma_xx_, DG0.element.interpolation_points)\n",
    "sigma_xx_DG0_interp.interpolate(expr)\n",
    "expr = fem.Expression(sigma_xy_, DG0.element.interpolation_points)\n",
    "sigma_xy_DG0_interp.interpolate(expr)\n",
    "expr = fem.Expression(sigma_yy_, DG0.element.interpolation_points)\n",
    "sigma_yy_DG0_interp.interpolate(expr)\n",
    "\n",
    "expr = fem.Expression(sigma_xx_, DG1.element.interpolation_points)\n",
    "sigma_xx_DG1_interp.interpolate(expr)\n",
    "sigma_xx_DG1_interp.x.scatter_forward()\n",
    "\n",
    "expr = fem.Expression(sigma_vec, DGV0.element.interpolation_points)\n",
    "sigma_DGV0_interp.interpolate(expr)\n",
    "\n",
    "interpolate_quadrature(sigma_xx_, sigma_xx_Q0_interp)\n",
    "interpolate_quadrature(sigma_vec, sigma_QV0)\n",
    "interpolate_quadrature(sigma_vec2, sigma_QV0dim2)\n",
    "interpolate_quadrature(sigma_vec, sigma_QV2)\n",
    "\n",
    "interpolate_quadrature(sigma_xx_, sigma_xx_Q2_interp)"
   ]
  },
  {
   "cell_type": "code",
   "execution_count": 37,
   "metadata": {},
   "outputs": [],
   "source": [
    "project(sigma_xx_Q2_interp, sigma_xx_Q2_CG1, dx=dxm)\n",
    "project(sigma_xx_Q2_interp, sigma_xx_Q2_DG1, dx=dxm)"
   ]
  },
  {
   "cell_type": "code",
   "execution_count": 38,
   "metadata": {},
   "outputs": [],
   "source": [
    "sigma_xx_Q0_interp, sigma_xy_Q0_interp, sigma_yy_Q0_interp = sigma_QV0.split()\n",
    "sigma_xx_DG0_interp, sigma_xy_DG0_interp, sigma_yy_DG0_interp = sigma_DGV0_interp.split()\n",
    "sigma_xx_Q2_interp, sigma_xy_Q2_interp, sigma_yy_Q2_interp = sigma_QV2.split()"
   ]
  },
  {
   "cell_type": "code",
   "execution_count": 39,
   "metadata": {},
   "outputs": [
    {
     "name": "stdout",
     "output_type": "stream",
     "text": [
      "(6144,) (6144,)\n",
      "(6144,) (6144,)\n"
     ]
    }
   ],
   "source": [
    "print(sigma_QV0.x.array.shape, sigma_xx_Q0_interp.x.array.shape)\n",
    "print(sigma_DGV0_interp.x.array.shape, sigma_xx_DG0_interp.x.array.shape)"
   ]
  },
  {
   "cell_type": "code",
   "execution_count": 40,
   "metadata": {},
   "outputs": [
    {
     "name": "stdout",
     "output_type": "stream",
     "text": [
      "(2210,) (2210,) (2210,) (2210,)\n"
     ]
    }
   ],
   "source": [
    "u = fem.Function(V)\n",
    "ux, uy = u.split()\n",
    "print(uy.x.array.shape, ux.x.array.shape, u.sub(0).x.array.shape, u.x.array.shape)"
   ]
  },
  {
   "cell_type": "code",
   "execution_count": 41,
   "metadata": {},
   "outputs": [
    {
     "data": {
      "text/plain": [
       "array([[0.33333333, 0.33333333]])"
      ]
     },
     "execution_count": 41,
     "metadata": {},
     "output_type": "execute_result"
    }
   ],
   "source": [
    "DG0.element.interpolation_points"
   ]
  },
  {
   "cell_type": "code",
   "execution_count": 42,
   "metadata": {},
   "outputs": [
    {
     "data": {
      "text/plain": [
       "array([[0., 0.],\n",
       "       [1., 0.],\n",
       "       [0., 1.]])"
      ]
     },
     "execution_count": 42,
     "metadata": {},
     "output_type": "execute_result"
    }
   ],
   "source": [
    "DG1.element.interpolation_points"
   ]
  },
  {
   "cell_type": "code",
   "execution_count": 43,
   "metadata": {},
   "outputs": [
    {
     "data": {
      "text/plain": [
       "array([[0.16666667, 0.16666667],\n",
       "       [0.16666667, 0.66666667],\n",
       "       [0.66666667, 0.16666667]])"
      ]
     },
     "execution_count": 43,
     "metadata": {},
     "output_type": "execute_result"
    }
   ],
   "source": [
    "quadrature_points, _ = basix.make_quadrature(basix.CellType.triangle, 2)\n",
    "quadrature_points"
   ]
  },
  {
   "cell_type": "code",
   "execution_count": 44,
   "metadata": {},
   "outputs": [
    {
     "name": "stdout",
     "output_type": "stream",
     "text": [
      "rank = 0:\n",
      "\tNodes local = 1105, Cells local = 2048, Cells ghost = 0\n",
      "\tDoFs local = 1105, Number of uh_x = 1105.0, Number of sigma_xx_DG0 = 2048\n"
     ]
    }
   ],
   "source": [
    "num_ghosts = domain.topology.index_map(domain.topology.dim).num_ghosts\n",
    "num_cells_local = domain.topology.index_map(domain.topology.dim).size_local #== domain.geometry.dofmap.num_nodes\n",
    "num_nodes_local = domain.topology.index_map(domain.topology.dim-2).size_local #== domain.geometry.x.shape[0]\n",
    "\n",
    "print(f\"rank = {MPI.COMM_WORLD.rank}:\")\n",
    "print(f\"\\tNodes local = {num_nodes_local}, Cells local = {num_cells_local}, Cells ghost = {num_ghosts}\")\n",
    "print(f\"\\tDoFs local = {V.dofmap.index_map.size_local}, Number of uh_x = {uh.x.array.shape[0]/V.num_sub_spaces}, Number of sigma_xx_DG0 = {sigma_xx_DG0.x.array.shape[0]}\")"
   ]
  },
  {
   "cell_type": "code",
   "execution_count": 45,
   "metadata": {},
   "outputs": [],
   "source": [
    "uh.name = \"Displacement\"\n",
    "sigma_xx_Q0.name = 'sigma xx Q0'\n",
    "sigma_xx_DG0.name = 'sigma xx DG0'\n",
    "sigma_xx_DG1.name = 'sigma xx DG1'\n",
    "sigma_xx_DG0_interp.name = 'sigma xx DG0 interp'\n",
    "sigma_xy_DG0_interp.name = 'sigma xy DG0 interp'\n",
    "sigma_yy_DG0_interp.name = 'sigma yy DG0 interp'\n",
    "\n",
    "sigma_xx_DG1_interp.name = 'sigma xx DG1 interp'\n",
    "\n",
    "sigma_xx_Q0_interp.name = 'sigma xx Q0 interp'\n",
    "sigma_xy_Q0_interp.name = 'sigma xy Q0 interp'\n",
    "sigma_yy_Q0_interp.name = 'sigma yy Q0 interp'\n",
    "\n",
    "sigma_xx_Q2_interp.name = 'sigma xx Q2 interp'\n",
    "sigma_xy_Q2_interp.name = 'sigma xy Q2 interp'\n",
    "sigma_yy_Q2_interp.name = 'sigma yy Q2 interp'\n",
    "\n",
    "sigma_xx_Q2_CG1.name = 'sigma xx Q2->CG1'\n",
    "sigma_xx_Q2_DG1.name = 'sigma xx Q2->DG1'\n",
    "\n",
    "sigma_DGV0_interp.name = 'sigma DGV0 interp'\n",
    "sigma_QV0dim2.name = 'sigma QV0dim2'\n",
    "sigma_QV0.name = \"Stress\"\n",
    "\n",
    "with io.XDMFFile(MPI.COMM_WORLD, \"solution_0.xdmf\", \"w\", encoding=io.XDMFFile.Encoding.HDF5) as file:\n",
    "    file.write_mesh(domain)\n",
    "\n",
    "with io.XDMFFile(MPI.COMM_WORLD, \"solution_0.xdmf\", \"a\", encoding=io.XDMFFile.Encoding.HDF5) as file:\n",
    "    file.write_function(uh)\n",
    "    file.write_function(uh2)\n",
    "    file.write_function(sigma_xx_Q0)\n",
    "    file.write_function(sigma_xx_DG0)\n",
    "    file.write_function(sigma_xx_DG1)\n",
    "    file.write_function(sigma_xx_DG0_interp)\n",
    "    file.write_function(sigma_xy_DG0_interp)\n",
    "    file.write_function(sigma_yy_DG0_interp)\n",
    "    file.write_function(sigma_xx_DG1_interp)\n",
    "    file.write_function(sigma_xx_Q0_interp)\n",
    "    file.write_function(sigma_xy_Q0_interp)\n",
    "    file.write_function(sigma_yy_Q0_interp)\n",
    "    file.write_function(sigma_xx_Q2_CG1)\n",
    "    file.write_function(sigma_xx_Q2_DG1)\n",
    "    #TODO: Check points\n",
    "    # file.write_function(sigma_xx_Q2_interp) #failed!\n",
    "    file.write_function(sigma_DGV0_interp)\n",
    "    file.write_function(sigma_QV0dim2)\n",
    "    # file.write_function(sigma_QV0, 0) #failed!"
   ]
  },
  {
   "cell_type": "code",
   "execution_count": 22,
   "metadata": {},
   "outputs": [
    {
     "data": {
      "text/plain": [
       "(2048,)"
      ]
     },
     "execution_count": 22,
     "metadata": {},
     "output_type": "execute_result"
    }
   ],
   "source": [
    "sigma_xx_DG0.x.array.shape"
   ]
  },
  {
   "cell_type": "code",
   "execution_count": 23,
   "metadata": {},
   "outputs": [
    {
     "data": {
      "text/plain": [
       "(6144,)"
      ]
     },
     "execution_count": 23,
     "metadata": {},
     "output_type": "execute_result"
    }
   ],
   "source": [
    "sigma_xx_DG1.x.array.shape"
   ]
  },
  {
   "cell_type": "code",
   "execution_count": 24,
   "metadata": {},
   "outputs": [
    {
     "data": {
      "text/plain": [
       "(6144,)"
      ]
     },
     "execution_count": 24,
     "metadata": {},
     "output_type": "execute_result"
    }
   ],
   "source": [
    "sigma_DGV0_interp.x.array.shape"
   ]
  },
  {
   "cell_type": "code",
   "execution_count": 25,
   "metadata": {},
   "outputs": [
    {
     "data": {
      "text/plain": [
       "(6144,)"
      ]
     },
     "execution_count": 25,
     "metadata": {},
     "output_type": "execute_result"
    }
   ],
   "source": [
    "sigma_xx_DG0_interp.x.array.shape"
   ]
  },
  {
   "cell_type": "code",
   "execution_count": 26,
   "metadata": {},
   "outputs": [],
   "source": [
    "# import pyvista\n",
    "# from dolfinx.plot import create_vtk_mesh\n",
    "\n",
    "# pyvista.set_jupyter_backend(\"pythreejs\")\n",
    "# # plotter = pyvista.Plotter()\n",
    "# grid = pyvista.UnstructuredGrid(*create_vtk_mesh(domain, domain.topology.dim))\n",
    "\n",
    "# # u_grid = pyvista.UnstructuredGrid(u_topology, u_cell_types, u_geometry)\n",
    "# # grid.cell_data[\"sig_xx\"] = sigma_xx_DG0.x.array.real\n",
    "# grid.field_data[\"sig_xx\"] = sigma_xx_DG0.x.array.real\n",
    "# grid.set_active_scalars(\"sig_xx\")\n",
    "# u_plotter = pyvista.Plotter()\n",
    "# u_plotter.add_mesh(grid, show_edges=False)\n",
    "# u_plotter.view_xy()\n",
    "# if not pyvista.OFF_SCREEN:\n",
    "#     u_plotter.show()\n",
    "\n",
    "# num_local_cells = domain.topology.index_map(domain.topology.dim).size_local\n",
    "# grid.cell_data[\"Marker\"] = ct.values[ct.indices<num_local_cells]\n",
    "# grid.set_active_scalars(\"Marker\")\n",
    "# actor = plotter.add_mesh(grid, show_edges=True)\n",
    "# plotter.view_xy()\n",
    "# if not pyvista.OFF_SCREEN:\n",
    "#     plotter.show()\n",
    "# else:\n",
    "#     pyvista.start_xvfb()\n",
    "#     cell_tag_fig = plotter.screenshot(\"cell_tags.png\")"
   ]
  },
  {
   "cell_type": "code",
   "execution_count": null,
   "metadata": {},
   "outputs": [],
   "source": []
  }
 ],
 "metadata": {
  "interpreter": {
   "hash": "31f2aee4e71d21fbe5cf8b01ff0e069b9275f58929596ceb00d14d90e3e16cd6"
  },
  "kernelspec": {
   "display_name": "Python 3.8.10 64-bit",
   "language": "python",
   "name": "python3"
  },
  "language_info": {
   "codemirror_mode": {
    "name": "ipython",
    "version": 3
   },
   "file_extension": ".py",
   "mimetype": "text/x-python",
   "name": "python",
   "nbconvert_exporter": "python",
   "pygments_lexer": "ipython3",
   "version": "3.9.7"
  },
  "orig_nbformat": 4
 },
 "nbformat": 4,
 "nbformat_minor": 2
}
