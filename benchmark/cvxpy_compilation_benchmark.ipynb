{
 "cells": [
  {
   "attachments": {},
   "cell_type": "markdown",
   "metadata": {},
   "source": [
    "# Benchmark for compilation high-dimensional convex problems via cvxpy"
   ]
  },
  {
   "cell_type": "code",
   "execution_count": 1,
   "metadata": {},
   "outputs": [
    {
     "name": "stdout",
     "output_type": "stream",
     "text": [
      "cvxpy version: 1.3.0\n"
     ]
    }
   ],
   "source": [
    "import numpy as np\n",
    "import cvxpy as cp\n",
    "from scipy.sparse import block_diag\n",
    "import matplotlib.pyplot as plt\n",
    "\n",
    "print(f'cvxpy version: {cp.__version__}')"
   ]
  },
  {
   "cell_type": "code",
   "execution_count": 2,
   "metadata": {},
   "outputs": [],
   "source": [
    "E_dim = 70e3 # [Pa]\n",
    "E = 70e3 / E_dim # [-] Young's modulus\n",
    "nu = 0.3 # [-] Poisson's ratio \n",
    "sig0 = 250 / E_dim # [-] yield strength\n",
    "Et = E/100. # [-] tangent modulus\n",
    "H = E*Et/(E-Et) # [-] hardening modulus\n",
    "\n",
    "l, m = lambda_, mu_ = E*nu/(1+nu)/(1-2*nu), E/2/(1+nu)   \n",
    "\n",
    "# Elasticity stiffness matrix\n",
    "C = np.array([[l+2*m, l, l, 0],\n",
    "              [l, l+2*m, l, 0],\n",
    "              [l, l, l+2*m, 0],\n",
    "              [0, 0, 0, 2*m]])\n",
    "S = np.linalg.inv(C)\n",
    "\n",
    "def criterion(sig:cp.expressions.variable.Variable, p:cp.expressions.variable.Variable):\n",
    "    \"\"\"Creates a constraint for convex optimization problem in the form of von Mises criterion.\n",
    "    \n",
    "    Args:\n",
    "        sig: A cvxpy variable of 4-dimensional Voigt vector of stresses\n",
    "        p: A cvxpy variable of cumulated equivalent plastic strain\n",
    "    \n",
    "    Returns:    \n",
    "        A list with a semi-definitive conic constraint in the form of von Mises yield criterion\n",
    "    \"\"\"\n",
    "    N = p.size\n",
    "    dev = np.array([[2/3., -1/3., -1/3., 0],\n",
    "                    [-1/3., 2/3., -1/3., 0],\n",
    "                    [-1/3., -1/3., 2/3., 0],\n",
    "                    [0, 0, 0, 1.]])\n",
    "\n",
    "    sig0_vec = np.repeat(sig0, N)\n",
    "    s = dev @ sig\n",
    "\n",
    "    return [np.sqrt(3/2)*cp.norm(s, axis=0) <= sig0_vec + p * H]"
   ]
  },
  {
   "cell_type": "code",
   "execution_count": 3,
   "metadata": {},
   "outputs": [
    {
     "name": "stdout",
     "output_type": "stream",
     "text": [
      "(17736,) 4434.0\n"
     ]
    },
    {
     "data": {
      "text/plain": [
       "(4434, 4)"
      ]
     },
     "execution_count": 3,
     "metadata": {},
     "output_type": "execute_result"
    }
   ],
   "source": [
    "deps_npy = np.load('delta_epsilon.npy')\n",
    "print(f'{deps_npy.shape} {deps_npy.size/4}')\n",
    "deps_original = deps_npy.reshape((-1, 4))\n",
    "deps_original.shape"
   ]
  },
  {
   "cell_type": "code",
   "execution_count": 4,
   "metadata": {},
   "outputs": [
    {
     "data": {
      "text/plain": [
       "(4000, 4)"
      ]
     },
     "execution_count": 4,
     "metadata": {},
     "output_type": "execute_result"
    }
   ],
   "source": [
    "particular_deps = np.array([ 7.24276667e-04, -3.41842340e-04,  0.00000000e+00, -2.65071262e-05])\n",
    "deps_dummy = np.full((4000,4), particular_deps)\n",
    "deps_dummy.shape"
   ]
  },
  {
   "cell_type": "code",
   "execution_count": 5,
   "metadata": {},
   "outputs": [],
   "source": [
    "def run_test(conic_solver:str, deps_local_values:np.ndarray, verbose:bool = False):\n",
    "    N = deps_local_values.shape[0]\n",
    "\n",
    "    deps = cp.Parameter((4, N), name='deps')\n",
    "    sig_old = cp.Parameter((4, N), name='sig_old')\n",
    "    sig_elas = sig_old + C @ deps\n",
    "    sig = cp.Variable((4, N), name='sig')\n",
    "    p_old = cp.Parameter((N,), nonneg=True, name='p_old')\n",
    "    p = cp.Variable((N,),nonneg=True, name='p')\n",
    "\n",
    "    sig_old.value = np.zeros((4, N))\n",
    "    deps.value = np.zeros((4, N))\n",
    "    p_old.value = np.zeros((N,))\n",
    "    deps.value = deps_local_values.T\n",
    "\n",
    "    delta_sig = sig - sig_elas\n",
    "    D = H * np.eye(N)\n",
    "    S_sparsed = block_diag([S for _ in range(N)])\n",
    "    delta_sig_vector = cp.reshape(delta_sig, (N*4))\n",
    "\n",
    "    elastic_energy = cp.quad_form(delta_sig_vector, S_sparsed, assume_PSD=True)\n",
    "    target_expression = 0.5*elastic_energy + 0.5*cp.quad_form(p - p_old, D)\n",
    "    constrains = criterion(sig, p) \n",
    "\n",
    "    opt_problem = cp.Problem(cp.Minimize(target_expression), constrains)\n",
    "\n",
    "    conic_solver_params = {}\n",
    "    # tol_conic_solver = 1e-12\n",
    "    # if conic_solver == 'SCS':\n",
    "    #     conic_solver_params = {\n",
    "    #         'eps': tol_conic_solver,\n",
    "    #         'eps_abs': tol_conic_solver, \n",
    "    #         'eps_rel': tol_conic_solver,\n",
    "    #         'eps_infeas': tol_conic_solver,\n",
    "    #     }\n",
    "    # elif conic_solver == 'ECOS':\n",
    "    #     conic_solver_params = {'abstol': tol_conic_solver, 'reltol': tol_conic_solver}\n",
    "\n",
    "    opt_problem.solve(solver=conic_solver, requires_grad=False, ignore_dpp=False, verbose=verbose, **conic_solver_params)\n",
    "\n",
    "    return opt_problem"
   ]
  },
  {
   "cell_type": "code",
   "execution_count": 6,
   "metadata": {},
   "outputs": [
    {
     "name": "stdout",
     "output_type": "stream",
     "text": [
      "===============================================================================\n",
      "                                     CVXPY                                     \n",
      "                                     v1.3.0                                    \n",
      "===============================================================================\n",
      "(CVXPY) May 20 03:12:49 PM: Your problem has 50 variables, 1 constraints, and 90 parameters.\n",
      "(CVXPY) May 20 03:12:49 PM: It is compliant with the following grammars: DCP, DQCP\n",
      "(CVXPY) May 20 03:12:49 PM: CVXPY will first compile your problem; then, it will invoke a numerical solver to obtain a solution.\n",
      "-------------------------------------------------------------------------------\n",
      "                                  Compilation                                  \n",
      "-------------------------------------------------------------------------------\n",
      "(CVXPY) May 20 03:12:49 PM: Compiling problem (target solver=SCS).\n",
      "(CVXPY) May 20 03:12:49 PM: Reduction chain: Dcp2Cone -> CvxAttr2Constr -> ConeMatrixStuffing -> SCS\n",
      "(CVXPY) May 20 03:12:49 PM: Applying reduction Dcp2Cone\n",
      "(CVXPY) May 20 03:12:49 PM: Applying reduction CvxAttr2Constr\n",
      "(CVXPY) May 20 03:12:49 PM: Applying reduction ConeMatrixStuffing\n",
      "(CVXPY) May 20 03:12:49 PM: Applying reduction SCS\n",
      "(CVXPY) May 20 03:12:49 PM: Finished problem compilation (took 3.737e-02 seconds).\n",
      "(CVXPY) May 20 03:12:49 PM: (Subsequent compilations of this problem, using the same arguments, should take less time.)\n",
      "-------------------------------------------------------------------------------\n",
      "                                Numerical solver                               \n",
      "-------------------------------------------------------------------------------\n",
      "(CVXPY) May 20 03:12:49 PM: Invoking solver SCS  to obtain a solution.\n",
      "------------------------------------------------------------------\n",
      "\t       SCS v3.2.0 - Splitting Conic Solver\n",
      "\t(c) Brendan O'Donoghue, Stanford University, 2012\n",
      "------------------------------------------------------------------\n",
      "problem:  variables n: 110, constraints m: 120\n",
      "cones: \t  z: primal zero / dual free vars: 50\n",
      "\t  l: linear vars: 20\n",
      "\t  q: soc vars: 50, qsize: 10\n",
      "settings: eps_abs: 1.0e-05, eps_rel: 1.0e-05, eps_infeas: 1.0e-07\n",
      "\t  alpha: 1.50, scale: 1.00e-01, adaptive_scale: 1\n",
      "\t  max_iters: 100000, normalize: 1, rho_x: 1.00e-06\n",
      "\t  acceleration_lookback: 10, acceleration_interval: 10\n",
      "lin-sys:  sparse-direct\n",
      "\t  nnz(A): 240, nnz(P): 80\n",
      "------------------------------------------------------------------\n",
      " iter | pri res | dua res |   gap   |   obj   |  scale  | time (s)\n",
      "------------------------------------------------------------------\n",
      "     0| 3.57e-03  9.68e-05  6.20e-07  3.70e-07  1.00e-01  3.99e-04 \n",
      "    25| 1.04e-10  6.04e-09  7.09e-14 -1.74e-14  1.00e-01  5.87e-04 \n",
      "------------------------------------------------------------------\n",
      "status:  solved\n",
      "timings: total: 2.82e-03s = setup: 2.23e-03s + solve: 5.95e-04s\n",
      "\t lin-sys: 1.05e-04s, cones: 1.47e-05s, accel: 2.83e-06s\n",
      "------------------------------------------------------------------\n",
      "objective = -0.000000\n",
      "------------------------------------------------------------------\n",
      "-------------------------------------------------------------------------------\n",
      "                                    Summary                                    \n",
      "-------------------------------------------------------------------------------\n",
      "(CVXPY) May 20 03:12:49 PM: Problem status: optimal\n",
      "(CVXPY) May 20 03:12:49 PM: Optimal value: 1.806e-14\n",
      "(CVXPY) May 20 03:12:49 PM: Compilation took 3.737e-02 seconds\n",
      "(CVXPY) May 20 03:12:49 PM: Solver (including time spent in interface) took 5.371e-03 seconds\n"
     ]
    },
    {
     "data": {
      "text/plain": [
       "Problem(Minimize(Expression(CONVEX, NONNEGATIVE, (1, 1))), [Inequality(Expression(CONVEX, NONNEGATIVE, (10,)))])"
      ]
     },
     "execution_count": 6,
     "metadata": {},
     "output_type": "execute_result"
    }
   ],
   "source": [
    "run_test('SCS', deps_dummy[:10], verbose=True)"
   ]
  },
  {
   "cell_type": "code",
   "execution_count": 7,
   "metadata": {},
   "outputs": [],
   "source": [
    "def run_benchmark():\n",
    "    N_list = np.array([1, 10, 100, 250, 500, 1000])\n",
    "    T_compil = {'SCS': [], 'ECOS': []}\n",
    "    T_sol = {'SCS': [], 'ECOS': []}\n",
    "\n",
    "    for solver in T_compil:\n",
    "        print(f'Solver: {solver}')\n",
    "        for N in N_list:\n",
    "            solved_prob = run_test(solver, deps_dummy[:N])\n",
    "            T_compil[solver].append(solved_prob._compilation_time)\n",
    "            T_sol[solver].append(solved_prob._solve_time)\n",
    "            print(f'\\tproblem dim: {N}\\n\\tsolution time: {solved_prob._solve_time}\\n\\tcompilation time: {solved_prob._compilation_time}\\n')\n",
    "    \n",
    "    return N_list, T_compil, T_sol"
   ]
  },
  {
   "cell_type": "code",
   "execution_count": 8,
   "metadata": {},
   "outputs": [
    {
     "name": "stdout",
     "output_type": "stream",
     "text": [
      "Solver: SCS\n",
      "\tproblem dim: 1\n",
      "\tsolution time: 0.0010640621185302734\n",
      "\tcompilation time: 0.022954463958740234\n",
      "\n",
      "\tproblem dim: 10\n",
      "\tsolution time: 0.0009577274322509766\n",
      "\tcompilation time: 0.025911808013916016\n",
      "\n",
      "\tproblem dim: 100\n",
      "\tsolution time: 0.004464864730834961\n",
      "\tcompilation time: 0.1484668254852295\n",
      "\n",
      "\tproblem dim: 250\n",
      "\tsolution time: 0.01106572151184082\n",
      "\tcompilation time: 0.8444564342498779\n",
      "\n",
      "\tproblem dim: 500\n",
      "\tsolution time: 0.022040605545043945\n",
      "\tcompilation time: 4.8801538944244385\n",
      "\n",
      "\tproblem dim: 1000\n",
      "\tsolution time: 0.06150674819946289\n",
      "\tcompilation time: 38.04274249076843\n",
      "\n",
      "Solver: ECOS\n",
      "\tproblem dim: 1\n",
      "\tsolution time: 0.003236532211303711\n",
      "\tcompilation time: 0.09718918800354004\n",
      "\n",
      "\tproblem dim: 10\n",
      "\tsolution time: 0.001667022705078125\n",
      "\tcompilation time: 0.049100399017333984\n",
      "\n",
      "\tproblem dim: 100\n",
      "\tsolution time: 0.02612161636352539\n",
      "\tcompilation time: 0.1586911678314209\n",
      "\n",
      "\tproblem dim: 250\n",
      "\tsolution time: 0.041773080825805664\n",
      "\tcompilation time: 0.4666297435760498\n",
      "\n",
      "\tproblem dim: 500\n",
      "\tsolution time: 0.0928192138671875\n",
      "\tcompilation time: 2.530547857284546\n",
      "\n",
      "\tproblem dim: 1000\n",
      "\tsolution time: 0.23137402534484863\n",
      "\tcompilation time: 15.170912265777588\n",
      "\n"
     ]
    }
   ],
   "source": [
    "benchmark_results = run_benchmark()"
   ]
  },
  {
   "cell_type": "code",
   "execution_count": 9,
   "metadata": {},
   "outputs": [],
   "source": [
    "def show_results(N_list, T_comp, T_sol):\n",
    "    for solver in T_comp:\n",
    "        plt.plot(5*N_list, T_comp[solver], \"-o\", label='comp ' + solver)\n",
    "        plt.plot(5*N_list, T_sol[solver], \"-o\", label='sol ' + solver)\n",
    "    plt.xlabel(\"Number of variables\")\n",
    "    plt.ylabel(\"Time (s)\")\n",
    "    plt.legend()\n",
    "    plt.title(\"Time of compilation and solving of the vectorised conic problem for different solvers\")\n",
    "    plt.show()"
   ]
  },
  {
   "cell_type": "code",
   "execution_count": 10,
   "metadata": {},
   "outputs": [
    {
     "data": {
      "image/png": "[encoded data removed]",
      "text/plain": [
       "<Figure size 432x288 with 1 Axes>"
      ]
     },
     "metadata": {
      "needs_background": "light"
     },
     "output_type": "display_data"
    }
   ],
   "source": [
    "show_results(*benchmark_results)"
   ]
  },
  {
   "cell_type": "code",
   "execution_count": null,
   "metadata": {},
   "outputs": [],
   "source": []
  }
 ],
 "metadata": {
  "kernelspec": {
   "display_name": "Python 3",
   "language": "python",
   "name": "python3"
  },
  "language_info": {
   "codemirror_mode": {
    "name": "ipython",
    "version": 3
   },
   "file_extension": ".py",
   "mimetype": "text/x-python",
   "name": "python",
   "nbconvert_exporter": "python",
   "pygments_lexer": "ipython3",
   "version": "3.9.7"
  },
  "orig_nbformat": 4
 },
 "nbformat": 4,
 "nbformat_minor": 2
}
