{
 "cells": [
  {
   "cell_type": "code",
   "execution_count": 1,
   "metadata": {},
   "outputs": [],
   "source": [
    "import cffi\n",
    "import numba\n",
    "import numba.core.typing.cffi_utils as cffi_support\n",
    "import numpy as np\n",
    "\n",
    "import ufl\n",
    "from dolfinx.cpp.fem import Form_float64\n",
    "from dolfinx.jit import ffcx_jit\n",
    "from dolfinx import fem, mesh, io\n",
    "\n",
    "from mpi4py import MPI\n",
    "from petsc4py import PETSc"
   ]
  },
  {
   "cell_type": "code",
   "execution_count": 2,
   "metadata": {},
   "outputs": [],
   "source": [
    "# Create mesh and function space\n",
    "domain = mesh.create_unit_square(MPI.COMM_WORLD, 1, 1)\n",
    "V = fem.FunctionSpace(domain, (\"Lagrange\", 1))\n",
    "\n",
    "# Unpack mesh and dofmap data\n",
    "num_owned_cells = domain.topology.index_map(domain.topology.dim).size_local\n",
    "num_cells = num_owned_cells + domain.topology.index_map(domain.topology.dim).num_ghosts\n",
    "x_dofs = domain.geometry.dofmap.array.reshape(num_cells, 3)\n",
    "x = domain.geometry.x\n",
    "dofmap = V.dofmap.list.array.reshape(num_cells, 3)\n",
    "\n",
    "ffcxtype = \"double\"\n",
    "nptype = \"float64\"\n",
    "\n",
    "ffi = cffi.FFI()\n",
    "cffi_support.register_type(ffi.typeof(\"double\"), numba.types.float64)\n",
    "c_signature = numba.types.void(\n",
    "    numba.types.CPointer(numba.typeof(PETSc.ScalarType())),\n",
    "    numba.types.CPointer(numba.typeof(PETSc.ScalarType())),\n",
    "    numba.types.CPointer(numba.typeof(PETSc.ScalarType())),\n",
    "    numba.types.CPointer(numba.types.double),\n",
    "    numba.types.CPointer(numba.types.int32),\n",
    "    numba.types.CPointer(numba.types.uint8))\n",
    "\n",
    "@numba.njit(fastmath=True)\n",
    "def assemble_vector_ufc(b, kernel, mesh, dofmap, num_cells):\n",
    "    \"\"\"Assemble provided FFCx/UFC kernel over a mesh into the array b\"\"\"\n",
    "    v, x = mesh\n",
    "    entity_local_index = np.array([0], dtype=np.intc)\n",
    "    perm = np.array([0], dtype=np.uint8)\n",
    "    geometry = np.zeros((3, 3))\n",
    "    coeffs = np.zeros(1, dtype=PETSc.ScalarType)\n",
    "    constants = np.zeros(1, dtype=PETSc.ScalarType)\n",
    "\n",
    "    b_local = np.zeros(3, dtype=PETSc.ScalarType)\n",
    "    for cell in range(num_cells):\n",
    "        # FIXME: This assumes a particular geometry dof layout\n",
    "        for j in range(3):\n",
    "            geometry[j] = x[v[cell, j], :]\n",
    "        b_local.fill(0.0)\n",
    "        kernel(ffi.from_buffer(b_local), ffi.from_buffer(coeffs),\n",
    "               ffi.from_buffer(constants),\n",
    "               ffi.from_buffer(geometry), ffi.from_buffer(entity_local_index),\n",
    "               ffi.from_buffer(perm))\n",
    "        for j in range(3):\n",
    "            b[dofmap[cell, j]] += b_local[j]"
   ]
  },
  {
   "cell_type": "code",
   "execution_count": 3,
   "metadata": {},
   "outputs": [],
   "source": [
    "f = 1\n",
    "const = fem.Constant(domain, PETSc.ScalarType(f))\n",
    "coeff = fem.Function(fem.FunctionSpace(domain, ('DG', 0)))\n",
    "coeff.vector.set(f)"
   ]
  },
  {
   "cell_type": "code",
   "execution_count": 4,
   "metadata": {},
   "outputs": [
    {
     "name": "stdout",
     "output_type": "stream",
     "text": [
      "Correct linear form:  [0.33333333 0.16666667 0.33333333 0.16666667]\n",
      "lin form after assemble_vector_ufc with direct constant in the form: [0.33333333 0.16666667 0.33333333 0.16666667]\n",
      "lin form after assemble_vector_ufc with fem.Constant in the form: [0. 0. 0. 0.]\n",
      "lin form after assemble_vector_ufc with fem.Constant in the form: [0. 0. 0. 0.]\n"
     ]
    }
   ],
   "source": [
    "# Test against generated code and general assembler\n",
    "v = ufl.TestFunction(V)\n",
    "L = ufl.inner(f, v) * ufl.dx\n",
    "b1 = fem.petsc.assemble_vector(fem.form(L))\n",
    "print(\"Correct linear form: \", b1[:])\n",
    "\n",
    "b3 = fem.Function(V)\n",
    "b = b3.x.array\n",
    "b[:] = 0.0\n",
    "ufcx_form, _, _ = ffcx_jit(domain.comm, L, form_compiler_params={\"scalar_type\": ffcxtype})\n",
    "kernel = getattr(ufcx_form.integrals(0)[0], f\"tabulate_tensor_{nptype}\")\n",
    "assemble_vector_ufc(b, kernel, (x_dofs, x), dofmap, num_owned_cells)\n",
    "print('lin form after assemble_vector_ufc with direct constant in the form:', b3.x.array[:])\n",
    "\n",
    "L = ufl.inner(const, v) * ufl.dx\n",
    "b4 = fem.Function(V)\n",
    "b = b4.x.array\n",
    "b[:] = 0.0\n",
    "ufcx_form, _, _ = ffcx_jit(domain.comm, L, form_compiler_params={\"scalar_type\": ffcxtype})\n",
    "kernel_const = getattr(ufcx_form.integrals(0)[0], f\"tabulate_tensor_{nptype}\")\n",
    "assemble_vector_ufc(b, kernel_const, (x_dofs, x), dofmap, num_owned_cells)\n",
    "print('lin form after assemble_vector_ufc with fem.Constant in the form:', b4.x.array[:])\n",
    "\n",
    "L = ufl.inner(coeff, v) * ufl.dx\n",
    "b5 = fem.Function(V)\n",
    "b = b5.x.array\n",
    "b[:] = 0.0\n",
    "ufcx_form, _, _ = ffcx_jit(domain.comm, L, form_compiler_params={\"scalar_type\": ffcxtype})\n",
    "kernel_coeff = getattr(ufcx_form.integrals(0)[0], f\"tabulate_tensor_{nptype}\")\n",
    "assemble_vector_ufc(b, kernel_coeff, (x_dofs, x), dofmap, num_owned_cells)\n",
    "print('lin form after assemble_vector_ufc with fem.Constant in the form:', b5.x.array[:])"
   ]
  },
  {
   "cell_type": "code",
   "execution_count": 5,
   "metadata": {},
   "outputs": [],
   "source": [
    "##### cpp/dolfinx/fem/Form.h:\n",
    "\n",
    "# /// @brief Type of integral\n",
    "# enum class IntegralType : std::int8_t\n",
    "# {\n",
    "#   cell = 0,           ///< Cell\n",
    "#   exterior_facet = 1, ///< Exterior facet\n",
    "#   interior_facet = 2, ///< Interior facet\n",
    "#   vertex = 3          ///< Vertex\n",
    "# };\n",
    "\n",
    "# /// @brief A representation of finite element variational forms.\n",
    "# ///\n",
    "# /// A note on the order of trial and test spaces: FEniCS numbers\n",
    "# /// argument spaces starting with the leading dimension of the\n",
    "# /// corresponding tensor (matrix). In other words, the test space is\n",
    "# /// numbered 0 and the trial space is numbered 1. However, in order to\n",
    "# /// have a notation that agrees with most existing finite element\n",
    "# /// literature, in particular\n",
    "# ///\n",
    "# ///  \\f[   a = a(u, v)        \\f]\n",
    "# ///\n",
    "# /// the spaces are numbered from right to left\n",
    "# ///\n",
    "# ///  \\f[   a: V_1 \\times V_0 \\rightarrow \\mathbb{R}  \\f]\n",
    "# ///\n",
    "# /// This is reflected in the ordering of the spaces that should be\n",
    "# /// supplied to generated subclasses. In particular, when a bilinear\n",
    "# /// form is initialized, it should be initialized as `a(V_1, V_0) =\n",
    "# /// ...`, where `V_1` is the trial space and `V_0` is the test space.\n",
    "# /// However, when a form is initialized by a list of argument spaces\n",
    "# /// (the variable `function_spaces` in the constructors below), the list\n",
    "# /// of spaces should start with space number 0 (the test space) and then\n",
    "# /// space number 1 (the trial space).\n",
    "\n",
    "# template <typename T>\n",
    "# class Form\n",
    "# {\n",
    "# public:\n",
    "#   /// @brief Create a finite element form.\n",
    "#   ///\n",
    "#   /// @note User applications will normally call a fem::Form builder\n",
    "#   /// function rather using this interfcae directly.\n",
    "#   ///\n",
    "#   /// @param[in] function_spaces Function spaces for the form arguments\n",
    "#   /// @param[in] integrals The integrals in the form. The first key is\n",
    "#   /// the domain type. For each key there is a pair (list[domain id,\n",
    "#   /// integration kernel], domain markers).\n",
    "#   /// @param[in] coefficients\n",
    "#   /// @param[in] constants Constants in the Form\n",
    "#   /// @param[in] needs_facet_permutations Set to true is any of the\n",
    "#   /// integration kernels require cell permutation data\n",
    "#   /// @param[in] mesh The mesh of the domain. This is required when\n",
    "#   /// there are not argument functions from which the mesh can be\n",
    "#   /// extracted, e.g. for functionals"
   ]
  },
  {
   "cell_type": "code",
   "execution_count": 6,
   "metadata": {},
   "outputs": [
    {
     "name": "stdout",
     "output_type": "stream",
     "text": [
      "lin form after any sort of tabulation [0.33333333 0.16666667 0.33333333 0.16666667]\n",
      "lin form after direct calculation [0.33333333 0.16666667 0.33333333 0.16666667]\n"
     ]
    }
   ],
   "source": [
    "@numba.cfunc(c_signature, nopython=True)\n",
    "def tabulate_lin_form_b(b_, w_, c_, coords_, local_index, orientation):\n",
    "    b = numba.carray(b_, (3), dtype=PETSc.ScalarType)      \n",
    "    b_tmp = np.zeros((3), dtype=PETSc.ScalarType)\n",
    "    w = numba.carray(w_, (1), dtype=PETSc.ScalarType)\n",
    "    w[0] = 1 # Changing of the coefficient value on an element !\n",
    "    kernel_coeff(ffi.from_buffer(b_tmp), w_, c_, coords_, local_index, orientation)\n",
    "    b[:] = b_tmp\n",
    "\n",
    "    # It works the same way:\n",
    "    # 1) kernel_coeff(b_, w_, c_, coords_, local_index, orientation)\n",
    "    # 2) b = numba.carray(b_, (3), dtype=PETSc.ScalarType)      \n",
    "    #    kernel_coeff(ffi.from_buffer(b), w_, c_, coords_, local_index, orientation)\n",
    "\n",
    "integrals = {fem.IntegralType.cell: ([(-1, tabulate_lin_form_b.address)], None)}\n",
    "L = Form_float64([V._cpp_object], integrals, [coeff._cpp_object], [], False)\n",
    "b = fem.petsc.assemble_vector(L)\n",
    "print('lin form after any sort of tabulation', b[:])\n",
    "\n",
    "@numba.cfunc(c_signature, nopython=True)\n",
    "def tabulate_lin_form_b_coeff(b_, w_, c_, coords_, local_index, orientation=ffi.NULL):\n",
    "    b = numba.carray(b_, (3), dtype=PETSc.ScalarType)\n",
    "    w = numba.carray(w_, (1), dtype=PETSc.ScalarType)\n",
    "    c = numba.carray(c_, (1), dtype=PETSc.ScalarType)\n",
    "    coordinate_dofs = numba.carray(coords_, (3, 3), dtype=np.float64)\n",
    "    x0, y0 = coordinate_dofs[0, :2]\n",
    "    x1, y1 = coordinate_dofs[1, :2]\n",
    "    x2, y2 = coordinate_dofs[2, :2]\n",
    "\n",
    "    # 2x Element area Ae\n",
    "    Ae = abs((x0 - x1) * (y2 - y1) - (y0 - y1) * (x2 - x1))\n",
    "    b[:] = c[0] * Ae / 6.0\n",
    "\n",
    "integrals = {fem.IntegralType.cell: ([(-1, tabulate_lin_form_b_coeff.address)], None)}\n",
    "L = Form_float64([V._cpp_object], integrals, [coeff._cpp_object], [const._cpp_object], False)\n",
    "b = fem.petsc.assemble_vector(L)\n",
    "print('lin form after direct calculation', b[:])"
   ]
  },
  {
   "cell_type": "code",
   "execution_count": 7,
   "metadata": {},
   "outputs": [
    {
     "name": "stdout",
     "output_type": "stream",
     "text": [
      "Correct bil form \n",
      " [[0.16666667 0.04166667 0.08333333 0.04166667]\n",
      " [0.04166667 0.08333333 0.04166667 0.        ]\n",
      " [0.08333333 0.04166667 0.16666667 0.04166667]\n",
      " [0.04166667 0.         0.04166667 0.08333333]]\n"
     ]
    }
   ],
   "source": [
    "u, v = ufl.TrialFunction(V), ufl.TestFunction(V)\n",
    "a = ufl.inner( f * u, v ) * ufl.dx\n",
    "A = fem.petsc.assemble_matrix(fem.form(a))\n",
    "A.assemble()\n",
    "print('Correct bil form \\n', A[:, :])"
   ]
  },
  {
   "cell_type": "code",
   "execution_count": 8,
   "metadata": {},
   "outputs": [
    {
     "name": "stdout",
     "output_type": "stream",
     "text": [
      "[[0.16666667 0.04166667 0.08333333 0.04166667]\n",
      " [0.04166667 0.08333333 0.04166667 0.        ]\n",
      " [0.08333333 0.04166667 0.16666667 0.04166667]\n",
      " [0.04166667 0.         0.04166667 0.08333333]]\n"
     ]
    }
   ],
   "source": [
    "ufcx_form, _, _ = ffcx_jit(domain.comm, a, form_compiler_params={\"scalar_type\": ffcxtype})\n",
    "kernel_a = getattr(ufcx_form.integrals(0)[0], f\"tabulate_tensor_{nptype}\")\n",
    "\n",
    "@numba.cfunc(c_signature, nopython=True)\n",
    "def tabulate_tensor_A(A_, w_, c_, coords_, entity_local_index, permutation):\n",
    "    # A = numba.carray(A_, (3, 3), dtype=PETSc.ScalarType)\n",
    "    kernel_a(A_, w_, c_, coords_, entity_local_index, permutation)\n",
    "\n",
    "\n",
    "integrals = {fem.IntegralType.cell: ([(-1, tabulate_tensor_A.address)], None)}\n",
    "a_form = Form_float64([V._cpp_object, V._cpp_object], integrals, [], [], False, None)\n",
    "A = fem.petsc.assemble_matrix(a_form)\n",
    "A.assemble()\n",
    "print(A[:, :])  "
   ]
  },
  {
   "cell_type": "code",
   "execution_count": 9,
   "metadata": {},
   "outputs": [
    {
     "name": "stdout",
     "output_type": "stream",
     "text": [
      "[[0.16666667 0.04166667 0.08333333 0.04166667]\n",
      " [0.04166667 0.08333333 0.04166667 0.        ]\n",
      " [0.08333333 0.04166667 0.16666667 0.04166667]\n",
      " [0.04166667 0.         0.04166667 0.08333333]]\n"
     ]
    }
   ],
   "source": [
    "a = ufl.inner( const * u, v ) * ufl.dx\n",
    "\n",
    "ufcx_form, _, _ = ffcx_jit(domain.comm, a, form_compiler_params={\"scalar_type\": ffcxtype})\n",
    "kernel_a = getattr(ufcx_form.integrals(0)[0], f\"tabulate_tensor_{nptype}\")\n",
    "\n",
    "@numba.cfunc(c_signature, nopython=True)\n",
    "def tabulate_tensor_A(A_, w_, c_, coords_, entity_local_index, permutation):\n",
    "    # A = numba.carray(A_, (3, 3), dtype=PETSc.ScalarType)\n",
    "    kernel_a(A_, w_, c_, coords_, entity_local_index, permutation)\n",
    "\n",
    "integrals = {fem.IntegralType.cell: ([(-1, tabulate_tensor_A.address)], None)}\n",
    "a_form = Form_float64([V._cpp_object, V._cpp_object], integrals, [], [const._cpp_object], False, None)\n",
    "A = fem.petsc.assemble_matrix(a_form)\n",
    "A.assemble()\n",
    "print(A[:, :])  "
   ]
  },
  {
   "cell_type": "code",
   "execution_count": 10,
   "metadata": {},
   "outputs": [
    {
     "name": "stdout",
     "output_type": "stream",
     "text": [
      "[[0.33333333 0.08333333 0.16666667 0.08333333]\n",
      " [0.08333333 0.16666667 0.08333333 0.        ]\n",
      " [0.16666667 0.08333333 0.33333333 0.08333333]\n",
      " [0.08333333 0.         0.08333333 0.16666667]]\n"
     ]
    }
   ],
   "source": [
    "a = ufl.inner( const * u, v ) * ufl.dx\n",
    "\n",
    "ufcx_form, _, _ = ffcx_jit(domain.comm, a, form_compiler_params={\"scalar_type\": ffcxtype})\n",
    "kernel_a = getattr(ufcx_form.integrals(0)[0], f\"tabulate_tensor_{nptype}\")\n",
    "\n",
    "@numba.cfunc(c_signature, nopython=True)\n",
    "def tabulate_tensor_A(A_, w_, c_, coords_, entity_local_index, permutation):\n",
    "    # A = numba.carray(A_, (3, 3), dtype=PETSc.ScalarType)\n",
    "    c_[0] = 2 # !!!!!\n",
    "    kernel_a(A_, w_, c_, coords_, entity_local_index, permutation)\n",
    "\n",
    "integrals = {fem.IntegralType.cell: ([(-1, tabulate_tensor_A.address)], None)}\n",
    "a_form = Form_float64([V._cpp_object, V._cpp_object], integrals, [], [const._cpp_object], False, None)\n",
    "A = fem.petsc.assemble_matrix(a_form)\n",
    "A.assemble()\n",
    "print(A[:, :])  "
   ]
  },
  {
   "cell_type": "code",
   "execution_count": 11,
   "metadata": {},
   "outputs": [
    {
     "name": "stdout",
     "output_type": "stream",
     "text": [
      "[[0.33333333 0.08333333 0.16666667 0.08333333]\n",
      " [0.08333333 0.16666667 0.08333333 0.        ]\n",
      " [0.16666667 0.08333333 0.33333333 0.08333333]\n",
      " [0.08333333 0.         0.08333333 0.16666667]]\n"
     ]
    }
   ],
   "source": [
    "a = ufl.inner( coeff * u, v ) * ufl.dx\n",
    "\n",
    "ufcx_form, _, _ = ffcx_jit(domain.comm, a, form_compiler_params={\"scalar_type\": ffcxtype})\n",
    "kernel_a = getattr(ufcx_form.integrals(0)[0], f\"tabulate_tensor_{nptype}\")\n",
    "\n",
    "@numba.cfunc(c_signature, nopython=True)\n",
    "def tabulate_tensor_A(A_, w_, c_, coords_, entity_local_index, permutation):\n",
    "    w_[0] = 2 # !!!!!\n",
    "    kernel_a(A_, w_, c_, coords_, entity_local_index, permutation)\n",
    "\n",
    "integrals = {fem.IntegralType.cell: ([(-1, tabulate_tensor_A.address)], None)}\n",
    "a_form = Form_float64([V._cpp_object, V._cpp_object], integrals, [coeff._cpp_object], [const._cpp_object], False, None)\n",
    "A = fem.petsc.assemble_matrix(a_form)\n",
    "A.assemble()\n",
    "print(A[:, :])  "
   ]
  },
  {
   "cell_type": "code",
   "execution_count": 12,
   "metadata": {},
   "outputs": [
    {
     "name": "stdout",
     "output_type": "stream",
     "text": [
      "Correct linear form:\n",
      " [0.33333333 0.33333333 0.16666667 0.16666667 0.33333333 0.33333333\n",
      " 0.16666667 0.16666667]\n"
     ]
    }
   ],
   "source": [
    "V = fem.VectorFunctionSpace(domain, (\"Lagrange\", 1))\n",
    "u, v = ufl.TrialFunction(V), ufl.TestFunction(V)\n",
    "\n",
    "const = fem.Constant(domain, (PETSc.ScalarType(1), PETSc.ScalarType(1)))\n",
    "\n",
    "L = ufl.inner(const, v) * ufl.dx\n",
    "b1 = fem.petsc.assemble_vector(fem.form(L))\n",
    "print(\"Correct linear form:\\n\", b1[:])\n",
    "\n",
    "# coeff = fem.Function(fem.FunctionSpace(domain, ('DG', 0)))\n",
    "# coeff.vector.set(f)\n",
    "\n",
    "# a = ufl.inner( f * u, v ) * ufl.dx\n",
    "# A = fem.petsc.assemble_matrix(fem.form(a))\n",
    "# A.assemble()\n",
    "# print('Correct bil form \\n', A[:, :])"
   ]
  },
  {
   "cell_type": "code",
   "execution_count": 13,
   "metadata": {},
   "outputs": [
    {
     "name": "stdout",
     "output_type": "stream",
     "text": [
      "[0.         0.33333333 0.         0.16666667 0.         0.33333333\n",
      " 0.         0.16666667]\n"
     ]
    }
   ],
   "source": [
    "L = ufl.inner(const, v) * ufl.dx\n",
    "\n",
    "ufcx_form, _, _ = ffcx_jit(domain.comm, L, form_compiler_params={\"scalar_type\": ffcxtype})\n",
    "kernel_b = getattr(ufcx_form.integrals(0)[0], f\"tabulate_tensor_{nptype}\")\n",
    "\n",
    "@numba.cfunc(c_signature, nopython=True)\n",
    "def tabulate_lin_form_b(b_, w_, c_, coords_, local_index, orientation):\n",
    "    c = numba.carray(c_, (2), dtype=PETSc.ScalarType)\n",
    "    c[0] = 0 # Changing of the coefficient value on an element !\n",
    "    kernel_b(b_, w_, c_, coords_, local_index, orientation)\n",
    "    \n",
    "integrals = {fem.IntegralType.cell: ([(-1, tabulate_lin_form_b.address)], None)}\n",
    "L = Form_float64([V._cpp_object], integrals, [], [const._cpp_object], False)\n",
    "b = fem.petsc.assemble_vector(L)\n",
    "print(b[:])"
   ]
  },
  {
   "cell_type": "code",
   "execution_count": 14,
   "metadata": {},
   "outputs": [
    {
     "name": "stdout",
     "output_type": "stream",
     "text": [
      "[[0.16666667 0.         0.04166667 0.         0.08333333 0.\n",
      "  0.04166667 0.        ]\n",
      " [0.         0.16666667 0.         0.04166667 0.         0.08333333\n",
      "  0.         0.04166667]\n",
      " [0.04166667 0.         0.08333333 0.         0.04166667 0.\n",
      "  0.         0.        ]\n",
      " [0.         0.04166667 0.         0.08333333 0.         0.04166667\n",
      "  0.         0.        ]\n",
      " [0.08333333 0.         0.04166667 0.         0.16666667 0.\n",
      "  0.04166667 0.        ]\n",
      " [0.         0.08333333 0.         0.04166667 0.         0.16666667\n",
      "  0.         0.04166667]\n",
      " [0.04166667 0.         0.         0.         0.04166667 0.\n",
      "  0.08333333 0.        ]\n",
      " [0.         0.04166667 0.         0.         0.         0.04166667\n",
      "  0.         0.08333333]]\n"
     ]
    }
   ],
   "source": [
    "a = ufl.inner( coeff * u, v ) * ufl.dx\n",
    "A = fem.petsc.assemble_matrix(fem.form(a))\n",
    "A.assemble()\n",
    "print(A[:, :])"
   ]
  },
  {
   "cell_type": "code",
   "execution_count": 15,
   "metadata": {},
   "outputs": [
    {
     "name": "stdout",
     "output_type": "stream",
     "text": [
      "[[0.83333333 0.         0.20833333 0.         0.41666667 0.\n",
      "  0.20833333 0.        ]\n",
      " [0.         0.83333333 0.         0.20833333 0.         0.41666667\n",
      "  0.         0.20833333]\n",
      " [0.20833333 0.         0.41666667 0.         0.20833333 0.\n",
      "  0.         0.        ]\n",
      " [0.         0.20833333 0.         0.41666667 0.         0.20833333\n",
      "  0.         0.        ]\n",
      " [0.41666667 0.         0.20833333 0.         0.83333333 0.\n",
      "  0.20833333 0.        ]\n",
      " [0.         0.41666667 0.         0.20833333 0.         0.83333333\n",
      "  0.         0.20833333]\n",
      " [0.20833333 0.         0.         0.         0.20833333 0.\n",
      "  0.41666667 0.        ]\n",
      " [0.         0.20833333 0.         0.         0.         0.20833333\n",
      "  0.         0.41666667]]\n"
     ]
    }
   ],
   "source": [
    "coeff2 = fem.Function(fem.FunctionSpace(domain, ('DG', 0)))\n",
    "coeff2.vector.set(5)\n",
    "\n",
    "a = ufl.inner( coeff * u, v * coeff2) * ufl.dx\n",
    "\n",
    "ufcx_form, _, _ = ffcx_jit(domain.comm, a, form_compiler_params={\"scalar_type\": ffcxtype})\n",
    "kernel_a = getattr(ufcx_form.integrals(0)[0], f\"tabulate_tensor_{nptype}\")\n",
    "\n",
    "@numba.cfunc(c_signature, nopython=True)\n",
    "def tabulate_tensor_A(A_, w_, c_, coords_, entity_local_index, permutation):\n",
    "    kernel_a(A_, w_, c_, coords_, entity_local_index, permutation)\n",
    "\n",
    "integrals = {fem.IntegralType.cell: ([(-1, tabulate_tensor_A.address)], None)}\n",
    "a_form = Form_float64([V._cpp_object, V._cpp_object], integrals, [coeff._cpp_object, coeff2._cpp_object], [const._cpp_object], False, None)\n",
    "A = fem.petsc.assemble_matrix(a_form)\n",
    "A.assemble()\n",
    "print(A[:, :])  "
   ]
  },
  {
   "cell_type": "code",
   "execution_count": 16,
   "metadata": {},
   "outputs": [
    {
     "name": "stdout",
     "output_type": "stream",
     "text": [
      "[[ 2.   0.  -1.5  0.5  0.  -1.  -0.5  0.5]\n",
      " [ 0.   2.   0.5 -0.5 -1.   0.   0.5 -1.5]\n",
      " [-1.5  0.5  2.  -1.  -0.5  0.5  0.   0. ]\n",
      " [ 0.5 -0.5 -1.   2.   0.5 -1.5  0.   0. ]\n",
      " [ 0.  -1.  -0.5  0.5  2.   0.  -1.5  0.5]\n",
      " [-1.   0.   0.5 -1.5  0.   2.   0.5 -0.5]\n",
      " [-0.5  0.5  0.   0.  -1.5  0.5  2.  -1. ]\n",
      " [ 0.5 -1.5  0.   0.   0.5 -0.5 -1.   2. ]]\n"
     ]
    }
   ],
   "source": [
    "def epsilon(u):\n",
    "    return ufl.sym(ufl.grad(u))\n",
    "\n",
    "def sigma(u):\n",
    "    return 1*ufl.div(u)*ufl.Identity(u.geometric_dimension()) + 2*1*epsilon(u)\n",
    "\n",
    "a = ufl.inner( sigma(u), epsilon(v) ) * ufl.dx\n",
    "\n",
    "A = fem.petsc.assemble_matrix(fem.form(a))\n",
    "A.assemble()\n",
    "print(A[:, :])"
   ]
  },
  {
   "cell_type": "code",
   "execution_count": 32,
   "metadata": {},
   "outputs": [
    {
     "name": "stdout",
     "output_type": "stream",
     "text": [
      "[[ 1505.     0. -1005.     5.     0.  -505.  -500.   500.]\n",
      " [    0.  1505.   500.  -500.  -505.     0.     5. -1005.]\n",
      " [-1005.   500.  1505.  -505.  -500.     5.     0.     0.]\n",
      " [    5.  -500.  -505.  1505.   500. -1005.     0.     0.]\n",
      " [    0.  -505.  -500.   500.  1505.     0. -1005.     5.]\n",
      " [ -505.     0.     5. -1005.     0.  1505.   500.  -500.]\n",
      " [ -500.     5.     0.     0. -1005.   500.  1505.  -505.]\n",
      " [  500. -1005.     0.     0.     5.  -500.  -505.  1505.]]\n"
     ]
    }
   ],
   "source": [
    "coeff1 = fem.Function(fem.FunctionSpace(domain, ('DG', 0)))\n",
    "coeff2 = fem.Function(fem.FunctionSpace(domain, ('DG', 0)))\n",
    "coeff1.vector.set(1)\n",
    "coeff2.vector.set(1)\n",
    "\n",
    "def epsilon(u):\n",
    "    return ufl.sym(ufl.grad(u))\n",
    "\n",
    "def sigma(u):\n",
    "    return coeff1*ufl.div(u)*ufl.Identity(u.geometric_dimension()) + 2*coeff2*epsilon(u)\n",
    "\n",
    "a = ufl.inner( sigma(u), epsilon(v) ) * ufl.dx\n",
    "\n",
    "ufcx_form, _, _ = ffcx_jit(domain.comm, a, form_compiler_params={\"scalar_type\": ffcxtype})\n",
    "kernel_a = getattr(ufcx_form.integrals(0)[0], f\"tabulate_tensor_{nptype}\")\n",
    "\n",
    "@numba.cfunc(c_signature, nopython=True)\n",
    "def tabulate_tensor_A(A_, w_, c_, coords_, entity_local_index, permutation):\n",
    "    w_[0] = 10\n",
    "    w_[1] = 1000\n",
    "    kernel_a(A_, w_, c_, coords_, entity_local_index, permutation)\n",
    "\n",
    "integrals = {fem.IntegralType.cell: ([(-1, tabulate_tensor_A.address)], None)}\n",
    "a_form = Form_float64([V._cpp_object, V._cpp_object], integrals, [coeff1._cpp_object, coeff2._cpp_object], [const._cpp_object], False, None)\n",
    "A = fem.petsc.assemble_matrix(a_form)\n",
    "A.assemble()\n",
    "print(A[:, :])  "
   ]
  },
  {
   "cell_type": "code",
   "execution_count": null,
   "metadata": {},
   "outputs": [],
   "source": []
  }
 ],
 "metadata": {
  "interpreter": {
   "hash": "31f2aee4e71d21fbe5cf8b01ff0e069b9275f58929596ceb00d14d90e3e16cd6"
  },
  "kernelspec": {
   "display_name": "Python 3.8.10 64-bit",
   "language": "python",
   "name": "python3"
  },
  "language_info": {
   "codemirror_mode": {
    "name": "ipython",
    "version": 3
   },
   "file_extension": ".py",
   "mimetype": "text/x-python",
   "name": "python",
   "nbconvert_exporter": "python",
   "pygments_lexer": "ipython3",
   "version": "3.9.7"
  },
  "orig_nbformat": 4
 },
 "nbformat": 4,
 "nbformat_minor": 2
}
