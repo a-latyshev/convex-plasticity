{
 "cells": [
  {
   "cell_type": "markdown",
   "metadata": {},
   "source": [
    "Implementation of 2D elasto-plastic problem using FEniCS-X. The code is based on a [legacy solution](https://comet-fenics.readthedocs.io/en/latest/demo/2D_plasticity/vonMises_plasticity.py.html) for FEniCS 2019.\n",
    "\n",
    "The program was tested for 0.3.1.0 version of Dolfinx."
   ]
  },
  {
   "cell_type": "code",
   "execution_count": 1,
   "metadata": {},
   "outputs": [],
   "source": [
    "import meshio\n",
    "import numpy as np\n",
    "import numba\n",
    "\n",
    "import ufl\n",
    "from dolfinx import fem, io\n",
    "from mpi4py import MPI\n",
    "from petsc4py import PETSc\n",
    "from dolfinx.geometry import (BoundingBoxTree, compute_colliding_cells, compute_collisions)\n",
    "import time\n",
    "import basix\n",
    "\n",
    "import sys\n",
    "sys.path.append(\"../assembling_strategies\")\n",
    "import custom_assembling as ca\n",
    "# import fenicsx_support\n"
   ]
  },
  {
   "cell_type": "code",
   "execution_count": 2,
   "metadata": {},
   "outputs": [],
   "source": [
    "\n",
    "def create_mesh(mesh, cell_type, prune_z=False):\n",
    "    cells = mesh.get_cells_type(cell_type)\n",
    "    cell_data = mesh.get_cell_data(\"gmsh:physical\", cell_type)\n",
    "    points = mesh.points[:,:2] if prune_z else mesh.points\n",
    "    out_mesh = meshio.Mesh(points=points, cells={cell_type: cells}, cell_data={\"name_to_read\":[cell_data]})\n",
    "    return out_mesh\n",
    "\n",
    "# defining function to interpolate function defined over quadrature elements\n",
    "# def interpolate_quadrature(ufl_expr, fem_func):\n",
    "#     q_dim = fem_func.function_space._ufl_element.degree()\n",
    "#     mesh = fem_func.ufl_function_space().mesh\n",
    "    \n",
    "#     basix_celltype = getattr(basix.CellType, mesh.topology.cell_type.name)\n",
    "#     quadrature_points, weights = basix.make_quadrature(basix_celltype, q_dim)\n",
    "#     map_c = mesh.topology.index_map(mesh.topology.dim)\n",
    "#     num_cells = map_c.size_local + map_c.num_ghosts\n",
    "#     cells = np.arange(0, num_cells, dtype=np.int32)\n",
    "\n",
    "#     expr_expr = fem.Expression(ufl_expr, quadrature_points)\n",
    "#     expr_eval = expr_expr.eval(cells)\n",
    "#     fem_func.x.array[:] = expr_eval.flatten()[:]\n",
    "#     fem_func.x.scatter_forward()"
   ]
  },
  {
   "cell_type": "code",
   "execution_count": 3,
   "metadata": {},
   "outputs": [
    {
     "name": "stdout",
     "output_type": "stream",
     "text": [
      "\n",
      "<meshio mesh object>\n",
      "  Number of points: 811\n",
      "  Number of cells:\n",
      "    line: 10\n",
      "    line: 69\n",
      "    line: 10\n",
      "    line: 53\n",
      "    triangle: 1478\n",
      "  Cell sets: gmsh:bounding_entities\n",
      "  Point data: gmsh:dim_tags\n",
      "  Cell data: gmsh:physical, gmsh:geometrical\n"
     ]
    }
   ],
   "source": [
    "if MPI.COMM_WORLD.rank == 0:\n",
    "\n",
    "    #It works with the msh4 only!!\n",
    "    msh = meshio.read(\"thick_cylinder.msh\")\n",
    "\n",
    "    # Create and save one file for the mesh, and one file for the facets \n",
    "    triangle_mesh = create_mesh(msh, \"triangle\", prune_z=True)\n",
    "    line_mesh = create_mesh(msh, \"line\", prune_z=True)\n",
    "    meshio.write(\"thick_cylinder.xdmf\", triangle_mesh)\n",
    "    meshio.write(\"mt.xdmf\", line_mesh)\n",
    "    print(msh)\n",
    "    "
   ]
  },
  {
   "cell_type": "code",
   "execution_count": 4,
   "metadata": {},
   "outputs": [],
   "source": [
    "with io.XDMFFile(MPI.COMM_WORLD, \"thick_cylinder.xdmf\", \"r\") as xdmf:\n",
    "    mesh = xdmf.read_mesh(name=\"Grid\")\n",
    "    ct = xdmf.read_meshtags(mesh, name=\"Grid\")\n",
    "\n",
    "mesh.topology.create_connectivity(mesh.topology.dim, mesh.topology.dim - 1)\n",
    "\n",
    "with io.XDMFFile(MPI.COMM_WORLD, \"mt.xdmf\", \"r\") as xdmf:\n",
    "    ft = xdmf.read_meshtags(mesh, name=\"Grid\")"
   ]
  },
  {
   "cell_type": "code",
   "execution_count": 5,
   "metadata": {},
   "outputs": [],
   "source": [
    "# elastic parameters\n",
    "E = 70e3\n",
    "nu = 0.3\n",
    "# lambda_ = E*nu/(1+nu)/(1-2*nu)\n",
    "# mu_ = fem.Constant(mesh, PETSc.ScalarType(E/2./(1+nu)))\n",
    "\n",
    "lambda_ = E*nu/(1+nu)/(1-2*nu)\n",
    "mu_ = E/2./(1+nu)\n",
    "# mu_ = 26923.07692308\n",
    "\n",
    "# sig0 = fem.Constant(mesh, PETSc.ScalarType(250))  # yield strength\n",
    "sig0 = 250.  # yield strength\n",
    "Et = E/100.  # tangent modulus\n",
    "H = E*Et/(E-Et)  # hardening modulus\n",
    "\n",
    "Re, Ri = 1.3, 1.   # external/internal radius\n",
    "\n",
    "# Hookes law for plane stress\n",
    "# C11 = E / (1.0 - nu * nu)\n",
    "# C12 = C11 * nu\n",
    "# C33 = C11 * 0.5 * (1.0 - nu)\n",
    "# C = np.array([[C11, C12, 0.0], [C12, C11, 0.0], [0.0, 0.0, C33]], dtype=PETSc.ScalarType)\n",
    "# C_const = fem.Constant(mesh, C)\n"
   ]
  },
  {
   "cell_type": "code",
   "execution_count": 6,
   "metadata": {},
   "outputs": [],
   "source": [
    "deg_u = 2\n",
    "deg_stress = 2\n",
    "V = fem.VectorFunctionSpace(mesh, (\"CG\", deg_u))\n",
    "We = ufl.VectorElement(\"Quadrature\", mesh.ufl_cell(), degree=deg_stress, dim=4, quad_scheme='default')\n",
    "W0e = ufl.FiniteElement(\"Quadrature\", mesh.ufl_cell(), degree=deg_stress, quad_scheme='default')\n",
    "W = fem.FunctionSpace(mesh, We)\n",
    "W0 = fem.FunctionSpace(mesh, W0e)"
   ]
  },
  {
   "cell_type": "code",
   "execution_count": 7,
   "metadata": {},
   "outputs": [],
   "source": [
    "left_marker = 3\n",
    "down_marker = 1\n",
    "left_facets = ft.indices[ft.values == left_marker]\n",
    "down_facets = ft.indices[ft.values == down_marker]\n",
    "left_dofs = fem.locate_dofs_topological(V.sub(0), mesh.topology.dim-1, left_facets)\n",
    "down_dofs = fem.locate_dofs_topological(V.sub(1), mesh.topology.dim-1, down_facets)\n",
    "\n",
    "bcs = [fem.dirichletbc(PETSc.ScalarType(0), left_dofs, V.sub(0)), fem.dirichletbc(PETSc.ScalarType(0), down_dofs, V.sub(1))]"
   ]
  },
  {
   "cell_type": "code",
   "execution_count": 8,
   "metadata": {},
   "outputs": [],
   "source": [
    "# sig = fem.Function(W)\n",
    "# sig2 = fem.Function(W)\n",
    "sig_old = fem.Function(W, name=\"sig_old\")\n",
    "# n_elas = fem.Function(W)\n",
    "beta = fem.Function(W0, name=\"beta\")\n",
    "sig_eq = fem.Function(W0, name=\"sig_eq\")\n",
    "p = fem.Function(W0, name=\"p\")\n",
    "dp = fem.Function(W0, name=\"dp\")\n",
    "u = fem.Function(V, name=\"Total_displacement\")\n",
    "du = fem.Function(V, name=\"Iteration_correction\")\n",
    "Du = fem.Function(V, name=\"Current_increment\")\n",
    "# Du_tmp = fem.Function(V, name=\"Du_tmp\")\n",
    "v = ufl.TrialFunction(V)\n",
    "u_ = ufl.TestFunction(V)\n",
    "\n",
    "P0 = fem.FunctionSpace(mesh, (\"DG\", 0))\n",
    "p_avg = fem.Function(P0, name=\"Plastic_strain\")\n",
    "\n",
    "# zero_Du = fem.Function(V)"
   ]
  },
  {
   "cell_type": "code",
   "execution_count": 9,
   "metadata": {},
   "outputs": [],
   "source": [
    "I = np.eye(3)\n",
    "J4 = 1./3. * np.tensordot(I, I, axes=0)\n",
    "I4 = np.einsum('ij,kl->ikjl', I, I)\n",
    "K4 = DEV = I4 - J4\n",
    "C_elas = (3*lambda_ + 2*mu_)*J4 + 2*mu_*K4\n",
    "C_elas_const = fem.Constant(mesh, C_elas.astype(np.dtype(PETSc.ScalarType)))\n",
    "\n",
    "QTe = ufl.TensorElement(\"Quadrature\", mesh.ufl_cell(), degree=deg_stress, shape=C_elas.shape, quad_scheme='default') #, symmetry=True?\n",
    "QT = fem.FunctionSpace(mesh, QTe)\n",
    "\n",
    "C_tang = ca.DummyFunction(QT, name='tangent') # 2 * n_gauss_points * 3 * 3 * 3 * 3"
   ]
  },
  {
   "cell_type": "code",
   "execution_count": 10,
   "metadata": {},
   "outputs": [],
   "source": [
    "@numba.njit(fastmath=True)\n",
    "def as_3D_array(X):\n",
    "    return np.asarray([[X[0], X[3], 0],\n",
    "                       [X[3], X[1], 0],\n",
    "                       [0, 0, X[2]]])\n",
    "                       \n",
    "@numba.njit(fastmath=True)\n",
    "def ppos(x):\n",
    "    return (x + np.sqrt(x**2))/2.\n",
    "\n",
    "@numba.njit(fastmath=True)\n",
    "def sigma(eps_el):\n",
    "    return lambda_*np.trace(eps_el)*I + 2*mu_*eps_el\n",
    "\n",
    "@numba.njit(fastmath=True)\n",
    "def tensor_product(A, B):\n",
    "    # n_i, n_j = A.shape\n",
    "    # n_k, n_l = B.shape\n",
    "    C = np.zeros((*A.shape, *B.shape), dtype=PETSc.ScalarType)\n",
    "    for i in range(3):\n",
    "        for j in range(3):\n",
    "            for k in range(3):\n",
    "                for l in range(3):\n",
    "                    C[i,j,k,l] = A[i,j] * B[k,l]\n",
    "    return C\n",
    "                    \n",
    "@numba.njit(fastmath=True)\n",
    "def get_C_tang(beta, n_elas):\n",
    "    return C_elas - 3*mu_*(3*mu_/(3*mu_+H)-beta)*tensor_product(n_elas, n_elas) - 2*mu_*beta*DEV \n",
    "\n",
    "@numba.njit(fastmath=True)\n",
    "def inner(A, B):\n",
    "    return np.sum(A * B)\n",
    "\n",
    "# def sigma_tang(e):\n",
    "#     N_elas = as_3D_tensor(n_elas)\n",
    "#     return sigma(e) - 3*mu_*(3*mu_/(3*mu_+H)-beta)*ufl.inner(N_elas, e)*N_elas - 2*mu_*beta*ufl.dev(e)  \n",
    "    "
   ]
  },
  {
   "cell_type": "code",
   "execution_count": 11,
   "metadata": {},
   "outputs": [],
   "source": [
    "unique_value = 17.\n",
    "def get_eval():\n",
    "    this_value = unique_value\n",
    "    @numba.njit(fastmath=True)\n",
    "    def eval():\n",
    "        print(this_value + 1)\n",
    "    \n",
    "    return eval\n"
   ]
  },
  {
   "cell_type": "code",
   "execution_count": 12,
   "metadata": {},
   "outputs": [],
   "source": [
    "ev = get_eval()"
   ]
  },
  {
   "cell_type": "code",
   "execution_count": 13,
   "metadata": {},
   "outputs": [
    {
     "name": "stdout",
     "output_type": "stream",
     "text": [
      "18.0\n"
     ]
    }
   ],
   "source": [
    "ev()"
   ]
  },
  {
   "cell_type": "code",
   "execution_count": 14,
   "metadata": {},
   "outputs": [
    {
     "name": "stdout",
     "output_type": "stream",
     "text": [
      "18.0\n"
     ]
    }
   ],
   "source": [
    "unique_value = 0.\n",
    "ev()"
   ]
  },
  {
   "cell_type": "code",
   "execution_count": 15,
   "metadata": {},
   "outputs": [],
   "source": [
    "# unique_value = 17.\n",
    "# this_value = unique_value\n",
    "# mylist = []\n",
    "# mylist.append(np.array([1,2]))\n",
    "# @numba.njit(fastmath=True)\n",
    "# def eval(mylist):\n",
    "#     a = mylist[0]\n",
    "#     print(a)\n",
    "# ev = eval\n",
    "# ev(mylist)"
   ]
  },
  {
   "cell_type": "code",
   "execution_count": 16,
   "metadata": {},
   "outputs": [],
   "source": [
    "# np.isclose()"
   ]
  },
  {
   "cell_type": "code",
   "execution_count": 17,
   "metadata": {},
   "outputs": [
    {
     "data": {
      "text/plain": [
       "40384.615384615376"
      ]
     },
     "execution_count": 17,
     "metadata": {},
     "output_type": "execute_result"
    }
   ],
   "source": [
    "lambda_"
   ]
  },
  {
   "cell_type": "code",
   "execution_count": 18,
   "metadata": {},
   "outputs": [
    {
     "data": {
      "text/plain": [
       "26923.076923076922"
      ]
     },
     "execution_count": 18,
     "metadata": {},
     "output_type": "execute_result"
    }
   ],
   "source": [
    "mu_"
   ]
  },
  {
   "cell_type": "code",
   "execution_count": 19,
   "metadata": {},
   "outputs": [],
   "source": [
    "def get_eval(self:ca.CustomFunction):\n",
    "    tabulated_eps = self.tabulated_input_expression\n",
    "    n_gauss_points = len(self.input_expression.X)\n",
    "    local_shape = self.local_shape\n",
    "    C_tang_shape = self.tangent.shape\n",
    "\n",
    "    # n_elas_zero = np.zeros((3, 3), dtype=PETSc.ScalarType) \n",
    "    # beta_zero = np.zeros(1, dtype=PETSc.ScalarType)\n",
    "    \n",
    "    @numba.njit(fastmath=True)\n",
    "    def eval(sigma_current_local, sigma_old_local, p_old_local, dp_local, beta_local, sig_eq_local, coeffs_values, constants_values, coordinates, local_index, orientation):\n",
    "        deps_local = np.zeros(n_gauss_points*3*3, dtype=PETSc.ScalarType)\n",
    "        \n",
    "        C_tang_local = np.zeros((n_gauss_points, *C_tang_shape), dtype=PETSc.ScalarType)\n",
    "        \n",
    "        sigma_old = sigma_old_local.reshape((n_gauss_points, *local_shape))\n",
    "        sigma_new = sigma_current_local.reshape((n_gauss_points, *local_shape))\n",
    "\n",
    "        tabulated_eps(ca.ffi.from_buffer(deps_local), \n",
    "                      ca.ffi.from_buffer(coeffs_values), \n",
    "                      ca.ffi.from_buffer(constants_values), \n",
    "                      ca.ffi.from_buffer(coordinates), ca.ffi.from_buffer(local_index), ca.ffi.from_buffer(orientation))\n",
    "        \n",
    "        deps_local = deps_local.reshape((n_gauss_points, 3, 3))\n",
    "\n",
    "        n_elas = np.zeros((3, 3), dtype=PETSc.ScalarType) \n",
    "        beta = np.zeros(1, dtype=PETSc.ScalarType) \n",
    "        dp = np.zeros(1, dtype=PETSc.ScalarType) \n",
    "\n",
    "        for q in range(n_gauss_points):\n",
    "            sig_n = as_3D_array(sigma_old[q])\n",
    "            sig_elas = sig_n + sigma(deps_local[q])\n",
    "            s = sig_elas - np.trace(sig_elas)*I/3.\n",
    "            sig_eq = np.sqrt(3./2. * inner(s, s))\n",
    "            f_elas = sig_eq - sig0 - H*p_old_local[q]\n",
    "            # print(f_elas, ppos(f_elas) == 0.0, ppos(f_elas) == 0)\n",
    "            f_elas_plus = ppos(f_elas)\n",
    "            # dp[:] = f_elas_plus/(3*mu_+H)\n",
    "            \n",
    "            if f_elas_plus > 0:\n",
    "                # print(f_elas_plus/f_elas)\n",
    "                dp[:] = f_elas_plus/(3*mu_+H)\n",
    "                n_elas[:,:] = s/sig_eq\n",
    "                beta[:] = 3*mu_*dp/sig_eq\n",
    "            else:       \n",
    "                n_elas -= n_elas\n",
    "                beta -= beta   \n",
    "                dp -= dp      \n",
    "            \n",
    "            beta_local[q] = beta[0]\n",
    "            sig_eq_local[q] = f_elas\n",
    "\n",
    "            new_sig = sig_elas - beta*s\n",
    "            sigma_new[q][:] = np.asarray([new_sig[0, 0], new_sig[1, 1], new_sig[2, 2], new_sig[0, 1]])\n",
    "            dp_local[q] = dp[0]\n",
    "            \n",
    "            C_tang_local[q][:] = get_C_tang(beta, n_elas)\n",
    "        \n",
    "        return [C_tang_local.flatten()] \n",
    "    return eval"
   ]
  },
  {
   "cell_type": "code",
   "execution_count": 20,
   "metadata": {},
   "outputs": [],
   "source": [
    "# sigma_local = coeffs_values_global_b[0][cell]\n",
    "# p_local = coeffs_coeff_values_b[0][cell]\n",
    "# dp_local = coeffs_coeff_values_b[1][cell]\n",
    "# sigma_old_local = coeffs_coeff_values_b[2][cell]\n",
    "\n",
    "# output_values = coeffs_eval_b[0](sigma_local, \n",
    "#                                     sigma_old_local,\n",
    "#                                     p_local,\n",
    "#                                     dp_local,\n",
    "#                                     u_local, \n",
    "#                                     coeffs_constants_b[0], \n",
    "#                                     geometry, entity_local_index, perm)\n",
    "\n",
    "# coeffs_b = sigma_local\n",
    "\n",
    "# for i in range(len(coeffs_dummy_values_b)):\n",
    "#     coeffs_dummy_values_b[i][:] = output_values[i] #C_tang update\n",
    "\n",
    "# coeffs_A = coeffs_dummy_values_b[0]"
   ]
  },
  {
   "cell_type": "code",
   "execution_count": 21,
   "metadata": {},
   "outputs": [],
   "source": [
    "@numba.njit(fastmath=True)\n",
    "def local_assembling_b(cell, coeffs_values_global_b, coeffs_coeff_values_b, coeffs_dummy_values_b, coeffs_eval_b, u_local, coeffs_constants_b, geometry, entity_local_index, perm):\n",
    "    sigma_local = coeffs_values_global_b[0][cell]\n",
    "    p_local = coeffs_coeff_values_b[0][cell]\n",
    "    dp_local = coeffs_coeff_values_b[1][cell]\n",
    "    sigma_old_local = coeffs_coeff_values_b[2][cell]\n",
    "    beta_local = coeffs_coeff_values_b[3][cell]\n",
    "    sig_eq_local = coeffs_coeff_values_b[4][cell]\n",
    "\n",
    "    output_values = coeffs_eval_b[0](sigma_local, \n",
    "                                        sigma_old_local,\n",
    "                                        p_local,\n",
    "                                        dp_local,\n",
    "                                        beta_local,\n",
    "                                        sig_eq_local,\n",
    "                                        u_local, \n",
    "                                        coeffs_constants_b[0], \n",
    "                                        geometry, entity_local_index, perm)\n",
    "\n",
    "    coeffs_b = sigma_local\n",
    "\n",
    "    for i in range(len(coeffs_dummy_values_b)):\n",
    "        coeffs_dummy_values_b[i][:] = output_values[i] #C_tang update\n",
    "\n",
    "    return coeffs_b\n",
    "\n",
    "@numba.njit(fastmath=True)\n",
    "def local_assembling_A(coeffs_dummy_values_b):\n",
    "    coeffs_A = coeffs_dummy_values_b[0]\n",
    "    return coeffs_A"
   ]
  },
  {
   "cell_type": "code",
   "execution_count": 22,
   "metadata": {},
   "outputs": [],
   "source": [
    "n = ufl.FacetNormal(mesh)\n",
    "q_lim = float(2/np.sqrt(3)*np.log(Re/Ri)*sig0)\n",
    "\n",
    "loading = fem.Constant(mesh, PETSc.ScalarType(0.0))\n",
    "\n",
    "def F_ext(v):\n",
    "    return -loading * ufl.inner(n, v)*ds(4)\n",
    "\n",
    "def eps(v):\n",
    "    e = ufl.sym(ufl.grad(v))\n",
    "    return ufl.as_tensor([[e[0, 0], e[0, 1], 0],\n",
    "                          [e[0, 1], e[1, 1], 0],\n",
    "                          [0, 0, 0]])\n",
    "\n",
    "def as_3D_tensor(X):\n",
    "    return ufl.as_tensor([[X[0], X[3], 0],\n",
    "                          [X[3], X[1], 0],\n",
    "                          [0, 0, X[2]]])\n",
    "\n",
    "def inner_product(C, epsilon):\n",
    "    i, j, k, l = ufl.indices(4)\n",
    "    return ufl.as_tensor( (C[i,j,k,l] * epsilon[k,l]), (i,j) )\n",
    "\n",
    "# def my_sigma(eps_el):\n",
    "#     return lambda_*ufl.tr(eps_el)*ufl.Identity(3) + 2*mu_*eps_el\n",
    "\n",
    "\n",
    "# pppos = lambda x: (x + ufl.sqrt(x**2))/2.\n",
    "# def proj_sig(deps):\n",
    "#     # sig_n = as_3D_tensor(old_sig)\n",
    "#     sig_elas = my_sigma(deps)\n",
    "#     # s = ufl.dev(sig_elas)\n",
    "#     # sig_eq = ufl.sqrt(3/2.*ufl.inner(s, s))\n",
    "#     # f_elas = sig_eq - sig0 - H*old_p\n",
    "#     # dp = pppos(f_elas)/(3*mu_+H)\n",
    "#     # n_elas = s/sig_eq*pppos(f_elas)/f_elas\n",
    "#     # beta = 3*mu_*dp/sig_eq\n",
    "#     new_sig = sig_elas\n",
    "#     # -beta*s\n",
    "#     return ufl.as_vector([new_sig[0, 0], new_sig[1, 1], new_sig[2, 2], new_sig[0, 1]])\n",
    "#     # , \\\n",
    "#     #        ufl.as_vector([n_elas[0, 0], n_elas[1, 1], n_elas[2, 2], n_elas[0, 1]]), \\\n",
    "#     #        beta, dp         \n",
    "\n",
    "# def sigma_tang(e):\n",
    "#     N_elas = as_3D_tensor(n_elas)\n",
    "#     return sigma(e) - 3*mu_*(3*mu_/(3*mu_+H)-beta)*ufl.inner(N_elas, e)*N_elas - 2*mu_*beta*ufl.dev(e)  \n",
    "\n"
   ]
  },
  {
   "cell_type": "code",
   "execution_count": 23,
   "metadata": {},
   "outputs": [],
   "source": [
    "# QTe = ufl.TensorElement(\"Quadrature\", mesh.ufl_cell(), degree=deg_stress, shape=(C_elas.shape), quad_scheme='default')\n",
    "# QT = fem.FunctionSpace(mesh, QTe)\n",
    "\n",
    "# QTVoigte = ufl.TensorElement(\"Quadrature\", mesh.ufl_cell(), degree=deg_stress, shape=(6, 6), quad_scheme='default')\n",
    "# QTVoigt = fem.FunctionSpace(mesh, QTe)\n",
    "\n",
    "# C_tang_tmp = fem.Function(QT)\n",
    "# C_tang_tmp_Voigt = fem.Function(QTVoigt)\n",
    "# Voigt_map = np.array([[0, 5, 4], [5, 1, 3], [4, 3, 2]], dtype=np.uint8)\n",
    "# def to_Voigt_ufl_tensor(A, A_Voigt):\n",
    "#     assert A.shape == (3, 3, 3, 3)\n",
    "#     for i in range(3):\n",
    "#         for j in range(3):\n",
    "#             for k in range(3):\n",
    "#                 for l in range(3):\n",
    "#                     alpha = Voigt_map[i,j] \n",
    "#                     beta = Voigt_map[k,l]\n",
    "#                     A_Voigt[alpha, beta] = A[i,j,k,l]"
   ]
  },
  {
   "cell_type": "code",
   "execution_count": 24,
   "metadata": {},
   "outputs": [],
   "source": [
    "sig = ca.CustomFunction(W, eps(Du), [C_tang, p, dp, sig_old, beta, sig_eq], get_eval)"
   ]
  },
  {
   "cell_type": "code",
   "execution_count": 25,
   "metadata": {},
   "outputs": [],
   "source": [
    "ds = ufl.Measure(\"ds\", domain=mesh, subdomain_data=ft)\n",
    "dx = ufl.Measure(\n",
    "    \"dx\",\n",
    "    domain=mesh,\n",
    "    metadata={\"quadrature_degree\": deg_stress, \"quadrature_scheme\": \"default\"},\n",
    ")\n",
    "\n",
    "a_Newton = ufl.inner(eps(v), inner_product(sig.tangent, eps(u_)))*dx\n",
    "res = -ufl.inner(eps(u_), as_3D_tensor(sig))*dx \n",
    "res_Neumann = F_ext(u_)\n",
    "\n",
    "# a_Newton = ufl.inner(eps(v), sigma_tang(eps(u_)))*dx\n",
    "# res = -ufl.inner(eps(u_), as_3D_tensor(sig))*dx + F_ext(u_)\n",
    "\n",
    "def project(original_field, target_field, bcs=[]):\n",
    "    # original_field -> target_field\n",
    "    # Ensure we have a mesh and attach to measure\n",
    "    V = target_field.function_space\n",
    "\n",
    "    # Define variational problem for projection\n",
    "    w = ufl.TestFunction(V)\n",
    "    Pv = ufl.TrialFunction(V)\n",
    "    a = fem.form(ufl.inner(Pv, w) * dx)\n",
    "    L = fem.form(ufl.inner(original_field, w) * dx)\n",
    "\n",
    "    # Assemble linear system\n",
    "    A = fem.petsc.assemble_matrix(a, bcs)\n",
    "    A.assemble()\n",
    "    b = fem.petsc.assemble_vector(L)\n",
    "    fem.petsc.apply_lifting(b, [a], [bcs])\n",
    "    b.ghostUpdate(addv=PETSc.InsertMode.ADD, mode=PETSc.ScatterMode.REVERSE)\n",
    "    fem.petsc.set_bc(b, bcs)\n",
    "\n",
    "    # Solve linear system\n",
    "    solver = PETSc.KSP().create(A.getComm())\n",
    "    solver.setOperators(A)\n",
    "    solver.solve(b, target_field.vector)  \n",
    "    target_field.x.scatter_forward()\n"
   ]
  },
  {
   "cell_type": "code",
   "execution_count": 26,
   "metadata": {},
   "outputs": [],
   "source": [
    "# def sigma(eps_el):\n",
    "#     return lambda_*ufl.tr(eps_el)*ufl.Identity(3) + 2*mu_*eps_el\n",
    "\n",
    "# a_Newton = ufl.inner(eps(v), sigma(eps(u_)))*dx\n",
    "# # a_Newton = ufl.inner(eps(v), inner_product(C_elas_const, eps(u_)))*dx\n",
    "\n",
    "# # b = fem.petsc.create_vector(fem.form(res))\n",
    "# A = fem.petsc.create_matrix(fem.form(a_Newton))\n",
    "# A.zeroEntries()\n",
    "# fem.petsc.assemble_matrix(A, fem.form(a_Newton), bcs=bcs)\n",
    "# A.assemble()\n",
    "# A.norm()"
   ]
  },
  {
   "cell_type": "code",
   "execution_count": 27,
   "metadata": {},
   "outputs": [],
   "source": [
    "my_solver = ca.CustomSolver(a_Newton, res, Du, local_assembling_A, local_assembling_b, bcs)\n",
    "my_solver.assemble_matrix()"
   ]
  },
  {
   "cell_type": "code",
   "execution_count": 28,
   "metadata": {},
   "outputs": [],
   "source": [
    "# Defining a cell containing (Ri, 0) point, where we calculate a value of u\n",
    "\n",
    "cells = []\n",
    "points_on_proc = []\n",
    "x_point = np.zeros((1, 3))\n",
    "x_point[0][0] = Ri\n",
    "tree = BoundingBoxTree(mesh, mesh.geometry.dim)\n",
    "cell_candidates = compute_collisions(tree, x_point)\n",
    "colliding_cells = compute_colliding_cells(mesh, cell_candidates, x_point)\n",
    "for i, point in enumerate(x_point):\n",
    "    if len(colliding_cells.links(i)) > 0:\n",
    "        points_on_proc.append(point)\n",
    "        cells.append(colliding_cells.links(i)[0])"
   ]
  },
  {
   "cell_type": "code",
   "execution_count": 29,
   "metadata": {},
   "outputs": [
    {
     "name": "stdout",
     "output_type": "stream",
     "text": [
      "\n",
      "nRes0 , 2.853682384400221 \n",
      " Increment: 1, load = 17.7621446711497\n",
      "    Residual: 4.765682153459638e-12\n",
      "\n",
      "nRes0 , 1.1820339463234755 \n",
      " Increment: 2, load = 25.119465890772904\n",
      "    Residual: 1.9882371198588847e-12\n",
      "\n",
      "nRes0 , 0.9070065477213867 \n",
      " Increment: 3, load = 30.764937021820067\n",
      "    Residual: 1.479133233507551e-12\n",
      "\n",
      "nRes0 , 0.7646418903548728 \n",
      " Increment: 4, load = 35.5242893422994\n",
      "    Residual: 1.2704578136145208e-12\n",
      "\n",
      "nRes0 , 0.6736630289120594 \n",
      " Increment: 5, load = 39.717362910876375\n",
      "    Residual: 1.133344836556522e-12\n",
      "\n",
      "nRes0 , 0.6090379320367423 \n",
      " Increment: 6, load = 43.50819118181207\n",
      "    Residual: 1.0191161282182867e-12\n",
      "\n",
      "nRes0 , 0.5600681801393637 \n",
      " Increment: 7, load = 46.99421755101324\n",
      "    Residual: 9.09688287617079e-13\n",
      "\n",
      "nRes0 , 0.5212987515591012 \n",
      " Increment: 8, load = 50.23893178154581\n",
      "    Residual: 8.458536876257281e-13\n",
      "\n",
      "nRes0 , 0.4896144917526492 \n",
      " Increment: 9, load = 53.286434013449096\n",
      "    Residual: 8.162564225204468e-13\n",
      "\n",
      "nRes0 , 0.4630889002041465 \n",
      " Increment: 10, load = 56.16883329025551\n",
      "    Residual: 7.719336379775831e-13\n",
      "\n",
      "nRes0 , 0.44045768649738437 \n",
      " Increment: 11, load = 58.910369346214146\n",
      "    Residual: 0.020814543568062328\n",
      "    Residual: 0.002548832893929709\n",
      "    Residual: 3.7654636959856e-08\n",
      "    Residual: 2.1227826229439267e-13\n",
      "\n",
      "nRes0 , 0.4208520169886877 \n",
      " Increment: 12, load = 61.529874043640135\n",
      "    Residual: 0.5666357004994987\n",
      "    Residual: 0.011716123256630843\n",
      "    Residual: 0.0004217526731326688\n",
      "    Residual: 1.4750617061680683e-09\n",
      "\n",
      "nRes0 , 0.4036524040166169 \n",
      " Increment: 13, load = 64.0423233740397\n",
      "    Residual: 1.0193565133118028\n",
      "    Residual: 0.016325234704002826\n",
      "    Residual: 1.3467968138410284e-05\n",
      "    Residual: 1.6198377052282736e-11\n",
      "\n",
      "nRes0 , 0.38840361225450404 \n",
      " Increment: 14, load = 66.45985981375466\n",
      "    Residual: 1.0407743279428137\n",
      "    Residual: 0.03332973790901026\n",
      "    Residual: 0.0011946976796518235\n",
      "    Residual: 1.0822176926910147e-08\n",
      "    Residual: 2.4208452465336306e-13\n",
      "\n",
      "nRes0 , 0.37476257704976856 \n",
      " Increment: 15, load = 68.7924905042896\n",
      "    Residual: 0.9993754732701936\n",
      "    Residual: 0.03386924020533849\n",
      "    Residual: 6.352297535469979e-05\n",
      "    Residual: 5.106140776597165e-10\n",
      "\n",
      "nRes0 , 0.36246518745374445 \n",
      " Increment: 16, load = 71.0485786845988\n",
      "    Residual: 1.1811005219143096\n",
      "    Residual: 0.0527102294974581\n",
      "    Residual: 0.003719201830075512\n",
      "    Residual: 2.3750034576770824e-07\n",
      "    Residual: 3.344301136832148e-13\n",
      "\n",
      "nRes0 , 0.35130435524569514 \n",
      " Increment: 17, load = 73.23519861665207\n",
      "    Residual: 1.4102883902689198\n",
      "    Residual: 0.14201573562056005\n",
      "    Residual: 0.016420577475049054\n",
      "    Residual: 2.3537354124356127e-06\n",
      "    Residual: 4.5390741659493324e-13\n",
      "\n",
      "nRes0 , 0.34111509932538847 \n",
      " Increment: 18, load = 75.3583976723187\n",
      "    Residual: 1.978728524134647\n",
      "    Residual: 0.9622007283499352\n",
      "    Residual: 0.6950773521936733\n",
      "    Residual: 0.009600348615868273\n",
      "    Residual: 4.639802185846493e-06\n",
      "    Residual: 2.5533081147940076e-12\n",
      "\n",
      "nRes0 , 0.33176413839095964 \n",
      " Increment: 19, load = 77.42339364209101\n",
      "    Residual: 1.8507463457619333\n",
      "    Residual: 0.20961792921236957\n",
      "    Residual: 0.0008730142508206087\n",
      "    Residual: 1.0969479446082006e-08\n",
      "    Residual: 7.369594685433309e-12\n",
      "\n",
      "nRes0 , 0.32314246486237347 \n",
      " Increment: 20, load = 79.43472582175275\n",
      "    Residual: 0.20156747526751156\n",
      "    Residual: 0.0005109734169305946\n",
      "    Residual: 6.313313746484799e-10\n",
      "rank#0: Time = 10.107 (s)\n"
     ]
    }
   ],
   "source": [
    "Nitermax, tol = 20, 1e-8  # parameters of the Newton-Raphson procedure\n",
    "Nincr = 20\n",
    "load_steps = np.linspace(0, 1.1, Nincr+1)[1:]**0.5\n",
    "load_steps = load_steps\n",
    "\n",
    "results = np.zeros((Nincr+1, 2))\n",
    "# xdmf = io.XDMFFile(MPI.COMM_WORLD, \"plasticity.xdmf\", \"w\", encoding=io.XDMFFile.Encoding.HDF5)\n",
    "# xdmf.write_mesh(mesh)\n",
    "\n",
    "Res_Neumann = fem.petsc.create_vector(fem.form(res_Neumann))\n",
    "sig.vector.set(0.0)\n",
    "sig_old.vector.set(0.0)\n",
    "p.vector.set(0.0)\n",
    "u.vector.set(0.0)\n",
    "\n",
    "start = time.time()\n",
    "\n",
    "for (i, t) in enumerate(load_steps):\n",
    "    Du.vector.set(0.0)\n",
    "    Du.x.scatter_forward()\n",
    "\n",
    "    loading.value = t * q_lim\n",
    "    with Res_Neumann.localForm() as b_local:\n",
    "        b_local.set(0.0)\n",
    "    fem.petsc.assemble_vector(Res_Neumann, fem.form(res_Neumann))\n",
    "    my_solver.assemble_vector(b_additional=Res_Neumann)\n",
    "    my_solver.b.ghostUpdate(addv=PETSc.InsertMode.ADD, mode=PETSc.ScatterMode.REVERSE)\n",
    "    fem.set_bc(my_solver.b, my_solver.bcs)\n",
    "    \n",
    "    # print(t * q_lim, Res_Neumann.norm())\n",
    "    # my_solver.data_extraction() ##!!!!!!\n",
    "    # print(my_solver.constants_values_b)\n",
    "    # Res0 = fem.petsc.assemble_vector(fem.form(res))\n",
    "    # Res0.ghostUpdate(addv=PETSc.InsertMode.ADD, mode=PETSc.ScatterMode.REVERSE)\n",
    "    # fem.set_bc(Res0, bcs, du.vector)\n",
    "\n",
    "    # nRes0 = Res0.norm() # Which one? - ufl.sqrt(Res.dot(Res))\n",
    "    nRes0 = my_solver.b.norm()\n",
    "    nRes = nRes0\n",
    "    # nRes = 1\n",
    "    # zero_Du.vector.copy(Du.vector)\n",
    "    # Du_tmp.vector.set(0.0)\n",
    "    \n",
    "    if MPI.COMM_WORLD.rank == 0:\n",
    "        print(f\"\\nnRes0 , {nRes0} \\n Increment: {str(i+1)}, load = {loading.value}\")\n",
    "    niter = 0\n",
    "     \n",
    "    \n",
    "    while nRes/nRes0 > tol and niter < Nitermax:\n",
    "        # print(np.max(du.x.array), np.max(sig.x.array), my_solver.A.norm(), np.max(beta.x.array), np.max(dp.x.array), np.max(sig_eq.x.array))\n",
    "        \n",
    "        # print(my_solver.b.norm())\n",
    "\n",
    "        my_solver.solve(du)\n",
    "        # du.x.scatter_forward() \n",
    "\n",
    "        Du.vector.axpy(1, du.vector) # Du = Du + 1*du\n",
    "        Du.x.scatter_forward() \n",
    "        # Du_tmp.vector.copy(Du.vector)\n",
    "\n",
    "        my_solver.assemble(b_additional=Res_Neumann)\n",
    "        # my_solver.assemble_matrix()\n",
    "        # my_solver.assemble_vector(b_additional=Res_Neumann)\n",
    "        # my_solver.b.ghostUpdate(addv=PETSc.InsertMode.ADD, mode=PETSc.ScatterMode.REVERSE)\n",
    "        # fem.set_bc(my_solver.b, my_solver.bcs)\n",
    "        # print(np.max(sig.x.array), np.min(sig.x.array), np.mean(sig.x.array))\n",
    "\n",
    "        nRes = my_solver.b.norm() \n",
    "        if MPI.COMM_WORLD.rank == 0:\n",
    "            print(f\"    Residual: {nRes}\")\n",
    "        niter += 1\n",
    "    u.vector.axpy(1, Du.vector) # u = u + 1*Du\n",
    "    u.x.scatter_forward()\n",
    "\n",
    "    sig_old.x.array[:] = sig.x.array\n",
    "    # sig.vector.copy(sig_old.vector)\n",
    "    # sig.x.scatter_forward()\n",
    "\n",
    "    # print(np.max(dp.x.array), np.min(dp.x.array), np.mean(dp.x.array))\n",
    "    p.vector.axpy(1, dp.vector)\n",
    "\n",
    "    # p.x.scatter_forward()\n",
    "\n",
    "    project(p, p_avg)\n",
    "    p_avg.x.scatter_forward()\n",
    "    \n",
    "    # xdmf.write_function(u, t)\n",
    "    # xdmf.write_function(p_avg, t)\n",
    "\n",
    "    if len(points_on_proc) > 0:\n",
    "        results[i+1, :] = (u.eval(points_on_proc, cells)[0], t)\n",
    "\n",
    "# xdmf.close()\n",
    "end = time.time()\n",
    "print(f'rank#{MPI.COMM_WORLD.rank}: Time = {end-start:.3f} (s)')"
   ]
  },
  {
   "cell_type": "code",
   "execution_count": 30,
   "metadata": {},
   "outputs": [
    {
     "data": {
      "image/png": "[encoded data removed]",
      "text/plain": [
       "<Figure size 432x288 with 1 Axes>"
      ]
     },
     "metadata": {
      "needs_background": "light"
     },
     "output_type": "display_data"
    }
   ],
   "source": [
    "if len(points_on_proc) > 0:\n",
    "    import matplotlib.pyplot as plt\n",
    "    plt.plot(results[:, 0], results[:, 1], \"-o\")\n",
    "    plt.xlabel(\"Displacement of inner boundary\")\n",
    "    plt.ylabel(r\"Applied pressure $q/q_{lim}$\")\n",
    "    plt.savefig(f\"displacement_rank{MPI.COMM_WORLD.rank:d}.png\")\n",
    "    plt.show()"
   ]
  },
  {
   "cell_type": "code",
   "execution_count": 31,
   "metadata": {},
   "outputs": [],
   "source": [
    "  # A.zeroEntries()\n",
    "    # fem.petsc.assemble_matrix(A, fem.form(a_Newton), bcs=bcs)\n",
    "    # A.assemble()\n",
    "\n",
    "    # Res0 = fem.petsc.assemble_vector(fem.form(res))\n",
    "    # with Res0.localForm() as loc_b:\n",
    "    #     loc_b.set(0.)\n",
    "    # fem.petsc.assemble_vector(Res0, fem.form(res))\n",
    "    # Res0.assemble()\n",
    "\n",
    "    # fem.petsc.apply_lifting(Res0, [fem.form(a_Newton)], [bcs], x0=[Du.vector], scale=-1.0)\n",
    "    # Res0.ghostUpdate(addv=PETSc.InsertMode.ADD, mode=PETSc.ScatterMode.REVERSE)\n",
    "    # fem.petsc.set_bc(Res, bcs, Du.vector, -1.0)\n",
    "\n",
    "    # solver.setOperators(A)"
   ]
  },
  {
   "cell_type": "code",
   "execution_count": 32,
   "metadata": {},
   "outputs": [],
   "source": [
    "# Res.array.shape"
   ]
  },
  {
   "cell_type": "code",
   "execution_count": 33,
   "metadata": {},
   "outputs": [
    {
     "data": {
      "text/plain": [
       "6198"
      ]
     },
     "execution_count": 33,
     "metadata": {},
     "output_type": "execute_result"
    }
   ],
   "source": [
    "du.vector.size"
   ]
  },
  {
   "cell_type": "code",
   "execution_count": 34,
   "metadata": {},
   "outputs": [
    {
     "data": {
      "text/plain": [
       "6198"
      ]
     },
     "execution_count": 34,
     "metadata": {},
     "output_type": "execute_result"
    }
   ],
   "source": [
    "du.x.array.size"
   ]
  },
  {
   "cell_type": "code",
   "execution_count": 35,
   "metadata": {},
   "outputs": [
    {
     "ename": "SyntaxError",
     "evalue": "invalid syntax (791267900.py, line 1)",
     "output_type": "error",
     "traceback": [
      "\u001b[0;36m  Input \u001b[0;32mIn [35]\u001b[0;36m\u001b[0m\n\u001b[0;31m    V.dofmap.\u001b[0m\n\u001b[0m             ^\u001b[0m\n\u001b[0;31mSyntaxError\u001b[0m\u001b[0;31m:\u001b[0m invalid syntax\n"
     ]
    }
   ],
   "source": [
    "V.dofmap."
   ]
  },
  {
   "cell_type": "code",
   "execution_count": null,
   "metadata": {},
   "outputs": [
    {
     "data": {
      "text/plain": [
       "2956"
      ]
     },
     "execution_count": 70,
     "metadata": {},
     "output_type": "execute_result"
    }
   ],
   "source": [
    "1478*2"
   ]
  },
  {
   "cell_type": "code",
   "execution_count": null,
   "metadata": {},
   "outputs": [
    {
     "data": {
      "text/plain": [
       "3099"
      ]
     },
     "execution_count": 75,
     "metadata": {},
     "output_type": "execute_result"
    }
   ],
   "source": [
    "V.dofmap.index_map.size_global"
   ]
  },
  {
   "cell_type": "code",
   "execution_count": null,
   "metadata": {},
   "outputs": [
    {
     "name": "stdout",
     "output_type": "stream",
     "text": [
      "Number of dofs (owned) by rank : 6198\n",
      "Number of dofs global: 6198\n"
     ]
    }
   ],
   "source": [
    "num_dofs_local = (V.dofmap.index_map.size_local) * V.dofmap.index_map_bs\n",
    "num_dofs_global = V.dofmap.index_map.size_global * V.dofmap.index_map_bs\n",
    "\n",
    "print(f\"Number of dofs (owned) by rank : {num_dofs_local}\")\n",
    "# if COMM_WORLD.rank ==0:\n",
    "print(f\"Number of dofs global: {num_dofs_global}\")"
   ]
  },
  {
   "cell_type": "code",
   "execution_count": null,
   "metadata": {},
   "outputs": [],
   "source": []
  }
 ],
 "metadata": {
  "interpreter": {
   "hash": "31f2aee4e71d21fbe5cf8b01ff0e069b9275f58929596ceb00d14d90e3e16cd6"
  },
  "kernelspec": {
   "display_name": "Python 3.8.10 64-bit",
   "language": "python",
   "name": "python3"
  },
  "language_info": {
   "codemirror_mode": {
    "name": "ipython",
    "version": 3
   },
   "file_extension": ".py",
   "mimetype": "text/x-python",
   "name": "python",
   "nbconvert_exporter": "python",
   "pygments_lexer": "ipython3",
   "version": "3.9.7"
  },
  "orig_nbformat": 4
 },
 "nbformat": 4,
 "nbformat_minor": 2
}
