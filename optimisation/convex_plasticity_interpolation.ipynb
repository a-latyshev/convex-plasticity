{
 "cells": [
  {
   "cell_type": "markdown",
   "metadata": {},
   "source": [
    "Implementation of 2D elasto-plastic problem using FEniCS-X. The code is based on a [legacy solution](https://comet-fenics.readthedocs.io/en/latest/demo/2D_plasticity/vonMises_plasticity.py.html) for FEniCS 2019.\n",
    "\n",
    "The program was tested for 0.3.1.0 version of Dolfinx."
   ]
  },
  {
   "cell_type": "code",
   "execution_count": 15,
   "metadata": {},
   "outputs": [],
   "source": [
    "import convex_return_mapping as crm\n",
    "import cvxpy as cp"
   ]
  },
  {
   "cell_type": "code",
   "execution_count": 16,
   "metadata": {},
   "outputs": [],
   "source": [
    "import meshio\n",
    "import numpy as np\n",
    "\n",
    "import ufl\n",
    "from dolfinx import fem, io\n",
    "from mpi4py import MPI\n",
    "from petsc4py import PETSc\n",
    "from dolfinx.geometry import (BoundingBoxTree, compute_colliding_cells, compute_collisions)\n",
    "import time\n",
    "import basix\n",
    "\n",
    "def create_mesh(mesh, cell_type, prune_z=False):\n",
    "    cells = mesh.get_cells_type(cell_type)\n",
    "    cell_data = mesh.get_cell_data(\"gmsh:physical\", cell_type)\n",
    "    points = mesh.points[:,:2] if prune_z else mesh.points\n",
    "    out_mesh = meshio.Mesh(points=points, cells={cell_type: cells}, cell_data={\"name_to_read\":[cell_data]})\n",
    "    return out_mesh\n",
    "\n",
    "# defining function to interpolate function defined over quadrature elements\n",
    "def interpolate_quadrature(ufl_expr, fem_func):\n",
    "    q_dim = fem_func.function_space._ufl_element.degree()\n",
    "    mesh = fem_func.ufl_function_space().mesh\n",
    "    \n",
    "    basix_celltype = getattr(basix.CellType, mesh.topology.cell_type.name)\n",
    "    quadrature_points, weights = basix.make_quadrature(basix_celltype, q_dim)\n",
    "    map_c = mesh.topology.index_map(mesh.topology.dim)\n",
    "    num_cells = map_c.size_local + map_c.num_ghosts\n",
    "    cells = np.arange(0, num_cells, dtype=np.int32)\n",
    "\n",
    "    expr_expr = fem.Expression(ufl_expr, quadrature_points)\n",
    "    expr_eval = expr_expr.eval(cells)\n",
    "    fem_func.x.array[:] = expr_eval.flatten()[:]\n",
    "    fem_func.x.scatter_forward()"
   ]
  },
  {
   "cell_type": "code",
   "execution_count": 17,
   "metadata": {},
   "outputs": [
    {
     "name": "stdout",
     "output_type": "stream",
     "text": [
      "\n",
      "<meshio mesh object>\n",
      "  Number of points: 50\n",
      "  Number of cells:\n",
      "    line: 2\n",
      "    line: 14\n",
      "    line: 2\n",
      "    line: 11\n",
      "    triangle: 69\n",
      "  Cell sets: gmsh:bounding_entities\n",
      "  Point data: gmsh:dim_tags\n",
      "  Cell data: gmsh:physical, gmsh:geometrical\n"
     ]
    }
   ],
   "source": [
    "if MPI.COMM_WORLD.rank == 0:\n",
    "\n",
    "    #It works with the msh4 only!!\n",
    "    msh = meshio.read(\"thick_cylinder_d2.msh\")\n",
    "\n",
    "    # Create and save one file for the mesh, and one file for the facets \n",
    "    triangle_mesh = create_mesh(msh, \"triangle\", prune_z=True)\n",
    "    line_mesh = create_mesh(msh, \"line\", prune_z=True)\n",
    "    meshio.write(\"thick_cylinder.xdmf\", triangle_mesh)\n",
    "    meshio.write(\"mt.xdmf\", line_mesh)\n",
    "    print(msh)\n",
    "    "
   ]
  },
  {
   "cell_type": "code",
   "execution_count": 18,
   "metadata": {},
   "outputs": [],
   "source": [
    "with io.XDMFFile(MPI.COMM_WORLD, \"thick_cylinder.xdmf\", \"r\") as xdmf:\n",
    "    mesh = xdmf.read_mesh(name=\"Grid\")\n",
    "    ct = xdmf.read_meshtags(mesh, name=\"Grid\")\n",
    "\n",
    "mesh.topology.create_connectivity(mesh.topology.dim, mesh.topology.dim - 1)\n",
    "\n",
    "with io.XDMFFile(MPI.COMM_WORLD, \"mt.xdmf\", \"r\") as xdmf:\n",
    "    ft = xdmf.read_meshtags(mesh, name=\"Grid\")"
   ]
  },
  {
   "cell_type": "code",
   "execution_count": 19,
   "metadata": {},
   "outputs": [],
   "source": [
    "# elastic parameters\n",
    "sig0_dim = 250. #[Pa]\n",
    "Ri_dim = 1.0 #[m]\n",
    "\n",
    "E = 70e3 / sig0_dim #[-]\n",
    "nu = 0.3 #[-]\n",
    "lmbda = E*nu/(1+nu)/(1-2*nu)\n",
    "mu = fem.Constant(mesh, PETSc.ScalarType(E/2./(1+nu)))\n",
    "# sig0 = fem.Constant(mesh, PETSc.ScalarType(250))  # yield strength 250\n",
    "sig0 = 250 / sig0_dim #[-]\n",
    "Et = E/100.  # tangent modulus\n",
    "H = E*Et/(E-Et)  # hardening modulus\n",
    "\n",
    "Re, Ri = 1.3, 1.   # external/internal radius"
   ]
  },
  {
   "cell_type": "code",
   "execution_count": 20,
   "metadata": {},
   "outputs": [],
   "source": [
    "deg_u = 2\n",
    "deg_stress = 2\n",
    "V = fem.VectorFunctionSpace(mesh, (\"CG\", deg_u))\n",
    "We = ufl.VectorElement(\"Quadrature\", mesh.ufl_cell(), degree=deg_stress, dim=4, quad_scheme='default')\n",
    "W0e = ufl.FiniteElement(\"Quadrature\", mesh.ufl_cell(), degree=deg_stress, quad_scheme='default')\n",
    "WTe = ufl.TensorElement(\"Quadrature\", mesh.ufl_cell(), degree=deg_stress, shape=(4, 4), quad_scheme='default')\n",
    "\n",
    "W = fem.FunctionSpace(mesh, We)\n",
    "W0 = fem.FunctionSpace(mesh, W0e)\n",
    "WT = fem.FunctionSpace(mesh, WTe)"
   ]
  },
  {
   "cell_type": "code",
   "execution_count": 21,
   "metadata": {},
   "outputs": [],
   "source": [
    "sig = fem.Function(W)\n",
    "sig_old = fem.Function(W)\n",
    "# n_elas = fem.Function(W)\n",
    "# beta = fem.Function(W0)\n",
    "p = fem.Function(W0, name=\"Cumulative_plastic_strain\")\n",
    "p_old = fem.Function(W0, name=\"Cumulative_plastic_strain\")\n",
    "# theta = fem.Function(W0)\n",
    "dp = fem.Function(W0)\n",
    "u = fem.Function(V, name=\"Total_displacement\")\n",
    "du = fem.Function(V, name=\"Iteration_correction\")\n",
    "Du = fem.Function(V, name=\"Current_increment\")\n",
    "v = ufl.TrialFunction(V)\n",
    "u_ = ufl.TestFunction(V)\n",
    "C_tang = fem.Function(WT)\n",
    "\n",
    "deps = fem.Function(W, name=\"deps\")\n",
    "\n",
    "P0 = fem.FunctionSpace(mesh, (\"DG\", 0))\n",
    "p_avg = fem.Function(P0, name=\"Plastic_strain\")"
   ]
  },
  {
   "cell_type": "code",
   "execution_count": 22,
   "metadata": {},
   "outputs": [],
   "source": [
    "left_marker = 3\n",
    "down_marker = 1\n",
    "left_facets = ft.indices[ft.values == left_marker]\n",
    "down_facets = ft.indices[ft.values == down_marker]\n",
    "left_dofs = fem.locate_dofs_topological(V.sub(0), mesh.topology.dim-1, left_facets)\n",
    "down_dofs = fem.locate_dofs_topological(V.sub(1), mesh.topology.dim-1, down_facets)\n",
    "\n",
    "bcs = [fem.dirichletbc(PETSc.ScalarType(0), left_dofs, V.sub(0)), fem.dirichletbc(PETSc.ScalarType(0), down_dofs, V.sub(1))]"
   ]
  },
  {
   "cell_type": "code",
   "execution_count": 23,
   "metadata": {},
   "outputs": [],
   "source": [
    "n = ufl.FacetNormal(mesh)\n",
    "q_lim = float(2/np.sqrt(3)*np.log(Re/Ri)*sig0)\n",
    "loading = fem.Constant(mesh, PETSc.ScalarType(0.0 * q_lim))\n",
    "\n",
    "SQRT2 = np.sqrt(2.)\n",
    "\n",
    "def F_ext(v):\n",
    "    return -loading * ufl.inner(n, v)*ds(4)\n",
    "\n",
    "def eps(v):\n",
    "    e = ufl.sym(ufl.grad(v))\n",
    "    return ufl.as_tensor([[e[0, 0], e[0, 1], 0],\n",
    "                          [e[0, 1], e[1, 1], 0],\n",
    "                          [0, 0, 0]])\n",
    "\n",
    "def eps_vec(v):\n",
    "    e = ufl.sym(ufl.grad(v))\n",
    "    return ufl.as_vector([e[0, 0], e[1, 1], 0, SQRT2 * e[0, 1]])\n",
    "\n",
    "def as_3D_tensor(X):\n",
    "    return ufl.as_tensor([[X[0], X[3]/SQRT2, 0],\n",
    "                          [X[3]/SQRT2, X[1], 0],\n",
    "                          [0, 0, X[2]]])       "
   ]
  },
  {
   "cell_type": "code",
   "execution_count": 24,
   "metadata": {},
   "outputs": [],
   "source": [
    "vonMises = crm.vonMises(sig0, H)\n",
    "material = crm.Material(crm.IsotropicElasticity(E, nu), vonMises)\n",
    "n_quadrature_points = len(C_tang.x.array.reshape((-1, 4, 4)))\n",
    "for i in range(n_quadrature_points):\n",
    "    C_tang.x.array.reshape((-1, 4, 4))[i,:,:] = material.C"
   ]
  },
  {
   "cell_type": "code",
   "execution_count": 25,
   "metadata": {},
   "outputs": [],
   "source": [
    "ds = ufl.Measure(\"ds\", domain=mesh, subdomain_data=ft)\n",
    "dx = ufl.Measure(\n",
    "    \"dx\",\n",
    "    domain=mesh,\n",
    "    metadata={\"quadrature_degree\": deg_stress, \"quadrature_scheme\": \"default\"},\n",
    ")\n",
    "\n",
    "a_Newton = ufl.inner(eps_vec(v), ufl.dot(C_tang, eps_vec(u_)))*dx \n",
    "res = -ufl.inner(eps(u_), as_3D_tensor(sig))*dx + F_ext(u_)\n",
    "\n",
    "def project(original_field, target_field, bcs=[]):\n",
    "    # original_field -> target_field\n",
    "    # Ensure we have a mesh and attach to measure\n",
    "    V = target_field.function_space\n",
    "\n",
    "    # Define variational problem for projection\n",
    "    w = ufl.TestFunction(V)\n",
    "    Pv = ufl.TrialFunction(V)\n",
    "    a = fem.form(ufl.inner(Pv, w) * dx)\n",
    "    L = fem.form(ufl.inner(original_field, w) * dx)\n",
    "\n",
    "    # Assemble linear system\n",
    "    A = fem.petsc.assemble_matrix(a, bcs)\n",
    "    A.assemble()\n",
    "    b = fem.petsc.assemble_vector(L)\n",
    "    fem.petsc.apply_lifting(b, [a], [bcs])\n",
    "    b.ghostUpdate(addv=PETSc.InsertMode.ADD, mode=PETSc.ScatterMode.REVERSE)\n",
    "    fem.petsc.set_bc(b, bcs)\n",
    "\n",
    "    # Solve linear system\n",
    "    solver = PETSc.KSP().create(A.getComm())\n",
    "    solver.setOperators(A)\n",
    "    solver.solve(b, target_field.vector)  \n",
    "    target_field.x.scatter_forward()\n"
   ]
  },
  {
   "cell_type": "code",
   "execution_count": 26,
   "metadata": {},
   "outputs": [],
   "source": [
    "problem = fem.petsc.LinearProblem(\n",
    "    a_Newton,\n",
    "    res,\n",
    "    bcs=bcs,\n",
    "    petsc_options={\n",
    "        \"pc_type\": \"lu\",\n",
    "        \"pc_factor_mat_solver_type\": \"mumps\",\n",
    "    },\n",
    ")\n",
    "\n",
    "form_res = fem.form(res)\n",
    "form_a_Newton = fem.form(a_Newton)\n",
    "\n",
    "b = fem.petsc.create_vector(form_res)\n",
    "A = fem.petsc.create_matrix(form_a_Newton)\n",
    "\n",
    "with b.localForm() as b_local:\n",
    "    b_local.set(0.0)\n",
    "fem.petsc.assemble_vector(b, form_res)\n",
    "b.ghostUpdate(addv=PETSc.InsertMode.ADD, mode=PETSc.ScatterMode.REVERSE)\n",
    "fem.set_bc(b, bcs)\n",
    "\n",
    "A.zeroEntries()\n",
    "fem.petsc.assemble_matrix(A, form_a_Newton, bcs=bcs)\n",
    "A.assemble()\n",
    "\n",
    "solver = PETSc.KSP().create(mesh.comm)\n",
    "solver.setType(\"preonly\")\n",
    "solver.getPC().setType(\"lu\")\n",
    "solver.setOperators(A)"
   ]
  },
  {
   "cell_type": "code",
   "execution_count": 27,
   "metadata": {},
   "outputs": [],
   "source": [
    "# Defining a cell containing (Ri, 0) point, where we calculate a value of u\n",
    "\n",
    "cells = []\n",
    "points_on_proc = []\n",
    "x_point = np.zeros((1, 3))\n",
    "x_point[0][0] = Ri\n",
    "tree = BoundingBoxTree(mesh, mesh.geometry.dim)\n",
    "cell_candidates = compute_collisions(tree, x_point)\n",
    "colliding_cells = compute_colliding_cells(mesh, cell_candidates, x_point)\n",
    "for i, point in enumerate(x_point):\n",
    "    if len(colliding_cells.links(i)) > 0:\n",
    "        points_on_proc.append(point)\n",
    "        cells.append(colliding_cells.links(i)[0])"
   ]
  },
  {
   "cell_type": "code",
   "execution_count": 28,
   "metadata": {},
   "outputs": [],
   "source": [
    "class ReturnMapping:\n",
    "    def __init__(self, material, solver=cp.SCS):\n",
    "        self.material = material\n",
    "        self.deps = cp.Parameter((4,))\n",
    "        self.sig_old = cp.Parameter((4,))\n",
    "        self.sig_elas = self.sig_old + self.material.C @ self.deps\n",
    "        self.sig = cp.Variable((4,))\n",
    "        \n",
    "        self.p_old = cp.Parameter(nonneg=True)\n",
    "        self.theta_elas = self.p_old * vonMises.H.value\n",
    "        self.theta = cp.Variable(nonneg=True)\n",
    "        self.p = self.theta / vonMises.H.value\n",
    "\n",
    "        # self.dp = cp.Parameter(nonneg=True) \n",
    "\n",
    "        self.sig_old.value = np.zeros((4,))\n",
    "        self.deps.value = np.zeros((4,))\n",
    "        self.p_old.value = 0\n",
    "\n",
    "        target_expression = cp.quad_form(self.sig - self.sig_elas, np.linalg.inv(self.material.C)) + cp.square(self.theta - self.theta_elas) / vonMises.H.value\n",
    "        # target_expression = cp.sum_squares(self.sig - self.sig_elas) + cp.square(self.theta - self.theta_elas) / vonMises.H.value\n",
    "        # /vonMises.H.value\n",
    "\n",
    "        # tmp_expr = cp.sum_squares(self.theta - self.theta_elas) \n",
    "        # tmp_expr2 = (cp.square(self.theta) - cp.square(self.theta_elas))\n",
    "        # print(target_expression.is_dcp(dpp=True))\n",
    "        # print(self.p.sign)\n",
    "        \n",
    "        self.constrains = material.criterion(self.sig, self.p, self.theta) \n",
    "        # + [self.p - self.p_old >= 0]\n",
    "\n",
    "        if self.material.plane_stress:\n",
    "            self.constrains.append(self.sig[2] == 0)\n",
    "\n",
    "        self.opt_problem = cp.Problem(cp.Minimize(target_expression), self.constrains)\n",
    "        # print(self.opt_problem.is_dcp(dpp=True))\n",
    "        # print(self.opt_problem.is_dgp(dpp=True))\n",
    "        self.solver = solver\n",
    "        \n",
    "    def solve(self, **kwargs):\n",
    "        self.opt_problem.solve(solver=self.solver, requires_grad=True, **kwargs)\n",
    "        # print(\"status:\", self.opt_problem.status)\n",
    "        # print(\"optimal value\", self.opt_problem.value)\n",
    "        # self.dp.value = self.p.value - self.p_old.value\n",
    "        # self.sig_old.value = self.sig.value\n",
    "        # self.dp_old.value = self.p.value\n",
    "\n",
    "        self.C_tang = np.zeros((4, 4))\n",
    "        for i in range(4):\n",
    "            z = np.zeros((4,))\n",
    "            z[i] = 1\n",
    "            self.deps.delta = z\n",
    "            self.opt_problem.derivative()\n",
    "            self.C_tang[i, :] = self.sig.delta \n",
    "    \n",
    "return_mapping = ReturnMapping(material)"
   ]
  },
  {
   "cell_type": "code",
   "execution_count": 29,
   "metadata": {},
   "outputs": [],
   "source": [
    "def error_norm1(uh, u):\n",
    "    return np.sum(np.abs(u - uh)) / np.sum(np.abs(u))\n",
    "\n",
    "def error_norm2(uh, u):\n",
    "    return np.sqrt(np.dot(u - uh, u - uh)) / np.sqrt(np.dot(u, u))\n",
    "\n",
    "C_fake = fem.Function(WT)\n",
    "\n",
    "for i in range(n_quadrature_points):\n",
    "    C_fake.x.array.reshape((-1, 4, 4))[i,:,:] = material.C"
   ]
  },
  {
   "cell_type": "code",
   "execution_count": 30,
   "metadata": {},
   "outputs": [
    {
     "name": "stdout",
     "output_type": "stream",
     "text": [
      "C_tang 376.9230769230769 0.0\n",
      "\n",
      "nRes0 , 0.02493317016116743 \n",
      " Increment: 1, load = 0.0710485786845988\n",
      "du 0.0009941219182553569 0.0 0.011968600503365618\n",
      "p 3.476437054839894e-14 7.80041621811286e-15 0.0 2.631688233207313e-16\n",
      "C_tang 376.9230809824801 -0.0011496524165617115\n",
      "C_tang relative error 7.082703260877067e-08 2.407484061953789e-07\n",
      "    Residual: 1.590185867571917e-12\n",
      "p after copy 3.476437054839894e-14 0.0 0.0 2.631688233207313e-16\n",
      "\n",
      "nRes0 , 0.010327657233721723 \n",
      " Increment: 2, load = 0.10047786356309162\n",
      "du 0.00041177877860750265 0.0 0.0049575565843198045\n",
      "p 6.575239674851924e-14 9.530320964189402e-15 0.0 0.0\n",
      "C_tang 376.92307968317164 -0.00039579242578475365\n",
      "C_tang relative error 3.344666320608744e-08 9.583556037649027e-08\n",
      "    Residual: 6.327546560680119e-09\n",
      "du 8.314835271592926e-12 -2.679591159055194e-13 7.39415723785431e-11\n",
      "p 6.571822506405174e-14 9.538196149005659e-15 0.0 0.0\n",
      "C_tang 376.9230826330649 -0.00020223235455702274\n",
      "C_tang relative error 3.35595062708446e-08 7.900003500785106e-08\n",
      "    Residual: 2.1608185564258437e-15\n",
      "p after copy 6.571822506405174e-14 0.0 0.0 0.0\n",
      "\n",
      "nRes0 , 0.007924690118023136 \n",
      " Increment: 3, load = 0.12305974808728026\n",
      "du 0.00031596897033928507 0.0 0.003804066982948265\n",
      "p 6.529230841219768e-14 1.0403491343938755e-14 0.0 0.0\n",
      "C_tang 376.92308019665046 -0.0005696816917151182\n",
      "C_tang relative error 3.24451675940909e-08 1.1003754034685934e-07\n",
      "    Residual: 2.411352791234724e-09\n",
      "du 3.4276397285404097e-12 -3.5634808333437e-14 3.146354709900742e-11\n",
      "p 7.050023326142757e-14 1.0574961609700901e-14 0.0 0.0\n",
      "C_tang 376.92308413771417 -0.00042327924691979747\n",
      "C_tang relative error 2.603323878938843e-08 8.19333025665066e-08\n",
      "    Residual: 4.0608476488982985e-13\n",
      "p after copy 7.050023326142757e-14 0.0 0.0 0.0\n",
      "\n",
      "nRes0 , 0.00668082280943994 \n",
      " Increment: 4, load = 0.1420971573691976\n",
      "du 0.0002663741645939659 0.0 0.0032069768191202385\n",
      "p 6.96518694046957e-14 1.0660219936089238e-14 0.0 6.041100416709395e-17\n",
      "C_tang 376.92308005121515 -0.00021079624189557222\n",
      "C_tang relative error 2.4104618831159438e-08 5.812441469672688e-08\n",
      "    Residual: 1.5382897700279817e-09\n",
      "du 2.7515429087638674e-12 -3.406001972755273e-13 2.215870803017948e-11\n",
      "p 7.051012047034871e-14 1.0655844335789091e-14 0.0 1.4304826585644463e-16\n",
      "C_tang 376.9230808525593 -0.000124144001904785\n",
      "C_tang relative error 2.0648281888953618e-08 4.2043984045332744e-08\n",
      "    Residual: 9.507375398713214e-14\n",
      "p after copy 7.051012047034871e-14 0.0 0.0 1.4304826585644463e-16\n",
      "\n",
      "nRes0 , 0.005885923052611472 \n",
      " Increment: 5, load = 0.1588694516435055\n",
      "du 0.0002346803506112491 0.0 0.0028254033036272056\n",
      "p 7.702034184703931e-14 1.1672144758985693e-14 0.0 8.590449738181421e-17\n",
      "C_tang 376.9230818733833 -0.00015588229851313216\n",
      "C_tang relative error 2.4528977610481133e-08 5.541610413429141e-08\n",
      "    Residual: 1.0741635685295704e-09\n",
      "du 1.2582716417488516e-12 -1.0820944331707707e-13 1.1719400626702467e-11\n",
      "p 7.700806043825492e-14 1.1570139574706169e-14 0.0 0.0\n",
      "C_tang 376.9230816301011 -0.00013735522086108162\n",
      "C_tang relative error 2.2778813572812147e-08 4.5409953276549715e-08\n",
      "    Residual: 2.917557157380732e-13\n",
      "p after copy 7.700806043825492e-14 0.0 0.0 0.0\n",
      "\n",
      "nRes0 , 0.005321281189924011 \n",
      " Increment: 6, load = 0.1740327647272483\n",
      "du 0.0002121672538072885 0.0 0.0025543598369699976\n",
      "p 7.277160865001836e-14 1.2061805693056757e-14 0.0 0.0\n",
      "C_tang 376.9230832230082 -0.00012037230863123916\n",
      "C_tang relative error 2.3617959091967555e-08 5.3302450195330656e-08\n",
      "    Residual: 8.439976749744022e-10\n",
      "du 1.4479252948823777e-12 -4.544939119731552e-14 1.1576232692754218e-11\n",
      "p 7.275808791016441e-14 1.2295194857906568e-14 0.0 7.179645265608836e-17\n",
      "C_tang 376.92308466771794 -0.00012919841840509927\n",
      "C_tang relative error 2.535709922467755e-08 7.241701732547679e-08\n",
      "    Residual: 1.912556329659417e-13\n",
      "p after copy 7.275808791016441e-14 0.0 0.0 7.179645265608836e-17\n",
      "\n",
      "nRes0 , 0.004893423078069948 \n",
      " Increment: 7, load = 0.187976870204053\n",
      "du 0.0001951079267370342 0.0 0.002348976296368744\n",
      "p 7.081482220612331e-14 1.2842367959610047e-14 0.0 0.0\n",
      "C_tang 376.92310255000484 -0.0031105581972319385\n",
      "C_tang relative error 5.471905817741785e-08 4.785341923414517e-07\n",
      "    Residual: 6.583879619286619e-10\n",
      "du 1.0291647452412824e-12 -5.093362919653736e-14 9.319262908419491e-12\n",
      "p 7.080241493978458e-14 1.2904244375076456e-14 0.0 0.0\n",
      "C_tang 376.92309751221944 -0.0031129701220251604\n",
      "C_tang relative error 5.253393986106214e-08 4.668215268996622e-07\n",
      "    Residual: 2.536755812133043e-13\n",
      "p after copy 7.080241493978458e-14 0.0 0.0 0.0\n",
      "\n",
      "nRes0 , 0.004554687146868599 \n",
      " Increment: 8, load = 0.20095572712618323\n",
      "du 0.00018160202939468837 0.0 0.0021863738287725347\n",
      "p 7.075088820486023e-14 1.2991499403859909e-14 0.0 0.0\n",
      "C_tang 376.92308380175433 -0.00044898287659300706\n",
      "C_tang relative error 2.2549772096141797e-08 6.982373210782348e-08\n",
      "    Residual: 5.888160496995696e-10\n",
      "du 1.4358014879746806e-12 -6.046672120905023e-13 1.1201311149645517e-11\n",
      "p 7.424589576951347e-14 1.3023474181854126e-14 0.0 2.471149543964472e-16\n",
      "C_tang 376.92308480765 -0.0003993756322877573\n",
      "C_tang relative error 2.3440155287628348e-08 7.668147768525458e-08\n",
      "    Residual: 2.5611233624960633e-13\n",
      "p after copy 7.424589576951347e-14 0.0 0.0 2.471149543964472e-16\n",
      "\n",
      "nRes0 , 0.004277855693759524 \n",
      " Increment: 9, load = 0.21314573605379636\n",
      "du 0.00017056435605314907 0.0 0.0020534871968046807\n",
      "p 7.485367397568274e-14 1.3503126818878063e-14 0.0 0.0\n",
      "C_tang 376.92308658482807 -8.740011284036342e-05\n",
      "C_tang relative error 1.755550254705909e-08 3.332696058490257e-08\n",
      "    Residual: 5.035672435675096e-10\n",
      "du 7.736853702596316e-13 -1.8634068008557941e-13 5.662128294160311e-12\n",
      "p 7.890159058885239e-14 1.3484101514882235e-14 0.0 1.373985525389677e-16\n",
      "C_tang 376.9230848318471 -0.00011217744716507383\n",
      "C_tang relative error 1.8087569984602074e-08 3.9098442182367185e-08\n",
      "    Residual: 2.443612346027393e-13\n",
      "p after copy 7.890159058885239e-14 0.0 0.0 1.373985525389677e-16\n",
      "\n",
      "nRes0 , 0.004046096514348958 \n",
      " Increment: 10, load = 0.22467533316102206\n",
      "du 0.0001613237785600768 0.0 0.001942236480943915\n",
      "p 7.70631027041329e-14 1.3938991399322224e-14 0.0 0.0\n",
      "C_tang 376.92308562921414 -0.00017186620273675068\n",
      "C_tang relative error 2.036530420853557e-08 5.1216273666632265e-08\n",
      "    Residual: 4.688536222703522e-10\n",
      "du 6.159176652856722e-13 -3.858050249717514e-14 4.5858054612788266e-12\n",
      "p 7.618193343415904e-14 1.3901978030506562e-14 0.0 0.0\n",
      "C_tang 376.92308642361274 -6.044546719648908e-05\n",
      "C_tang relative error 1.8870638067505046e-08 5.11554684091434e-08\n",
      "    Residual: 3.1487979712838472e-15\n",
      "p after copy 7.618193343415904e-14 0.0 0.0 0.0\n",
      "\n",
      "nRes0 , 0.0038483632608409635 \n",
      " Increment: 11, load = 0.23564147738485658\n",
      "du 0.00015343986533158322 0.0 0.0018473191373587655\n",
      "p 7.699819923074401e-14 1.4361198761998103e-14 0.0 0.0\n",
      "C_tang 376.9231214581995 -0.00017364730073929358\n",
      "C_tang relative error 3.247646130989974e-08 2.0428490616004146e-07\n",
      "    Residual: 4.075823752507196e-10\n",
      "du 4.875698396272854e-13 -2.1141244284474341e-13 3.49861347980849e-12\n",
      "p 7.699889461388363e-14 1.439821791399242e-14 0.0 9.135626479171788e-17\n",
      "C_tang 376.923117336986 -0.00017023004321448099\n",
      "C_tang relative error 2.4897308643606547e-08 7.9538574554457e-08\n",
      "    Residual: 1.7286141692185287e-14\n",
      "p after copy 7.699889461388363e-14 0.0 0.0 9.135626479171788e-17\n",
      "\n",
      "nRes0 , 0.0036770647671291023 \n",
      " Increment: 12, load = 0.24611949617456053\n",
      "du 0.00014660994306863536 0.0 0.0017650911963346463\n",
      "p 8.319965860207602e-05 6.1049312538291245e-06 0.0 0.0\n",
      "C_tang 376.92308626939985 -64.20783052304063\n",
      "C_tang relative error 0.026880245142378585 0.0877860931430512\n",
      "    Residual: 0.004351910485000991\n",
      "du 1.3185985376896788e-05 0.0 0.00013354841358289074\n",
      "p 0.0001476618196589826 9.643012687693548e-06 0.0 0.0\n",
      "C_tang 376.9230847218734 -63.688956638292396\n",
      "C_tang relative error 0.026910348860613095 0.08783616071144013\n",
      "    Residual: 2.0434066373374324e-05\n",
      "du 2.6543552235078082e-08 -1.0552607586314281e-08 1.7115965882737922e-07\n",
      "p 0.00014796383392478248 9.652755634941497e-06 0.0 0.0\n",
      "C_tang 376.9230873418571 -63.68572827607963\n",
      "C_tang relative error 0.02691047387448551 0.0878363855502031\n",
      "    Residual: 8.917997820397427e-10\n",
      "du 1.3784687563956944e-12 -4.754627985666959e-13 1.0016188488623371e-11\n",
      "p 0.00014796385403655716 9.652755998440648e-06 0.0 0.0\n",
      "C_tang 376.9230859883813 -63.68576562880852\n",
      "C_tang relative error 0.026910474760046856 0.0878363866586208\n",
      "    Residual: 6.203472568328197e-15\n",
      "p after copy 0.00014796385403655716 0.0 0.0 0.0\n",
      "\n",
      "nRes0 , 0.003526788450153179 \n",
      " Increment: 13, load = 0.25616929349615875\n",
      "du 0.0001717799716377905 0.0 0.0020087201616974058\n",
      "p 0.0003181762575074721 3.520244117237834e-05 0.0 0.0\n",
      "C_tang 376.9230858262071 -62.78600233291645\n",
      "C_tang relative error 0.04401917378144419 0.1125364136854323\n",
      "    Residual: 0.0033251615958920277\n",
      "du 1.4031502016517574e-05 -1.3442572579891727e-06 0.00011992236517418715\n",
      "p 0.0003433794696133529 3.90920827914404e-05 0.0 0.0\n",
      "C_tang 376.9230856599019 -62.55867939514514\n",
      "C_tang relative error 0.04408919874706596 0.11259241917604211\n",
      "    Residual: 1.5845474819067858e-05\n",
      "du 4.387832285564657e-08 -1.4150675972247169e-08 2.7289674206992077e-07\n",
      "p 0.0003433527405520148 3.910126531482839e-05 0.0 0.0\n",
      "C_tang 376.9230907614549 -62.55918493263321\n",
      "C_tang relative error 0.04408901865861057 0.11259267150035886\n",
      "    Residual: 4.838440424598224e-10\n",
      "du 8.855541742395059e-13 -5.849102759832993e-13 9.197750336763272e-12\n",
      "p 0.00034335275826357156 3.910126554069585e-05 0.0 0.0\n",
      "C_tang 376.92308708232224 -62.559267282182844\n",
      "C_tang relative error 0.04408901854235189 0.1125926719883528\n",
      "    Residual: 4.448229933659252e-15\n",
      "p after copy 0.00034335275826357156 0.0 0.0 0.0\n",
      "rank#0: Time = 71.293 (s)\n"
     ]
    }
   ],
   "source": [
    "Nitermax, tol = 200, 1e-7  # parameters of the Newton-Raphson procedure\n",
    "Nincr = 20\n",
    "load_steps = np.linspace(0, 1.1, Nincr+1)[1:]**0.5\n",
    "results = np.zeros((Nincr+1, 2))\n",
    "load_steps = load_steps\n",
    "# xdmf = io.XDMFFile(MPI.COMM_WORLD, \"plasticity.xdmf\", \"w\", encoding=io.XDMFFile.Encoding.HDF5)\n",
    "# xdmf.write_mesh(mesh)\n",
    "\n",
    "sig.vector.set(0.0)\n",
    "sig_old.vector.set(0.0)\n",
    "p.vector.set(0.0)\n",
    "p_old.vector.set(0.0)\n",
    "u.vector.set(0.0)\n",
    "# n_elas.vector.set(0.0)\n",
    "# beta.vector.set(0.0)\n",
    "n_quadrature_points = len(C_tang.x.array.reshape((-1, 4, 4)))\n",
    "for i in range(n_quadrature_points):\n",
    "    C_tang.x.array.reshape((-1, 4, 4))[i,:,:] = material.C\n",
    "\n",
    "print('C_tang', np.max(C_tang.x.array), np.min(C_tang.x.array))\n",
    "\n",
    "start = time.time()\n",
    "\n",
    "for (i, t) in enumerate(load_steps):\n",
    "    loading.value = t * q_lim\n",
    "\n",
    "    with b.localForm() as b_local:\n",
    "        b_local.set(0.0)\n",
    "    b = fem.petsc.assemble_vector(form_res)\n",
    "    b.ghostUpdate(addv=PETSc.InsertMode.ADD, mode=PETSc.ScatterMode.REVERSE)\n",
    "    fem.set_bc(b, bcs)\n",
    "\n",
    "    nRes0 = b.norm() # Which one? - ufl.sqrt(Res.dot(Res))\n",
    "    nRes = nRes0\n",
    "    Du.vector.set(0.0)\n",
    "    Du.x.scatter_forward()\n",
    "\n",
    "    if MPI.COMM_WORLD.rank == 0:\n",
    "        print(f\"\\nnRes0 , {nRes0} \\n Increment: {str(i+1)}, load = {t * q_lim}\")\n",
    "    niter = 0\n",
    "\n",
    "    # print('b-A', b.norm(), A.norm())\n",
    "\n",
    "    while nRes/nRes0 > tol and niter < Nitermax:\n",
    "        solver.solve(b, du.vector)\n",
    "        print('du', np.max(du.x.array), np.min(du.x.array), du.vector.norm())\n",
    "\n",
    "        Du.vector.axpy(1, du.vector) # Du = Du + 1*du\n",
    "        Du.x.scatter_forward() \n",
    "        # print(du.x.array[:])\n",
    "        interpolate_quadrature(eps_vec(Du), deps) # eps_xy * sqrt(2.)!\n",
    "        deps_values = deps.x.array.reshape((-1, 4))\n",
    "        for q in range(n_quadrature_points):\n",
    "            return_mapping.deps.value[:] = deps_values[q,:]\n",
    "            return_mapping.sig_old.value[:] = sig_old.x.array.reshape((-1, 4))[q,:]\n",
    "            return_mapping.p_old.value = p_old.x.array[q]\n",
    "            # print(sig_old.x.array.reshape((-1, 4))[i,:], deps[i,:])\n",
    "            start_conv = time.time()\n",
    "            return_mapping.solve(eps=1e-13, alpha=1, scale=5.)\n",
    "            #, eps_abs=1e-13, eps_rel=1e-13\n",
    "\n",
    "# T.vector.norm - bug, where T is a tensor???\n",
    "\n",
    "            end_conv = time.time()\n",
    "\n",
    "            sig.x.array.reshape((-1, 4))[q,:] = return_mapping.sig.value[:]\n",
    "            # sig.x.array.reshape((-1, 4))[q,3] /= np.sqrt(2.)\n",
    "            p.x.array[q] = return_mapping.p.value*1.\n",
    "            # theta.x.array[q] = return_mapping.theta.value\n",
    "            C_tang.x.array.reshape((-1, 4, 4))[q,:,:] = return_mapping.C_tang[:,:]\n",
    "            # dp.x.array[i] = return_mapping.dp.value\n",
    "        \n",
    "        # print('sig', np.max(sig.x.array), np.min(sig.x.array), np.mean(sig.x.array))\n",
    "        print('p', np.max(p.x.array), np.mean(p.x.array), p.vector.norm(), return_mapping.p.value)\n",
    "        # print('theta', np.max(theta.x.array), np.min(theta.x.array), p.vector.norm())\n",
    "        print('C_tang', np.max(C_tang.x.array), np.min(C_tang.x.array))\n",
    "        print('C_tang relative error', error_norm1(C_tang.x.array, C_fake.x.array), error_norm2(C_tang.x.array, C_fake.x.array))\n",
    "\n",
    "        A.zeroEntries()\n",
    "        fem.petsc.assemble_matrix(A, form_a_Newton, bcs=bcs)\n",
    "        A.assemble()\n",
    "        with b.localForm() as b_local:\n",
    "            b_local.set(0.0)\n",
    "        fem.petsc.assemble_vector(b, form_res)\n",
    "\n",
    "        # print('b-A', b.norm(), A.norm())\n",
    "\n",
    "        b.ghostUpdate(addv=PETSc.InsertMode.ADD, mode=PETSc.ScatterMode.REVERSE)\n",
    "        fem.set_bc(b, bcs)\n",
    "\n",
    "        nRes = b.norm() \n",
    "        if MPI.COMM_WORLD.rank == 0:\n",
    "            print(f\"    Residual: {nRes}\")\n",
    "        niter += 1\n",
    "    u.vector.axpy(1, Du.vector) # u = u + 1*Du\n",
    "    u.x.scatter_forward()\n",
    "\n",
    "    # interpolate_quadrature(dp_, dp)\n",
    "    # p.vector.axpy(1, dp.vector)\n",
    "    p.vector.copy(p_old.vector)\n",
    "    p.x.scatter_forward()\n",
    "    print('p after copy', np.max(p.x.array), np.min(p.x.array), p.vector.norm(), return_mapping.p.value)\n",
    "    \n",
    "    sig.vector.copy(sig_old.vector)\n",
    "    sig.x.scatter_forward()\n",
    "\n",
    "    # project(p, p_avg)\n",
    "    # p_avg.x.scatter_forward()\n",
    "    \n",
    "    # xdmf.write_function(u, t)\n",
    "    # xdmf.write_function(p_avg, t)\n",
    "\n",
    "    if len(points_on_proc) > 0:\n",
    "        results[i+1, :] = (u.eval(points_on_proc, cells)[0], t)\n",
    "\n",
    "# xdmf.close()\n",
    "end = time.time()\n",
    "print(f'rank#{MPI.COMM_WORLD.rank}: Time = {end-start:.3f} (s)')"
   ]
  },
  {
   "cell_type": "code",
   "execution_count": 31,
   "metadata": {},
   "outputs": [
    {
     "name": "stdout",
     "output_type": "stream",
     "text": [
      "p after copy 0.00034335275826357156 3.910126554069585e-05 0.0\n"
     ]
    }
   ],
   "source": [
    "print('p after copy', np.max(p.x.array), np.mean(p.x.array), p.vector.norm())"
   ]
  },
  {
   "cell_type": "code",
   "execution_count": 32,
   "metadata": {},
   "outputs": [
    {
     "data": {
      "text/plain": [
       "[Variable(())]"
      ]
     },
     "execution_count": 32,
     "metadata": {},
     "output_type": "execute_result"
    }
   ],
   "source": [
    "return_mapping.p.value*2.\n",
    "return_mapping.opt_problem.constraints[0].dual_variables"
   ]
  },
  {
   "cell_type": "code",
   "execution_count": 33,
   "metadata": {},
   "outputs": [
    {
     "data": {
      "text/plain": [
       "array([[94230.76923077, 40384.61538462, 40384.61538462,     0.        ],\n",
       "       [40384.61538462, 94230.76923077, 40384.61538462,     0.        ],\n",
       "       [40384.61538462, 40384.61538462, 94230.76923077,     0.        ],\n",
       "       [    0.        ,     0.        ,     0.        , 53846.15384615]])"
      ]
     },
     "execution_count": 33,
     "metadata": {},
     "output_type": "execute_result"
    }
   ],
   "source": [
    "\n",
    "C_fake.x.array.reshape((-1, 4, 4))[10]*sig0_dim"
   ]
  },
  {
   "cell_type": "code",
   "execution_count": 34,
   "metadata": {},
   "outputs": [
    {
     "data": {
      "text/plain": [
       "0.04408901854235189"
      ]
     },
     "execution_count": 34,
     "metadata": {},
     "output_type": "execute_result"
    }
   ],
   "source": [
    "np.sum(np.abs(C_fake.x.array - C_tang.x.array)) / np.sum(np.abs(C_fake.x.array))"
   ]
  },
  {
   "cell_type": "code",
   "execution_count": 35,
   "metadata": {},
   "outputs": [
    {
     "data": {
      "text/plain": [
       "0.1125926719883528"
      ]
     },
     "execution_count": 35,
     "metadata": {},
     "output_type": "execute_result"
    }
   ],
   "source": [
    "np.sqrt(np.dot(C_fake.x.array - C_tang.x.array, C_fake.x.array - C_tang.x.array)) / np.sqrt(np.dot(C_fake.x.array, C_fake.x.array))"
   ]
  },
  {
   "cell_type": "code",
   "execution_count": 36,
   "metadata": {},
   "outputs": [
    {
     "name": "stdout",
     "output_type": "stream",
     "text": [
      "[[ 7.54595476e-07  1.12159293e-06  1.44797696e-06  6.27967389e-08]\n",
      " [ 5.76754258e-06  6.20040800e-06  6.85076753e-06 -4.37712543e-07]\n",
      " [-3.23214806e-08  4.20615604e-06  8.22673769e-07 -5.52782263e-07]\n",
      " [ 1.80563838e-06  1.02870210e-06  1.55500520e-06  8.25341999e-08]]\n"
     ]
    }
   ],
   "source": [
    "print((C_fake.x.array.reshape((-1, 4, 4)) - C_tang.x.array.reshape((-1, 4, 4)))[5])"
   ]
  },
  {
   "cell_type": "code",
   "execution_count": 37,
   "metadata": {},
   "outputs": [
    {
     "name": "stdout",
     "output_type": "stream",
     "text": [
      "376.9230769230769 0.0\n"
     ]
    }
   ],
   "source": [
    "print(np.max(C_fake.x.array), np.min(C_fake.x.array))"
   ]
  },
  {
   "cell_type": "code",
   "execution_count": 38,
   "metadata": {},
   "outputs": [
    {
     "name": "stdout",
     "output_type": "stream",
     "text": [
      "376.92308708232224 -62.559267282182844\n"
     ]
    }
   ],
   "source": [
    "print(np.max(C_tang.x.array), np.min(C_tang.x.array))\n"
   ]
  },
  {
   "cell_type": "code",
   "execution_count": 39,
   "metadata": {},
   "outputs": [
    {
     "name": "stdout",
     "output_type": "stream",
     "text": [
      "[[ 3.76923078e+02  1.61538463e+02  1.61538462e+02 -1.13874642e-07]\n",
      " [ 1.61538464e+02  3.76923081e+02  1.61538464e+02  5.03585175e-07]\n",
      " [ 1.61538462e+02  1.61538460e+02  3.76923077e+02  3.82306296e-07]\n",
      " [-2.76685581e-06  2.10800557e-07 -1.87470227e-06  2.15384615e+02]]\n"
     ]
    }
   ],
   "source": [
    "print(C_tang.x.array.reshape((-1, 4, 4))[10])"
   ]
  },
  {
   "cell_type": "code",
   "execution_count": 40,
   "metadata": {},
   "outputs": [
    {
     "name": "stdout",
     "output_type": "stream",
     "text": [
      "[[-9.28152872e-07 -1.10264241e-06 -6.82165251e-07  1.13874642e-07]\n",
      " [-2.89274774e-06 -3.89085005e-06 -2.09721972e-06 -5.03585175e-07]\n",
      " [-9.07397293e-07  1.10830203e-06 -4.66113875e-07 -3.82306296e-07]\n",
      " [ 2.76685581e-06 -2.10800557e-07  1.87470227e-06  5.25943108e-07]]\n"
     ]
    }
   ],
   "source": [
    "print(C_fake.x.array.reshape((-1, 4, 4))[10] - C_tang.x.array.reshape((-1, 4, 4))[10])"
   ]
  },
  {
   "cell_type": "code",
   "execution_count": null,
   "metadata": {},
   "outputs": [],
   "source": []
  },
  {
   "cell_type": "code",
   "execution_count": 41,
   "metadata": {},
   "outputs": [
    {
     "data": {
      "image/png": "[encoded data removed]",
      "text/plain": [
       "<Figure size 432x288 with 1 Axes>"
      ]
     },
     "metadata": {
      "needs_background": "light"
     },
     "output_type": "display_data"
    }
   ],
   "source": [
    "if len(points_on_proc) > 0:\n",
    "    import matplotlib.pyplot as plt\n",
    "    plt.plot(results[:, 0], results[:, 1], \"-o\")\n",
    "    plt.xlabel(\"Displacement of inner boundary\")\n",
    "    plt.ylabel(r\"Applied pressure $q/q_{lim}$\")\n",
    "    plt.savefig(f\"displacement_rank{MPI.COMM_WORLD.rank:d}.png\")\n",
    "    plt.show()"
   ]
  }
 ],
 "metadata": {
  "interpreter": {
   "hash": "31f2aee4e71d21fbe5cf8b01ff0e069b9275f58929596ceb00d14d90e3e16cd6"
  },
  "kernelspec": {
   "display_name": "Python 3.8.10 64-bit",
   "language": "python",
   "name": "python3"
  },
  "language_info": {
   "codemirror_mode": {
    "name": "ipython",
    "version": 3
   },
   "file_extension": ".py",
   "mimetype": "text/x-python",
   "name": "python",
   "nbconvert_exporter": "python",
   "pygments_lexer": "ipython3",
   "version": "3.9.7"
  },
  "orig_nbformat": 4
 },
 "nbformat": 4,
 "nbformat_minor": 2
}
