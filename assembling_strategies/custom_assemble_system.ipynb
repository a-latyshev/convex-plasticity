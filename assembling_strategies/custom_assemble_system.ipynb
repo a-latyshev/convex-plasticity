{
 "cells": [
  {
   "cell_type": "code",
   "execution_count": 1,
   "metadata": {},
   "outputs": [],
   "source": [
    "import cffi\n",
    "import numba\n",
    "# import numba.core.typing.cffi_utils as cffi_support\n",
    "import numpy as np\n",
    "\n",
    "import ufl\n",
    "# from dolfinx.cpp.fem import Form_float64\n",
    "from dolfinx.jit import ffcx_jit\n",
    "from dolfinx import fem, mesh, io\n",
    "\n",
    "from mpi4py import MPI\n",
    "from petsc4py import PETSc\n",
    "\n",
    "import ctypes\n",
    "import ctypes.util\n",
    "import petsc4py.lib\n",
    "from mpi4py import MPI\n",
    "from petsc4py import get_config as PETSc_get_config"
   ]
  },
  {
   "cell_type": "code",
   "execution_count": 2,
   "metadata": {},
   "outputs": [],
   "source": [
    "# Get details of PETSc install\n",
    "petsc_dir = PETSc_get_config()['PETSC_DIR']\n",
    "petsc_arch = petsc4py.lib.getPathArchPETSc()[1]\n",
    "\n",
    "# Get PETSc int and scalar types\n",
    "scalar_size = np.dtype(PETSc.ScalarType).itemsize\n",
    "index_size = np.dtype(PETSc.IntType).itemsize\n",
    "\n",
    "if index_size == 8:\n",
    "    c_int_t = \"int64_t\"\n",
    "    ctypes_index = ctypes.c_int64\n",
    "elif index_size == 4:\n",
    "    c_int_t = \"int32_t\"\n",
    "    ctypes_index = ctypes.c_int32\n",
    "else:\n",
    "    raise RuntimeError(f\"Cannot translate PETSc index size into a C type, index_size: {index_size}.\")\n",
    "\n",
    "if scalar_size == 8:\n",
    "    c_scalar_t = \"double\"\n",
    "    numba_scalar_t = numba.types.float64\n",
    "elif scalar_size == 4:\n",
    "    c_scalar_t = \"float\"\n",
    "    numba_scalar_t = numba.types.float32\n",
    "else:\n",
    "    raise RuntimeError(\n",
    "        f\"Cannot translate PETSc scalar type to a C type, complex: {complex} size: {scalar_size}.\")\n",
    "\n",
    "# Load PETSc library via ctypes\n",
    "petsc_lib_name = ctypes.util.find_library(\"petsc\")\n",
    "if petsc_lib_name is not None:\n",
    "    petsc_lib_ctypes = ctypes.CDLL(petsc_lib_name)\n",
    "else:\n",
    "    try:\n",
    "        petsc_lib_ctypes = ctypes.CDLL(os.path.join(petsc_dir, petsc_arch, \"lib\", \"libpetsc.so\"))\n",
    "    except OSError:\n",
    "        petsc_lib_ctypes = ctypes.CDLL(os.path.join(petsc_dir, petsc_arch, \"lib\", \"libpetsc.dylib\"))\n",
    "    except OSError:\n",
    "        print(\"Could not load PETSc library for CFFI (ABI mode).\")\n",
    "        raise\n",
    "\n",
    "# Get the PETSc MatSetValuesLocal function via ctypes\n",
    "MatSetValues_ctypes = petsc_lib_ctypes.MatSetValuesLocal\n",
    "MatSetValues_ctypes.argtypes = (ctypes.c_void_p, ctypes_index, ctypes.POINTER(\n",
    "    ctypes_index), ctypes_index, ctypes.POINTER(ctypes_index), ctypes.c_void_p, ctypes.c_int)\n",
    "del petsc_lib_ctypes"
   ]
  },
  {
   "cell_type": "code",
   "execution_count": 3,
   "metadata": {},
   "outputs": [],
   "source": [
    "ffi = cffi.FFI()\n",
    "\n",
    "def get_kernel(domain, form):\n",
    "    ufcx_form, _, _ = ffcx_jit(domain.comm, form, form_compiler_params={\"scalar_type\": \"double\"})\n",
    "    kernel = ufcx_form.integrals(0)[0].tabulate_tensor_float64\n",
    "    return kernel"
   ]
  },
  {
   "cell_type": "code",
   "execution_count": 4,
   "metadata": {},
   "outputs": [],
   "source": [
    "domain = mesh.create_unit_square(MPI.COMM_WORLD, 1, 1)"
   ]
  },
  {
   "cell_type": "code",
   "execution_count": 5,
   "metadata": {},
   "outputs": [],
   "source": [
    "# V = fem.VectorFunctionSpace(domain, (\"Lagrange\", 1))\n",
    "# u, v = ufl.TrialFunction(V), ufl.TestFunction(V)\n",
    "\n",
    "# lambda_ = 1\n",
    "# mu_ = 1\n",
    "# C = np.array([[lambda_ + 2*mu_, lambda_, 0],\n",
    "#               [lambda_, lambda_ + 2*mu_, 0],\n",
    "#               [0, 0, 2*mu_]], dtype=PETSc.ScalarType)\n",
    "# C_const = fem.Constant(domain, C)\n",
    "\n",
    "# coeff1 = fem.Function(fem.FunctionSpace(domain, ('DG', 0)))\n",
    "# coeff2 = fem.Function(fem.FunctionSpace(domain, ('DG', 0)))\n",
    "# coeff1.vector.set(1)\n",
    "# coeff2.vector.set(1)\n",
    "\n",
    "# def epsilon(u):\n",
    "#     return ufl.sym(ufl.grad(u))\n",
    "\n",
    "# def as_2D_tensor(X):\n",
    "#     return ufl.as_tensor([[X[0], X[2]],\n",
    "#                           [X[2], X[1]]])\n",
    "\n",
    "# def sigma(u):\n",
    "#     eps = epsilon(u)\n",
    "#     return as_2D_tensor(C_const * ufl.as_vector([eps[0,0], eps[1,1], eps[0,1]]))\n",
    "\n",
    "# a = ufl.inner( coeff1 * sigma(u), epsilon(v) * coeff2 ) * ufl.dx\n",
    "\n",
    "# get_kernel(domain, a)"
   ]
  },
  {
   "cell_type": "code",
   "execution_count": 6,
   "metadata": {},
   "outputs": [],
   "source": [
    "# class CustomFunction(fem.Function):\n",
    "#     def __init__(self,):\n",
    "        "
   ]
  },
  {
   "cell_type": "code",
   "execution_count": 7,
   "metadata": {},
   "outputs": [],
   "source": [
    "import sys\n",
    "sys.path.append(\"../\")\n",
    "import fenicsx_support"
   ]
  },
  {
   "cell_type": "code",
   "execution_count": 8,
   "metadata": {},
   "outputs": [],
   "source": [
    "N = 1\n",
    "domain = mesh.create_unit_square(MPI.COMM_WORLD, N, N)#, mesh.CellType.quadrilateral\n",
    "\n",
    "deg, q_deg = 1, 2\n",
    "V = fem.VectorFunctionSpace(domain, (\"P\", deg))\n",
    "\n",
    "# quadrature elements and function spaces\n",
    "QV = ufl.VectorElement(\n",
    "    \"Quadrature\", domain.ufl_cell(), q_deg, quad_scheme=\"default\", dim=3\n",
    ")\n",
    "QT = ufl.TensorElement(\n",
    "    \"Quadrature\",\n",
    "    domain.ufl_cell(),\n",
    "    q_deg,\n",
    "    quad_scheme=\"default\",\n",
    "    shape=(3, 3),\n",
    ")\n",
    "VQV = fem.FunctionSpace(domain, QV)\n",
    "VQT = fem.FunctionSpace(domain, QT)\n",
    "\n",
    "# define functions\n",
    "u_, du = ufl.TestFunction(V), ufl.TrialFunction(V)\n",
    "u = fem.Function(V)\n",
    "q_sigma = fem.Function(VQV)\n",
    "q_dsigma = fem.Function(VQT)\n",
    "\n",
    "num_dofs_global = V.dofmap.index_map.size_global * V.dofmap.index_map_bs\n",
    "num_gauss_local = len(q_sigma.x.array[:]) // 3\n",
    "num_gauss_global = domain.comm.reduce(num_gauss_local, op=MPI.SUM, root=0)\n",
    "\n",
    "# define form\n",
    "dxm = ufl.dx(metadata={\"quadrature_degree\": q_deg, \"quadrature_scheme\": \"default\"})\n",
    "\n",
    "# @numba.njit()\n",
    "def eps(u):\n",
    "    e = ufl.sym(ufl.grad(u))\n",
    "    return ufl.as_vector((e[0, 0], e[1, 1], 2 * e[0, 1]))\n",
    "\n",
    "R = ufl.inner(eps(u_), q_sigma) * dxm\n",
    "dR = ufl.inner(eps(du), ufl.dot(q_dsigma, eps(u_))) * dxm\n",
    "\n",
    "E, nu = 20000, 0.3\n",
    "\n",
    "# Hookes law for plane stress\n",
    "C11 = E / (1.0 - nu * nu)\n",
    "C12 = C11 * nu\n",
    "C33 = C11 * 0.5 * (1.0 - nu)\n",
    "C = np.array([[C11, C12, 0.0], [C12, C11, 0.0], [0.0, 0.0, C33]], dtype=PETSc.ScalarType)\n",
    "\n",
    "# def evaluate_constitutive_law(u):\n",
    "\n",
    "#     # prepare strain evaluation\n",
    "#     map_c = domain.topology.index_map(domain.topology.dim)\n",
    "#     num_cells = map_c.size_local + map_c.num_ghosts\n",
    "#     cells = np.arange(0, num_cells, dtype=np.int32)\n",
    "\n",
    "#     basix_celltype = getattr(basix.CellType, domain.topology.cell_type.name)\n",
    "#     q_points, wts = basix.make_quadrature(basix_celltype, q_deg)\n",
    "#     strain_expr = fem.Expression(eps(u), q_points)\n",
    "\n",
    "#     # Actually compute a strain matrix containing one row per cell.\n",
    "#     strains = strain_expr.eval(cells)\n",
    "#     assert strains.shape[0] == num_cells\n",
    "#     assert strains.shape[1] == len(q_points) * 3\n",
    "\n",
    "#     # here _could_ be a loop over all quadrature points in\n",
    "#     # c++, mfront, numba, ...\n",
    "#     # For this simple case, we can evaluate it as one matrix operation.\n",
    "#     strain_matrix = strains.reshape((-1, 3))\n",
    "#     n_gauss = len(strain_matrix)\n",
    "\n",
    "#     q_sigma.x.array[:] = (strain_matrix @ C).flatten()\n",
    "#     q_dsigma.x.array[:] = np.tile(C.flatten(), n_gauss)\n",
    "\n",
    "\n",
    "r\"\"\"\n",
    "Set up \n",
    "\n",
    "  +---------+\n",
    "/||         |->\n",
    "/||         |->\n",
    "/||         |-> u_bc\n",
    "  o---------+\n",
    " / \\\n",
    "-----\n",
    "\"\"\"\n",
    "\n",
    "\n",
    "def left(x):\n",
    "    return np.isclose(x[0], 0.0)\n",
    "\n",
    "\n",
    "def right(x):\n",
    "    return np.isclose(x[0], 1.0)\n",
    "\n",
    "\n",
    "def origin(x):\n",
    "    return np.logical_and(np.isclose(x[0], 0.0), np.isclose(x[1], 0.0))\n",
    "\n",
    "\n",
    "u_bc = fem.Constant(domain, 0.0)  # expression for boundary displacement\n",
    "\n",
    "dim = domain.topology.dim - 1\n",
    "b_facets_l = mesh.locate_entities_boundary(domain, dim, left)\n",
    "b_facets_r = mesh.locate_entities_boundary(domain, dim, right)\n",
    "b_facets_o = mesh.locate_entities_boundary(domain, dim - 1, origin)\n",
    "\n",
    "b_dofs_l = fem.locate_dofs_topological(V.sub(0), dim, b_facets_l)\n",
    "b_dofs_r = fem.locate_dofs_topological(V.sub(0), dim, b_facets_r)\n",
    "b_dofs_o = fem.locate_dofs_topological(V.sub(1), dim - 1, b_facets_o)\n",
    "\n",
    "bcs = [\n",
    "    fem.dirichletbc(PETSc.ScalarType(0), b_dofs_l, V.sub(0)),\n",
    "    fem.dirichletbc(u_bc, b_dofs_r, V.sub(0)),\n",
    "    fem.dirichletbc(PETSc.ScalarType(0), b_dofs_o, V.sub(1)),\n",
    "]\n"
   ]
  },
  {
   "cell_type": "code",
   "execution_count": 20,
   "metadata": {},
   "outputs": [
    {
     "name": "stdout",
     "output_type": "stream",
     "text": [
      "18 (54,) (8,)\n"
     ]
    }
   ],
   "source": [
    "print(q_sigma.x.array.shape[0], q_dsigma.x.array.shape, u.x.array.shape)"
   ]
  },
  {
   "cell_type": "code",
   "execution_count": 10,
   "metadata": {},
   "outputs": [
    {
     "data": {
      "text/plain": [
       "(Coefficient(FunctionSpace(Mesh(VectorElement(FiniteElement('Lagrange', triangle, 1), dim=2), 1), TensorElement(FiniteElement('Quadrature', triangle, 2, quad_scheme='default'), shape=(3, 3), symmetry={})), 139689571268800),)"
      ]
     },
     "execution_count": 10,
     "metadata": {},
     "output_type": "execute_result"
    }
   ],
   "source": [
    "dR.coefficients()"
   ]
  },
  {
   "cell_type": "code",
   "execution_count": 11,
   "metadata": {},
   "outputs": [
    {
     "data": {
      "text/plain": [
       "(Coefficient(FunctionSpace(Mesh(VectorElement(FiniteElement('Lagrange', triangle, 1), dim=2), 1), VectorElement(FiniteElement('Quadrature', triangle, 2, quad_scheme='default'), dim=3)), 139689706377344),)"
      ]
     },
     "execution_count": 11,
     "metadata": {},
     "output_type": "execute_result"
    }
   ],
   "source": [
    "R.coefficients()"
   ]
  },
  {
   "cell_type": "code",
   "execution_count": 12,
   "metadata": {},
   "outputs": [],
   "source": [
    "# Unpack mesh and dofmap data\n",
    "num_owned_cells = domain.topology.index_map(domain.topology.dim).size_local\n",
    "num_cells = num_owned_cells + domain.topology.index_map(domain.topology.dim).num_ghosts\n",
    "x_dofs = domain.geometry.dofmap.array.reshape(num_cells, 3)\n",
    "x = domain.geometry.x\n",
    "dofmap = V.dofmap.list.array.reshape(num_cells, 3).astype(np.dtype(PETSc.IntType))"
   ]
  },
  {
   "cell_type": "code",
   "execution_count": 52,
   "metadata": {},
   "outputs": [
    {
     "name": "stdout",
     "output_type": "stream",
     "text": [
      "(2, 9)\n",
      "(54,) (18,)\n"
     ]
    }
   ],
   "source": [
    "A = fem.petsc.create_matrix(fem.form(dR))\n",
    "A.zeroEntries()\n",
    "A.assemble()\n",
    "# print(A[:,:])\n",
    "b = fem.petsc.create_vector(fem.form(R))\n",
    "# b4 = fem.Function(V)\n",
    "# b = b4.x.array\n",
    "\n",
    "with b.localForm() as b_local:\n",
    "    b_local.set(0.0)\n",
    "\n",
    "u = fem.Function(V)\n",
    "\n",
    "map_c = domain.topology.index_map(domain.topology.dim)\n",
    "num_cells = map_c.size_local + map_c.num_ghosts\n",
    "# cells = np.arange(0, num_cells, dtype=np.int32)\n",
    "N_dofs_element = V.element.space_dimension\n",
    "N_sub_spaces = V.num_sub_spaces # V.dofmap.index_map_bs\n",
    "dofmap = V.dofmap.list.array.reshape(num_cells, int(N_dofs_element/N_sub_spaces))\n",
    "\n",
    "dofmap_tmp = (N_sub_spaces*np.repeat(dofmap, N_sub_spaces).reshape(-1, N_sub_spaces) + np.arange(N_sub_spaces)).reshape(-1, N_dofs_element).astype(np.dtype(PETSc.IntType))        \n",
    "\n",
    "kernel_A = get_kernel(domain, dR)\n",
    "kernel_b = get_kernel(domain, R)\n",
    "\n",
    "# eps_calculated = fem.Function(VQV)\n",
    "eps_calculated = fenicsx_support.interpolate_quadrature(eps(u), q_deg, domain)\n",
    "print(eps_calculated.shape) # num_cells * len(eps) * len(n_gauls_on_element)\n",
    "strain_matrix = eps_calculated.reshape((-1, 3))\n",
    "n_gauss = len(strain_matrix) #global in the domain\n",
    "\n",
    "q_sigma.x.array[:] = (strain_matrix @ C).flatten()\n",
    "q_dsigma.x.array[:] = np.tile(C.flatten(), n_gauss)\n",
    "\n",
    "q_sigma_values = q_sigma.x.array[:] \n",
    "q_dsigma_values = np.tile(C.flatten(), n_gauss)\n",
    "\n",
    "print(q_dsigma_values.shape, q_sigma_values.shape)\n",
    "\n",
    "@numba.njit\n",
    "def assemble_ufc(A, b, mesh, dofmap, num_cells, set_vals, mode):\n",
    "    v, x = mesh\n",
    "    entity_local_index = np.array([0], dtype=np.intc)\n",
    "    perm = np.array([0], dtype=np.uint8)\n",
    "    geometry = np.zeros((3, 3))\n",
    "    coeffs_A = np.full(27, 1, dtype=PETSc.ScalarType) ####!!!!!!!!!!!!!!!1\n",
    "    coeffs_b = np.zeros((9), dtype=PETSc.ScalarType) #!!!!!!!!!!!\n",
    "    constants = C #np.array(C, dtype=PETSc.ScalarType)\n",
    "\n",
    "    b_local = np.zeros(N_dofs_element, dtype=PETSc.ScalarType)\n",
    "    A_local = np.zeros((N_dofs_element, N_dofs_element), dtype=PETSc.ScalarType)\n",
    "    \n",
    "    for cell in range(num_cells):\n",
    "        pos = rows = cols = dofmap[cell, :]\n",
    "\n",
    "        # for j in range(3):\n",
    "        geometry[:] = x[v[cell, :], :]\n",
    "        b_local.fill(0.)\n",
    "        A_local.fill(0.)\n",
    "\n",
    "        coeffs_b = q_sigma_values.reshape(2, -1)[cell]\n",
    "        coeffs_A = q_dsigma_values.reshape(2, -1)[cell]\n",
    "\n",
    "        kernel_b(ffi.from_buffer(b_local), ffi.from_buffer(coeffs_b),\n",
    "                 ffi.from_buffer(constants),\n",
    "                 ffi.from_buffer(geometry), ffi.from_buffer(entity_local_index),\n",
    "                 ffi.from_buffer(perm))\n",
    "        b[pos] += b_local\n",
    "        \n",
    "        kernel_A(ffi.from_buffer(A_local), ffi.from_buffer(coeffs_A),\n",
    "               ffi.from_buffer(constants),\n",
    "               ffi.from_buffer(geometry), ffi.from_buffer(entity_local_index),\n",
    "               ffi.from_buffer(perm))\n",
    "        # print('\\n', A_local)\n",
    "\n",
    "        set_vals(A, N_dofs_element, rows.ctypes, N_dofs_element, cols.ctypes, A_local.ctypes, mode)\n",
    "    \n",
    "\n",
    "solver = PETSc.KSP().create(domain.comm)\n",
    "solver.setType(\"preonly\")\n",
    "solver.getPC().setType(\"lu\")\n",
    "\n",
    "f = io.XDMFFile(domain.comm, \"displacements.xdmf\", \"w\", encoding=io.XDMFFile.Encoding.HDF5)\n",
    "f.write_mesh(domain)\n"
   ]
  },
  {
   "cell_type": "code",
   "execution_count": 55,
   "metadata": {},
   "outputs": [
    {
     "ename": "Error",
     "evalue": "error code 73\n[0] KSPSolve() at /usr/local/petsc/src/ksp/ksp/interface/itfunc.c:1086\n[0] KSPSolve_Private() at /usr/local/petsc/src/ksp/ksp/interface/itfunc.c:852\n[0] KSPSetUp() at /usr/local/petsc/src/ksp/ksp/interface/itfunc.c:408\n[0] PCSetUp() at /usr/local/petsc/src/ksp/pc/interface/precon.c:1017\n[0] PCSetUp_LU() at /usr/local/petsc/src/ksp/pc/impls/factor/lu/lu.c:95\n[0] MatLUFactorSymbolic() at /usr/local/petsc/src/mat/interface/matrix.c:3131\n[0] MatLUFactorSymbolic_SeqAIJ() at /usr/local/petsc/src/mat/impls/aij/seq/aijfact.c:308\n[0] Object is in wrong state\n[0] Matrix is missing diagonal entry 0",
     "output_type": "error",
     "traceback": [
      "\u001b[0;31m---------------------------------------------------------------------------\u001b[0m",
      "\u001b[0;31mError\u001b[0m                                     Traceback (most recent call last)",
      "\u001b[1;32m/mnt/work_folder/convex-plasticity/assembling_strategies/custom_assemble_system.ipynb Cell 16'\u001b[0m in \u001b[0;36m<cell line: 2>\u001b[0;34m()\u001b[0m\n\u001b[1;32m     <a href='vscode-notebook-cell://attached-container%2B7b22636f6e7461696e65724e616d65223a2266656e696373227d/mnt/work_folder/convex-plasticity/assembling_strategies/custom_assemble_system.ipynb#ch0000020vscode-remote?line=23'>24</a>\u001b[0m \u001b[39m# Solve for the displacement increment du, apply it and udpate ghost values\u001b[39;00m\n\u001b[1;32m     <a href='vscode-notebook-cell://attached-container%2B7b22636f6e7461696e65724e616d65223a2266656e696373227d/mnt/work_folder/convex-plasticity/assembling_strategies/custom_assemble_system.ipynb#ch0000020vscode-remote?line=24'>25</a>\u001b[0m du \u001b[39m=\u001b[39m fem\u001b[39m.\u001b[39mFunction(V)  \u001b[39m# Should be outside of loop, instructive here.\u001b[39;00m\n\u001b[0;32m---> <a href='vscode-notebook-cell://attached-container%2B7b22636f6e7461696e65724e616d65223a2266656e696373227d/mnt/work_folder/convex-plasticity/assembling_strategies/custom_assemble_system.ipynb#ch0000020vscode-remote?line=25'>26</a>\u001b[0m solver\u001b[39m.\u001b[39;49msolve(b, du\u001b[39m.\u001b[39;49mvector)\n\u001b[1;32m     <a href='vscode-notebook-cell://attached-container%2B7b22636f6e7461696e65724e616d65223a2266656e696373227d/mnt/work_folder/convex-plasticity/assembling_strategies/custom_assemble_system.ipynb#ch0000020vscode-remote?line=26'>27</a>\u001b[0m u\u001b[39m.\u001b[39mx\u001b[39m.\u001b[39marray[:] \u001b[39m-\u001b[39m\u001b[39m=\u001b[39m du\u001b[39m.\u001b[39mx\u001b[39m.\u001b[39marray[:]\n\u001b[1;32m     <a href='vscode-notebook-cell://attached-container%2B7b22636f6e7461696e65724e616d65223a2266656e696373227d/mnt/work_folder/convex-plasticity/assembling_strategies/custom_assemble_system.ipynb#ch0000020vscode-remote?line=27'>28</a>\u001b[0m u\u001b[39m.\u001b[39mx\u001b[39m.\u001b[39mscatter_forward()\n",
      "File \u001b[0;32mPETSc/KSP.pyx:397\u001b[0m, in \u001b[0;36mpetsc4py.PETSc.KSP.solve\u001b[0;34m()\u001b[0m\n",
      "\u001b[0;31mError\u001b[0m: error code 73\n[0] KSPSolve() at /usr/local/petsc/src/ksp/ksp/interface/itfunc.c:1086\n[0] KSPSolve_Private() at /usr/local/petsc/src/ksp/ksp/interface/itfunc.c:852\n[0] KSPSetUp() at /usr/local/petsc/src/ksp/ksp/interface/itfunc.c:408\n[0] PCSetUp() at /usr/local/petsc/src/ksp/pc/interface/precon.c:1017\n[0] PCSetUp_LU() at /usr/local/petsc/src/ksp/pc/impls/factor/lu/lu.c:95\n[0] MatLUFactorSymbolic() at /usr/local/petsc/src/mat/interface/matrix.c:3131\n[0] MatLUFactorSymbolic_SeqAIJ() at /usr/local/petsc/src/mat/impls/aij/seq/aijfact.c:308\n[0] Object is in wrong state\n[0] Matrix is missing diagonal entry 0"
     ]
    }
   ],
   "source": [
    "u_bc_max = 42.0\n",
    "for t in np.linspace(0.0, 1.0, 5):\n",
    "    # update value of Dirichlet BC\n",
    "    u_bc.value = t * u_bc_max\n",
    "\n",
    "    # update matrix (pointless in linear elasticity...)\n",
    "    A.zeroEntries()\n",
    "    # fem.petsc.assemble_matrix(A, dR, bcs=bcs)\n",
    "\n",
    "    # update residual vector\n",
    "    with b.localForm() as b_local:\n",
    "        b_local.set(0.0)\n",
    "        \n",
    "    assemble_ufc(A.handle, b.array, (x_dofs, x), dofmap_tmp, num_owned_cells, MatSetValues_ctypes, PETSc.InsertMode.ADD_VALUES)\n",
    "    A.assemble()\n",
    "    # fem.petsc.assemble_vector(b, fem.form(R))\n",
    "\n",
    "    fem.apply_lifting(b, [fem.form(dR)], bcs=[bcs], x0=[u.vector], scale=-1.0)\n",
    "    b.ghostUpdate(addv=PETSc.InsertMode.ADD, mode=PETSc.ScatterMode.REVERSE)\n",
    "    fem.set_bc(b, bcs, u.vector, -1.0)\n",
    "\n",
    "    solver.setOperators(A)\n",
    "\n",
    "    # Solve for the displacement increment du, apply it and udpate ghost values\n",
    "    du = fem.Function(V)  # Should be outside of loop, instructive here.\n",
    "    solver.solve(b, du.vector)\n",
    "    u.x.array[:] -= du.x.array[:]\n",
    "    u.x.scatter_forward()\n",
    "\n",
    "    # post processing\n",
    "    # check_solution(u, t * u_bc_max)\n",
    "    f.write_function(u, t)"
   ]
  },
  {
   "cell_type": "code",
   "execution_count": 22,
   "metadata": {},
   "outputs": [
    {
     "data": {
      "text/plain": [
       "array([21978.02197802,  6593.40659341,     0.        ,  6593.40659341,\n",
       "       21978.02197802,     0.        ,     0.        ,     0.        ,\n",
       "        7692.30769231, 21978.02197802,  6593.40659341,     0.        ,\n",
       "        6593.40659341, 21978.02197802,     0.        ,     0.        ,\n",
       "           0.        ,  7692.30769231, 21978.02197802,  6593.40659341,\n",
       "           0.        ,  6593.40659341, 21978.02197802,     0.        ,\n",
       "           0.        ,     0.        ,  7692.30769231, 21978.02197802,\n",
       "        6593.40659341,     0.        ,  6593.40659341, 21978.02197802,\n",
       "           0.        ,     0.        ,     0.        ,  7692.30769231,\n",
       "       21978.02197802,  6593.40659341,     0.        ,  6593.40659341,\n",
       "       21978.02197802,     0.        ,     0.        ,     0.        ,\n",
       "        7692.30769231, 21978.02197802,  6593.40659341,     0.        ,\n",
       "        6593.40659341, 21978.02197802,     0.        ,     0.        ,\n",
       "           0.        ,  7692.30769231])"
      ]
     },
     "execution_count": 22,
     "metadata": {},
     "output_type": "execute_result"
    }
   ],
   "source": [
    "q_dsigma_values.s"
   ]
  },
  {
   "cell_type": "code",
   "execution_count": 15,
   "metadata": {},
   "outputs": [
    {
     "data": {
      "text/plain": [
       "Coefficient(FunctionSpace(Mesh(VectorElement(FiniteElement('Lagrange', triangle, 1), dim=2), 1), TensorElement(FiniteElement('Quadrature', triangle, 2, quad_scheme='default'), shape=(3, 3), symmetry={})), 139689571268800)"
      ]
     },
     "execution_count": 15,
     "metadata": {},
     "output_type": "execute_result"
    }
   ],
   "source": [
    "q_dsigma"
   ]
  },
  {
   "cell_type": "code",
   "execution_count": 16,
   "metadata": {},
   "outputs": [
    {
     "data": {
      "text/plain": [
       "(18,)"
      ]
     },
     "execution_count": 16,
     "metadata": {},
     "output_type": "execute_result"
    }
   ],
   "source": [
    "q_sigma.x.array.shape"
   ]
  },
  {
   "cell_type": "code",
   "execution_count": 17,
   "metadata": {},
   "outputs": [
    {
     "ename": "NameError",
     "evalue": "name 'df' is not defined",
     "output_type": "error",
     "traceback": [
      "\u001b[0;31m---------------------------------------------------------------------------\u001b[0m",
      "\u001b[0;31mNameError\u001b[0m                                 Traceback (most recent call last)",
      "\u001b[1;32m/mnt/work_folder/convex-plasticity/assembling_strategies/custom_assemble_system.ipynb Cell 17'\u001b[0m in \u001b[0;36m<cell line: 45>\u001b[0;34m()\u001b[0m\n\u001b[1;32m     <a href='vscode-notebook-cell://attached-container%2B7b22636f6e7461696e65724e616d65223a2266656e696373227d/mnt/work_folder/convex-plasticity/assembling_strategies/custom_assemble_system.ipynb#ch0000016vscode-remote?line=38'>39</a>\u001b[0m     \u001b[39massert\u001b[39;00m np\u001b[39m.\u001b[39mlinalg\u001b[39m.\u001b[39mnorm(u_fem \u001b[39m-\u001b[39m u_ref) \u001b[39m<\u001b[39m \u001b[39m1.0e-10\u001b[39m\n\u001b[1;32m     <a href='vscode-notebook-cell://attached-container%2B7b22636f6e7461696e65724e616d65223a2266656e696373227d/mnt/work_folder/convex-plasticity/assembling_strategies/custom_assemble_system.ipynb#ch0000016vscode-remote?line=41'>42</a>\u001b[0m \u001b[39m# Here, we manually build PETSc objects and simulate a quasistaic loading.\u001b[39;00m\n\u001b[1;32m     <a href='vscode-notebook-cell://attached-container%2B7b22636f6e7461696e65724e616d65223a2266656e696373227d/mnt/work_folder/convex-plasticity/assembling_strategies/custom_assemble_system.ipynb#ch0000016vscode-remote?line=42'>43</a>\u001b[0m \u001b[39m# Classes like df.fem.petsc.LinearProblem would trivialize that step. A look\u001b[39;00m\n\u001b[1;32m     <a href='vscode-notebook-cell://attached-container%2B7b22636f6e7461696e65724e616d65223a2266656e696373227d/mnt/work_folder/convex-plasticity/assembling_strategies/custom_assemble_system.ipynb#ch0000016vscode-remote?line=43'>44</a>\u001b[0m \u001b[39m# \"under the hood\" is quite instructive, though:\u001b[39;00m\n\u001b[0;32m---> <a href='vscode-notebook-cell://attached-container%2B7b22636f6e7461696e65724e616d65223a2266656e696373227d/mnt/work_folder/convex-plasticity/assembling_strategies/custom_assemble_system.ipynb#ch0000016vscode-remote?line=44'>45</a>\u001b[0m b \u001b[39m=\u001b[39m df\u001b[39m.\u001b[39mfem\u001b[39m.\u001b[39mpetsc\u001b[39m.\u001b[39mcreate_vector(R)\n\u001b[1;32m     <a href='vscode-notebook-cell://attached-container%2B7b22636f6e7461696e65724e616d65223a2266656e696373227d/mnt/work_folder/convex-plasticity/assembling_strategies/custom_assemble_system.ipynb#ch0000016vscode-remote?line=45'>46</a>\u001b[0m A \u001b[39m=\u001b[39m df\u001b[39m.\u001b[39mfem\u001b[39m.\u001b[39mpetsc\u001b[39m.\u001b[39mcreate_matrix(dR)\n\u001b[1;32m     <a href='vscode-notebook-cell://attached-container%2B7b22636f6e7461696e65724e616d65223a2266656e696373227d/mnt/work_folder/convex-plasticity/assembling_strategies/custom_assemble_system.ipynb#ch0000016vscode-remote?line=47'>48</a>\u001b[0m solver \u001b[39m=\u001b[39m PETSc\u001b[39m.\u001b[39mKSP()\u001b[39m.\u001b[39mcreate(mesh\u001b[39m.\u001b[39mcomm)\n",
      "\u001b[0;31mNameError\u001b[0m: name 'df' is not defined"
     ]
    }
   ],
   "source": [
    "\n",
    "\n",
    "def check_solution(u, u_bc_value):\n",
    "    \"\"\"\n",
    "    Defines a grid of test points xs and compares the FE values u(xs)\n",
    "    to the analytic displacement solution.\n",
    "\n",
    "    ux(x,y) =       x * u_bc_value\n",
    "    uy(x,y) = -nu * y * u_bc_value\n",
    "\n",
    "    \"\"\"\n",
    "\n",
    "    def eval_function_at_points(f, points):\n",
    "        \"\"\"\n",
    "        Evaluates `f` at `points`. Adapted from\n",
    "        https://jorgensd.github.io/df-tutorial/chapter1/membrane_code.html\n",
    "        \"\"\"\n",
    "        mesh = f.function_space.mesh\n",
    "        tree = df.geometry.BoundingBoxTree(mesh, mesh.geometry.dim)\n",
    "        cell_candidates = df.geometry.compute_collisions(tree, points)\n",
    "        colliding_cells = df.geometry.compute_colliding_cells(\n",
    "            mesh, cell_candidates, points\n",
    "        )\n",
    "\n",
    "        points_on_proc = []\n",
    "        cells = []\n",
    "        for i, point in enumerate(points):\n",
    "            if len(colliding_cells.links(i)) > 0:\n",
    "                points_on_proc.append(point)\n",
    "                cells.append(colliding_cells.links(i)[0])\n",
    "        points_on_proc = np.array(points_on_proc, dtype=np.float64)\n",
    "        return f.eval(points_on_proc, cells), points_on_proc\n",
    "\n",
    "    x_check = np.linspace(0, 1, 5)\n",
    "    x, y = np.meshgrid(x_check, x_check)\n",
    "    xs = np.vstack([x.flat, y.flat, np.zeros(len(x.flat))]).T\n",
    "    u_fem, xs = eval_function_at_points(u, xs)\n",
    "\n",
    "    # analytic solution\n",
    "    u_ref = np.array([xs[:, 0] * u_bc_value, -nu * xs[:, 1] * u_bc_value]).T\n",
    "    assert np.linalg.norm(u_fem - u_ref) < 1.0e-10\n",
    "\n",
    "\n",
    "# Here, we manually build PETSc objects and simulate a quasistaic loading.\n",
    "# Classes like df.fem.petsc.LinearProblem would trivialize that step. A look\n",
    "# \"under the hood\" is quite instructive, though:\n",
    "b = df.fem.petsc.create_vector(R)\n",
    "A = df.fem.petsc.create_matrix(dR)\n",
    "\n",
    "solver = PETSc.KSP().create(mesh.comm)\n",
    "solver.setType(\"preonly\")\n",
    "solver.getPC().setType(\"lu\")\n",
    "\n",
    "f = df.io.XDMFFile(mesh.comm, \"displacements.xdmf\", \"w\")\n",
    "f.write_mesh(mesh)\n",
    "\n",
    "\n",
    "u_bc_max = 42.0\n",
    "for t in np.linspace(0.0, 1.0, 5):\n",
    "    # update value of Dirichlet BC\n",
    "    u_bc.value = t * u_bc_max\n",
    "\n",
    "    print0(f\"Solving {t = :6.3f} with {u_bc.value = :6.3f}...\")\n",
    "\n",
    "    evaluate_constitutive_law(u)\n",
    "\n",
    "    # update matrix (pointless in linear elasticity...)\n",
    "    A.zeroEntries()\n",
    "    df.fem.petsc.assemble_matrix(A, dR, bcs=bcs)\n",
    "    A.assemble()\n",
    "\n",
    "    # update residual vector\n",
    "    with b.localForm() as b_local:\n",
    "        b_local.set(0.0)\n",
    "    df.fem.petsc.assemble_vector(b, R)\n",
    "\n",
    "    df.fem.apply_lifting(b, [dR], bcs=[bcs], x0=[u.vector], scale=-1.0)\n",
    "    b.ghostUpdate(addv=PETSc.InsertMode.ADD, mode=PETSc.ScatterMode.REVERSE)\n",
    "    df.fem.set_bc(b, bcs, u.vector, -1.0)\n",
    "\n",
    "    solver.setOperators(A)\n",
    "\n",
    "    # Solve for the displacement increment du, apply it and udpate ghost values\n",
    "    du = df.fem.Function(V)  # Should be outside of loop, instructive here.\n",
    "    solver.solve(b, du.vector)\n",
    "    u.x.array[:] -= du.x.array[:]\n",
    "    u.x.scatter_forward()\n",
    "\n",
    "    # post processing\n",
    "    check_solution(u, t * u_bc_max)\n",
    "    f.write_function(u, t)\n"
   ]
  }
 ],
 "metadata": {
  "interpreter": {
   "hash": "31f2aee4e71d21fbe5cf8b01ff0e069b9275f58929596ceb00d14d90e3e16cd6"
  },
  "kernelspec": {
   "display_name": "Python 3.8.10 64-bit",
   "language": "python",
   "name": "python3"
  },
  "language_info": {
   "codemirror_mode": {
    "name": "ipython",
    "version": 3
   },
   "file_extension": ".py",
   "mimetype": "text/x-python",
   "name": "python",
   "nbconvert_exporter": "python",
   "pygments_lexer": "ipython3",
   "version": "3.9.7"
  },
  "orig_nbformat": 4
 },
 "nbformat": 4,
 "nbformat_minor": 2
}
