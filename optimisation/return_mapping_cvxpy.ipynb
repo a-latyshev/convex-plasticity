{
 "cells": [
  {
   "cell_type": "code",
   "execution_count": 1,
   "metadata": {},
   "outputs": [],
   "source": [
    "import cvxpy as cp\n",
    "from cvxpygen import cpg\n",
    "import numpy as np\n",
    "import numba\n",
    "import cffi\n",
    "from numba.core.typing import cffi_utils\n",
    "import matplotlib.pyplot as plt"
   ]
  },
  {
   "cell_type": "code",
   "execution_count": 3,
   "metadata": {},
   "outputs": [
    {
     "name": "stdout",
     "output_type": "stream",
     "text": [
      "True\n"
     ]
    }
   ],
   "source": [
    "class vonMises:\n",
    "    def __init__(self, sig0):\n",
    "        self.sig0 = sig0\n",
    "    def criterion(self, sig):\n",
    "        dev = np.array([[2/3., -1/3., -1/3., 0],\n",
    "                        [-1/3., 2/3., -1/3., 0],\n",
    "                        [-1/3., -1/3., 2/3., 0],\n",
    "                        [0, 0, 0, 1]])\n",
    "        s = dev @ sig\n",
    "        return [np.sqrt(3/2)*cp.norm(s) <= self.sig0]\n",
    "\n",
    "class Rankine:\n",
    "    def __init__(self):\n",
    "        self.fc = cp.Parameter()\n",
    "        self.ft = cp.Parameter()\n",
    "    def criterion(self, sig):\n",
    "        Sig = cp.bmat([[sig[0], sig[3]/np.sqrt(2), 0],\n",
    "                      [sig[3]/np.sqrt(2), sig[1], 0],\n",
    "                      [0, 0, sig[2]]])\n",
    "        return [cp.lambda_max(Sig) <= self.ft, cp.lambda_min(Sig) >= -self.fc]\n",
    "    \n",
    "class IsotropicElasticity:\n",
    "    def __init__(self, E, nu):\n",
    "        self.E = E\n",
    "        self.nu = nu\n",
    "        self.lmbda = E*nu/(1+nu)/(1-2*nu)\n",
    "        self.mu = E/2/(1+nu)\n",
    "    \n",
    "    def C(self):\n",
    "        l, m = self.lmbda, self.mu\n",
    "        return np.array([[l+2*m, l, l, 0],\n",
    "                        [l, l+2*m, l, 0],\n",
    "                        [l, l, l+2*m, 0],\n",
    "                        [0, 0, 0, 2*m]])\n",
    "\n",
    "class Material:\n",
    "    def __init__(self, elasticity, yield_criterion, plane_stress=False):\n",
    "        self.C = elasticity.C()\n",
    "        self.criterion = yield_criterion.criterion\n",
    "        self.plane_stress = plane_stress\n",
    "    \n",
    "vM = vonMises(sig0=1)\n",
    "\n",
    "Ra = Rankine()\n",
    "Ra.fc.value = 200.\n",
    "Ra.ft.value = 100.\n",
    "\n",
    "mat = Material(IsotropicElasticity(1, 0.3), vM, plane_stress=False)\n",
    "                        \n",
    "class ReturnMapping:\n",
    "    def __init__(self, mat, solver=cp.SCS):\n",
    "        self.mat = mat\n",
    "        self.deps = cp.Parameter((4,), name='deps')\n",
    "        self.sig_old = cp.Parameter((4,), name='sig_old')\n",
    "        self.sig_elas = self.sig_old + self.mat.C @ self.deps\n",
    "    \n",
    "        self.sig_old.value = np.zeros(((4,)))\n",
    "\n",
    "        self.sig = cp.Variable((4, ), name='sig')\n",
    "        obj = cp.quad_form(self.sig - self.sig_elas, np.linalg.inv(self.mat.C))\n",
    "        \n",
    "        self.cons = mat.criterion(self.sig)\n",
    "        \n",
    "        if self.mat.plane_stress:\n",
    "            self.cons.append(self.sig[2] == 0)\n",
    "        \n",
    "        self.prob = cp.Problem(cp.Minimize(obj), self.cons)\n",
    "        self.solver = solver\n",
    "        \n",
    "        print(self.prob.is_dcp(dpp=True))\n",
    "        \n",
    "    def solve(self, **kwargs):\n",
    "        self.prob.solve(solver=self.solver, requires_grad=True, **kwargs)\n",
    "\n",
    "        self.C_tang = np.zeros((4, 4))\n",
    "        for i in range(4):\n",
    "            z = np.zeros((4,))\n",
    "            z[i] = 1\n",
    "            self.deps.delta = z\n",
    "            self.prob.derivative()\n",
    "            self.C_tang[i, :] = self.sig.delta\n",
    "    \n",
    "rm = ReturnMapping(mat)"
   ]
  },
  {
   "cell_type": "code",
   "execution_count": 5,
   "metadata": {},
   "outputs": [],
   "source": [
    "code_dir = 'code_dir'"
   ]
  },
  {
   "cell_type": "code",
   "execution_count": 6,
   "metadata": {},
   "outputs": [
    {
     "name": "stdout",
     "output_type": "stream",
     "text": [
      "Generating code with CVXPYgen ...\n",
      "CVXPYgen finished generating code.\n",
      "Compiling python wrapper with CVXPYgen ... \n",
      "-- The C compiler identification is GNU 11.2.0\n",
      "-- The CXX compiler identification is GNU 11.2.0\n",
      "-- Detecting C compiler ABI info\n",
      "-- Detecting C compiler ABI info - done\n",
      "-- Check for working C compiler: /usr/bin/cc - skipped\n",
      "-- Detecting C compile features\n",
      "-- Detecting C compile features - done\n",
      "-- Detecting CXX compiler ABI info\n",
      "-- Detecting CXX compiler ABI info - done\n",
      "-- Check for working CXX compiler: /usr/bin/c++ - skipped\n",
      "-- Detecting CXX compile features\n",
      "-- Detecting CXX compile features - done\n",
      "-- Setting build type to 'Release' as none was specified.\n",
      "-- Single precision floats (32bit) are OFF\n",
      "-- Long integers (64bit) are OFF\n",
      "-- COMPILER_OPTS = -DUSE_LAPACK -DCTRLC\n",
      "-- Configuring done\n",
      "-- Generating done\n",
      "-- Build files have been written to: /mnt/work_folder/convex-plasticity/optimisation/code_dir/c/build\n",
      "Scanning dependencies of target cpg\n",
      "[  0%] Building C object CMakeFiles/cpg.dir/src/cpg_workspace.c.o\n",
      "[  3%] Building C object CMakeFiles/cpg.dir/src/cpg_solve.c.o\n",
      "[  6%] Building C object CMakeFiles/cpg.dir/solver_code/src/aa.c.o\n",
      "[ 10%] Building C object CMakeFiles/cpg.dir/solver_code/src/cones.c.o\n",
      "[ 13%] Building C object CMakeFiles/cpg.dir/solver_code/src/ctrlc.c.o\n",
      "[ 17%] Building C object CMakeFiles/cpg.dir/solver_code/src/linalg.c.o\n",
      "[ 20%] Building C object CMakeFiles/cpg.dir/solver_code/src/normalize.c.o\n",
      "[ 24%] Building C object CMakeFiles/cpg.dir/solver_code/src/rw.c.o\n",
      "[ 27%] Building C object CMakeFiles/cpg.dir/solver_code/src/scs.c.o\n"
     ]
    },
    {
     "name": "stderr",
     "output_type": "stream",
     "text": [
      "/mnt/work_folder/convex-plasticity/optimisation/code_dir/c/solver_code/src/rw.c: In function ‘_scs_read_data’:\n",
      "/mnt/work_folder/convex-plasticity/optimisation/code_dir/c/solver_code/src/rw.c:184:3: warning: ignoring return value of ‘fread’ declared with attribute ‘warn_unused_result’ [-Wunused-result]\n",
      "  184 |   fread(&(file_int_sz), sizeof(uint32_t), 1, fin);\n",
      "      |   ^~~~~~~~~~~~~~~~~~~~~~~~~~~~~~~~~~~~~~~~~~~~~~~\n",
      "/mnt/work_folder/convex-plasticity/optimisation/code_dir/c/solver_code/src/rw.c:185:3: warning: ignoring return value of ‘fread’ declared with attribute ‘warn_unused_result’ [-Wunused-result]\n",
      "  185 |   fread(&(file_float_sz), sizeof(uint32_t), 1, fin);\n",
      "      |   ^~~~~~~~~~~~~~~~~~~~~~~~~~~~~~~~~~~~~~~~~~~~~~~~~\n",
      "/mnt/work_folder/convex-plasticity/optimisation/code_dir/c/solver_code/src/rw.c:202:3: warning: ignoring return value of ‘fread’ declared with attribute ‘warn_unused_result’ [-Wunused-result]\n",
      "  202 |   fread(&(file_version_sz), sizeof(uint32_t), 1, fin);\n",
      "      |   ^~~~~~~~~~~~~~~~~~~~~~~~~~~~~~~~~~~~~~~~~~~~~~~~~~~\n",
      "/mnt/work_folder/convex-plasticity/optimisation/code_dir/c/solver_code/src/rw.c:203:3: warning: ignoring return value of ‘fread’ declared with attribute ‘warn_unused_result’ [-Wunused-result]\n",
      "  203 |   fread(file_version, 1, file_version_sz, fin);\n",
      "      |   ^~~~~~~~~~~~~~~~~~~~~~~~~~~~~~~~~~~~~~~~~~~~\n",
      "/mnt/work_folder/convex-plasticity/optimisation/code_dir/c/solver_code/src/rw.c: In function ‘read_scs_cone’:\n",
      "/mnt/work_folder/convex-plasticity/optimisation/code_dir/c/solver_code/src/rw.c:33:3: warning: ignoring return value of ‘fread’ declared with attribute ‘warn_unused_result’ [-Wunused-result]\n",
      "   33 |   fread(&(k->z), sizeof(scs_int), 1, fin);\n",
      "      |   ^~~~~~~~~~~~~~~~~~~~~~~~~~~~~~~~~~~~~~~\n",
      "/mnt/work_folder/convex-plasticity/optimisation/code_dir/c/solver_code/src/rw.c:34:3: warning: ignoring return value of ‘fread’ declared with attribute ‘warn_unused_result’ [-Wunused-result]\n",
      "   34 |   fread(&(k->l), sizeof(scs_int), 1, fin);\n",
      "      |   ^~~~~~~~~~~~~~~~~~~~~~~~~~~~~~~~~~~~~~~\n",
      "/mnt/work_folder/convex-plasticity/optimisation/code_dir/c/solver_code/src/rw.c:35:3: warning: ignoring return value of ‘fread’ declared with attribute ‘warn_unused_result’ [-Wunused-result]\n",
      "   35 |   fread(&(k->bsize), sizeof(scs_int), 1, fin);\n",
      "      |   ^~~~~~~~~~~~~~~~~~~~~~~~~~~~~~~~~~~~~~~~~~~\n",
      "/mnt/work_folder/convex-plasticity/optimisation/code_dir/c/solver_code/src/rw.c:39:5: warning: ignoring return value of ‘fread’ declared with attribute ‘warn_unused_result’ [-Wunused-result]\n",
      "   39 |     fread(k->bl, sizeof(scs_float), MAX(k->bsize - 1, 0), fin);\n",
      "      |     ^~~~~~~~~~~~~~~~~~~~~~~~~~~~~~~~~~~~~~~~~~~~~~~~~~~~~~~~~~\n",
      "/mnt/work_folder/convex-plasticity/optimisation/code_dir/c/solver_code/src/rw.c:40:5: warning: ignoring return value of ‘fread’ declared with attribute ‘warn_unused_result’ [-Wunused-result]\n",
      "   40 |     fread(k->bu, sizeof(scs_float), MAX(k->bsize - 1, 0), fin);\n",
      "      |     ^~~~~~~~~~~~~~~~~~~~~~~~~~~~~~~~~~~~~~~~~~~~~~~~~~~~~~~~~~\n",
      "/mnt/work_folder/convex-plasticity/optimisation/code_dir/c/solver_code/src/rw.c:42:3: warning: ignoring return value of ‘fread’ declared with attribute ‘warn_unused_result’ [-Wunused-result]\n",
      "   42 |   fread(&(k->qsize), sizeof(scs_int), 1, fin);\n",
      "      |   ^~~~~~~~~~~~~~~~~~~~~~~~~~~~~~~~~~~~~~~~~~~\n",
      "/mnt/work_folder/convex-plasticity/optimisation/code_dir/c/solver_code/src/rw.c:45:5: warning: ignoring return value of ‘fread’ declared with attribute ‘warn_unused_result’ [-Wunused-result]\n",
      "   45 |     fread(k->q, sizeof(scs_int), k->qsize, fin);\n",
      "      |     ^~~~~~~~~~~~~~~~~~~~~~~~~~~~~~~~~~~~~~~~~~~\n",
      "/mnt/work_folder/convex-plasticity/optimisation/code_dir/c/solver_code/src/rw.c:47:3: warning: ignoring return value of ‘fread’ declared with attribute ‘warn_unused_result’ [-Wunused-result]\n",
      "   47 |   fread(&(k->ssize), sizeof(scs_int), 1, fin);\n",
      "      |   ^~~~~~~~~~~~~~~~~~~~~~~~~~~~~~~~~~~~~~~~~~~\n",
      "/mnt/work_folder/convex-plasticity/optimisation/code_dir/c/solver_code/src/rw.c:50:5: warning: ignoring return value of ‘fread’ declared with attribute ‘warn_unused_result’ [-Wunused-result]\n",
      "   50 |     fread(k->s, sizeof(scs_int), k->ssize, fin);\n",
      "      |     ^~~~~~~~~~~~~~~~~~~~~~~~~~~~~~~~~~~~~~~~~~~\n",
      "/mnt/work_folder/convex-plasticity/optimisation/code_dir/c/solver_code/src/rw.c:52:3: warning: ignoring return value of ‘fread’ declared with attribute ‘warn_unused_result’ [-Wunused-result]\n",
      "   52 |   fread(&(k->ep), sizeof(scs_int), 1, fin);\n",
      "      |   ^~~~~~~~~~~~~~~~~~~~~~~~~~~~~~~~~~~~~~~~\n",
      "/mnt/work_folder/convex-plasticity/optimisation/code_dir/c/solver_code/src/rw.c:53:3: warning: ignoring return value of ‘fread’ declared with attribute ‘warn_unused_result’ [-Wunused-result]\n",
      "   53 |   fread(&(k->ed), sizeof(scs_int), 1, fin);\n",
      "      |   ^~~~~~~~~~~~~~~~~~~~~~~~~~~~~~~~~~~~~~~~\n",
      "/mnt/work_folder/convex-plasticity/optimisation/code_dir/c/solver_code/src/rw.c:54:3: warning: ignoring return value of ‘fread’ declared with attribute ‘warn_unused_result’ [-Wunused-result]\n",
      "   54 |   fread(&(k->psize), sizeof(scs_int), 1, fin);\n",
      "      |   ^~~~~~~~~~~~~~~~~~~~~~~~~~~~~~~~~~~~~~~~~~~\n",
      "/mnt/work_folder/convex-plasticity/optimisation/code_dir/c/solver_code/src/rw.c:57:5: warning: ignoring return value of ‘fread’ declared with attribute ‘warn_unused_result’ [-Wunused-result]\n",
      "   57 |     fread(k->p, sizeof(scs_float), k->psize, fin);\n",
      "      |     ^~~~~~~~~~~~~~~~~~~~~~~~~~~~~~~~~~~~~~~~~~~~~\n",
      "/mnt/work_folder/convex-plasticity/optimisation/code_dir/c/solver_code/src/rw.c: In function ‘read_scs_data’:\n",
      "/mnt/work_folder/convex-plasticity/optimisation/code_dir/c/solver_code/src/rw.c:141:3: warning: ignoring return value of ‘fread’ declared with attribute ‘warn_unused_result’ [-Wunused-result]\n",
      "  141 |   fread(&(d->m), sizeof(scs_int), 1, fin);\n",
      "      |   ^~~~~~~~~~~~~~~~~~~~~~~~~~~~~~~~~~~~~~~\n",
      "/mnt/work_folder/convex-plasticity/optimisation/code_dir/c/solver_code/src/rw.c:142:3: warning: ignoring return value of ‘fread’ declared with attribute ‘warn_unused_result’ [-Wunused-result]\n",
      "  142 |   fread(&(d->n), sizeof(scs_int), 1, fin);\n",
      "      |   ^~~~~~~~~~~~~~~~~~~~~~~~~~~~~~~~~~~~~~~\n",
      "/mnt/work_folder/convex-plasticity/optimisation/code_dir/c/solver_code/src/rw.c:145:3: warning: ignoring return value of ‘fread’ declared with attribute ‘warn_unused_result’ [-Wunused-result]\n",
      "  145 |   fread(d->b, sizeof(scs_float), d->m, fin);\n",
      "      |   ^~~~~~~~~~~~~~~~~~~~~~~~~~~~~~~~~~~~~~~~~\n",
      "/mnt/work_folder/convex-plasticity/optimisation/code_dir/c/solver_code/src/rw.c:146:3: warning: ignoring return value of ‘fread’ declared with attribute ‘warn_unused_result’ [-Wunused-result]\n",
      "  146 |   fread(d->c, sizeof(scs_float), d->n, fin);\n",
      "      |   ^~~~~~~~~~~~~~~~~~~~~~~~~~~~~~~~~~~~~~~~~\n",
      "/mnt/work_folder/convex-plasticity/optimisation/code_dir/c/solver_code/src/rw.c: In function ‘read_amatrix’:\n",
      "/mnt/work_folder/convex-plasticity/optimisation/code_dir/c/solver_code/src/rw.c:112:3: warning: ignoring return value of ‘fread’ declared with attribute ‘warn_unused_result’ [-Wunused-result]\n",
      "  112 |   fread(&(A->m), sizeof(scs_int), 1, fin);\n",
      "      |   ^~~~~~~~~~~~~~~~~~~~~~~~~~~~~~~~~~~~~~~\n",
      "/mnt/work_folder/convex-plasticity/optimisation/code_dir/c/solver_code/src/rw.c:113:3: warning: ignoring return value of ‘fread’ declared with attribute ‘warn_unused_result’ [-Wunused-result]\n",
      "  113 |   fread(&(A->n), sizeof(scs_int), 1, fin);\n",
      "      |   ^~~~~~~~~~~~~~~~~~~~~~~~~~~~~~~~~~~~~~~\n",
      "/mnt/work_folder/convex-plasticity/optimisation/code_dir/c/solver_code/src/rw.c:115:3: warning: ignoring return value of ‘fread’ declared with attribute ‘warn_unused_result’ [-Wunused-result]\n",
      "  115 |   fread(A->p, sizeof(scs_int), A->n + 1, fin);\n",
      "      |   ^~~~~~~~~~~~~~~~~~~~~~~~~~~~~~~~~~~~~~~~~~~\n",
      "/mnt/work_folder/convex-plasticity/optimisation/code_dir/c/solver_code/src/rw.c:119:3: warning: ignoring return value of ‘fread’ declared with attribute ‘warn_unused_result’ [-Wunused-result]\n",
      "  119 |   fread(A->x, sizeof(scs_float), Anz, fin);\n",
      "      |   ^~~~~~~~~~~~~~~~~~~~~~~~~~~~~~~~~~~~~~~~\n",
      "/mnt/work_folder/convex-plasticity/optimisation/code_dir/c/solver_code/src/rw.c:120:3: warning: ignoring return value of ‘fread’ declared with attribute ‘warn_unused_result’ [-Wunused-result]\n",
      "  120 |   fread(A->i, sizeof(scs_int), Anz, fin);\n",
      "      |   ^~~~~~~~~~~~~~~~~~~~~~~~~~~~~~~~~~~~~~\n",
      "/mnt/work_folder/convex-plasticity/optimisation/code_dir/c/solver_code/src/rw.c: In function ‘read_scs_stgs’:\n",
      "/mnt/work_folder/convex-plasticity/optimisation/code_dir/c/solver_code/src/rw.c:84:3: warning: ignoring return value of ‘fread’ declared with attribute ‘warn_unused_result’ [-Wunused-result]\n",
      "   84 |   fread(&(s->normalize), sizeof(scs_int), 1, fin);\n",
      "      |   ^~~~~~~~~~~~~~~~~~~~~~~~~~~~~~~~~~~~~~~~~~~~~~~\n",
      "/mnt/work_folder/convex-plasticity/optimisation/code_dir/c/solver_code/src/rw.c:85:3: warning: ignoring return value of ‘fread’ declared with attribute ‘warn_unused_result’ [-Wunused-result]\n",
      "   85 |   fread(&(s->scale), sizeof(scs_float), 1, fin);\n",
      "      |   ^~~~~~~~~~~~~~~~~~~~~~~~~~~~~~~~~~~~~~~~~~~~~\n",
      "/mnt/work_folder/convex-plasticity/optimisation/code_dir/c/solver_code/src/rw.c:86:3: warning: ignoring return value of ‘fread’ declared with attribute ‘warn_unused_result’ [-Wunused-result]\n",
      "   86 |   fread(&(s->rho_x), sizeof(scs_float), 1, fin);\n",
      "      |   ^~~~~~~~~~~~~~~~~~~~~~~~~~~~~~~~~~~~~~~~~~~~~\n",
      "/mnt/work_folder/convex-plasticity/optimisation/code_dir/c/solver_code/src/rw.c:87:3: warning: ignoring return value of ‘fread’ declared with attribute ‘warn_unused_result’ [-Wunused-result]\n",
      "   87 |   fread(&(s->max_iters), sizeof(scs_int), 1, fin);\n",
      "      |   ^~~~~~~~~~~~~~~~~~~~~~~~~~~~~~~~~~~~~~~~~~~~~~~\n",
      "/mnt/work_folder/convex-plasticity/optimisation/code_dir/c/solver_code/src/rw.c:88:3: warning: ignoring return value of ‘fread’ declared with attribute ‘warn_unused_result’ [-Wunused-result]\n",
      "   88 |   fread(&(s->eps_abs), sizeof(scs_float), 1, fin);\n",
      "      |   ^~~~~~~~~~~~~~~~~~~~~~~~~~~~~~~~~~~~~~~~~~~~~~~\n",
      "/mnt/work_folder/convex-plasticity/optimisation/code_dir/c/solver_code/src/rw.c:89:3: warning: ignoring return value of ‘fread’ declared with attribute ‘warn_unused_result’ [-Wunused-result]\n",
      "   89 |   fread(&(s->eps_rel), sizeof(scs_float), 1, fin);\n",
      "      |   ^~~~~~~~~~~~~~~~~~~~~~~~~~~~~~~~~~~~~~~~~~~~~~~\n",
      "/mnt/work_folder/convex-plasticity/optimisation/code_dir/c/solver_code/src/rw.c:90:3: warning: ignoring return value of ‘fread’ declared with attribute ‘warn_unused_result’ [-Wunused-result]\n",
      "   90 |   fread(&(s->eps_infeas), sizeof(scs_float), 1, fin);\n",
      "      |   ^~~~~~~~~~~~~~~~~~~~~~~~~~~~~~~~~~~~~~~~~~~~~~~~~~\n",
      "/mnt/work_folder/convex-plasticity/optimisation/code_dir/c/solver_code/src/rw.c:91:3: warning: ignoring return value of ‘fread’ declared with attribute ‘warn_unused_result’ [-Wunused-result]\n",
      "   91 |   fread(&(s->alpha), sizeof(scs_float), 1, fin);\n",
      "      |   ^~~~~~~~~~~~~~~~~~~~~~~~~~~~~~~~~~~~~~~~~~~~~\n",
      "/mnt/work_folder/convex-plasticity/optimisation/code_dir/c/solver_code/src/rw.c:92:3: warning: ignoring return value of ‘fread’ declared with attribute ‘warn_unused_result’ [-Wunused-result]\n",
      "   92 |   fread(&(s->verbose), sizeof(scs_int), 1, fin);\n",
      "      |   ^~~~~~~~~~~~~~~~~~~~~~~~~~~~~~~~~~~~~~~~~~~~~\n",
      "/mnt/work_folder/convex-plasticity/optimisation/code_dir/c/solver_code/src/rw.c:93:3: warning: ignoring return value of ‘fread’ declared with attribute ‘warn_unused_result’ [-Wunused-result]\n",
      "   93 |   fread(&(s->warm_start), sizeof(scs_int), 1, fin);\n",
      "      |   ^~~~~~~~~~~~~~~~~~~~~~~~~~~~~~~~~~~~~~~~~~~~~~~~\n",
      "/mnt/work_folder/convex-plasticity/optimisation/code_dir/c/solver_code/src/rw.c:94:3: warning: ignoring return value of ‘fread’ declared with attribute ‘warn_unused_result’ [-Wunused-result]\n",
      "   94 |   fread(&(s->acceleration_lookback), sizeof(scs_int), 1, fin);\n",
      "      |   ^~~~~~~~~~~~~~~~~~~~~~~~~~~~~~~~~~~~~~~~~~~~~~~~~~~~~~~~~~~\n",
      "/mnt/work_folder/convex-plasticity/optimisation/code_dir/c/solver_code/src/rw.c:95:3: warning: ignoring return value of ‘fread’ declared with attribute ‘warn_unused_result’ [-Wunused-result]\n",
      "   95 |   fread(&(s->acceleration_interval), sizeof(scs_int), 1, fin);\n",
      "      |   ^~~~~~~~~~~~~~~~~~~~~~~~~~~~~~~~~~~~~~~~~~~~~~~~~~~~~~~~~~~\n",
      "/mnt/work_folder/convex-plasticity/optimisation/code_dir/c/solver_code/src/rw.c:96:3: warning: ignoring return value of ‘fread’ declared with attribute ‘warn_unused_result’ [-Wunused-result]\n",
      "   96 |   fread(&(s->adaptive_scale), sizeof(scs_int), 1, fin);\n",
      "      |   ^~~~~~~~~~~~~~~~~~~~~~~~~~~~~~~~~~~~~~~~~~~~~~~~~~~~\n"
     ]
    },
    {
     "name": "stdout",
     "output_type": "stream",
     "text": [
      "[ 31%] Building C object CMakeFiles/cpg.dir/solver_code/src/scs_version.c.o\n",
      "[ 34%] Building C object CMakeFiles/cpg.dir/solver_code/src/util.c.o\n",
      "[ 37%] Building C object CMakeFiles/cpg.dir/solver_code/linsys/csparse.c.o\n",
      "[ 41%] Building C object CMakeFiles/cpg.dir/solver_code/linsys/scs_matrix.c.o\n",
      "[ 44%] Building C object CMakeFiles/cpg.dir/solver_code/linsys/cpu/direct/private.c.o\n",
      "[ 48%] Building C object CMakeFiles/cpg.dir/solver_code/linsys/external/qdldl/qdldl.c.o\n",
      "[ 51%] Building C object CMakeFiles/cpg.dir/solver_code/linsys/external/amd/SuiteSparse_config.c.o\n",
      "[ 55%] Building C object CMakeFiles/cpg.dir/solver_code/linsys/external/amd/amd_1.c.o\n",
      "[ 58%] Building C object CMakeFiles/cpg.dir/solver_code/linsys/external/amd/amd_2.c.o\n",
      "[ 62%] Building C object CMakeFiles/cpg.dir/solver_code/linsys/external/amd/amd_aat.c.o\n",
      "[ 65%] Building C object CMakeFiles/cpg.dir/solver_code/linsys/external/amd/amd_control.c.o\n",
      "[ 68%] Building C object CMakeFiles/cpg.dir/solver_code/linsys/external/amd/amd_defaults.c.o\n",
      "[ 72%] Building C object CMakeFiles/cpg.dir/solver_code/linsys/external/amd/amd_dump.c.o\n",
      "[ 75%] Building C object CMakeFiles/cpg.dir/solver_code/linsys/external/amd/amd_global.c.o\n",
      "[ 79%] Building C object CMakeFiles/cpg.dir/solver_code/linsys/external/amd/amd_info.c.o\n",
      "[ 82%] Building C object CMakeFiles/cpg.dir/solver_code/linsys/external/amd/amd_order.c.o\n",
      "[ 86%] Building C object CMakeFiles/cpg.dir/solver_code/linsys/external/amd/amd_post_tree.c.o\n",
      "[ 89%] Building C object CMakeFiles/cpg.dir/solver_code/linsys/external/amd/amd_postorder.c.o\n",
      "[ 93%] Building C object CMakeFiles/cpg.dir/solver_code/linsys/external/amd/amd_preprocess.c.o\n",
      "[ 96%] Building C object CMakeFiles/cpg.dir/solver_code/linsys/external/amd/amd_valid.c.o\n",
      "[100%] Linking C static library out/libcpg.a\n",
      "[100%] Built target cpg\n",
      "CVXPYgen finished compiling python wrapper.\n"
     ]
    }
   ],
   "source": [
    "cpg.generate_code(rm.prob, code_dir=code_dir, solver='SCS')"
   ]
  },
  {
   "cell_type": "code",
   "execution_count": 7,
   "metadata": {},
   "outputs": [],
   "source": [
    "# import extension module and register custom CVXPY solve method\n",
    "from code_dir.cpg_solver import cpg_solve\n",
    "rm.prob.register_solve('cpg', cpg_solve)"
   ]
  },
  {
   "cell_type": "code",
   "execution_count": null,
   "metadata": {},
   "outputs": [],
   "source": [
    "N = 100\n",
    "theta = np.linspace(0, 2*np.pi, N+1)\n",
    "Eps = 0.1*np.vstack((np.cos(theta), np.sin(theta), 0*theta, 0*theta)).T\n",
    "Sig = []\n",
    "\n",
    "for i, t in enumerate(theta):\n",
    "    rm.sig_old.value = np.zeros((4, ))\n",
    "    rm.deps.value = Eps[i,:]\n",
    "    rm.prob.solve(method='cpg', updated_params=['deps', 'sig_old'], verbose=True)\n",
    "    Sig.append(rm.sig.value)\n",
    "    #Eps.append(Eps[-1]+rm.deps.value)\n",
    "\n",
    "Sig = np.asarray(Sig)\n",
    "Eps = np.asarray(Eps)"
   ]
  },
  {
   "cell_type": "code",
   "execution_count": 21,
   "metadata": {},
   "outputs": [
    {
     "data": {
      "image/png": "[encoded data removed]",
      "text/plain": [
       "<Figure size 432x288 with 1 Axes>"
      ]
     },
     "metadata": {
      "needs_background": "light"
     },
     "output_type": "display_data"
    }
   ],
   "source": [
    "plt.plot(Sig[:, 0], Sig[:, 1], \"-o\")\n",
    "plt.gca().set_aspect(\"equal\")"
   ]
  },
  {
   "cell_type": "code",
   "execution_count": 21,
   "metadata": {},
   "outputs": [
    {
     "data": {
      "text/plain": [
       "3.428569337364942e-18"
      ]
     },
     "execution_count": 21,
     "metadata": {},
     "output_type": "execute_result"
    }
   ],
   "source": [
    "# solve problem conventionally\n",
    "val = rm.prob.solve(solver='SCS')\n",
    "val"
   ]
  },
  {
   "cell_type": "code",
   "execution_count": 10,
   "metadata": {},
   "outputs": [
    {
     "data": {
      "text/plain": [
       "1.9873365059487113e-05"
      ]
     },
     "execution_count": 10,
     "metadata": {},
     "output_type": "execute_result"
    }
   ],
   "source": [
    "# solve problem with C code via python wrapper\n",
    "val = rm.prob.solve(method='cpg', updated_params=['deps', 'sig_old'], verbose=False)\n",
    "val"
   ]
  },
  {
   "cell_type": "code",
   "execution_count": 56,
   "metadata": {},
   "outputs": [
    {
     "data": {
      "image/png": "[encoded data removed]",
      "text/plain": [
       "<Figure size 432x288 with 1 Axes>"
      ]
     },
     "metadata": {
      "needs_background": "light"
     },
     "output_type": "display_data"
    }
   ],
   "source": [
    "N = 100\n",
    "theta = np.linspace(0, 2*np.pi, N+1)\n",
    "Eps = 0.1*np.vstack((np.cos(theta), np.sin(theta), 0*theta, 0*theta)).T\n",
    "Sig = []\n",
    "\n",
    "for i, t in enumerate(theta):\n",
    "    rm.sig_old.value = np.zeros((4, ))\n",
    "    rm.deps.value = Eps[i,:]\n",
    "    rm.solve()\n",
    "    Sig.append(rm.sig.value)\n",
    "    #Eps.append(Eps[-1]+rm.deps.value)\n",
    "\n",
    "Sig = np.asarray(Sig)\n",
    "Eps = np.asarray(Eps)\n",
    "\n",
    "plt.plot(Sig[:, 0], Sig[:, 1], \"-o\")\n",
    "plt.gca().set_aspect(\"equal\")"
   ]
  },
  {
   "cell_type": "code",
   "execution_count": 12,
   "metadata": {},
   "outputs": [
    {
     "data": {
      "text/plain": [
       "'/mnt/work_folder/convex-plasticity/optimisation/_cpglib.cpython-39-x86_64-linux-gnu.so'"
      ]
     },
     "execution_count": 12,
     "metadata": {},
     "output_type": "execute_result"
    }
   ],
   "source": [
    "with open('cffi_wrapper/cffi_wrapper.c', 'r') as file:\n",
    "    cdef = file.read()\n",
    "\n",
    "with open('cffi_wrapper/cffi_wrapper.h', 'r') as file:\n",
    "    source = file.read()\n",
    "    \n",
    "lib_dir = os.path.join(os.getcwd(), code_dir + '/c/build/out')\n",
    "solver_include_dir = os.path.join(os.getcwd(), code_dir + '/c/solver_code/include')\n",
    "include_dir = os.path.join(os.getcwd(), code_dir + '/c/include')\n",
    "\n",
    "ffibuilder = cffi.FFI()\n",
    "\n",
    "ffibuilder.set_source(\n",
    "  module_name='_cpglib', \n",
    "  source=source,\n",
    "  include_dirs = [include_dir, solver_include_dir],\n",
    "  libraries = ['cpg'],\n",
    "  library_dirs = [lib_dir],\n",
    ")\n",
    "\n",
    "ffibuilder.cdef(csource=cdef)\n",
    "\n",
    "ffibuilder.compile()"
   ]
  },
  {
   "cell_type": "code",
   "execution_count": 13,
   "metadata": {},
   "outputs": [],
   "source": [
    "import _cpglib\n",
    "\n",
    "cffi_utils.register_module(_cpglib)\n",
    "\n",
    "CPG_Updated_python_t = cffi_utils.map_type(_cpglib.ffi.typeof('CPG_Updated_cpp_t'), use_record_dtype=True)\n",
    "CPG_Params_python_t = cffi_utils.map_type(_cpglib.ffi.typeof('CPG_Params_cpp_t'), use_record_dtype=True)\n",
    "CPG_Result_python_t = cffi_utils.map_type(_cpglib.ffi.typeof('CPG_Result_cpp_t'), use_record_dtype=True)\n",
    "\n",
    "cffi_utils.register_type(_cpglib.ffi.typeof('CPG_Updated_cpp_t'), CPG_Updated_python_t)\n",
    "cffi_utils.register_type(_cpglib.ffi.typeof('CPG_Params_cpp_t'), CPG_Params_python_t)\n",
    "cffi_utils.register_type(_cpglib.ffi.typeof('CPG_Result_cpp_t'), CPG_Result_python_t)\n",
    "\n",
    "sig = cffi_utils.map_type(_cpglib.ffi.typeof(_cpglib.lib.solve_cpp), use_record_dtype=True)"
   ]
  },
  {
   "cell_type": "code",
   "execution_count": 14,
   "metadata": {},
   "outputs": [],
   "source": [
    "@numba.cfunc(sig, nopython=True)\n",
    "def solve_wrapper(upd, par, res):\n",
    "    _cpglib.lib.solve_cpp(upd, par, res)\n",
    "\n",
    "cpg_sol = solve_wrapper.ctypes"
   ]
  },
  {
   "cell_type": "code",
   "execution_count": 44,
   "metadata": {},
   "outputs": [],
   "source": [
    "def my_cpg_solve(problem: cp.problems.problem.Problem, **kwargs):\n",
    "    \n",
    "    #Preliminary initialization of parameters, functions, etc (before the numba-function invocation)\n",
    "\n",
    "    upd = _cpglib.ffi.new(\"CPG_Updated_cpp_t *\", {})\n",
    "    par = _cpglib.ffi.new(\"CPG_Params_cpp_t *\", {})\n",
    "    res = _cpglib.ffi.new(\"CPG_Result_cpp_t *\", {})\n",
    "\n",
    "    upd_numpy = np.ndarray(buffer=_cpglib.ffi.buffer(upd), dtype=numba.np.numpy_support.as_dtype(CPG_Updated_python_t), shape=1,)\n",
    "    par_numpy = np.ndarray(buffer=_cpglib.ffi.buffer(par), dtype=numba.np.numpy_support.as_dtype(CPG_Params_python_t), shape=1,)\n",
    "    res_numpy = np.ndarray(buffer=_cpglib.ffi.buffer(res), dtype=numba.np.numpy_support.as_dtype(CPG_Result_python_t), shape=1,)\n",
    "\n",
    "    updated_params = [\"sig_old\", \"deps\"]\n",
    "    for p in updated_params:\n",
    "        setattr(upd, p, True)\n",
    "\n",
    "    _cpglib.lib.cpg_set_solver_default_settings()\n",
    "\n",
    "    for key, value in kwargs.items():\n",
    "        try:\n",
    "            eval(' _cpglib.lib.cpg_set_solver_%s(value)' % key)\n",
    "        except AttributeError:\n",
    "            raise(AttributeError('Solver setting \"%s\" not available.' % key))\n",
    "\n",
    "    # set parameter values\n",
    "    # sig_old_value = problem.param_dict['sig_old'].value.flatten(order='F')\n",
    "    # deps_value = problem.param_dict['deps'].value.flatten(order='F')\n",
    "\n",
    "    # par_numpy['sig_old'][:] = sig_old_value\n",
    "    # par_numpy['deps'][:] = deps_value\n",
    "\n",
    "    N = 100\n",
    "    theta = np.linspace(0, 2*np.pi, N+1)\n",
    "    Eps = 0.1*np.vstack((np.cos(theta), np.sin(theta), 0*theta, 0*theta)).T\n",
    "    zeros = np.zeros((4, ))\n",
    "    Sig = np.zeros_like(Eps)\n",
    "\n",
    "    par_numpy['sig_old'][:] = zeros[:]\n",
    "    par_numpy['deps'][:] = Eps[0,:]\n",
    "\n",
    "    @numba.njit\n",
    "    def call_solver(upd_numpy: np.ndarray, par_numpy: np.ndarray, res_numpy: np.ndarray, Sig):\n",
    "        for i in range(N+1):\n",
    "            par_numpy['sig_old'][:] = zeros[:]\n",
    "            par_numpy['deps'][:] = Eps[i,:]\n",
    "\n",
    "            cpg_sol(upd_numpy.ctypes.data, par_numpy.ctypes.data, res_numpy.ctypes.data)\n",
    "\n",
    "            Sig[i,:] = res_numpy['prim']['sig'][0]\n",
    "\n",
    "    call_solver(upd_numpy, par_numpy, res_numpy, Sig)\n",
    "    Sig = np.asarray(Sig)\n",
    "    Eps = np.asarray(Eps)\n",
    "\n",
    "    return Sig, Eps"
   ]
  },
  {
   "cell_type": "code",
   "execution_count": 45,
   "metadata": {},
   "outputs": [],
   "source": [
    "Sig, Eps = my_cpg_solve(rm.prob)"
   ]
  },
  {
   "cell_type": "code",
   "execution_count": 46,
   "metadata": {},
   "outputs": [
    {
     "data": {
      "image/png": "[encoded data removed]",
      "text/plain": [
       "<Figure size 432x288 with 1 Axes>"
      ]
     },
     "metadata": {
      "needs_background": "light"
     },
     "output_type": "display_data"
    }
   ],
   "source": [
    "Sig, Eps = my_cpg_solve(rm.prob)\n",
    "plt.plot(Sig[:, 0], Sig[:, 1], \"-o\")\n",
    "plt.gca().set_aspect(\"equal\")"
   ]
  },
  {
   "cell_type": "code",
   "execution_count": null,
   "metadata": {},
   "outputs": [
    {
     "data": {
      "text/plain": [
       "array([[0, 5, 4],\n",
       "       [5, 1, 3],\n",
       "       [4, 3, 2]], dtype=uint8)"
      ]
     },
     "execution_count": 106,
     "metadata": {},
     "output_type": "execute_result"
    }
   ],
   "source": [
    "# Voight_indexes = np.zeros((3,3), dtype=np.uint8)\n",
    "# Voight_indexes[0,0] = 0\n",
    "# Voight_indexes[1,1] = 1\n",
    "# Voight_indexes[2,2] = 2\n",
    "# Voight_indexes[2,1] = 3\n",
    "# Voight_indexes[1,2] = 3\n",
    "# Voight_indexes[2,0] = 4\n",
    "# Voight_indexes[0,2] = 4\n",
    "# Voight_indexes[1,0] = 5\n",
    "# Voight_indexes[0,1] = 5\n",
    "# Voight_indexes"
   ]
  },
  {
   "cell_type": "code",
   "execution_count": null,
   "metadata": {},
   "outputs": [],
   "source": [
    "# def to_Voight_vector(sigma):\n",
    "#     sigma_vec = np.zeros(6, dtype=PETSc.ScalarType)\n",
    "#     for i in range(3):\n",
    "#         for j in range(3):\n",
    "#             sigma_vec[Voight_indexes[i,j]] = sigma[i,j]\n",
    "#     return sigma_vec\n",
    "\n",
    "# def to_Voight_matrix(C):\n",
    "#     C_matrix = np.zeros((6, 6), dtype=PETSc.ScalarType)\n",
    "    \n",
    "#     for i in range(3):\n",
    "#         for j in range(3):\n",
    "#             for k in range(3):\n",
    "#                 for l in range(3):\n",
    "#                     C_matrix[Voight_indexes[i,j], Voight_indexes[k,l]] = C[i,j,k,l]\n",
    "\n",
    "#     return C_matrix"
   ]
  }
 ],
 "metadata": {
  "kernelspec": {
   "display_name": "Python 3.9.7 64-bit",
   "language": "python",
   "name": "python3"
  },
  "language_info": {
   "codemirror_mode": {
    "name": "ipython",
    "version": 3
   },
   "file_extension": ".py",
   "mimetype": "text/x-python",
   "name": "python",
   "nbconvert_exporter": "python",
   "pygments_lexer": "ipython3",
   "version": "3.9.7"
  },
  "vscode": {
   "interpreter": {
    "hash": "31f2aee4e71d21fbe5cf8b01ff0e069b9275f58929596ceb00d14d90e3e16cd6"
   }
  }
 },
 "nbformat": 4,
 "nbformat_minor": 4
}
