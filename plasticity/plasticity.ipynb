{
 "cells": [
  {
   "cell_type": "markdown",
   "metadata": {},
   "source": [
    "Implementation of 2D elasto-plastic problem using FEniCS-X. The code is based on a [legacy solution](https://comet-fenics.readthedocs.io/en/latest/demo/2D_plasticity/vonMises_plasticity.py.html) for FEniCS 2019."
   ]
  },
  {
   "cell_type": "code",
   "execution_count": 1,
   "metadata": {},
   "outputs": [],
   "source": [
    "import meshio\n",
    "import numpy as np\n",
    "\n",
    "import ufl\n",
    "from dolfinx import fem, io, plot\n",
    "# from ufl import ds, dx, grad, \n",
    "\n",
    "from mpi4py import MPI\n",
    "from petsc4py.PETSc import ScalarType\n",
    "# import pyvista\n",
    "from petsc4py import PETSc"
   ]
  },
  {
   "cell_type": "code",
   "execution_count": 2,
   "metadata": {},
   "outputs": [],
   "source": [
    "def create_mesh(mesh, cell_type, prune_z=False):\n",
    "    cells = mesh.get_cells_type(cell_type)\n",
    "    cell_data = mesh.get_cell_data(\"gmsh:physical\", cell_type)\n",
    "    points = mesh.points[:,:2] if prune_z else mesh.points\n",
    "    out_mesh = meshio.Mesh(points=points, cells={cell_type: cells}, cell_data={\"name_to_read\":[cell_data]})\n",
    "    return out_mesh"
   ]
  },
  {
   "cell_type": "code",
   "execution_count": 3,
   "metadata": {},
   "outputs": [
    {
     "name": "stdout",
     "output_type": "stream",
     "text": [
      "\n"
     ]
    }
   ],
   "source": [
    "#It works with the msh4 only!!\n",
    "msh = meshio.read(\"thick_cylinder.msh\")\n",
    "\n",
    "# Create and save one file for the mesh, and one file for the facets \n",
    "triangle_mesh = create_mesh(msh, \"triangle\", prune_z=True)\n",
    "line_mesh = create_mesh(msh, \"line\", prune_z=True)\n",
    "meshio.write(\"thick_cylinder.xdmf\", triangle_mesh)\n",
    "meshio.write(\"mt.xdmf\", line_mesh)\n",
    "\n",
    "with io.XDMFFile(MPI.COMM_WORLD, \"thick_cylinder.xdmf\", \"r\") as xdmf:\n",
    "    mesh = xdmf.read_mesh(name=\"Grid\")\n",
    "    ct = xdmf.read_meshtags(mesh, name=\"Grid\")\n",
    "\n",
    "mesh.topology.create_connectivity(mesh.topology.dim, mesh.topology.dim - 1)\n",
    "\n",
    "with io.XDMFFile(MPI.COMM_WORLD, \"mt.xdmf\", \"r\") as xdmf:\n",
    "    ft = xdmf.read_meshtags(mesh, name=\"Grid\")"
   ]
  },
  {
   "cell_type": "code",
   "execution_count": 4,
   "metadata": {},
   "outputs": [],
   "source": [
    "# elastic parameters\n",
    "E = 70e3\n",
    "nu = 0.3\n",
    "lmbda = E*nu/(1+nu)/(1-2*nu)\n",
    "mu = fem.Constant(mesh, ScalarType(E/2./(1+nu)))\n",
    "sig0 = 250.  # yield strength\n",
    "Et = E/100.  # tangent modulus\n",
    "H = E*Et/(E-Et)  # hardening modulus\n",
    "\n",
    "Re, Ri = 1.3, 1.   # external/internal radius\n",
    "ds = ufl.Measure(\"ds\", domain=mesh)"
   ]
  },
  {
   "cell_type": "code",
   "execution_count": 5,
   "metadata": {},
   "outputs": [],
   "source": [
    "deg_u = 2\n",
    "deg_stress = 2\n",
    "V = fem.VectorFunctionSpace(mesh, (\"CG\", deg_u))\n",
    "We = ufl.VectorElement(\"Quadrature\", mesh.ufl_cell(), degree=deg_stress, dim=4, quad_scheme='default')\n",
    "W0e = ufl.FiniteElement(\"Quadrature\", mesh.ufl_cell(), degree=deg_stress, quad_scheme='default')\n",
    "W = fem.FunctionSpace(mesh, We)\n",
    "W0 = fem.FunctionSpace(mesh, W0e)"
   ]
  },
  {
   "cell_type": "code",
   "execution_count": 6,
   "metadata": {},
   "outputs": [],
   "source": [
    "sig = fem.Function(W)\n",
    "sig_old = fem.Function(W)\n",
    "n_elas = fem.Function(W)\n",
    "beta = fem.Function(W0)\n",
    "p = fem.Function(W0, name=\"Cumulative plastic strain\")\n",
    "u = fem.Function(V, name=\"Total displacement\")\n",
    "du = fem.Function(V, name=\"Iteration correction\")\n",
    "Du = fem.Function(V, name=\"Current increment\")\n",
    "v = ufl.TrialFunction(V)\n",
    "u_ = ufl.TestFunction(V)"
   ]
  },
  {
   "cell_type": "code",
   "execution_count": 7,
   "metadata": {},
   "outputs": [],
   "source": [
    "left_marker = 3\n",
    "down_marker = 1\n",
    "left_facets = ft.indices[ft.values == left_marker]\n",
    "down_facets = ft.indices[ft.values == down_marker]\n",
    "left_dofs = fem.locate_dofs_topological(V.sub(0), mesh.topology.dim-1, left_facets)\n",
    "down_dofs = fem.locate_dofs_topological(V.sub(1), mesh.topology.dim-1, down_facets)\n",
    "\n",
    "bcs = [fem.dirichletbc(ScalarType(0), left_dofs, V.sub(0)), fem.dirichletbc(ScalarType(0), down_dofs, V.sub(1))]"
   ]
  },
  {
   "cell_type": "code",
   "execution_count": 8,
   "metadata": {},
   "outputs": [],
   "source": [
    "n = ufl.FacetNormal(mesh)\n",
    "q_lim = float(2/np.sqrt(3)*np.log(Re/Ri)*sig0)\n",
    "\n",
    "class Loading:\n",
    "    def __init__(self):\n",
    "        self.q = q_lim\n",
    "        self.t = 0.0\n",
    "\n",
    "    def eval(self, x):\n",
    "        return np.full(x.shape[1], -self.q * self.t)\n",
    "\n",
    "V_real = fem.FunctionSpace(mesh, (\"CG\", 2))\n",
    "loading = Loading()\n",
    "load_func = fem.Function(V_real)\n",
    "load_func.interpolate(loading.eval)\n",
    "\n",
    "def F_ext(v):\n",
    "    return load_func * ufl.inner(n, v)*ds(4)"
   ]
  },
  {
   "cell_type": "code",
   "execution_count": 9,
   "metadata": {},
   "outputs": [],
   "source": [
    "def eps(v):\n",
    "    e = ufl.sym(ufl.grad(v))\n",
    "    return ufl.as_tensor([[e[0, 0], e[0, 1], 0],\n",
    "                          [e[0, 1], e[1, 1], 0],\n",
    "                          [0, 0, 0]])\n",
    "def sigma(eps_el):\n",
    "    return lmbda*ufl.tr(eps_el)*ufl.Identity(3) + 2*mu*eps_el\n",
    "\n",
    "def as_3D_tensor(X):\n",
    "    return ufl.as_tensor([[X[0], X[3], 0],\n",
    "                          [X[3], X[1], 0],\n",
    "                          [0, 0, X[2]]])"
   ]
  },
  {
   "cell_type": "code",
   "execution_count": 10,
   "metadata": {},
   "outputs": [],
   "source": [
    "ppos = lambda x: (x+abs(x))/2.\n",
    "def proj_sig(deps, old_sig, old_p):\n",
    "    sig_n = as_3D_tensor(old_sig)\n",
    "    sig_elas = sig_n + sigma(deps)\n",
    "    s = ufl.dev(sig_elas)\n",
    "    sig_eq = ufl.sqrt(3/2.*ufl.inner(s, s))\n",
    "    f_elas = sig_eq - sig0 - H*old_p\n",
    "    dp = ppos(f_elas)/(3*mu+H)\n",
    "    n_elas = s/sig_eq*ppos(f_elas)/f_elas\n",
    "    beta = 3*mu*dp/sig_eq\n",
    "    new_sig = sig_elas-beta*s\n",
    "    return ufl.as_vector([new_sig[0, 0], new_sig[1, 1], new_sig[2, 2], new_sig[0, 1]]), \\\n",
    "           ufl.as_vector([n_elas[0, 0], n_elas[1, 1], n_elas[2, 2], n_elas[0, 1]]), \\\n",
    "           beta, dp"
   ]
  },
  {
   "cell_type": "code",
   "execution_count": 11,
   "metadata": {},
   "outputs": [],
   "source": [
    "def sigma_tang(e):\n",
    "    N_elas = as_3D_tensor(n_elas)\n",
    "    # return sigma(e) - 3*mu*(3*mu/(3*mu+H)-beta)*inner(N_elas, e)*N_elas \n",
    "    return sigma(e) - 3*mu*(3*mu/(3*mu+H)-beta)*ufl.inner(N_elas, e)*N_elas - 2*mu*beta*ufl.dev(e)"
   ]
  },
  {
   "cell_type": "code",
   "execution_count": 12,
   "metadata": {},
   "outputs": [],
   "source": [
    "dx = ufl.Measure(\n",
    "    \"dx\",\n",
    "    domain=mesh\n",
    "    # metadata={\"quadrature_degree\": deg_stress, \"quadrature_scheme\": \"default\"},\n",
    ")\n",
    "\n",
    "a_Newton = ufl.inner(eps(v), sigma_tang(eps(u_)))*dx\n",
    "res = -ufl.inner(eps(u_), as_3D_tensor(sig))*dx \n",
    "# + F_ext(u_)"
   ]
  },
  {
   "cell_type": "code",
   "execution_count": 13,
   "metadata": {},
   "outputs": [
    {
     "data": {
      "text/plain": [
       "(3, 3)"
      ]
     },
     "execution_count": 13,
     "metadata": {},
     "output_type": "execute_result"
    }
   ],
   "source": [
    "ufl.dev(eps(u_)).ufl_shape"
   ]
  },
  {
   "cell_type": "code",
   "execution_count": 56,
   "metadata": {},
   "outputs": [],
   "source": [
    "# def local_project(v, V, u=None):\n",
    "#     dv = ufl.TrialFunction(V)\n",
    "#     v_ = ufl.TestFunction(V)\n",
    "#     a_proj = inner(dv, v_)*dxm\n",
    "#     b_proj = inner(v, v_)*dxm\n",
    "#     solver = LocalSolver(a_proj, b_proj)\n",
    "#     solver.factorize()\n",
    "#     if u is None:\n",
    "#         u = fem.Function(V)\n",
    "#         solver.solve_local_rhs(u)\n",
    "#         return u\n",
    "#     else:\n",
    "#         solver.solve_local_rhs(u)\n",
    "#         return"
   ]
  },
  {
   "cell_type": "code",
   "execution_count": 14,
   "metadata": {},
   "outputs": [],
   "source": [
    "P0 = fem.FunctionSpace(mesh, (\"DG\", 0))\n",
    "p_avg = fem.Function(P0, name=\"Plastic strain\")"
   ]
  },
  {
   "cell_type": "code",
   "execution_count": 15,
   "metadata": {},
   "outputs": [
    {
     "ename": "ValueError",
     "evalue": "Mismatch of tabulation points and element points.",
     "output_type": "error",
     "traceback": [
      "\u001b[0;31m---------------------------------------------------------------------------\u001b[0m",
      "\u001b[0;31mValueError\u001b[0m                                Traceback (most recent call last)",
      "\u001b[1;32m/mnt/work_folder/Stage_PFE/plasticity/plasticity.ipynb Cell 16'\u001b[0m in \u001b[0;36m<cell line: 1>\u001b[0;34m()\u001b[0m\n\u001b[0;32m----> <a href='vscode-notebook-cell://attached-container%2B7b22636f6e7461696e65724e616d65223a2266656e696373227d/mnt/work_folder/Stage_PFE/plasticity/plasticity.ipynb#ch0000021vscode-remote?line=0'>1</a>\u001b[0m A \u001b[39m=\u001b[39m fem\u001b[39m.\u001b[39mpetsc\u001b[39m.\u001b[39massemble_matrix(fem\u001b[39m.\u001b[39;49mform(a_Newton), bcs\u001b[39m=\u001b[39mbcs)\n",
      "File \u001b[0;32m/usr/local/dolfinx-real/lib/python3.8/dist-packages/dolfinx/fem/forms.py:139\u001b[0m, in \u001b[0;36mform\u001b[0;34m(form, dtype, form_compiler_params, jit_params)\u001b[0m\n\u001b[1;32m    <a href='file:///usr/local/dolfinx-real/lib/python3.8/dist-packages/dolfinx/fem/forms.py?line=135'>136</a>\u001b[0m         \u001b[39mreturn\u001b[39;00m \u001b[39mlist\u001b[39m(\u001b[39mmap\u001b[39m(\u001b[39mlambda\u001b[39;00m sub_form: _create_form(sub_form), form))\n\u001b[1;32m    <a href='file:///usr/local/dolfinx-real/lib/python3.8/dist-packages/dolfinx/fem/forms.py?line=136'>137</a>\u001b[0m     \u001b[39mreturn\u001b[39;00m form\n\u001b[0;32m--> <a href='file:///usr/local/dolfinx-real/lib/python3.8/dist-packages/dolfinx/fem/forms.py?line=138'>139</a>\u001b[0m \u001b[39mreturn\u001b[39;00m _create_form(form)\n",
      "File \u001b[0;32m/usr/local/dolfinx-real/lib/python3.8/dist-packages/dolfinx/fem/forms.py:134\u001b[0m, in \u001b[0;36mform.<locals>._create_form\u001b[0;34m(form)\u001b[0m\n\u001b[1;32m    <a href='file:///usr/local/dolfinx-real/lib/python3.8/dist-packages/dolfinx/fem/forms.py?line=130'>131</a>\u001b[0m \u001b[39m\"\"\"Recursively convert ufl.Forms to dolfinx.fem.Form, otherwise\u001b[39;00m\n\u001b[1;32m    <a href='file:///usr/local/dolfinx-real/lib/python3.8/dist-packages/dolfinx/fem/forms.py?line=131'>132</a>\u001b[0m \u001b[39mreturn form argument\"\"\"\u001b[39;00m\n\u001b[1;32m    <a href='file:///usr/local/dolfinx-real/lib/python3.8/dist-packages/dolfinx/fem/forms.py?line=132'>133</a>\u001b[0m \u001b[39mif\u001b[39;00m \u001b[39misinstance\u001b[39m(form, ufl\u001b[39m.\u001b[39mForm):\n\u001b[0;32m--> <a href='file:///usr/local/dolfinx-real/lib/python3.8/dist-packages/dolfinx/fem/forms.py?line=133'>134</a>\u001b[0m     \u001b[39mreturn\u001b[39;00m _form(form)\n\u001b[1;32m    <a href='file:///usr/local/dolfinx-real/lib/python3.8/dist-packages/dolfinx/fem/forms.py?line=134'>135</a>\u001b[0m \u001b[39melif\u001b[39;00m \u001b[39misinstance\u001b[39m(form, collections\u001b[39m.\u001b[39mabc\u001b[39m.\u001b[39mIterable):\n\u001b[1;32m    <a href='file:///usr/local/dolfinx-real/lib/python3.8/dist-packages/dolfinx/fem/forms.py?line=135'>136</a>\u001b[0m     \u001b[39mreturn\u001b[39;00m \u001b[39mlist\u001b[39m(\u001b[39mmap\u001b[39m(\u001b[39mlambda\u001b[39;00m sub_form: _create_form(sub_form), form))\n",
      "File \u001b[0;32m/usr/local/dolfinx-real/lib/python3.8/dist-packages/dolfinx/fem/forms.py:108\u001b[0m, in \u001b[0;36mform.<locals>._form\u001b[0;34m(form)\u001b[0m\n\u001b[1;32m    <a href='file:///usr/local/dolfinx-real/lib/python3.8/dist-packages/dolfinx/fem/forms.py?line=104'>105</a>\u001b[0m \u001b[39mif\u001b[39;00m mesh \u001b[39mis\u001b[39;00m \u001b[39mNone\u001b[39;00m:\n\u001b[1;32m    <a href='file:///usr/local/dolfinx-real/lib/python3.8/dist-packages/dolfinx/fem/forms.py?line=105'>106</a>\u001b[0m     \u001b[39mraise\u001b[39;00m \u001b[39mRuntimeError\u001b[39;00m(\u001b[39m\"\u001b[39m\u001b[39mExpecting to find a Mesh in the form.\u001b[39m\u001b[39m\"\u001b[39m)\n\u001b[0;32m--> <a href='file:///usr/local/dolfinx-real/lib/python3.8/dist-packages/dolfinx/fem/forms.py?line=107'>108</a>\u001b[0m ufcx_form, module, code \u001b[39m=\u001b[39m jit\u001b[39m.\u001b[39;49mffcx_jit(mesh\u001b[39m.\u001b[39;49mcomm, form,\n\u001b[1;32m    <a href='file:///usr/local/dolfinx-real/lib/python3.8/dist-packages/dolfinx/fem/forms.py?line=108'>109</a>\u001b[0m                                        form_compiler_params\u001b[39m=\u001b[39;49mform_compiler_params,\n\u001b[1;32m    <a href='file:///usr/local/dolfinx-real/lib/python3.8/dist-packages/dolfinx/fem/forms.py?line=109'>110</a>\u001b[0m                                        jit_params\u001b[39m=\u001b[39;49mjit_params)\n\u001b[1;32m    <a href='file:///usr/local/dolfinx-real/lib/python3.8/dist-packages/dolfinx/fem/forms.py?line=111'>112</a>\u001b[0m \u001b[39m# For each argument in form extract its function space\u001b[39;00m\n\u001b[1;32m    <a href='file:///usr/local/dolfinx-real/lib/python3.8/dist-packages/dolfinx/fem/forms.py?line=112'>113</a>\u001b[0m V \u001b[39m=\u001b[39m [arg\u001b[39m.\u001b[39mufl_function_space()\u001b[39m.\u001b[39m_cpp_object \u001b[39mfor\u001b[39;00m arg \u001b[39min\u001b[39;00m form\u001b[39m.\u001b[39marguments()]\n",
      "File \u001b[0;32m/usr/local/dolfinx-real/lib/python3.8/dist-packages/dolfinx/jit.py:56\u001b[0m, in \u001b[0;36mmpi_jit_decorator.<locals>.mpi_jit\u001b[0;34m(comm, *args, **kwargs)\u001b[0m\n\u001b[1;32m     <a href='file:///usr/local/dolfinx-real/lib/python3.8/dist-packages/dolfinx/jit.py?line=50'>51</a>\u001b[0m \u001b[39m@functools\u001b[39m\u001b[39m.\u001b[39mwraps(local_jit)\n\u001b[1;32m     <a href='file:///usr/local/dolfinx-real/lib/python3.8/dist-packages/dolfinx/jit.py?line=51'>52</a>\u001b[0m \u001b[39mdef\u001b[39;00m \u001b[39mmpi_jit\u001b[39m(comm, \u001b[39m*\u001b[39margs, \u001b[39m*\u001b[39m\u001b[39m*\u001b[39mkwargs):\n\u001b[1;32m     <a href='file:///usr/local/dolfinx-real/lib/python3.8/dist-packages/dolfinx/jit.py?line=52'>53</a>\u001b[0m \n\u001b[1;32m     <a href='file:///usr/local/dolfinx-real/lib/python3.8/dist-packages/dolfinx/jit.py?line=53'>54</a>\u001b[0m     \u001b[39m# Just call JIT compiler when running in serial\u001b[39;00m\n\u001b[1;32m     <a href='file:///usr/local/dolfinx-real/lib/python3.8/dist-packages/dolfinx/jit.py?line=54'>55</a>\u001b[0m     \u001b[39mif\u001b[39;00m comm\u001b[39m.\u001b[39msize \u001b[39m==\u001b[39m \u001b[39m1\u001b[39m:\n\u001b[0;32m---> <a href='file:///usr/local/dolfinx-real/lib/python3.8/dist-packages/dolfinx/jit.py?line=55'>56</a>\u001b[0m         \u001b[39mreturn\u001b[39;00m local_jit(\u001b[39m*\u001b[39;49margs, \u001b[39m*\u001b[39;49m\u001b[39m*\u001b[39;49mkwargs)\n\u001b[1;32m     <a href='file:///usr/local/dolfinx-real/lib/python3.8/dist-packages/dolfinx/jit.py?line=57'>58</a>\u001b[0m     \u001b[39m# Default status (0 == ok, 1 == fail)\u001b[39;00m\n\u001b[1;32m     <a href='file:///usr/local/dolfinx-real/lib/python3.8/dist-packages/dolfinx/jit.py?line=58'>59</a>\u001b[0m     status \u001b[39m=\u001b[39m \u001b[39m0\u001b[39m\n",
      "File \u001b[0;32m/usr/local/dolfinx-real/lib/python3.8/dist-packages/dolfinx/jit.py:204\u001b[0m, in \u001b[0;36mffcx_jit\u001b[0;34m(ufl_object, form_compiler_params, jit_params)\u001b[0m\n\u001b[1;32m    <a href='file:///usr/local/dolfinx-real/lib/python3.8/dist-packages/dolfinx/jit.py?line=201'>202</a>\u001b[0m \u001b[39m# Switch on type and compile, returning cffi object\u001b[39;00m\n\u001b[1;32m    <a href='file:///usr/local/dolfinx-real/lib/python3.8/dist-packages/dolfinx/jit.py?line=202'>203</a>\u001b[0m \u001b[39mif\u001b[39;00m \u001b[39misinstance\u001b[39m(ufl_object, ufl\u001b[39m.\u001b[39mForm):\n\u001b[0;32m--> <a href='file:///usr/local/dolfinx-real/lib/python3.8/dist-packages/dolfinx/jit.py?line=203'>204</a>\u001b[0m     r \u001b[39m=\u001b[39m ffcx\u001b[39m.\u001b[39;49mcodegeneration\u001b[39m.\u001b[39;49mjit\u001b[39m.\u001b[39;49mcompile_forms([ufl_object], parameters\u001b[39m=\u001b[39;49mp_ffcx, \u001b[39m*\u001b[39;49m\u001b[39m*\u001b[39;49mp_jit)\n\u001b[1;32m    <a href='file:///usr/local/dolfinx-real/lib/python3.8/dist-packages/dolfinx/jit.py?line=204'>205</a>\u001b[0m \u001b[39melif\u001b[39;00m \u001b[39misinstance\u001b[39m(ufl_object, ufl\u001b[39m.\u001b[39mFiniteElementBase):\n\u001b[1;32m    <a href='file:///usr/local/dolfinx-real/lib/python3.8/dist-packages/dolfinx/jit.py?line=205'>206</a>\u001b[0m     r \u001b[39m=\u001b[39m ffcx\u001b[39m.\u001b[39mcodegeneration\u001b[39m.\u001b[39mjit\u001b[39m.\u001b[39mcompile_elements([ufl_object], parameters\u001b[39m=\u001b[39mp_ffcx, \u001b[39m*\u001b[39m\u001b[39m*\u001b[39mp_jit)\n",
      "File \u001b[0;32m/usr/local/lib/python3.9/dist-packages/ffcx/codegeneration/jit.py:168\u001b[0m, in \u001b[0;36mcompile_forms\u001b[0;34m(forms, parameters, cache_dir, timeout, cffi_extra_compile_args, cffi_verbose, cffi_debug, cffi_libraries)\u001b[0m\n\u001b[1;32m    <a href='file:///usr/local/lib/python3.9/dist-packages/ffcx/codegeneration/jit.py?line=164'>165</a>\u001b[0m     \u001b[39mfor\u001b[39;00m name \u001b[39min\u001b[39;00m form_names:\n\u001b[1;32m    <a href='file:///usr/local/lib/python3.9/dist-packages/ffcx/codegeneration/jit.py?line=165'>166</a>\u001b[0m         decl \u001b[39m+\u001b[39m\u001b[39m=\u001b[39m form_template\u001b[39m.\u001b[39mformat(name\u001b[39m=\u001b[39mname)\n\u001b[0;32m--> <a href='file:///usr/local/lib/python3.9/dist-packages/ffcx/codegeneration/jit.py?line=167'>168</a>\u001b[0m     impl \u001b[39m=\u001b[39m _compile_objects(decl, forms, form_names, module_name, p, cache_dir,\n\u001b[1;32m    <a href='file:///usr/local/lib/python3.9/dist-packages/ffcx/codegeneration/jit.py?line=168'>169</a>\u001b[0m                             cffi_extra_compile_args, cffi_verbose, cffi_debug, cffi_libraries)\n\u001b[1;32m    <a href='file:///usr/local/lib/python3.9/dist-packages/ffcx/codegeneration/jit.py?line=169'>170</a>\u001b[0m \u001b[39mexcept\u001b[39;00m \u001b[39mException\u001b[39;00m:\n\u001b[1;32m    <a href='file:///usr/local/lib/python3.9/dist-packages/ffcx/codegeneration/jit.py?line=170'>171</a>\u001b[0m     \u001b[39m# remove c file so that it will not timeout next time\u001b[39;00m\n\u001b[1;32m    <a href='file:///usr/local/lib/python3.9/dist-packages/ffcx/codegeneration/jit.py?line=171'>172</a>\u001b[0m     c_filename \u001b[39m=\u001b[39m cache_dir\u001b[39m.\u001b[39mjoinpath(module_name \u001b[39m+\u001b[39m \u001b[39m\"\u001b[39m\u001b[39m.c\u001b[39m\u001b[39m\"\u001b[39m)\n",
      "File \u001b[0;32m/usr/local/lib/python3.9/dist-packages/ffcx/codegeneration/jit.py:232\u001b[0m, in \u001b[0;36m_compile_objects\u001b[0;34m(decl, ufl_objects, object_names, module_name, parameters, cache_dir, cffi_extra_compile_args, cffi_verbose, cffi_debug, cffi_libraries)\u001b[0m\n\u001b[1;32m    <a href='file:///usr/local/lib/python3.9/dist-packages/ffcx/codegeneration/jit.py?line=227'>228</a>\u001b[0m \u001b[39mimport\u001b[39;00m \u001b[39mffcx\u001b[39;00m\u001b[39m.\u001b[39;00m\u001b[39mcompiler\u001b[39;00m\n\u001b[1;32m    <a href='file:///usr/local/lib/python3.9/dist-packages/ffcx/codegeneration/jit.py?line=229'>230</a>\u001b[0m \u001b[39m# JIT uses module_name as prefix, which is needed to make names of all struct/function\u001b[39;00m\n\u001b[1;32m    <a href='file:///usr/local/lib/python3.9/dist-packages/ffcx/codegeneration/jit.py?line=230'>231</a>\u001b[0m \u001b[39m# unique across modules\u001b[39;00m\n\u001b[0;32m--> <a href='file:///usr/local/lib/python3.9/dist-packages/ffcx/codegeneration/jit.py?line=231'>232</a>\u001b[0m _, code_body \u001b[39m=\u001b[39m ffcx\u001b[39m.\u001b[39;49mcompiler\u001b[39m.\u001b[39;49mcompile_ufl_objects(ufl_objects, prefix\u001b[39m=\u001b[39;49mmodule_name, parameters\u001b[39m=\u001b[39;49mparameters)\n\u001b[1;32m    <a href='file:///usr/local/lib/python3.9/dist-packages/ffcx/codegeneration/jit.py?line=233'>234</a>\u001b[0m ffibuilder \u001b[39m=\u001b[39m cffi\u001b[39m.\u001b[39mFFI()\n\u001b[1;32m    <a href='file:///usr/local/lib/python3.9/dist-packages/ffcx/codegeneration/jit.py?line=234'>235</a>\u001b[0m ffibuilder\u001b[39m.\u001b[39mset_source(module_name, code_body, include_dirs\u001b[39m=\u001b[39m[ffcx\u001b[39m.\u001b[39mcodegeneration\u001b[39m.\u001b[39mget_include_path()],\n\u001b[1;32m    <a href='file:///usr/local/lib/python3.9/dist-packages/ffcx/codegeneration/jit.py?line=235'>236</a>\u001b[0m                       extra_compile_args\u001b[39m=\u001b[39mcffi_extra_compile_args, libraries\u001b[39m=\u001b[39mcffi_libraries)\n",
      "File \u001b[0;32m/usr/local/lib/python3.9/dist-packages/ffcx/compiler.py:103\u001b[0m, in \u001b[0;36mcompile_ufl_objects\u001b[0;34m(ufl_objects, object_names, prefix, parameters, visualise)\u001b[0m\n\u001b[1;32m    <a href='file:///usr/local/lib/python3.9/dist-packages/ffcx/compiler.py?line=100'>101</a>\u001b[0m \u001b[39m# Stage 2: intermediate representation\u001b[39;00m\n\u001b[1;32m    <a href='file:///usr/local/lib/python3.9/dist-packages/ffcx/compiler.py?line=101'>102</a>\u001b[0m cpu_time \u001b[39m=\u001b[39m time()\n\u001b[0;32m--> <a href='file:///usr/local/lib/python3.9/dist-packages/ffcx/compiler.py?line=102'>103</a>\u001b[0m ir \u001b[39m=\u001b[39m compute_ir(analysis, object_names, prefix, parameters, visualise)\n\u001b[1;32m    <a href='file:///usr/local/lib/python3.9/dist-packages/ffcx/compiler.py?line=103'>104</a>\u001b[0m _print_timing(\u001b[39m2\u001b[39m, time() \u001b[39m-\u001b[39m cpu_time)\n\u001b[1;32m    <a href='file:///usr/local/lib/python3.9/dist-packages/ffcx/compiler.py?line=105'>106</a>\u001b[0m \u001b[39m# Stage 3: code generation\u001b[39;00m\n",
      "File \u001b[0;32m/usr/local/lib/python3.9/dist-packages/ffcx/ir/representation.py:95\u001b[0m, in \u001b[0;36mcompute_ir\u001b[0;34m(analysis, object_names, prefix, parameters, visualise)\u001b[0m\n\u001b[1;32m     <a href='file:///usr/local/lib/python3.9/dist-packages/ffcx/ir/representation.py?line=84'>85</a>\u001b[0m ir_elements \u001b[39m=\u001b[39m [\n\u001b[1;32m     <a href='file:///usr/local/lib/python3.9/dist-packages/ffcx/ir/representation.py?line=85'>86</a>\u001b[0m     _compute_element_ir(e, analysis\u001b[39m.\u001b[39melement_numbers, finite_element_names)\n\u001b[1;32m     <a href='file:///usr/local/lib/python3.9/dist-packages/ffcx/ir/representation.py?line=86'>87</a>\u001b[0m     \u001b[39mfor\u001b[39;00m e \u001b[39min\u001b[39;00m analysis\u001b[39m.\u001b[39munique_elements\n\u001b[1;32m     <a href='file:///usr/local/lib/python3.9/dist-packages/ffcx/ir/representation.py?line=87'>88</a>\u001b[0m ]\n\u001b[1;32m     <a href='file:///usr/local/lib/python3.9/dist-packages/ffcx/ir/representation.py?line=89'>90</a>\u001b[0m ir_dofmaps \u001b[39m=\u001b[39m [\n\u001b[1;32m     <a href='file:///usr/local/lib/python3.9/dist-packages/ffcx/ir/representation.py?line=90'>91</a>\u001b[0m     _compute_dofmap_ir(e, analysis\u001b[39m.\u001b[39melement_numbers, dofmap_names)\n\u001b[1;32m     <a href='file:///usr/local/lib/python3.9/dist-packages/ffcx/ir/representation.py?line=91'>92</a>\u001b[0m     \u001b[39mfor\u001b[39;00m e \u001b[39min\u001b[39;00m analysis\u001b[39m.\u001b[39munique_elements\n\u001b[1;32m     <a href='file:///usr/local/lib/python3.9/dist-packages/ffcx/ir/representation.py?line=92'>93</a>\u001b[0m ]\n\u001b[0;32m---> <a href='file:///usr/local/lib/python3.9/dist-packages/ffcx/ir/representation.py?line=94'>95</a>\u001b[0m irs \u001b[39m=\u001b[39m [\n\u001b[1;32m     <a href='file:///usr/local/lib/python3.9/dist-packages/ffcx/ir/representation.py?line=95'>96</a>\u001b[0m     _compute_integral_ir(fd, i, analysis\u001b[39m.\u001b[39melement_numbers, integral_names, finite_element_names,\n\u001b[1;32m     <a href='file:///usr/local/lib/python3.9/dist-packages/ffcx/ir/representation.py?line=96'>97</a>\u001b[0m                          parameters, visualise)\n\u001b[1;32m     <a href='file:///usr/local/lib/python3.9/dist-packages/ffcx/ir/representation.py?line=97'>98</a>\u001b[0m     \u001b[39mfor\u001b[39;00m (i, fd) \u001b[39min\u001b[39;00m \u001b[39menumerate\u001b[39m(analysis\u001b[39m.\u001b[39mform_data)\n\u001b[1;32m     <a href='file:///usr/local/lib/python3.9/dist-packages/ffcx/ir/representation.py?line=98'>99</a>\u001b[0m ]\n\u001b[1;32m    <a href='file:///usr/local/lib/python3.9/dist-packages/ffcx/ir/representation.py?line=99'>100</a>\u001b[0m ir_integrals \u001b[39m=\u001b[39m \u001b[39mlist\u001b[39m(itertools\u001b[39m.\u001b[39mchain(\u001b[39m*\u001b[39mirs))\n\u001b[1;32m    <a href='file:///usr/local/lib/python3.9/dist-packages/ffcx/ir/representation.py?line=101'>102</a>\u001b[0m ir_forms \u001b[39m=\u001b[39m [\n\u001b[1;32m    <a href='file:///usr/local/lib/python3.9/dist-packages/ffcx/ir/representation.py?line=102'>103</a>\u001b[0m     _compute_form_ir(fd, i, prefix, form_names, integral_names, analysis\u001b[39m.\u001b[39melement_numbers, finite_element_names,\n\u001b[1;32m    <a href='file:///usr/local/lib/python3.9/dist-packages/ffcx/ir/representation.py?line=103'>104</a>\u001b[0m                      dofmap_names, object_names)\n\u001b[1;32m    <a href='file:///usr/local/lib/python3.9/dist-packages/ffcx/ir/representation.py?line=104'>105</a>\u001b[0m     \u001b[39mfor\u001b[39;00m (i, fd) \u001b[39min\u001b[39;00m \u001b[39menumerate\u001b[39m(analysis\u001b[39m.\u001b[39mform_data)\n\u001b[1;32m    <a href='file:///usr/local/lib/python3.9/dist-packages/ffcx/ir/representation.py?line=105'>106</a>\u001b[0m ]\n",
      "File \u001b[0;32m/usr/local/lib/python3.9/dist-packages/ffcx/ir/representation.py:96\u001b[0m, in \u001b[0;36m<listcomp>\u001b[0;34m(.0)\u001b[0m\n\u001b[1;32m     <a href='file:///usr/local/lib/python3.9/dist-packages/ffcx/ir/representation.py?line=84'>85</a>\u001b[0m ir_elements \u001b[39m=\u001b[39m [\n\u001b[1;32m     <a href='file:///usr/local/lib/python3.9/dist-packages/ffcx/ir/representation.py?line=85'>86</a>\u001b[0m     _compute_element_ir(e, analysis\u001b[39m.\u001b[39melement_numbers, finite_element_names)\n\u001b[1;32m     <a href='file:///usr/local/lib/python3.9/dist-packages/ffcx/ir/representation.py?line=86'>87</a>\u001b[0m     \u001b[39mfor\u001b[39;00m e \u001b[39min\u001b[39;00m analysis\u001b[39m.\u001b[39munique_elements\n\u001b[1;32m     <a href='file:///usr/local/lib/python3.9/dist-packages/ffcx/ir/representation.py?line=87'>88</a>\u001b[0m ]\n\u001b[1;32m     <a href='file:///usr/local/lib/python3.9/dist-packages/ffcx/ir/representation.py?line=89'>90</a>\u001b[0m ir_dofmaps \u001b[39m=\u001b[39m [\n\u001b[1;32m     <a href='file:///usr/local/lib/python3.9/dist-packages/ffcx/ir/representation.py?line=90'>91</a>\u001b[0m     _compute_dofmap_ir(e, analysis\u001b[39m.\u001b[39melement_numbers, dofmap_names)\n\u001b[1;32m     <a href='file:///usr/local/lib/python3.9/dist-packages/ffcx/ir/representation.py?line=91'>92</a>\u001b[0m     \u001b[39mfor\u001b[39;00m e \u001b[39min\u001b[39;00m analysis\u001b[39m.\u001b[39munique_elements\n\u001b[1;32m     <a href='file:///usr/local/lib/python3.9/dist-packages/ffcx/ir/representation.py?line=92'>93</a>\u001b[0m ]\n\u001b[1;32m     <a href='file:///usr/local/lib/python3.9/dist-packages/ffcx/ir/representation.py?line=94'>95</a>\u001b[0m irs \u001b[39m=\u001b[39m [\n\u001b[0;32m---> <a href='file:///usr/local/lib/python3.9/dist-packages/ffcx/ir/representation.py?line=95'>96</a>\u001b[0m     _compute_integral_ir(fd, i, analysis\u001b[39m.\u001b[39;49melement_numbers, integral_names, finite_element_names,\n\u001b[1;32m     <a href='file:///usr/local/lib/python3.9/dist-packages/ffcx/ir/representation.py?line=96'>97</a>\u001b[0m                          parameters, visualise)\n\u001b[1;32m     <a href='file:///usr/local/lib/python3.9/dist-packages/ffcx/ir/representation.py?line=97'>98</a>\u001b[0m     \u001b[39mfor\u001b[39;00m (i, fd) \u001b[39min\u001b[39;00m \u001b[39menumerate\u001b[39m(analysis\u001b[39m.\u001b[39mform_data)\n\u001b[1;32m     <a href='file:///usr/local/lib/python3.9/dist-packages/ffcx/ir/representation.py?line=98'>99</a>\u001b[0m ]\n\u001b[1;32m    <a href='file:///usr/local/lib/python3.9/dist-packages/ffcx/ir/representation.py?line=99'>100</a>\u001b[0m ir_integrals \u001b[39m=\u001b[39m \u001b[39mlist\u001b[39m(itertools\u001b[39m.\u001b[39mchain(\u001b[39m*\u001b[39mirs))\n\u001b[1;32m    <a href='file:///usr/local/lib/python3.9/dist-packages/ffcx/ir/representation.py?line=101'>102</a>\u001b[0m ir_forms \u001b[39m=\u001b[39m [\n\u001b[1;32m    <a href='file:///usr/local/lib/python3.9/dist-packages/ffcx/ir/representation.py?line=102'>103</a>\u001b[0m     _compute_form_ir(fd, i, prefix, form_names, integral_names, analysis\u001b[39m.\u001b[39melement_numbers, finite_element_names,\n\u001b[1;32m    <a href='file:///usr/local/lib/python3.9/dist-packages/ffcx/ir/representation.py?line=103'>104</a>\u001b[0m                      dofmap_names, object_names)\n\u001b[1;32m    <a href='file:///usr/local/lib/python3.9/dist-packages/ffcx/ir/representation.py?line=104'>105</a>\u001b[0m     \u001b[39mfor\u001b[39;00m (i, fd) \u001b[39min\u001b[39;00m \u001b[39menumerate\u001b[39m(analysis\u001b[39m.\u001b[39mform_data)\n\u001b[1;32m    <a href='file:///usr/local/lib/python3.9/dist-packages/ffcx/ir/representation.py?line=105'>106</a>\u001b[0m ]\n",
      "File \u001b[0;32m/usr/local/lib/python3.9/dist-packages/ffcx/ir/representation.py:363\u001b[0m, in \u001b[0;36m_compute_integral_ir\u001b[0;34m(form_data, form_index, element_numbers, integral_names, finite_element_names, parameters, visualise)\u001b[0m\n\u001b[1;32m    <a href='file:///usr/local/lib/python3.9/dist-packages/ffcx/ir/representation.py?line=359'>360</a>\u001b[0m integrands \u001b[39m=\u001b[39m {rule: integral\u001b[39m.\u001b[39mintegrand() \u001b[39mfor\u001b[39;00m rule, integral \u001b[39min\u001b[39;00m sorted_integrals\u001b[39m.\u001b[39mitems()}\n\u001b[1;32m    <a href='file:///usr/local/lib/python3.9/dist-packages/ffcx/ir/representation.py?line=361'>362</a>\u001b[0m \u001b[39m# Build more specific intermediate representation\u001b[39;00m\n\u001b[0;32m--> <a href='file:///usr/local/lib/python3.9/dist-packages/ffcx/ir/representation.py?line=362'>363</a>\u001b[0m integral_ir \u001b[39m=\u001b[39m compute_integral_ir(itg_data\u001b[39m.\u001b[39;49mdomain\u001b[39m.\u001b[39;49mufl_cell(), itg_data\u001b[39m.\u001b[39;49mintegral_type,\n\u001b[1;32m    <a href='file:///usr/local/lib/python3.9/dist-packages/ffcx/ir/representation.py?line=363'>364</a>\u001b[0m                                   ir[\u001b[39m\"\u001b[39;49m\u001b[39mentitytype\u001b[39;49m\u001b[39m\"\u001b[39;49m], integrands, ir[\u001b[39m\"\u001b[39;49m\u001b[39mtensor_shape\u001b[39;49m\u001b[39m\"\u001b[39;49m],\n\u001b[1;32m    <a href='file:///usr/local/lib/python3.9/dist-packages/ffcx/ir/representation.py?line=364'>365</a>\u001b[0m                                   parameters, visualise)\n\u001b[1;32m    <a href='file:///usr/local/lib/python3.9/dist-packages/ffcx/ir/representation.py?line=366'>367</a>\u001b[0m ir\u001b[39m.\u001b[39mupdate(integral_ir)\n\u001b[1;32m    <a href='file:///usr/local/lib/python3.9/dist-packages/ffcx/ir/representation.py?line=368'>369</a>\u001b[0m \u001b[39m# Fetch name\u001b[39;00m\n",
      "File \u001b[0;32m/usr/local/lib/python3.9/dist-packages/ffcx/ir/integral.py:84\u001b[0m, in \u001b[0;36mcompute_integral_ir\u001b[0;34m(cell, integral_type, entitytype, integrands, argument_shape, p, visualise)\u001b[0m\n\u001b[1;32m     <a href='file:///usr/local/lib/python3.9/dist-packages/ffcx/ir/integral.py?line=73'>74</a>\u001b[0m \u001b[39m# Build terminal_data from V here before factorization. Then we\u001b[39;00m\n\u001b[1;32m     <a href='file:///usr/local/lib/python3.9/dist-packages/ffcx/ir/integral.py?line=74'>75</a>\u001b[0m \u001b[39m# can use it to derive table properties for all modified\u001b[39;00m\n\u001b[1;32m     <a href='file:///usr/local/lib/python3.9/dist-packages/ffcx/ir/integral.py?line=75'>76</a>\u001b[0m \u001b[39m# terminals, and then use that to rebuild the scalar graph more\u001b[39;00m\n\u001b[1;32m     <a href='file:///usr/local/lib/python3.9/dist-packages/ffcx/ir/integral.py?line=76'>77</a>\u001b[0m \u001b[39m# efficiently before argument factorization. We can build\u001b[39;00m\n\u001b[1;32m     <a href='file:///usr/local/lib/python3.9/dist-packages/ffcx/ir/integral.py?line=77'>78</a>\u001b[0m \u001b[39m# terminal_data again after factorization if that's necessary.\u001b[39;00m\n\u001b[1;32m     <a href='file:///usr/local/lib/python3.9/dist-packages/ffcx/ir/integral.py?line=79'>80</a>\u001b[0m initial_terminals \u001b[39m=\u001b[39m {i: analyse_modified_terminal(v[\u001b[39m'\u001b[39m\u001b[39mexpression\u001b[39m\u001b[39m'\u001b[39m])\n\u001b[1;32m     <a href='file:///usr/local/lib/python3.9/dist-packages/ffcx/ir/integral.py?line=80'>81</a>\u001b[0m                      \u001b[39mfor\u001b[39;00m i, v \u001b[39min\u001b[39;00m S\u001b[39m.\u001b[39mnodes\u001b[39m.\u001b[39mitems()\n\u001b[1;32m     <a href='file:///usr/local/lib/python3.9/dist-packages/ffcx/ir/integral.py?line=81'>82</a>\u001b[0m                      \u001b[39mif\u001b[39;00m is_modified_terminal(v[\u001b[39m'\u001b[39m\u001b[39mexpression\u001b[39m\u001b[39m'\u001b[39m])}\n\u001b[0;32m---> <a href='file:///usr/local/lib/python3.9/dist-packages/ffcx/ir/integral.py?line=83'>84</a>\u001b[0m mt_table_reference \u001b[39m=\u001b[39m build_optimized_tables(\n\u001b[1;32m     <a href='file:///usr/local/lib/python3.9/dist-packages/ffcx/ir/integral.py?line=84'>85</a>\u001b[0m     quadrature_rule,\n\u001b[1;32m     <a href='file:///usr/local/lib/python3.9/dist-packages/ffcx/ir/integral.py?line=85'>86</a>\u001b[0m     cell,\n\u001b[1;32m     <a href='file:///usr/local/lib/python3.9/dist-packages/ffcx/ir/integral.py?line=86'>87</a>\u001b[0m     integral_type,\n\u001b[1;32m     <a href='file:///usr/local/lib/python3.9/dist-packages/ffcx/ir/integral.py?line=87'>88</a>\u001b[0m     entitytype,\n\u001b[1;32m     <a href='file:///usr/local/lib/python3.9/dist-packages/ffcx/ir/integral.py?line=88'>89</a>\u001b[0m     initial_terminals\u001b[39m.\u001b[39;49mvalues(),\n\u001b[1;32m     <a href='file:///usr/local/lib/python3.9/dist-packages/ffcx/ir/integral.py?line=89'>90</a>\u001b[0m     ir[\u001b[39m\"\u001b[39;49m\u001b[39munique_tables\u001b[39;49m\u001b[39m\"\u001b[39;49m],\n\u001b[1;32m     <a href='file:///usr/local/lib/python3.9/dist-packages/ffcx/ir/integral.py?line=90'>91</a>\u001b[0m     rtol\u001b[39m=\u001b[39;49mp[\u001b[39m\"\u001b[39;49m\u001b[39mtable_rtol\u001b[39;49m\u001b[39m\"\u001b[39;49m],\n\u001b[1;32m     <a href='file:///usr/local/lib/python3.9/dist-packages/ffcx/ir/integral.py?line=91'>92</a>\u001b[0m     atol\u001b[39m=\u001b[39;49mp[\u001b[39m\"\u001b[39;49m\u001b[39mtable_atol\u001b[39;49m\u001b[39m\"\u001b[39;49m])\n\u001b[1;32m     <a href='file:///usr/local/lib/python3.9/dist-packages/ffcx/ir/integral.py?line=93'>94</a>\u001b[0m \u001b[39m# Fetch unique tables for this quadrature rule\u001b[39;00m\n\u001b[1;32m     <a href='file:///usr/local/lib/python3.9/dist-packages/ffcx/ir/integral.py?line=94'>95</a>\u001b[0m table_types \u001b[39m=\u001b[39m {v\u001b[39m.\u001b[39mname: v\u001b[39m.\u001b[39mttype \u001b[39mfor\u001b[39;00m v \u001b[39min\u001b[39;00m mt_table_reference\u001b[39m.\u001b[39mvalues()}\n",
      "File \u001b[0;32m/usr/local/lib/python3.9/dist-packages/ffcx/ir/elementtables.py:346\u001b[0m, in \u001b[0;36mbuild_optimized_tables\u001b[0;34m(quadrature_rule, cell, integral_type, entitytype, modified_terminals, existing_tables, rtol, atol)\u001b[0m\n\u001b[1;32m    <a href='file:///usr/local/lib/python3.9/dist-packages/ffcx/ir/elementtables.py?line=343'>344</a>\u001b[0m             t[\u001b[39m'\u001b[39m\u001b[39marray\u001b[39m\u001b[39m'\u001b[39m] \u001b[39m=\u001b[39m numpy\u001b[39m.\u001b[39mvstack([td[\u001b[39m'\u001b[39m\u001b[39marray\u001b[39m\u001b[39m'\u001b[39m] \u001b[39mfor\u001b[39;00m td \u001b[39min\u001b[39;00m new_table])\n\u001b[1;32m    <a href='file:///usr/local/lib/python3.9/dist-packages/ffcx/ir/elementtables.py?line=344'>345</a>\u001b[0m \u001b[39melse\u001b[39;00m:\n\u001b[0;32m--> <a href='file:///usr/local/lib/python3.9/dist-packages/ffcx/ir/elementtables.py?line=345'>346</a>\u001b[0m     t \u001b[39m=\u001b[39m get_ffcx_table_values(quadrature_rule\u001b[39m.\u001b[39;49mpoints, cell,\n\u001b[1;32m    <a href='file:///usr/local/lib/python3.9/dist-packages/ffcx/ir/elementtables.py?line=346'>347</a>\u001b[0m                               integral_type, element, avg, entitytype,\n\u001b[1;32m    <a href='file:///usr/local/lib/python3.9/dist-packages/ffcx/ir/elementtables.py?line=347'>348</a>\u001b[0m                               local_derivatives, flat_component)\n\u001b[1;32m    <a href='file:///usr/local/lib/python3.9/dist-packages/ffcx/ir/elementtables.py?line=348'>349</a>\u001b[0m \u001b[39m# Clean up table\u001b[39;00m\n\u001b[1;32m    <a href='file:///usr/local/lib/python3.9/dist-packages/ffcx/ir/elementtables.py?line=349'>350</a>\u001b[0m tbl \u001b[39m=\u001b[39m clamp_table_small_numbers(t[\u001b[39m'\u001b[39m\u001b[39marray\u001b[39m\u001b[39m'\u001b[39m], rtol\u001b[39m=\u001b[39mrtol, atol\u001b[39m=\u001b[39matol)\n",
      "File \u001b[0;32m/usr/local/lib/python3.9/dist-packages/ffcx/ir/elementtables.py:107\u001b[0m, in \u001b[0;36mget_ffcx_table_values\u001b[0;34m(points, cell, integral_type, ufl_element, avg, entitytype, derivative_counts, flat_component)\u001b[0m\n\u001b[1;32m    <a href='file:///usr/local/lib/python3.9/dist-packages/ffcx/ir/elementtables.py?line=104'>105</a>\u001b[0m \u001b[39mfor\u001b[39;00m entity \u001b[39min\u001b[39;00m \u001b[39mrange\u001b[39m(num_entities):\n\u001b[1;32m    <a href='file:///usr/local/lib/python3.9/dist-packages/ffcx/ir/elementtables.py?line=105'>106</a>\u001b[0m     entity_points \u001b[39m=\u001b[39m map_integral_points(points, integral_type, cell, entity)\n\u001b[0;32m--> <a href='file:///usr/local/lib/python3.9/dist-packages/ffcx/ir/elementtables.py?line=106'>107</a>\u001b[0m     tbl \u001b[39m=\u001b[39m component_element\u001b[39m.\u001b[39;49mtabulate(deriv_order, entity_points)\n\u001b[1;32m    <a href='file:///usr/local/lib/python3.9/dist-packages/ffcx/ir/elementtables.py?line=107'>108</a>\u001b[0m     tbl \u001b[39m=\u001b[39m tbl[basix_index(\u001b[39m*\u001b[39mderivative_counts)]\n\u001b[1;32m    <a href='file:///usr/local/lib/python3.9/dist-packages/ffcx/ir/elementtables.py?line=108'>109</a>\u001b[0m     component_tables\u001b[39m.\u001b[39mappend(tbl)\n",
      "File \u001b[0;32m/usr/local/lib/python3.9/dist-packages/ffcx/element_interface.py:713\u001b[0m, in \u001b[0;36mQuadratureElement.tabulate\u001b[0;34m(self, nderivs, points)\u001b[0m\n\u001b[1;32m    <a href='file:///usr/local/lib/python3.9/dist-packages/ffcx/element_interface.py?line=709'>710</a>\u001b[0m     \u001b[39mraise\u001b[39;00m \u001b[39mValueError\u001b[39;00m(\u001b[39m\"\u001b[39m\u001b[39mCannot take derivatives of Quadrature element.\u001b[39m\u001b[39m\"\u001b[39m)\n\u001b[1;32m    <a href='file:///usr/local/lib/python3.9/dist-packages/ffcx/element_interface.py?line=711'>712</a>\u001b[0m \u001b[39mif\u001b[39;00m points\u001b[39m.\u001b[39mshape \u001b[39m!=\u001b[39m \u001b[39mself\u001b[39m\u001b[39m.\u001b[39m_points\u001b[39m.\u001b[39mshape:\n\u001b[0;32m--> <a href='file:///usr/local/lib/python3.9/dist-packages/ffcx/element_interface.py?line=712'>713</a>\u001b[0m     \u001b[39mraise\u001b[39;00m \u001b[39mValueError\u001b[39;00m(\u001b[39m\"\u001b[39m\u001b[39mMismatch of tabulation points and element points.\u001b[39m\u001b[39m\"\u001b[39m)\n\u001b[1;32m    <a href='file:///usr/local/lib/python3.9/dist-packages/ffcx/element_interface.py?line=713'>714</a>\u001b[0m tables \u001b[39m=\u001b[39m [numpy\u001b[39m.\u001b[39meye(points\u001b[39m.\u001b[39mshape[\u001b[39m0\u001b[39m], points\u001b[39m.\u001b[39mshape[\u001b[39m0\u001b[39m])]\n\u001b[1;32m    <a href='file:///usr/local/lib/python3.9/dist-packages/ffcx/element_interface.py?line=714'>715</a>\u001b[0m \u001b[39mreturn\u001b[39;00m tables\n",
      "\u001b[0;31mValueError\u001b[0m: Mismatch of tabulation points and element points."
     ]
    }
   ],
   "source": [
    "A = fem.petsc.assemble_matrix(fem.form(a_Newton), bcs=bcs)\n",
    "# Res = fem.petsc.create_vector(fem.form(res)\n",
    "# solver = PETSc.KSP().create(mesh.comm)\n",
    "# solver.setOperators(A)\n",
    "# solver.setType(PETSc.KSP.Type.PREONLY)\n",
    "# solver.getPC().setType(PETSc.PC.Type.LU)"
   ]
  },
  {
   "cell_type": "code",
   "execution_count": null,
   "metadata": {},
   "outputs": [],
   "source": [
    "Nitermax, tol = 200, 1e-8  # parameters of the Newton-Raphson procedure\n",
    "Nincr = 20\n",
    "load_steps = np.linspace(0, 1.1, Nincr+1)[1:]**0.5\n",
    "results = np.zeros((Nincr+1, 2))\n",
    "for (i, t) in enumerate(load_steps):\n",
    "    loading.t = t\n",
    "    # A, Res = assemble_system(a_Newton, res, bcs)\n",
    "    A = fem.petsc.assemble_matrix(a_Newton, bcs=bcs)\n",
    "    A.assemble()\n",
    "    Res = fem.petsc.create_vector(res)\n",
    "    # uh = fem.Function(V)\n",
    "    nRes0 = Res.norm(\"l2\")\n",
    "    nRes = nRes0\n",
    "    Du.interpolate(fem.Constant(mesh, (ScalarType(0), ScalarType(0))))\n",
    "    print(\"Increment:\", str(i+1))\n",
    "    niter = 0\n",
    "    while nRes/nRes0 > tol and niter < Nitermax:\n",
    "        solve(A, du.vector(), Res, \"mumps\")\n",
    "        Du.assign(Du+du)\n",
    "        deps = eps(Du)\n",
    "        sig_, n_elas_, beta_, dp_ = proj_sig(deps, sig_old, p)\n",
    "        local_project(sig_, W, sig)\n",
    "        local_project(n_elas_, W, n_elas)\n",
    "        local_project(beta_, W0, beta)\n",
    "        A, Res = assemble_system(a_Newton, res, bcs)\n",
    "        nRes = Res.norm(\"l2\")\n",
    "        print(\"    Residual:\", nRes)\n",
    "        niter += 1\n",
    "    u.assign(u+Du)\n",
    "    sig_old.assign(sig)\n",
    "    p.assign(p+local_project(dp_, W0))"
   ]
  }
 ],
 "metadata": {
  "interpreter": {
   "hash": "31f2aee4e71d21fbe5cf8b01ff0e069b9275f58929596ceb00d14d90e3e16cd6"
  },
  "kernelspec": {
   "display_name": "Python 3.8.10 64-bit",
   "language": "python",
   "name": "python3"
  },
  "language_info": {
   "codemirror_mode": {
    "name": "ipython",
    "version": 3
   },
   "file_extension": ".py",
   "mimetype": "text/x-python",
   "name": "python",
   "nbconvert_exporter": "python",
   "pygments_lexer": "ipython3",
   "version": "3.9.7"
  },
  "orig_nbformat": 4
 },
 "nbformat": 4,
 "nbformat_minor": 2
}
