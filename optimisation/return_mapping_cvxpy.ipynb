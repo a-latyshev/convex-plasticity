{
 "cells": [
  {
   "cell_type": "code",
   "execution_count": 109,
   "metadata": {},
   "outputs": [],
   "source": [
    "import cvxpy as cp\n",
    "import numpy as np\n",
    "import matplotlib.pyplot as plt"
   ]
  },
  {
   "cell_type": "code",
   "execution_count": 110,
   "metadata": {},
   "outputs": [
    {
     "name": "stdout",
     "output_type": "stream",
     "text": [
      "False\n"
     ]
    },
    {
     "ename": "ValueError",
     "evalue": "Differentiating through infeasible/unbounded problems is not yet supported. Please file an issue on Github if you need this feature.",
     "output_type": "error",
     "traceback": [
      "\u001b[0;31m---------------------------------------------------------------------------\u001b[0m",
      "\u001b[0;31mValueError\u001b[0m                                Traceback (most recent call last)",
      "\u001b[1;32m/mnt/work_folder/convex-plasticity/optimisation/return_mapping_cvxpy.ipynb Cell 2'\u001b[0m in \u001b[0;36m<cell line: 90>\u001b[0;34m()\u001b[0m\n\u001b[1;32m     <a href='vscode-notebook-cell://attached-container%2B7b22636f6e7461696e65724e616d65223a2266656e696373227d/mnt/work_folder/convex-plasticity/optimisation/return_mapping_cvxpy.ipynb#ch0000001vscode-remote?line=90'>91</a>\u001b[0m rm\u001b[39m.\u001b[39msig_old\u001b[39m.\u001b[39mvalue \u001b[39m=\u001b[39m np\u001b[39m.\u001b[39mzeros((\u001b[39m4\u001b[39m, ))\n\u001b[1;32m     <a href='vscode-notebook-cell://attached-container%2B7b22636f6e7461696e65724e616d65223a2266656e696373227d/mnt/work_folder/convex-plasticity/optimisation/return_mapping_cvxpy.ipynb#ch0000001vscode-remote?line=91'>92</a>\u001b[0m rm\u001b[39m.\u001b[39mdeps\u001b[39m.\u001b[39mvalue \u001b[39m=\u001b[39m Eps[i,:]\n\u001b[0;32m---> <a href='vscode-notebook-cell://attached-container%2B7b22636f6e7461696e65724e616d65223a2266656e696373227d/mnt/work_folder/convex-plasticity/optimisation/return_mapping_cvxpy.ipynb#ch0000001vscode-remote?line=92'>93</a>\u001b[0m rm\u001b[39m.\u001b[39;49msolve(eps\u001b[39m=\u001b[39;49m\u001b[39m1e-12\u001b[39;49m, alpha\u001b[39m=\u001b[39;49m\u001b[39m1.8\u001b[39;49m, scale\u001b[39m=\u001b[39;49m\u001b[39m0.5\u001b[39;49m)\n\u001b[1;32m     <a href='vscode-notebook-cell://attached-container%2B7b22636f6e7461696e65724e616d65223a2266656e696373227d/mnt/work_folder/convex-plasticity/optimisation/return_mapping_cvxpy.ipynb#ch0000001vscode-remote?line=93'>94</a>\u001b[0m Sig\u001b[39m.\u001b[39mappend(rm\u001b[39m.\u001b[39msig\u001b[39m.\u001b[39mvalue)\n\u001b[1;32m     <a href='vscode-notebook-cell://attached-container%2B7b22636f6e7461696e65724e616d65223a2266656e696373227d/mnt/work_folder/convex-plasticity/optimisation/return_mapping_cvxpy.ipynb#ch0000001vscode-remote?line=94'>95</a>\u001b[0m \u001b[39m#Eps.append(Eps[-1]+rm.deps.value)\u001b[39;00m\n",
      "\u001b[1;32m/mnt/work_folder/convex-plasticity/optimisation/return_mapping_cvxpy.ipynb Cell 2'\u001b[0m in \u001b[0;36mReturnMapping.solve\u001b[0;34m(self, **kwargs)\u001b[0m\n\u001b[1;32m     <a href='vscode-notebook-cell://attached-container%2B7b22636f6e7461696e65724e616d65223a2266656e696373227d/mnt/work_folder/convex-plasticity/optimisation/return_mapping_cvxpy.ipynb#ch0000001vscode-remote?line=75'>76</a>\u001b[0m z[i] \u001b[39m=\u001b[39m \u001b[39m1\u001b[39m\n\u001b[1;32m     <a href='vscode-notebook-cell://attached-container%2B7b22636f6e7461696e65724e616d65223a2266656e696373227d/mnt/work_folder/convex-plasticity/optimisation/return_mapping_cvxpy.ipynb#ch0000001vscode-remote?line=76'>77</a>\u001b[0m \u001b[39mself\u001b[39m\u001b[39m.\u001b[39mdeps\u001b[39m.\u001b[39mdelta \u001b[39m=\u001b[39m z\n\u001b[0;32m---> <a href='vscode-notebook-cell://attached-container%2B7b22636f6e7461696e65724e616d65223a2266656e696373227d/mnt/work_folder/convex-plasticity/optimisation/return_mapping_cvxpy.ipynb#ch0000001vscode-remote?line=77'>78</a>\u001b[0m \u001b[39mself\u001b[39;49m\u001b[39m.\u001b[39;49mprob\u001b[39m.\u001b[39;49mderivative()\n\u001b[1;32m     <a href='vscode-notebook-cell://attached-container%2B7b22636f6e7461696e65724e616d65223a2266656e696373227d/mnt/work_folder/convex-plasticity/optimisation/return_mapping_cvxpy.ipynb#ch0000001vscode-remote?line=78'>79</a>\u001b[0m \u001b[39mself\u001b[39m\u001b[39m.\u001b[39mC_tang[i, :] \u001b[39m=\u001b[39m \u001b[39mself\u001b[39m\u001b[39m.\u001b[39msig\u001b[39m.\u001b[39mdelta\n",
      "File \u001b[0;32m/usr/local/lib/python3.9/dist-packages/cvxpy/problems/problem.py:1215\u001b[0m, in \u001b[0;36mProblem.derivative\u001b[0;34m(self)\u001b[0m\n\u001b[1;32m   1212\u001b[0m     \u001b[39mraise\u001b[39;00m \u001b[39mValueError\u001b[39;00m(\u001b[39m\"\u001b[39m\u001b[39mderivative can only be called after calling \u001b[39m\u001b[39m\"\u001b[39m\n\u001b[1;32m   1213\u001b[0m                      \u001b[39m\"\u001b[39m\u001b[39msolve with `requires_grad=True`\u001b[39m\u001b[39m\"\u001b[39m)\n\u001b[1;32m   1214\u001b[0m \u001b[39melif\u001b[39;00m \u001b[39mself\u001b[39m\u001b[39m.\u001b[39mstatus \u001b[39mnot\u001b[39;00m \u001b[39min\u001b[39;00m s\u001b[39m.\u001b[39mSOLUTION_PRESENT:\n\u001b[0;32m-> 1215\u001b[0m     \u001b[39mraise\u001b[39;00m \u001b[39mValueError\u001b[39;00m(\u001b[39m\"\u001b[39m\u001b[39mDifferentiating through infeasible/unbounded \u001b[39m\u001b[39m\"\u001b[39m\n\u001b[1;32m   1216\u001b[0m                      \u001b[39m\"\u001b[39m\u001b[39mproblems is not yet supported. Please file an \u001b[39m\u001b[39m\"\u001b[39m\n\u001b[1;32m   1217\u001b[0m                      \u001b[39m\"\u001b[39m\u001b[39missue on Github if you need this feature.\u001b[39m\u001b[39m\"\u001b[39m)\n\u001b[1;32m   1218\u001b[0m \u001b[39m# TODO(akshayka): Forward differentiate dual variables as well\u001b[39;00m\n\u001b[1;32m   1219\u001b[0m backward_cache \u001b[39m=\u001b[39m \u001b[39mself\u001b[39m\u001b[39m.\u001b[39m_solver_cache[s\u001b[39m.\u001b[39mDIFFCP]\n",
      "\u001b[0;31mValueError\u001b[0m: Differentiating through infeasible/unbounded problems is not yet supported. Please file an issue on Github if you need this feature."
     ]
    }
   ],
   "source": [
    "class vonMises:\n",
    "    def __init__(self):\n",
    "        self.sig0 = cp.Parameter()\n",
    "    def criterion(self, sig):\n",
    "        dev = np.array([[2/3., -1/3., -1/3., 0],\n",
    "                        [-1/3., 2/3., -1/3., 0],\n",
    "                        [-1/3., -1/3., 2/3., 0],\n",
    "                        [0, 0, 0, 1]])\n",
    "        s = dev@sig\n",
    "        return [np.sqrt(3/2)*cp.norm(s) <= self.sig0]\n",
    "\n",
    "class Rankine:\n",
    "    def __init__(self):\n",
    "        self.fc = cp.Parameter()\n",
    "        self.ft = cp.Parameter()\n",
    "    def criterion(self, sig):\n",
    "        Sig = cp.bmat([[sig[0], sig[3]/np.sqrt(2), 0],\n",
    "                      [sig[3]/np.sqrt(2), sig[1], 0],\n",
    "                      [0, 0, sig[2]]])\n",
    "        return [cp.lambda_max(Sig) <= self.ft, cp.lambda_min(Sig) >= -self.fc]\n",
    "    \n",
    "class IsotropicElasticity:\n",
    "    def __init__(self, E, nu):\n",
    "        self.E = E\n",
    "        self.nu = nu\n",
    "        self.lmbda = E*nu/(1+nu)/(1-2*nu)\n",
    "        self.mu = E/2/(1+nu)\n",
    "    \n",
    "    def C(self):\n",
    "        l, m = self.lmbda, self.mu\n",
    "        return np.array([[l+2*m, l, l, 0],\n",
    "                        [l, l+2*m, l, 0],\n",
    "                        [l, l, l+2*m, 0],\n",
    "                        [0, 0, 0, 2*m]])\n",
    "\n",
    "class Material:\n",
    "    def __init__(self, elasticity, yield_criterion, plane_stress=False):\n",
    "        self.C = elasticity.C()\n",
    "        self.criterion = yield_criterion.criterion\n",
    "        self.plane_stress = plane_stress\n",
    "    \n",
    "vM = vonMises()\n",
    "vM.sig0.value = 1.\n",
    "\n",
    "Ra = Rankine()\n",
    "Ra.fc.value = 200.\n",
    "Ra.ft.value = 100.\n",
    "\n",
    "mat = Material(IsotropicElasticity(1, 0.3), Ra, plane_stress=False)\n",
    "                        \n",
    "class ReturnMapping:\n",
    "    def __init__(self, mat, solver=cp.SCS):\n",
    "        self.mat = mat\n",
    "        self.deps = cp.Parameter((4,))\n",
    "        self.sig_old = cp.Parameter((4,))\n",
    "        self.sig_elas = self.sig_old + self.mat.C @ self.deps\n",
    "    \n",
    "        self.sig = cp.Variable((4, ))\n",
    "        obj = cp.quad_form(self.sig - self.sig_elas, np.linalg.inv(self.mat.C))\n",
    "        \n",
    "        self.cons = mat.criterion(self.sig)\n",
    "        if self.mat.plane_stress:\n",
    "            self.cons.append(self.sig[2] == 0)\n",
    "        self.prob = cp.Problem(cp.Minimize(obj), self.cons)\n",
    "        self.solver = solver\n",
    "        \n",
    "        print(self.prob.is_dgp(dpp=True))\n",
    "        \n",
    "        \n",
    "    def solve(self, **kwargs):\n",
    "        self.prob.solve(solver=self.solver, requires_grad=True, **kwargs)\n",
    "        # self.sig_old.value = self.sig.value\n",
    "        self.C_tang = np.zeros((4, 4))\n",
    "        for i in range(4):\n",
    "            z = np.zeros((4,))\n",
    "            z[i] = 1\n",
    "            self.deps.delta = z\n",
    "            self.prob.derivative()\n",
    "            self.C_tang[i, :] = self.sig.delta\n",
    "    \n",
    "rm = ReturnMapping(mat)\n",
    "rm.sig_old.value = np.zeros(((4,)))\n",
    "\n",
    "\n",
    "N = 100\n",
    "theta = np.linspace(0, 2*np.pi, N+1)\n",
    "Eps = 0.1*np.vstack((np.cos(theta), np.sin(theta), 0*theta, 0*theta)).T\n",
    "Sig = []\n",
    "\n",
    "for i, t in enumerate(theta):\n",
    "    rm.sig_old.value = np.zeros((4, ))\n",
    "    rm.deps.value = Eps[i,:]\n",
    "    rm.solve(eps=1e-12, alpha=1.8, scale=5.0)\n",
    "    Sig.append(rm.sig.value)\n",
    "    #Eps.append(Eps[-1]+rm.deps.value)\n",
    "\n",
    "Sig = np.asarray(Sig)\n",
    "Eps = np.asarray(Eps)"
   ]
  },
  {
   "cell_type": "code",
   "execution_count": null,
   "metadata": {},
   "outputs": [
    {
     "data": {
      "text/plain": [
       "array([[1.34615385, 0.57692308, 0.57692308, 0.        ],\n",
       "       [0.57692308, 1.34615385, 0.57692308, 0.        ],\n",
       "       [0.57692308, 0.57692308, 1.34615385, 0.        ],\n",
       "       [0.        , 0.        , 0.        , 0.76923077]])"
      ]
     },
     "execution_count": 102,
     "metadata": {},
     "output_type": "execute_result"
    }
   ],
   "source": [
    "mat.C"
   ]
  },
  {
   "cell_type": "code",
   "execution_count": null,
   "metadata": {},
   "outputs": [
    {
     "name": "stdout",
     "output_type": "stream",
     "text": [
      "[[ 1.34615385  0.57692308  0.57692308 -0.        ]\n",
      " [ 0.57692308  1.34615385  0.57692308 -0.        ]\n",
      " [ 0.57692308  0.57692308  1.34615385 -0.        ]\n",
      " [-0.         -0.         -0.          0.76923077]]\n"
     ]
    }
   ],
   "source": [
    "print(rm.C_tang)"
   ]
  },
  {
   "cell_type": "code",
   "execution_count": null,
   "metadata": {},
   "outputs": [
    {
     "data": {
      "image/png": "[encoded data removed]",
      "text/plain": [
       "<Figure size 432x288 with 1 Axes>"
      ]
     },
     "metadata": {
      "needs_background": "light"
     },
     "output_type": "display_data"
    }
   ],
   "source": [
    "plt.plot(Sig[:, 0], Sig[:, 1], \"-o\")\n",
    "plt.gca().set_aspect(\"equal\")"
   ]
  },
  {
   "cell_type": "code",
   "execution_count": null,
   "metadata": {},
   "outputs": [],
   "source": [
    "import numpy as np"
   ]
  },
  {
   "cell_type": "code",
   "execution_count": null,
   "metadata": {},
   "outputs": [
    {
     "data": {
      "text/plain": [
       "array([[0, 5, 4],\n",
       "       [5, 1, 3],\n",
       "       [4, 3, 2]], dtype=uint8)"
      ]
     },
     "execution_count": 106,
     "metadata": {},
     "output_type": "execute_result"
    }
   ],
   "source": [
    "Voight_indexes = np.zeros((3,3), dtype=np.uint8)\n",
    "Voight_indexes[0,0] = 0\n",
    "Voight_indexes[1,1] = 1\n",
    "Voight_indexes[2,2] = 2\n",
    "Voight_indexes[2,1] = 3\n",
    "Voight_indexes[1,2] = 3\n",
    "Voight_indexes[2,0] = 4\n",
    "Voight_indexes[0,2] = 4\n",
    "Voight_indexes[1,0] = 5\n",
    "Voight_indexes[0,1] = 5\n",
    "Voight_indexes"
   ]
  },
  {
   "cell_type": "code",
   "execution_count": null,
   "metadata": {},
   "outputs": [],
   "source": [
    "from petsc4py import PETSc"
   ]
  },
  {
   "cell_type": "code",
   "execution_count": null,
   "metadata": {},
   "outputs": [],
   "source": [
    "def to_Voight_vector(sigma):\n",
    "    sigma_vec = np.zeros(6, dtype=PETSc.ScalarType)\n",
    "    for i in range(3):\n",
    "        for j in range(3):\n",
    "            sigma_vec[Voight_indexes[i,j]] = sigma[i,j]\n",
    "    return sigma_vec\n",
    "\n",
    "def to_Voight_matrix(C):\n",
    "    C_matrix = np.zeros((6, 6), dtype=PETSc.ScalarType)\n",
    "    \n",
    "    for i in range(3):\n",
    "        for j in range(3):\n",
    "            for k in range(3):\n",
    "                for l in range(3):\n",
    "                    C_matrix[Voight_indexes[i,j], Voight_indexes[k,l]] = C[i,j,k,l]\n",
    "\n",
    "    return C_matrix"
   ]
  },
  {
   "cell_type": "code",
   "execution_count": null,
   "metadata": {},
   "outputs": [],
   "source": []
  }
 ],
 "metadata": {
  "kernelspec": {
   "display_name": "Python 3.9.7 64-bit",
   "language": "python",
   "name": "python3"
  },
  "language_info": {
   "codemirror_mode": {
    "name": "ipython",
    "version": 3
   },
   "file_extension": ".py",
   "mimetype": "text/x-python",
   "name": "python",
   "nbconvert_exporter": "python",
   "pygments_lexer": "ipython3",
   "version": "3.9.7"
  },
  "vscode": {
   "interpreter": {
    "hash": "31f2aee4e71d21fbe5cf8b01ff0e069b9275f58929596ceb00d14d90e3e16cd6"
   }
  }
 },
 "nbformat": 4,
 "nbformat_minor": 4
}
