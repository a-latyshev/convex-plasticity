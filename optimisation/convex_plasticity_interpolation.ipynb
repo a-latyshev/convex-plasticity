{
 "cells": [
  {
   "cell_type": "markdown",
   "metadata": {},
   "source": [
    "Implementation of 2D elasto-plastic problem using FEniCS-X. The code is based on a [legacy solution](https://comet-fenics.readthedocs.io/en/latest/demo/2D_plasticity/vonMises_plasticity.py.html) for FEniCS 2019.\n",
    "\n",
    "The program was tested for 0.3.1.0 version of Dolfinx."
   ]
  },
  {
   "cell_type": "code",
   "execution_count": 27,
   "metadata": {},
   "outputs": [],
   "source": [
    "import convex_return_mapping as crm\n",
    "import cvxpy as cp"
   ]
  },
  {
   "cell_type": "code",
   "execution_count": 28,
   "metadata": {},
   "outputs": [],
   "source": [
    "import meshio\n",
    "import numpy as np\n",
    "\n",
    "import ufl\n",
    "from dolfinx import fem, io\n",
    "from mpi4py import MPI\n",
    "from petsc4py import PETSc\n",
    "from dolfinx.geometry import (BoundingBoxTree, compute_colliding_cells, compute_collisions)\n",
    "import time\n",
    "import basix\n",
    "\n",
    "def create_mesh(mesh, cell_type, prune_z=False):\n",
    "    cells = mesh.get_cells_type(cell_type)\n",
    "    cell_data = mesh.get_cell_data(\"gmsh:physical\", cell_type)\n",
    "    points = mesh.points[:,:2] if prune_z else mesh.points\n",
    "    out_mesh = meshio.Mesh(points=points, cells={cell_type: cells}, cell_data={\"name_to_read\":[cell_data]})\n",
    "    return out_mesh\n",
    "\n",
    "# defining function to interpolate function defined over quadrature elements\n",
    "def interpolate_quadrature(ufl_expr, fem_func):\n",
    "    q_dim = fem_func.function_space._ufl_element.degree()\n",
    "    mesh = fem_func.ufl_function_space().mesh\n",
    "    \n",
    "    basix_celltype = getattr(basix.CellType, mesh.topology.cell_type.name)\n",
    "    quadrature_points, weights = basix.make_quadrature(basix_celltype, q_dim)\n",
    "    map_c = mesh.topology.index_map(mesh.topology.dim)\n",
    "    num_cells = map_c.size_local + map_c.num_ghosts\n",
    "    cells = np.arange(0, num_cells, dtype=np.int32)\n",
    "\n",
    "    expr_expr = fem.Expression(ufl_expr, quadrature_points)\n",
    "    expr_eval = expr_expr.eval(cells)\n",
    "    fem_func.x.array[:] = expr_eval.flatten()[:]\n",
    "    fem_func.x.scatter_forward()"
   ]
  },
  {
   "cell_type": "code",
   "execution_count": 29,
   "metadata": {},
   "outputs": [
    {
     "name": "stdout",
     "output_type": "stream",
     "text": [
      "\n",
      "<meshio mesh object>\n",
      "  Number of points: 811\n",
      "  Number of cells:\n",
      "    line: 10\n",
      "    line: 69\n",
      "    line: 10\n",
      "    line: 53\n",
      "    triangle: 1478\n",
      "  Cell sets: gmsh:bounding_entities\n",
      "  Point data: gmsh:dim_tags\n",
      "  Cell data: gmsh:physical, gmsh:geometrical\n"
     ]
    }
   ],
   "source": [
    "if MPI.COMM_WORLD.rank == 0:\n",
    "\n",
    "    #It works with the msh4 only!!\n",
    "    msh = meshio.read(\"thick_cylinder.msh\")\n",
    "\n",
    "    # Create and save one file for the mesh, and one file for the facets \n",
    "    triangle_mesh = create_mesh(msh, \"triangle\", prune_z=True)\n",
    "    line_mesh = create_mesh(msh, \"line\", prune_z=True)\n",
    "    meshio.write(\"thick_cylinder.xdmf\", triangle_mesh)\n",
    "    meshio.write(\"mt.xdmf\", line_mesh)\n",
    "    print(msh)\n",
    "    "
   ]
  },
  {
   "cell_type": "code",
   "execution_count": 30,
   "metadata": {},
   "outputs": [],
   "source": [
    "with io.XDMFFile(MPI.COMM_WORLD, \"thick_cylinder.xdmf\", \"r\") as xdmf:\n",
    "    mesh = xdmf.read_mesh(name=\"Grid\")\n",
    "    ct = xdmf.read_meshtags(mesh, name=\"Grid\")\n",
    "\n",
    "mesh.topology.create_connectivity(mesh.topology.dim, mesh.topology.dim - 1)\n",
    "\n",
    "with io.XDMFFile(MPI.COMM_WORLD, \"mt.xdmf\", \"r\") as xdmf:\n",
    "    ft = xdmf.read_meshtags(mesh, name=\"Grid\")"
   ]
  },
  {
   "cell_type": "code",
   "execution_count": 31,
   "metadata": {},
   "outputs": [],
   "source": [
    "# elastic parameters\n",
    "sig0_dim = 250. #[Pa]\n",
    "Ri_dim = 1.0 #[m]\n",
    "\n",
    "E = 70e3 / sig0_dim #[-]\n",
    "nu = 0.3 #[-]\n",
    "lmbda = E*nu/(1+nu)/(1-2*nu)\n",
    "mu = fem.Constant(mesh, PETSc.ScalarType(E/2./(1+nu)))\n",
    "# sig0 = fem.Constant(mesh, PETSc.ScalarType(250))  # yield strength 250\n",
    "sig0 = 250 / sig0_dim #[-]\n",
    "Et = E/100.  # tangent modulus\n",
    "H = E*Et/(E-Et)  # hardening modulus\n",
    "\n",
    "Re, Ri = 1.3, 1.   # external/internal radius"
   ]
  },
  {
   "cell_type": "code",
   "execution_count": 32,
   "metadata": {},
   "outputs": [],
   "source": [
    "deg_u = 2\n",
    "deg_stress = 2\n",
    "V = fem.VectorFunctionSpace(mesh, (\"CG\", deg_u))\n",
    "We = ufl.VectorElement(\"Quadrature\", mesh.ufl_cell(), degree=deg_stress, dim=4, quad_scheme='default')\n",
    "W0e = ufl.FiniteElement(\"Quadrature\", mesh.ufl_cell(), degree=deg_stress, quad_scheme='default')\n",
    "WTe = ufl.TensorElement(\"Quadrature\", mesh.ufl_cell(), degree=deg_stress, shape=(4, 4), quad_scheme='default')\n",
    "\n",
    "W = fem.FunctionSpace(mesh, We)\n",
    "W0 = fem.FunctionSpace(mesh, W0e)\n",
    "WT = fem.FunctionSpace(mesh, WTe)"
   ]
  },
  {
   "cell_type": "code",
   "execution_count": 33,
   "metadata": {},
   "outputs": [],
   "source": [
    "sig = fem.Function(W)\n",
    "sig_old = fem.Function(W)\n",
    "n_elas = fem.Function(W)\n",
    "beta = fem.Function(W0)\n",
    "p = fem.Function(W0, name=\"Cumulative_plastic_strain\")\n",
    "p_old = fem.Function(W0, name=\"Cumulative_plastic_strain\")\n",
    "dp = fem.Function(W0)\n",
    "u = fem.Function(V, name=\"Total_displacement\")\n",
    "du = fem.Function(V, name=\"Iteration_correction\")\n",
    "Du = fem.Function(V, name=\"Current_increment\")\n",
    "v = ufl.TrialFunction(V)\n",
    "u_ = ufl.TestFunction(V)\n",
    "# sig_eq = fem.Function(W0, name=\"sig_eq\")\n",
    "# f_elas = fem.Function(W0, name=\"sig_eq\")\n",
    "C_tang = fem.Function(WT)\n",
    "\n",
    "deps = fem.Function(W, name=\"deps\")\n",
    "\n",
    "P0 = fem.FunctionSpace(mesh, (\"DG\", 0))\n",
    "p_avg = fem.Function(P0, name=\"Plastic_strain\")\n",
    "\n",
    "# zero_Du = fem.Function(V)"
   ]
  },
  {
   "cell_type": "code",
   "execution_count": 34,
   "metadata": {},
   "outputs": [],
   "source": [
    "left_marker = 3\n",
    "down_marker = 1\n",
    "left_facets = ft.indices[ft.values == left_marker]\n",
    "down_facets = ft.indices[ft.values == down_marker]\n",
    "left_dofs = fem.locate_dofs_topological(V.sub(0), mesh.topology.dim-1, left_facets)\n",
    "down_dofs = fem.locate_dofs_topological(V.sub(1), mesh.topology.dim-1, down_facets)\n",
    "\n",
    "bcs = [fem.dirichletbc(PETSc.ScalarType(0), left_dofs, V.sub(0)), fem.dirichletbc(PETSc.ScalarType(0), down_dofs, V.sub(1))]"
   ]
  },
  {
   "cell_type": "code",
   "execution_count": 35,
   "metadata": {},
   "outputs": [],
   "source": [
    "n = ufl.FacetNormal(mesh)\n",
    "q_lim = float(2/np.sqrt(3)*np.log(Re/Ri)*sig0)\n",
    "\n",
    "loading = fem.Constant(mesh, PETSc.ScalarType(0.0 * q_lim))\n",
    "\n",
    "SQRT2 = np.sqrt(2.)\n",
    "\n",
    "def F_ext(v):\n",
    "    return -loading * ufl.inner(n, v)*ds(4)\n",
    "\n",
    "def eps(v):\n",
    "    e = ufl.sym(ufl.grad(v))\n",
    "    return ufl.as_tensor([[e[0, 0], e[0, 1], 0],\n",
    "                          [e[0, 1], e[1, 1], 0],\n",
    "                          [0, 0, 0]])\n",
    "\n",
    "def eps_vec(v):\n",
    "    e = ufl.sym(ufl.grad(v))\n",
    "    return ufl.as_vector([e[0, 0], e[1, 1], 0, SQRT2 * e[0, 1]])\n",
    "\n",
    "def sigma(eps_el):\n",
    "    return lmbda*ufl.tr(eps_el)*ufl.Identity(3) + 2*mu*eps_el\n",
    "\n",
    "def as_3D_tensor(X):\n",
    "    return ufl.as_tensor([[X[0], X[3]/SQRT2, 0],\n",
    "                          [X[3]/SQRT2, X[1], 0],\n",
    "                          [0, 0, X[2]]])\n",
    "\n",
    "# ppos = lambda x: (x + ufl.sqrt(x**2))/2.\n",
    "# def proj_sig(deps, old_sig, old_p):\n",
    "#     sig_n = as_3D_tensor(old_sig)\n",
    "#     sig_elas = sig_n + sigma(deps)\n",
    "#     s = ufl.dev(sig_elas)\n",
    "#     sig_eq = ufl.sqrt(3/2.*ufl.inner(s, s))\n",
    "#     f_elas = sig_eq - sig0 - H*old_p\n",
    "#     dp = ppos(f_elas)/(3*mu+H)\n",
    "#     n_elas = s/sig_eq*ppos(f_elas)/f_elas\n",
    "#     beta = 3*mu*dp/sig_eq\n",
    "#     new_sig = sig_elas-beta*s\n",
    "#     return ufl.as_vector([new_sig[0, 0], new_sig[1, 1], new_sig[2, 2], new_sig[0, 1]]), \\\n",
    "#            ufl.as_vector([n_elas[0, 0], n_elas[1, 1], n_elas[2, 2], n_elas[0, 1]]), \\\n",
    "#            beta, dp, sig_eq, f_elas         \n",
    "\n",
    "def sigma_tang(e):\n",
    "    N_elas = as_3D_tensor(n_elas)\n",
    "    return sigma(e) - 3*mu*(3*mu/(3*mu+H)-beta)*ufl.inner(N_elas, e)*N_elas - 2*mu*beta*ufl.dev(e)  "
   ]
  },
  {
   "cell_type": "code",
   "execution_count": 36,
   "metadata": {},
   "outputs": [],
   "source": [
    "vonMises = crm.vonMises(sig0, H)\n",
    "material = crm.Material(crm.IsotropicElasticity(E, nu), vonMises)\n",
    "n_quadrature_points = len(C_tang.x.array.reshape((-1, 4, 4)))\n",
    "for i in range(n_quadrature_points):\n",
    "    C_tang.x.array.reshape((-1, 4, 4))[i,:,:] = material.C"
   ]
  },
  {
   "cell_type": "code",
   "execution_count": 37,
   "metadata": {},
   "outputs": [],
   "source": [
    "ds = ufl.Measure(\"ds\", domain=mesh, subdomain_data=ft)\n",
    "dx = ufl.Measure(\n",
    "    \"dx\",\n",
    "    domain=mesh,\n",
    "    metadata={\"quadrature_degree\": deg_stress, \"quadrature_scheme\": \"default\"},\n",
    ")\n",
    "\n",
    "a_Newton = ufl.inner(eps_vec(v), ufl.dot(C_tang, eps_vec(u_)))*dx \n",
    "# a_Newton = ufl.inner(eps(v), sigma_tang(eps(u_)))*dx\n",
    "res = -ufl.inner(eps(u_), as_3D_tensor(sig))*dx + F_ext(u_)\n",
    "\n",
    "def project(original_field, target_field, bcs=[]):\n",
    "    # original_field -> target_field\n",
    "    # Ensure we have a mesh and attach to measure\n",
    "    V = target_field.function_space\n",
    "\n",
    "    # Define variational problem for projection\n",
    "    w = ufl.TestFunction(V)\n",
    "    Pv = ufl.TrialFunction(V)\n",
    "    a = fem.form(ufl.inner(Pv, w) * dx)\n",
    "    L = fem.form(ufl.inner(original_field, w) * dx)\n",
    "\n",
    "    # Assemble linear system\n",
    "    A = fem.petsc.assemble_matrix(a, bcs)\n",
    "    A.assemble()\n",
    "    b = fem.petsc.assemble_vector(L)\n",
    "    fem.petsc.apply_lifting(b, [a], [bcs])\n",
    "    b.ghostUpdate(addv=PETSc.InsertMode.ADD, mode=PETSc.ScatterMode.REVERSE)\n",
    "    fem.petsc.set_bc(b, bcs)\n",
    "\n",
    "    # Solve linear system\n",
    "    solver = PETSc.KSP().create(A.getComm())\n",
    "    solver.setOperators(A)\n",
    "    solver.solve(b, target_field.vector)  \n",
    "    target_field.x.scatter_forward()\n"
   ]
  },
  {
   "cell_type": "code",
   "execution_count": 38,
   "metadata": {},
   "outputs": [],
   "source": [
    "problem = fem.petsc.LinearProblem(\n",
    "    a_Newton,\n",
    "    res,\n",
    "    bcs=bcs,\n",
    "    petsc_options={\n",
    "        \"pc_type\": \"lu\",\n",
    "        \"pc_factor_mat_solver_type\": \"mumps\",\n",
    "    },\n",
    ")\n",
    "\n",
    "form_res = fem.form(res)\n",
    "form_a_Newton = fem.form(a_Newton)\n",
    "\n",
    "b = fem.petsc.create_vector(form_res)\n",
    "A = fem.petsc.create_matrix(form_a_Newton)\n",
    "\n",
    "with b.localForm() as b_local:\n",
    "    b_local.set(0.0)\n",
    "fem.petsc.assemble_vector(b, form_res)\n",
    "b.ghostUpdate(addv=PETSc.InsertMode.ADD, mode=PETSc.ScatterMode.REVERSE)\n",
    "fem.set_bc(b, bcs)\n",
    "\n",
    "A.zeroEntries()\n",
    "fem.petsc.assemble_matrix(A, form_a_Newton, bcs=bcs)\n",
    "A.assemble()\n",
    "\n",
    "solver = PETSc.KSP().create(mesh.comm)\n",
    "solver.setType(\"preonly\")\n",
    "solver.getPC().setType(\"lu\")\n",
    "solver.setOperators(A)"
   ]
  },
  {
   "cell_type": "code",
   "execution_count": 39,
   "metadata": {},
   "outputs": [],
   "source": [
    "# Defining a cell containing (Ri, 0) point, where we calculate a value of u\n",
    "\n",
    "cells = []\n",
    "points_on_proc = []\n",
    "x_point = np.zeros((1, 3))\n",
    "x_point[0][0] = Ri\n",
    "tree = BoundingBoxTree(mesh, mesh.geometry.dim)\n",
    "cell_candidates = compute_collisions(tree, x_point)\n",
    "colliding_cells = compute_colliding_cells(mesh, cell_candidates, x_point)\n",
    "for i, point in enumerate(x_point):\n",
    "    if len(colliding_cells.links(i)) > 0:\n",
    "        points_on_proc.append(point)\n",
    "        cells.append(colliding_cells.links(i)[0])"
   ]
  },
  {
   "cell_type": "code",
   "execution_count": 40,
   "metadata": {},
   "outputs": [
    {
     "name": "stdout",
     "output_type": "stream",
     "text": [
      "True\n"
     ]
    }
   ],
   "source": [
    "class ReturnMapping:\n",
    "    def __init__(self, material, solver=cp.SCS):\n",
    "        self.material = material\n",
    "        self.deps = cp.Parameter((4,))\n",
    "        self.sig_old = cp.Parameter((4,))\n",
    "        self.sig_elas = self.sig_old + self.material.C @ self.deps\n",
    "        self.sig = cp.Variable((4,))\n",
    "        \n",
    "        self.p_old = cp.Parameter(nonneg=True)\n",
    "        self.theta_elas = self.p_old * vonMises.H.value\n",
    "        self.theta = cp.Variable(nonneg=True)\n",
    "        self.p = self.theta / vonMises.H.value\n",
    "\n",
    "        # self.dp = cp.Parameter(nonneg=True) \n",
    "\n",
    "        self.sig_old.value = np.zeros((4,))\n",
    "        self.deps.value = np.zeros((4,))\n",
    "        self.p_old.value = 0\n",
    "\n",
    "        target_expression = cp.quad_form(self.sig - self.sig_elas, np.linalg.inv(self.material.C)) + cp.square(self.theta - self.theta_elas) / vonMises.H.value\n",
    "        # target_expression = cp.sum_squares(self.sig - self.sig_elas) + cp.square(self.theta - self.theta_elas) / vonMises.H.value\n",
    "        # /vonMises.H.value\n",
    "\n",
    "        # tmp_expr = cp.sum_squares(self.theta - self.theta_elas) \n",
    "        # tmp_expr2 = (cp.square(self.theta) - cp.square(self.theta_elas))\n",
    "        # print(target_expression.is_dcp(dpp=True))\n",
    "        # print(self.p.sign)\n",
    "        \n",
    "        self.constrains = material.criterion(self.sig, self.p_old, self.theta_elas)\n",
    "\n",
    "        if self.material.plane_stress:\n",
    "            self.constrains.append(self.sig[2] == 0)\n",
    "\n",
    "        self.opt_problem = cp.Problem(cp.Minimize(target_expression))\n",
    "        print(self.opt_problem.is_dcp(dpp=True))\n",
    "        # print(self.opt_problem.is_dgp(dpp=True))\n",
    "        self.solver = solver\n",
    "        \n",
    "    def solve(self, **kwargs):\n",
    "        self.opt_problem.solve(solver=self.solver, requires_grad=True, **kwargs)\n",
    "        # print(\"status:\", self.opt_problem.status)\n",
    "        # print(\"optimal value\", self.opt_problem.value)\n",
    "        # self.dp.value = self.p.value - self.p_old.value\n",
    "        # self.sig_old.value = self.sig.value\n",
    "        # self.dp_old.value = self.p.value\n",
    "\n",
    "        self.C_tang = np.zeros((4, 4))\n",
    "        for i in range(4):\n",
    "            z = np.zeros((4,))\n",
    "            z[i] = 1\n",
    "            self.deps.delta = z\n",
    "            self.opt_problem.derivative()\n",
    "            self.C_tang[i, :] = self.sig.delta \n",
    "    \n",
    "return_mapping = ReturnMapping(material)\n",
    "# return_mapping.sig_old.value = np.zeros((4,))\n",
    "# return_mapping.p_old.value = 0."
   ]
  },
  {
   "cell_type": "code",
   "execution_count": 41,
   "metadata": {},
   "outputs": [],
   "source": [
    "    # sig_n = as_3D_tensor(old_sig)\n",
    "    # sig_elas = sig_n + sigma(deps)\n",
    "    # s = ufl.dev(sig_elas)\n",
    "    # sig_eq = ufl.sqrt(3/2.*ufl.inner(s, s))\n",
    "    # f_elas = sig_eq - sig0 - H*old_p\n",
    "    # dp = ppos(f_elas)/(3*mu+H)\n",
    "    # n_elas = s/sig_eq*ppos(f_elas)/f_elas\n",
    "    # beta = 3*mu*dp/sig_eq\n",
    "    # new_sig = sig_elas-beta*s\n",
    "    # return ufl.as_vector([new_sig[0, 0], new_sig[1, 1], new_sig[2, 2], new_sig[0, 1]]), \\\n",
    "    #        ufl.as_vector([n_elas[0, 0], n_elas[1, 1], n_elas[2, 2], n_elas[0, 1]]), \\\n",
    "    #        beta, dp, sig_eq, f_elas   "
   ]
  },
  {
   "cell_type": "code",
   "execution_count": 42,
   "metadata": {},
   "outputs": [
    {
     "name": "stdout",
     "output_type": "stream",
     "text": [
      "C_tang 1.346153846153846 0.0\n",
      "\n",
      "nRes0 , 4.0766891205717435e-05 \n",
      " Increment: 1, load = 0.0002537449238735671\n",
      "b-A 4.0766891205717435e-05 349.0071927766161\n",
      "du 0.0009989482247069708 0.0 0.05141694590822055\n",
      "p 0.0 0.0 0.0\n",
      "C_tang 1.3461538461545908 -1.600501214560617e-08\n",
      "b-A 8.44333716399995e-05 349.0071926841421\n",
      "    Residual: 7.0205241084906915e-12\n",
      "du 1.0351390376968785e-12 -8.271384520697267e-13 2.5727177572738328e-11\n",
      "p 0.0 0.0 0.0\n",
      "C_tang 1.3461538461546096 -1.6005083568016675e-08\n",
      "b-A 8.443337175328538e-05 349.0071926841402\n",
      "    Residual: 6.111155346694256e-13\n",
      "du 4.304494403246841e-13 -1.1550359826588953e-13 6.1352938579695516e-12\n",
      "p 0.0 0.0 0.0\n",
      "C_tang 1.3461538461545155 -1.600476649031211e-08\n",
      "b-A 8.443337182211163e-05 349.0071926841417\n",
      "    Residual: 1.8955531895034187e-17\n",
      "rank#0: Time = 140.659 (s)\n"
     ]
    }
   ],
   "source": [
    "Nitermax, tol = 200, 1e-8  # parameters of the Newton-Raphson procedure\n",
    "Nincr = 20\n",
    "load_steps = np.linspace(0, 1.1, Nincr+1)[1:]**0.5\n",
    "results = np.zeros((Nincr+1, 2))\n",
    "load_steps = load_steps\n",
    "# xdmf = io.XDMFFile(MPI.COMM_WORLD, \"plasticity.xdmf\", \"w\", encoding=io.XDMFFile.Encoding.HDF5)\n",
    "# xdmf.write_mesh(mesh)\n",
    "\n",
    "sig.vector.set(0.0)\n",
    "sig_old.vector.set(0.0)\n",
    "p.vector.set(0.0)\n",
    "p_old.vector.set(0.0)\n",
    "u.vector.set(0.0)\n",
    "n_elas.vector.set(0.0)\n",
    "beta.vector.set(0.0)\n",
    "n_quadrature_points = len(C_tang.x.array.reshape((-1, 4, 4)))\n",
    "for i in range(n_quadrature_points):\n",
    "    C_tang.x.array.reshape((-1, 4, 4))[i,:,:] = material.C\n",
    "\n",
    "print('C_tang', np.max(C_tang.x.array), np.min(C_tang.x.array))\n",
    "\n",
    "start = time.time()\n",
    "\n",
    "for (i, t) in enumerate(load_steps[:1]):\n",
    "    loading.value = t * q_lim\n",
    "\n",
    "    with b.localForm() as b_local:\n",
    "        b_local.set(0.0)\n",
    "    b = fem.petsc.assemble_vector(form_res)\n",
    "    b.ghostUpdate(addv=PETSc.InsertMode.ADD, mode=PETSc.ScatterMode.REVERSE)\n",
    "    fem.set_bc(b, bcs)\n",
    "\n",
    "    nRes0 = b.norm() # Which one? - ufl.sqrt(Res.dot(Res))\n",
    "    nRes = nRes0\n",
    "    Du.vector.set(0.0)\n",
    "    Du.x.scatter_forward()\n",
    "\n",
    "    if MPI.COMM_WORLD.rank == 0:\n",
    "        print(f\"\\nnRes0 , {nRes0} \\n Increment: {str(i+1)}, load = {t * q_lim}\")\n",
    "    niter = 0\n",
    "\n",
    "    print('b-A', b.norm(), A.norm())\n",
    "\n",
    "    while nRes/nRes0 > tol and niter < Nitermax:\n",
    "        solver.solve(b, du.vector)\n",
    "        print('du', np.max(du.x.array), np.min(du.x.array), du.vector.norm())\n",
    "\n",
    "        Du.vector.axpy(1, du.vector) # Du = Du + 1*du\n",
    "        Du.x.scatter_forward() \n",
    "        # print(du.x.array[:])\n",
    "        interpolate_quadrature(eps_vec(Du), deps) # eps_xy * sqrt(2.)!\n",
    "        deps_values = deps.x.array.reshape((-1, 4))\n",
    "        for q in range(n_quadrature_points):\n",
    "            return_mapping.deps.value[:] = deps_values[q,:]\n",
    "            return_mapping.sig_old.value[:] = sig_old.x.array.reshape((-1, 4))[q,:]\n",
    "            return_mapping.p_old.value = p_old.x.array[q]\n",
    "            # print(sig_old.x.array.reshape((-1, 4))[i,:], deps[i,:])\n",
    "            start_conv = time.time()\n",
    "            return_mapping.solve(eps=1e-10, alpha=1.8, scale=5.)\n",
    "            #, eps_abs=1e-13, eps_rel=1e-13\n",
    "\n",
    "# T.vector.norm - bug, where T is a tensor???\n",
    "\n",
    "            end_conv = time.time()\n",
    "\n",
    "            sig.x.array.reshape((-1, 4))[q,:] = return_mapping.sig.value[:]\n",
    "            # sig.x.array.reshape((-1, 4))[q,3] /= np.sqrt(2.)\n",
    "            p.x.array[q] = return_mapping.p.value\n",
    "            C_tang.x.array.reshape((-1, 4, 4))[q,:,:] = return_mapping.C_tang[:,:]\n",
    "            # dp.x.array[i] = return_mapping.dp.value\n",
    "        \n",
    "        # print('sig', np.max(sig.x.array), np.min(sig.x.array), np.mean(sig.x.array))\n",
    "        # print(sig.x.array)\n",
    "        print('p', np.max(p.x.array), np.min(p.x.array), p.vector.norm())\n",
    "        print('C_tang', np.max(C_tang.x.array), np.min(C_tang.x.array))\n",
    "\n",
    "\n",
    "        # deps = eps(Du)\n",
    "        # sig_, n_elas_, beta_, dp_, sig_eq_, f_elas_ = proj_sig(deps, sig_old, p)\n",
    "\n",
    "        # interpolate_quadrature(sig_, sig)\n",
    "        # interpolate_quadrature(n_elas_, n_elas)\n",
    "        # interpolate_quadrature(beta_, beta)\n",
    "\n",
    "        # interpolate_quadrature(dp_, dp)\n",
    "        # interpolate_quadrature(sig_eq_, sig_eq)\n",
    "        # interpolate_quadrature(f_elas_, f_elas)\n",
    "        \n",
    "        A.zeroEntries()\n",
    "        fem.petsc.assemble_matrix(A, form_a_Newton, bcs=bcs)\n",
    "        A.assemble()\n",
    "        with b.localForm() as b_local:\n",
    "            b_local.set(0.0)\n",
    "        fem.petsc.assemble_vector(b, form_res)\n",
    "        print('b-A', b.norm(), A.norm())\n",
    "        b.ghostUpdate(addv=PETSc.InsertMode.ADD, mode=PETSc.ScatterMode.REVERSE)\n",
    "        fem.set_bc(b, bcs)\n",
    "        # print('b', b.norm())\n",
    "\n",
    "        nRes = b.norm() \n",
    "        if MPI.COMM_WORLD.rank == 0:\n",
    "            print(f\"    Residual: {nRes}\")\n",
    "        niter += 1\n",
    "    u.vector.axpy(1, Du.vector) # u = u + 1*Du\n",
    "    u.x.scatter_forward()\n",
    "\n",
    "    # interpolate_quadrature(dp_, dp)\n",
    "    # p.vector.axpy(1, dp.vector)\n",
    "    p.vector.copy(p_old.vector)\n",
    "    p.x.scatter_forward()\n",
    "    \n",
    "    sig.vector.copy(sig_old.vector)\n",
    "    sig.x.scatter_forward()\n",
    "\n",
    "    # project(p, p_avg)\n",
    "    # p_avg.x.scatter_forward()\n",
    "    \n",
    "    # xdmf.write_function(u, t)\n",
    "    # xdmf.write_function(p_avg, t)\n",
    "\n",
    "    if len(points_on_proc) > 0:\n",
    "        results[i+1, :] = (u.eval(points_on_proc, cells)[0], t)\n",
    "\n",
    "# xdmf.close()\n",
    "end = time.time()\n",
    "print(f'rank#{MPI.COMM_WORLD.rank}: Time = {end-start:.3f} (s)')"
   ]
  },
  {
   "cell_type": "code",
   "execution_count": 43,
   "metadata": {},
   "outputs": [
    {
     "data": {
      "text/plain": [
       "array([[1.34615385, 0.57692308, 0.57692308, 0.        ],\n",
       "       [0.57692308, 1.34615385, 0.57692308, 0.        ],\n",
       "       [0.57692308, 0.57692308, 1.34615385, 0.        ],\n",
       "       [0.        , 0.        , 0.        , 0.76923077]])"
      ]
     },
     "execution_count": 43,
     "metadata": {},
     "output_type": "execute_result"
    }
   ],
   "source": [
    "C_fake = fem.Function(WT)\n",
    "\n",
    "for i in range(n_quadrature_points):\n",
    "    C_fake.x.array.reshape((-1, 4, 4))[i,:,:] = material.C\n",
    "\n",
    "C_fake.x.array.reshape((-1, 4, 4))[10]"
   ]
  },
  {
   "cell_type": "code",
   "execution_count": 44,
   "metadata": {},
   "outputs": [
    {
     "data": {
      "text/plain": [
       "3.4136377286273176e-09"
      ]
     },
     "execution_count": 44,
     "metadata": {},
     "output_type": "execute_result"
    }
   ],
   "source": [
    "np.sum(np.abs(C_fake.x.array - C_tang.x.array)) / np.sum(np.abs(C_fake.x.array))"
   ]
  },
  {
   "cell_type": "code",
   "execution_count": 45,
   "metadata": {},
   "outputs": [
    {
     "data": {
      "text/plain": [
       "4.399396715679499e-09"
      ]
     },
     "execution_count": 45,
     "metadata": {},
     "output_type": "execute_result"
    }
   ],
   "source": [
    "np.sqrt(np.dot(C_fake.x.array - C_tang.x.array, C_fake.x.array - C_tang.x.array)) / np.sqrt(np.dot(C_fake.x.array, C_fake.x.array))"
   ]
  },
  {
   "cell_type": "code",
   "execution_count": 46,
   "metadata": {},
   "outputs": [
    {
     "data": {
      "text/plain": [
       "array([1.34615385, 0.57692308, 0.57692308, ..., 0.        , 0.        ,\n",
       "       0.76923077])"
      ]
     },
     "execution_count": 46,
     "metadata": {},
     "output_type": "execute_result"
    }
   ],
   "source": [
    "C_fake.x.array"
   ]
  },
  {
   "cell_type": "code",
   "execution_count": 47,
   "metadata": {},
   "outputs": [
    {
     "name": "stdout",
     "output_type": "stream",
     "text": [
      "[[ 6.30384633e-13  2.59087751e-09 -2.58738386e-09  3.52233070e-10]\n",
      " [ 4.55797899e-09  2.45581333e-13 -4.55642568e-09 -2.70834627e-10]\n",
      " [ 1.96912431e-09 -1.96702499e-09  3.08197912e-13 -8.14014722e-11]\n",
      " [ 7.06424917e-12 -5.37325876e-12 -1.59184828e-12 -7.77156117e-16]]\n"
     ]
    }
   ],
   "source": [
    "print((C_fake.x.array.reshape((-1, 4, 4)) - C_tang.x.array.reshape((-1, 4, 4)))[5])"
   ]
  },
  {
   "cell_type": "code",
   "execution_count": 48,
   "metadata": {},
   "outputs": [
    {
     "name": "stdout",
     "output_type": "stream",
     "text": [
      "1.346153846153846 0.0\n"
     ]
    }
   ],
   "source": [
    "print(np.max(C_fake.x.array), np.min(C_fake.x.array))"
   ]
  },
  {
   "cell_type": "code",
   "execution_count": 49,
   "metadata": {},
   "outputs": [
    {
     "name": "stdout",
     "output_type": "stream",
     "text": [
      "1.3461538461545155 -1.600476649031211e-08\n"
     ]
    }
   ],
   "source": [
    "print(np.max(C_tang.x.array), np.min(C_tang.x.array))\n"
   ]
  },
  {
   "cell_type": "code",
   "execution_count": 50,
   "metadata": {},
   "outputs": [
    {
     "name": "stdout",
     "output_type": "stream",
     "text": [
      "[[ 1.34615385e+00  5.76923074e-01  5.76923080e-01 -7.34042085e-10]\n",
      " [ 5.76923072e-01  1.34615385e+00  5.76923082e-01  5.65425458e-10]\n",
      " [ 5.76923075e-01  5.76923079e-01  1.34615385e+00  1.68601577e-10]\n",
      " [-1.47208106e-11  1.12183750e-11  3.29708909e-12  7.69230769e-01]]\n"
     ]
    }
   ],
   "source": [
    "print(C_tang.x.array.reshape((-1, 4, 4))[10])"
   ]
  },
  {
   "cell_type": "code",
   "execution_count": 51,
   "metadata": {},
   "outputs": [
    {
     "name": "stdout",
     "output_type": "stream",
     "text": [
      "[[ 1.67643677e-13  2.63773703e-09 -2.63438693e-09  7.34042085e-10]\n",
      " [ 4.61949090e-09  2.20712337e-13 -4.61790939e-09 -5.65425458e-10]\n",
      " [ 1.98378325e-09 -1.98166605e-09  2.98649994e-13 -1.68601577e-10]\n",
      " [ 1.47208106e-11 -1.12183750e-11 -3.29708909e-12  2.22044605e-16]]\n"
     ]
    }
   ],
   "source": [
    "print(C_fake.x.array.reshape((-1, 4, 4))[10] - C_tang.x.array.reshape((-1, 4, 4))[10])"
   ]
  },
  {
   "cell_type": "code",
   "execution_count": null,
   "metadata": {},
   "outputs": [],
   "source": []
  },
  {
   "cell_type": "code",
   "execution_count": 52,
   "metadata": {},
   "outputs": [
    {
     "data": {
      "image/png": "[encoded data removed]",
      "text/plain": [
       "<Figure size 432x288 with 1 Axes>"
      ]
     },
     "metadata": {
      "needs_background": "light"
     },
     "output_type": "display_data"
    }
   ],
   "source": [
    "if len(points_on_proc) > 0:\n",
    "    import matplotlib.pyplot as plt\n",
    "    plt.plot(results[:, 0], results[:, 1], \"-o\")\n",
    "    plt.xlabel(\"Displacement of inner boundary\")\n",
    "    plt.ylabel(r\"Applied pressure $q/q_{lim}$\")\n",
    "    plt.savefig(f\"displacement_rank{MPI.COMM_WORLD.rank:d}.png\")\n",
    "    plt.show()"
   ]
  }
 ],
 "metadata": {
  "interpreter": {
   "hash": "31f2aee4e71d21fbe5cf8b01ff0e069b9275f58929596ceb00d14d90e3e16cd6"
  },
  "kernelspec": {
   "display_name": "Python 3.8.10 64-bit",
   "language": "python",
   "name": "python3"
  },
  "language_info": {
   "codemirror_mode": {
    "name": "ipython",
    "version": 3
   },
   "file_extension": ".py",
   "mimetype": "text/x-python",
   "name": "python",
   "nbconvert_exporter": "python",
   "pygments_lexer": "ipython3",
   "version": "3.9.7"
  },
  "orig_nbformat": 4
 },
 "nbformat": 4,
 "nbformat_minor": 2
}
