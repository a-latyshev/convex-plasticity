{
 "cells": [
  {
   "cell_type": "markdown",
   "metadata": {},
   "source": [
    "Implementation of 2D elasto-plastic problem using FEniCS-X. The code is based on a [legacy solution](https://comet-fenics.readthedocs.io/en/latest/demo/2D_plasticity/vonMises_plasticity.py.html) for FEniCS 2019.\n",
    "\n",
    "The program was tested for 0.3.1.0 version of Dolfinx."
   ]
  },
  {
   "cell_type": "code",
   "execution_count": 35,
   "metadata": {},
   "outputs": [],
   "source": [
    "import meshio\n",
    "import numpy as np\n",
    "\n",
    "import ufl\n",
    "from dolfinx import fem, io\n",
    "from mpi4py import MPI\n",
    "from petsc4py import PETSc\n",
    "import time\n",
    "\n",
    "import sys\n",
    "sys.path.append(\"../..\")\n",
    "import fenicsx_support as fs\n",
    "sys.path.append(\"../../optimisation\")\n",
    "import plasticity_framework as pf"
   ]
  },
  {
   "cell_type": "code",
   "execution_count": 36,
   "metadata": {},
   "outputs": [
    {
     "name": "stdout",
     "output_type": "stream",
     "text": [
      "\n",
      "\n",
      "<meshio mesh object>\n",
      "  Number of points: 3706\n",
      "  Number of cells:\n",
      "    line: 23\n",
      "    line: 152\n",
      "    line: 23\n",
      "    line: 117\n",
      "    triangle: 7095\n",
      "  Cell sets: gmsh:bounding_entities\n",
      "  Point data: gmsh:dim_tags\n",
      "  Cell data: gmsh:physical, gmsh:geometrical\n"
     ]
    }
   ],
   "source": [
    "if MPI.COMM_WORLD.rank == 0:\n",
    "\n",
    "    #It works with the msh4 only!!\n",
    "    msh = meshio.read(\"thick_cylinder.msh\")\n",
    "    msh = meshio.read(\"../../assembling_strategies/mesh/thick_cylinder_3.msh\")\n",
    "\n",
    "    # Create and save one file for the mesh, and one file for the facets \n",
    "    triangle_mesh = fs.create_mesh(msh, \"triangle\", prune_z=True)\n",
    "    line_mesh = fs.create_mesh(msh, \"line\", prune_z=True)\n",
    "    meshio.write(\"thick_cylinder.xdmf\", triangle_mesh)\n",
    "    meshio.write(\"mt.xdmf\", line_mesh)\n",
    "    print(msh)\n",
    "    "
   ]
  },
  {
   "cell_type": "code",
   "execution_count": 37,
   "metadata": {},
   "outputs": [],
   "source": [
    "with io.XDMFFile(MPI.COMM_WORLD, \"thick_cylinder.xdmf\", \"r\") as xdmf:\n",
    "    mesh = xdmf.read_mesh(name=\"Grid\")\n",
    "    ct = xdmf.read_meshtags(mesh, name=\"Grid\")\n",
    "\n",
    "mesh.topology.create_connectivity(mesh.topology.dim, mesh.topology.dim - 1)\n",
    "\n",
    "with io.XDMFFile(MPI.COMM_WORLD, \"mt.xdmf\", \"r\") as xdmf:\n",
    "    ft = xdmf.read_meshtags(mesh, name=\"Grid\")"
   ]
  },
  {
   "cell_type": "code",
   "execution_count": 38,
   "metadata": {},
   "outputs": [],
   "source": [
    "# elastic parameters\n",
    "\n",
    "sig0_dim = 1. #[Pa]\n",
    "Ri_dim = 1.0 #[m]\n",
    "\n",
    "E = 70e3 / sig0_dim\n",
    "nu = 0.3\n",
    "lmbda = E*nu/(1+nu)/(1-2*nu)\n",
    "mu = E/2./(1+nu) #fem.Constant(mesh, PETSc.ScalarType(E/2./(1+nu)))\n",
    "sig0 = 250 / sig0_dim #fem.Constant(mesh, PETSc.ScalarType(250 / sig0_dim))  # yield strength\n",
    "Et = E/100.  # tangent modulus\n",
    "H = E*Et/(E-Et)  # hardening modulus\n",
    "\n",
    "Re, Ri = 1.3, 1.   # external/internal radius"
   ]
  },
  {
   "cell_type": "code",
   "execution_count": 39,
   "metadata": {},
   "outputs": [],
   "source": [
    "deg_u = 2\n",
    "deg_stress = 2\n",
    "V = fem.VectorFunctionSpace(mesh, (\"CG\", deg_u))\n",
    "We = ufl.VectorElement(\"Quadrature\", mesh.ufl_cell(), degree=deg_stress, dim=4, quad_scheme='default')\n",
    "W0e = ufl.FiniteElement(\"Quadrature\", mesh.ufl_cell(), degree=deg_stress, quad_scheme='default')\n",
    "\n",
    "W = fem.FunctionSpace(mesh, We)\n",
    "W0 = fem.FunctionSpace(mesh, W0e)"
   ]
  },
  {
   "cell_type": "code",
   "execution_count": 40,
   "metadata": {},
   "outputs": [],
   "source": [
    "sig = fem.Function(W)\n",
    "sig_old = fem.Function(W)\n",
    "n_elas = fem.Function(W)\n",
    "beta = fem.Function(W0)\n",
    "p = fem.Function(W0, name=\"Cumulative_plastic_strain\")\n",
    "dp = fem.Function(W0)\n",
    "u = fem.Function(V, name=\"Total_displacement\")\n",
    "du = fem.Function(V, name=\"Iteration_correction\")\n",
    "Du = fem.Function(V, name=\"Current_increment\")\n",
    "v = ufl.TrialFunction(V)\n",
    "u_ = ufl.TestFunction(V)\n",
    "\n",
    "P0 = fem.FunctionSpace(mesh, (\"DG\", 0))\n",
    "p_avg = fem.Function(P0, name=\"Plastic_strain\")"
   ]
  },
  {
   "cell_type": "code",
   "execution_count": 41,
   "metadata": {},
   "outputs": [],
   "source": [
    "left_marker = 3\n",
    "down_marker = 1\n",
    "left_facets = ft.indices[ft.values == left_marker]\n",
    "down_facets = ft.indices[ft.values == down_marker]\n",
    "left_dofs = fem.locate_dofs_topological(V.sub(0), mesh.topology.dim-1, left_facets)\n",
    "down_dofs = fem.locate_dofs_topological(V.sub(1), mesh.topology.dim-1, down_facets)\n",
    "\n",
    "bcs = [fem.dirichletbc(PETSc.ScalarType(0), left_dofs, V.sub(0)), fem.dirichletbc(PETSc.ScalarType(0), down_dofs, V.sub(1))]"
   ]
  },
  {
   "cell_type": "code",
   "execution_count": 42,
   "metadata": {},
   "outputs": [],
   "source": [
    "n = ufl.FacetNormal(mesh)\n",
    "q_lim = float(2/np.sqrt(3)*np.log(Re/Ri)*sig0)\n",
    "\n",
    "loading = fem.Constant(mesh, PETSc.ScalarType(0.0 * q_lim))\n",
    "\n",
    "def F_ext(v):\n",
    "    return -loading * ufl.inner(n, v)*ds(4)\n",
    "\n",
    "def eps(v):\n",
    "    e = ufl.sym(ufl.grad(v))\n",
    "    return ufl.as_tensor([[e[0, 0], e[0, 1], 0],\n",
    "                          [e[0, 1], e[1, 1], 0],\n",
    "                          [0, 0, 0]])\n",
    "\n",
    "def sigma(eps_el):\n",
    "    return lmbda*ufl.tr(eps_el)*ufl.Identity(3) + 2*mu*eps_el\n",
    "\n",
    "def as_3D_tensor(X):\n",
    "    return ufl.as_tensor([[X[0], X[3], 0],\n",
    "                          [X[3], X[1], 0],\n",
    "                          [0, 0, X[2]]])\n",
    "\n",
    "ppos = lambda x: (x + ufl.sqrt(x**2))/2.\n",
    "def proj_sig(deps, old_sig, old_p):\n",
    "    sig_n = as_3D_tensor(old_sig)\n",
    "    sig_elas = sig_n + sigma(deps)\n",
    "    s = ufl.dev(sig_elas)\n",
    "    sig_eq = ufl.sqrt(3/2.*ufl.inner(s, s))\n",
    "    f_elas = sig_eq - sig0 - H*old_p\n",
    "    dp = ppos(f_elas)/(3*mu+H)\n",
    "    n_elas = s/sig_eq*ppos(f_elas)/f_elas\n",
    "    beta = 3*mu*dp/sig_eq\n",
    "    new_sig = sig_elas-beta*s\n",
    "    return ufl.as_vector([new_sig[0, 0], new_sig[1, 1], new_sig[2, 2], new_sig[0, 1]]), \\\n",
    "           ufl.as_vector([n_elas[0, 0], n_elas[1, 1], n_elas[2, 2], n_elas[0, 1]]), \\\n",
    "           beta, dp       \n",
    "\n",
    "def sigma_tang(e):\n",
    "    N_elas = as_3D_tensor(n_elas)\n",
    "    return sigma(e) - 3*mu*(3*mu/(3*mu+H)-beta)*ufl.inner(N_elas, e)*N_elas - 2*mu*beta*ufl.dev(e)  "
   ]
  },
  {
   "cell_type": "code",
   "execution_count": 43,
   "metadata": {},
   "outputs": [],
   "source": [
    "ds = ufl.Measure(\"ds\", domain=mesh, subdomain_data=ft)\n",
    "dx = ufl.Measure(\n",
    "    \"dx\",\n",
    "    domain=mesh,\n",
    "    metadata={\"quadrature_degree\": deg_stress, \"quadrature_scheme\": \"default\"},\n",
    ")\n",
    "\n",
    "a_Newton = ufl.inner(eps(v), sigma_tang(eps(u_)))*dx\n",
    "res = -ufl.inner(eps(u_), as_3D_tensor(sig))*dx + F_ext(u_)\n",
    "\n",
    "my_problem = pf.LinearProblem(a_Newton, res, Du, bcs)"
   ]
  },
  {
   "cell_type": "code",
   "execution_count": 44,
   "metadata": {},
   "outputs": [],
   "source": [
    "# Defining a cell containing (Ri, 0) point, where we calculate a value of u\n",
    "x_point = np.array([[Ri, 0, 0]])\n",
    "cells, points_on_proc = fs.find_cell_by_point(mesh, x_point)"
   ]
  },
  {
   "cell_type": "code",
   "execution_count": 45,
   "metadata": {},
   "outputs": [
    {
     "name": "stdout",
     "output_type": "stream",
     "text": [
      "\n",
      " rank#0: Time (return mapping) = 0.047 (s)\n",
      "rank#0: Time = 15.419 (s)\n"
     ]
    }
   ],
   "source": [
    "Nitermax, tol = 200, 1e-8  # parameters of the Newton-Raphson procedure\n",
    "Nincr = 20\n",
    "load_steps = np.linspace(0, 1.1, Nincr+1)[1:]**0.5\n",
    "results = np.zeros((Nincr+1, 2))\n",
    "load_steps = load_steps\n",
    "# xdmf = io.XDMFFile(MPI.COMM_WORLD, \"plasticity.xdmf\", \"w\", encoding=io.XDMFFile.Encoding.HDF5)\n",
    "# xdmf.write_mesh(mesh)\n",
    "\n",
    "sig.vector.set(0.0)\n",
    "sig_old.vector.set(0.0)\n",
    "p.vector.set(0.0)\n",
    "u.vector.set(0.0)\n",
    "n_elas.vector.set(0.0)\n",
    "beta.vector.set(0.0)\n",
    "\n",
    "deps = eps(Du)\n",
    "sig_, n_elas_, beta_, dp_ = proj_sig(deps, sig_old, p)\n",
    "\n",
    "my_problem.assemble_matrix()\n",
    "\n",
    "return_mapping_times = np.zeros((len(load_steps)))\n",
    "\n",
    "start = time.time()\n",
    "\n",
    "for (i, t) in enumerate(load_steps):\n",
    "    return_mapping_times_tmp = []\n",
    "    loading.value = t * q_lim\n",
    "\n",
    "    my_problem.assemble_vector()\n",
    "\n",
    "    nRes0 = my_problem.b.norm() # Which one? - ufl.sqrt(Res.dot(Res))\n",
    "    nRes = nRes0\n",
    "    Du.x.array[:] = 0\n",
    "\n",
    "    # if MPI.COMM_WORLD.rank == 0:\n",
    "    #     print(f\"\\nnRes0 , {nRes0} \\n Increment: {str(i+1)}, load = {t * q_lim}\")\n",
    "    niter = 0\n",
    "\n",
    "    while nRes/nRes0 > tol and niter < Nitermax:\n",
    "        my_problem.solve(du)\n",
    "\n",
    "        Du.vector.axpy(1, du.vector) # Du = Du + 1*du\n",
    "        Du.x.scatter_forward() \n",
    "\n",
    "        start_interpolate = time.time()\n",
    "        \n",
    "        fs.interpolate_quadrature(sig_, sig)\n",
    "        fs.interpolate_quadrature(n_elas_, n_elas)\n",
    "        fs.interpolate_quadrature(beta_, beta)\n",
    "\n",
    "        return_mapping_times_tmp.append(time.time() - start_interpolate)\n",
    "\n",
    "        my_problem.assemble()\n",
    "\n",
    "        nRes = my_problem.b.norm() \n",
    "\n",
    "        # if MPI.COMM_WORLD.rank == 0:\n",
    "        #     print(f\"    Residual: {nRes}\")\n",
    "        niter += 1\n",
    "    u.vector.axpy(1, Du.vector) # u = u + 1*Du\n",
    "    u.x.scatter_forward()\n",
    "\n",
    "    fs.interpolate_quadrature(dp_, dp)\n",
    "    p.vector.axpy(1, dp.vector)\n",
    "    p.x.scatter_forward()\n",
    "    \n",
    "    sig_old.x.array[:] = sig.x.array[:]\n",
    "\n",
    "    # fs.project(p, p_avg)\n",
    "    \n",
    "    # xdmf.write_function(u, t)\n",
    "    # xdmf.write_function(p_avg, t)\n",
    "\n",
    "    return_mapping_times[i] = np.mean(return_mapping_times_tmp)\n",
    "    # print(f'rank#{MPI.COMM_WORLD.rank}: Time (mean return mapping) = {return_mapping_times[i]:.3f} (s)')\n",
    "\n",
    "    if len(points_on_proc) > 0:\n",
    "        results[i+1, :] = (u.eval(points_on_proc, cells)[0], t)\n",
    "\n",
    "# xdmf.close()\n",
    "# end = time.time()\n",
    "print(f'\\n rank#{MPI.COMM_WORLD.rank}: Time (return mapping) = {np.mean(return_mapping_times):.3f} (s)')\n",
    "print(f'rank#{MPI.COMM_WORLD.rank}: Time = {time.time() - start:.3f} (s)')"
   ]
  },
  {
   "cell_type": "code",
   "execution_count": 46,
   "metadata": {},
   "outputs": [
    {
     "data": {
      "image/png": "[encoded data removed]",
      "text/plain": [
       "<Figure size 432x288 with 1 Axes>"
      ]
     },
     "metadata": {
      "needs_background": "light"
     },
     "output_type": "display_data"
    }
   ],
   "source": [
    "if len(points_on_proc) > 0:\n",
    "    import matplotlib.pyplot as plt\n",
    "    plt.plot(results[:, 0], results[:, 1], \"-o\")\n",
    "    plt.xlabel(\"Displacement of inner boundary\")\n",
    "    plt.ylabel(r\"Applied pressure $q/q_{lim}$\")\n",
    "    plt.savefig(f\"displacement_rank{MPI.COMM_WORLD.rank:d}.png\")\n",
    "    plt.show()"
   ]
  },
  {
   "cell_type": "code",
   "execution_count": null,
   "metadata": {},
   "outputs": [],
   "source": []
  }
 ],
 "metadata": {
  "interpreter": {
   "hash": "31f2aee4e71d21fbe5cf8b01ff0e069b9275f58929596ceb00d14d90e3e16cd6"
  },
  "kernelspec": {
   "display_name": "Python 3.8.10 64-bit",
   "language": "python",
   "name": "python3"
  },
  "language_info": {
   "codemirror_mode": {
    "name": "ipython",
    "version": 3
   },
   "file_extension": ".py",
   "mimetype": "text/x-python",
   "name": "python",
   "nbconvert_exporter": "python",
   "pygments_lexer": "ipython3",
   "version": "3.9.7"
  },
  "orig_nbformat": 4
 },
 "nbformat": 4,
 "nbformat_minor": 2
}
