{
 "cells": [
  {
   "cell_type": "markdown",
   "metadata": {},
   "source": [
    "Implementation of 2D elasto-plastic problem using FEniCS-X. The code is based on a [legacy solution](https://comet-fenics.readthedocs.io/en/latest/demo/2D_plasticity/vonMises_plasticity.py.html) for FEniCS 2019.\n",
    "\n",
    "The program was tested for 0.3.1.0 version of Dolfinx."
   ]
  },
  {
   "cell_type": "code",
   "execution_count": 1,
   "metadata": {},
   "outputs": [],
   "source": [
    "import sys\n",
    "sys.path.append(\"../\")\n",
    "from src import fenicsx_support as fs\n",
    "from src import plasticity_framework as pf\n",
    "from src import convex_return_mapping as crm # there is a conflict in the oder of imported modules\n",
    "\n",
    "import meshio\n",
    "import ufl\n",
    "from dolfinx import fem, io, common\n",
    "from mpi4py import MPI\n",
    "from petsc4py import PETSc\n",
    "\n",
    "import numpy as np"
   ]
  },
  {
   "cell_type": "code",
   "execution_count": 2,
   "metadata": {},
   "outputs": [
    {
     "name": "stdout",
     "output_type": "stream",
     "text": [
      "\n",
      "<meshio mesh object>\n",
      "  Number of points: 50\n",
      "  Number of cells:\n",
      "    line: 2\n",
      "    line: 14\n",
      "    line: 2\n",
      "    line: 11\n",
      "    triangle: 69\n",
      "  Cell sets: gmsh:bounding_entities\n",
      "  Point data: gmsh:dim_tags\n",
      "  Cell data: gmsh:physical, gmsh:geometrical\n"
     ]
    }
   ],
   "source": [
    "if MPI.COMM_WORLD.rank == 0:\n",
    "\n",
    "    #It works with the msh4 only!!\n",
    "    msh = meshio.read(\"mesh/thick_cylinder_coarse.msh\")\n",
    "\n",
    "    # Create and save one file for the mesh, and one file for the facets \n",
    "    triangle_mesh = fs.create_mesh(msh, \"triangle\", prune_z=True)\n",
    "    line_mesh = fs.create_mesh(msh, \"line\", prune_z=True)\n",
    "    meshio.write(\"thick_cylinder.xdmf\", triangle_mesh)\n",
    "    meshio.write(\"mt.xdmf\", line_mesh)\n",
    "    print(msh)"
   ]
  },
  {
   "cell_type": "code",
   "execution_count": 3,
   "metadata": {},
   "outputs": [],
   "source": [
    "with io.XDMFFile(MPI.COMM_WORLD, \"thick_cylinder.xdmf\", \"r\") as xdmf:\n",
    "    mesh = xdmf.read_mesh(name=\"Grid\")\n",
    "    ct = xdmf.read_meshtags(mesh, name=\"Grid\")\n",
    "\n",
    "mesh.topology.create_connectivity(mesh.topology.dim, mesh.topology.dim - 1)\n",
    "\n",
    "with io.XDMFFile(MPI.COMM_WORLD, \"mt.xdmf\", \"r\") as xdmf:\n",
    "    ft = xdmf.read_meshtags(mesh, name=\"Grid\")"
   ]
  },
  {
   "cell_type": "code",
   "execution_count": 4,
   "metadata": {},
   "outputs": [],
   "source": [
    "# elastic parameters\n",
    "sig0_dim = 70e3 #[Pa]\n",
    "Ri_dim = 1.0 #[m]\n",
    "\n",
    "E = 70e3 / sig0_dim #[-]\n",
    "nu = 0.3 #[-]\n",
    "lmbda = E*nu/(1+nu)/(1-2*nu)\n",
    "mu = fem.Constant(mesh, PETSc.ScalarType(E/2./(1+nu)))\n",
    "\n",
    "sig0 = 250 / sig0_dim #[-]\n",
    "Et = E/100.  # tangent modulus\n",
    "H = E*Et/(E-Et)  # hardening modulus\n",
    "\n",
    "Re, Ri = 1.3, 1.   # external/internal radius"
   ]
  },
  {
   "cell_type": "code",
   "execution_count": 5,
   "metadata": {},
   "outputs": [],
   "source": [
    "deg_u = 2\n",
    "deg_stress = 2\n",
    "V = fem.VectorFunctionSpace(mesh, (\"CG\", deg_u))\n",
    "We = ufl.VectorElement(\"Quadrature\", mesh.ufl_cell(), degree=deg_stress, dim=4, quad_scheme='default')\n",
    "W0e = ufl.FiniteElement(\"Quadrature\", mesh.ufl_cell(), degree=deg_stress, quad_scheme='default')\n",
    "\n",
    "W = fem.FunctionSpace(mesh, We)\n",
    "W0 = fem.FunctionSpace(mesh, W0e)"
   ]
  },
  {
   "cell_type": "code",
   "execution_count": 6,
   "metadata": {},
   "outputs": [],
   "source": [
    "sig = fem.Function(W)\n",
    "sig_old = fem.Function(W)\n",
    "p = fem.Function(W0, name=\"Cumulative_plastic_strain\")\n",
    "p_old = fem.Function(W0)\n",
    "u = fem.Function(V, name=\"Total_displacement\")\n",
    "Du = fem.Function(V, name=\"Current_increment\")\n",
    "v_ = ufl.TrialFunction(V)\n",
    "u_ = ufl.TestFunction(V)\n",
    "\n",
    "deps = fem.Function(W, name=\"deps\")"
   ]
  },
  {
   "cell_type": "code",
   "execution_count": 7,
   "metadata": {},
   "outputs": [],
   "source": [
    "left_marker = 3\n",
    "down_marker = 1\n",
    "left_facets = ft.indices[ft.values == left_marker]\n",
    "down_facets = ft.indices[ft.values == down_marker]\n",
    "left_dofs = fem.locate_dofs_topological(V.sub(0), mesh.topology.dim-1, left_facets)\n",
    "down_dofs = fem.locate_dofs_topological(V.sub(1), mesh.topology.dim-1, down_facets)\n",
    "\n",
    "bcs = [fem.dirichletbc(PETSc.ScalarType(0), left_dofs, V.sub(0)), fem.dirichletbc(PETSc.ScalarType(0), down_dofs, V.sub(1))]"
   ]
  },
  {
   "cell_type": "code",
   "execution_count": 8,
   "metadata": {},
   "outputs": [],
   "source": [
    "ds = ufl.Measure(\"ds\", domain=mesh, subdomain_data=ft)\n",
    "dx = ufl.Measure(\n",
    "    \"dx\",\n",
    "    domain=mesh,\n",
    "    metadata={\"quadrature_degree\": deg_stress, \"quadrature_scheme\": \"default\"},\n",
    ")"
   ]
  },
  {
   "cell_type": "code",
   "execution_count": 9,
   "metadata": {},
   "outputs": [],
   "source": [
    "n = ufl.FacetNormal(mesh)\n",
    "q_lim = float(2/np.sqrt(3)*np.log(Re/Ri)*sig0)\n",
    "loading = fem.Constant(mesh, PETSc.ScalarType(0.0 * q_lim))\n",
    "\n",
    "SQRT2 = np.sqrt(2.)\n",
    "\n",
    "def F_ext(v):\n",
    "    return -loading * ufl.inner(n, v)*ds(4)\n",
    "\n",
    "def eps(v):\n",
    "    e = ufl.sym(ufl.grad(v))\n",
    "    return ufl.as_tensor([[e[0, 0], e[0, 1], 0],\n",
    "                          [e[0, 1], e[1, 1], 0],\n",
    "                          [0, 0, 0]])\n",
    "\n",
    "def eps_vec(v):\n",
    "    e = ufl.sym(ufl.grad(v))\n",
    "    return ufl.as_vector([e[0, 0], e[1, 1], 0, SQRT2 * e[0, 1]])\n",
    "\n",
    "def as_3D_tensor(X):\n",
    "    return ufl.as_tensor([[X[0], X[3] / SQRT2, 0],\n",
    "                          [X[3] / SQRT2, X[1], 0],\n",
    "                          [0, 0, X[2]]])       \n",
    "                          \n",
    "def sigma(eps_el):\n",
    "    return lmbda*ufl.tr(eps_el)*ufl.Identity(3) + 2*mu*eps_el\n",
    "\n",
    "# def deps_p(deps, old_sig, p, old_p):\n",
    "#     sig_n = as_3D_tensor(old_sig)\n",
    "#     sig_elas = sig_n + sigma(deps)\n",
    "#     s = ufl.dev(sig_elas)\n",
    "#     sig_eq = ufl.sqrt(3/2.*ufl.inner(s, s))\n",
    "#     f_elas = sig_eq - sig0 - H*old_p\n",
    "#     deps_p = ufl.conditional(f_elas > 0, (p - p_old) * (3./2. * s / sig_eq), 0*ufl.Identity(3)) # sig_eq is equal to 0 on the first iteration\n",
    "#     return deps_p\n",
    "\n",
    "\n",
    "def deps_p(deps, old_sig, old_p):\n",
    "    sig_n = as_3D_tensor(old_sig)\n",
    "    sig_elas = sig_n + sigma(deps)\n",
    "    s = ufl.dev(sig_elas)\n",
    "    sig_eq = ufl.sqrt(3/2.*ufl.inner(s, s))\n",
    "    f_elas = sig_eq - sig0 - H*old_p\n",
    "    deps_p = ufl.conditional(f_elas > 0, 3./2. * f_elas/(3*mu+H) * s/sig_eq, 0 * ufl.Identity(3)) # sig_eq is equal to 0 on the first iteration\n",
    "    # dp = ppos(f_elas)/(3*mu+H) # this approach doesn't work with ufl.derivate\n",
    "    return deps_p"
   ]
  },
  {
   "cell_type": "code",
   "execution_count": 10,
   "metadata": {},
   "outputs": [],
   "source": [
    "def deps_p_vonMises(deps, old_sig, old_p):\n",
    "    sig_n = as_3D_tensor(old_sig)\n",
    "    sig_elas = sig_n + sigma(deps)\n",
    "    s = ufl.dev(sig_elas)\n",
    "    sig_eq = ufl.sqrt(3/2.*ufl.inner(s, s))\n",
    "    f_elas = sig_eq - sig0 - H*old_p\n",
    "    deps_p = ufl.conditional(f_elas > 0, 3./2. * f_elas/(3*mu+H) * s/sig_eq , 0*ufl.Identity(3))  # sig_eq is equal to 0 on the first iteration\n",
    "    # dp = ppos(f_elas)/(3*mu+H) # this approach doesn't work with ufl.derivate\n",
    "    return deps_p"
   ]
  },
  {
   "cell_type": "code",
   "execution_count": 11,
   "metadata": {},
   "outputs": [],
   "source": [
    "k = lmbda + 2*mu/3 # Bulk modulus \n",
    "alpha = 0\n",
    "M = (3*mu + 9*alpha*alpha*k) + H\n",
    "\n",
    "def deps_p(deps, old_sig, old_p):\n",
    "    sig_n = as_3D_tensor(old_sig)\n",
    "    sig_elas = sig_n + sigma(deps)\n",
    "    s = ufl.dev(sig_elas)\n",
    "    sig_eq = ufl.sqrt(3/2.*ufl.inner(s, s))\n",
    "    tr_sig = ufl.tr(sig_elas)\n",
    "    f_elas = sig_eq + alpha*tr_sig - sig0 - H*old_p\n",
    "    deps_p = ufl.conditional(f_elas > 0, f_elas/M  * (3./2. * s/sig_eq + alpha * ufl.Identity(3)), 0 * ufl.Identity(3))\n",
    "    return deps_p"
   ]
  },
  {
   "cell_type": "code",
   "execution_count": 12,
   "metadata": {},
   "outputs": [],
   "source": [
    "vonMises = crm.vonMises(sig0, H)\n",
    "alpha = 0\n",
    "DruckerPrager = crm.DruckerPrager(sig0, alpha, H)\n",
    "material = crm.Material(crm.IsotropicElasticity(E, nu), vonMises)\n",
    "material = crm.Material(crm.IsotropicElasticity(E, nu), DruckerPrager)\n",
    "\n",
    "n_quadrature_points = len(p.x.array)\n",
    "\n",
    "N = patch_size = 3 # or batch, or group ?\n",
    "N_patches = int(n_quadrature_points / patch_size)\n",
    "residue_size = n_quadrature_points % patch_size\n",
    "\n",
    "return_mapping = crm.ReturnMapping(material, patch_size, 'SCS')\n",
    "\n",
    "p_values = p.x.array[:n_quadrature_points - residue_size].reshape((-1, patch_size))\n",
    "p_old_values = p_old.x.array[:n_quadrature_points - residue_size].reshape((-1, patch_size))\n",
    "deps_values = deps.x.array[:4*(n_quadrature_points - residue_size)].reshape((-1, patch_size, 4))\n",
    "sig_values = sig.x.array[:4*(n_quadrature_points - residue_size)].reshape((-1, patch_size, 4))\n",
    "sig_old_values = sig_old.x.array[:4*(n_quadrature_points - residue_size)].reshape((-1, patch_size, 4))\n",
    "\n",
    "if residue_size != 0:\n",
    "    return_mapping_residue = crm.ReturnMapping(material, residue_size, 'SCS')\n",
    "    \n",
    "    p_values_residue = p.x.array[n_quadrature_points - residue_size:].reshape((1, residue_size))\n",
    "    p_old_values_residue = p_old.x.array[n_quadrature_points - residue_size:].reshape((1, residue_size))\n",
    "    deps_values_residue = deps.x.array[4*(n_quadrature_points - residue_size):].reshape((1, residue_size, 4))\n",
    "    sig_values_residue = sig.x.array[4*(n_quadrature_points - residue_size):].reshape((1, residue_size, 4))\n",
    "    sig_old_values_residue = sig_old.x.array[4*(n_quadrature_points - residue_size):].reshape((1, residue_size, 4))"
   ]
  },
  {
   "cell_type": "code",
   "execution_count": 13,
   "metadata": {},
   "outputs": [],
   "source": [
    "tol = 1.0e-13\n",
    "scs_params = {'eps': tol, 'eps_abs': tol, 'eps_rel': tol}\n",
    "ecos_params = {'max_iters': 2500, 'abstol': 1e-12, 'reltol': 1e-12}\n",
    "conic_solver_params = scs_params"
   ]
  },
  {
   "cell_type": "code",
   "execution_count": 14,
   "metadata": {},
   "outputs": [],
   "source": [
    "# tols dont work: 1-e14, 1e-15\n",
    "# tols work slowly: 1e-11, 1-e13\n",
    "# tols work fast: 1e-12\n",
    "# SCS QN=1e-7 tols=1e-13 : 37 s\n",
    "# SCS QN=1e-7 tols=1e-12 : 36 s\n",
    "# SCS QN=1e-8 tols=1e-13 : 53 s\n",
    "# SCS QN=1e-8 tols=1e-12 : 50 s"
   ]
  },
  {
   "cell_type": "code",
   "execution_count": 15,
   "metadata": {},
   "outputs": [],
   "source": [
    "petsc_options_SNES = {\n",
    "    \"snes_type\": \"vinewtonrsls\",\n",
    "    \"snes_linesearch_type\": \"basic\",\n",
    "    \"ksp_type\": \"preonly\",\n",
    "    \"pc_type\": \"lu\",\n",
    "    \"pc_factor_mat_solver_type\": \"mumps\",\n",
    "    \"snes_atol\": 1.0e-08,\n",
    "    \"snes_rtol\": 1.0e-08,\n",
    "    \"snes_stol\": 0.0,\n",
    "    \"snes_max_it\": 500,\n",
    "    \"snes_monitor\": \"\",\n",
    "}\n",
    "\n",
    "petsc_options_SNESQN = {\n",
    "    \"snes_type\": \"qn\",\n",
    "    \"snes_qn_type\": \"lbfgs\", #lbfgs broyden, badbroyden\n",
    "    \"snes_qn_m\": 100,\n",
    "    \"snes_qn_scale_type\": \"jacobian\", #<diagonal,none,scalar,jacobian> \t\n",
    "    \"snes_qn_restart_type\": \"none\", #<powell,periodic,none> \n",
    "    \"pc_type\": \"cholesky\", # cholesky >> hypre > gamg,sor ; asm, lu, gas - don't work\n",
    "    \"snes_linesearch_type\": \"basic\",\n",
    "    \"ksp_type\": \"preonly\",\n",
    "    \"pc_factor_mat_solver_type\": \"mumps\",\n",
    "    \"snes_atol\": 1.0e-08,\n",
    "    \"snes_rtol\": 1.0e-08,\n",
    "    \"snes_stol\": 0.0,\n",
    "    \"snes_max_it\": 500,\n",
    "    \"snes_monitor\": \"\",\n",
    "    # \"snes_monitor_cancel\": \"\",\n",
    "}\n",
    "\n",
    "def inside_Newton():\n",
    "    fs.interpolate_quadrature(eps_vec(Du), deps) # eps_xy * sqrt(2.)!\n",
    "\n",
    "    for q in range(N_patches):\n",
    "        return_mapping.deps.value[:] = deps_values[q,:].T\n",
    "        return_mapping.sig_old.value[:] = sig_old_values[q,:].T\n",
    "        return_mapping.p_old.value = p_old_values[q,:]\n",
    "        \n",
    "        return_mapping.solve(verbose=False, **conic_solver_params)\n",
    "        sig_values[q,:] = return_mapping.sig.value[:].T\n",
    "        p_values[q,:] = return_mapping.p.value\n",
    "\n",
    "    if residue_size != 0: #how to improve ?\n",
    "        return_mapping_residue.deps.value[:] = deps_values_residue[0,:].T\n",
    "        return_mapping_residue.sig_old.value[:] = sig_old_values_residue[0,:].T\n",
    "        return_mapping_residue.p_old.value = p_old_values_residue[0,:]\n",
    "        \n",
    "        return_mapping_residue.solve(verbose=False, **conic_solver_params)\n",
    "\n",
    "        sig_values_residue[0,:] = return_mapping_residue.sig.value[:].T\n",
    "        p_values_residue[0,:] = return_mapping_residue.p.value\n",
    "\n",
    "residual = ufl.inner(as_3D_tensor(sig_old) + sigma(eps(Du) - deps_p(eps(Du), sig_old, p_old)), eps(u_))*dx - F_ext(u_)\n",
    "J = ufl.derivative(ufl.inner(sigma(eps(Du) ), eps(u_))*dx, Du, v_) #TODO: check J-formula!\n",
    "# J = ufl.derivative(ufl.inner(sigma(eps(Du) - deps_p(eps(Du), sig_old, p_old)), eps(u_))*dx, Du, v_)\n",
    "snes_problem = pf.SNESProblem(residual, Du, J, bcs, petsc_options=petsc_options_SNESQN, inside_Newton=inside_Newton)"
   ]
  },
  {
   "cell_type": "code",
   "execution_count": 16,
   "metadata": {},
   "outputs": [],
   "source": [
    "# Defining a cell containing (Ri, 0) point, where we calculate a value of u\n",
    "x_point = np.array([[Ri, 0, 0]])\n",
    "cells, points_on_proc = fs.find_cell_by_point(mesh, x_point)"
   ]
  },
  {
   "cell_type": "code",
   "execution_count": 17,
   "metadata": {},
   "outputs": [
    {
     "ename": "",
     "evalue": "",
     "output_type": "error",
     "traceback": [
      "\u001b[1;31mCanceled future for execute_request message before replies were done"
     ]
    },
    {
     "ename": "",
     "evalue": "",
     "output_type": "error",
     "traceback": [
      "\u001b[1;31mThe Kernel crashed while executing code in the the current cell or a previous cell. Please review the code in the cell(s) to identify a possible cause of the failure. Click <a href='https://aka.ms/vscodeJupyterKernelCrash'>here</a> for more info. View Jupyter <a href='command:jupyter.viewOutput'>log</a> for further details."
     ]
    }
   ],
   "source": [
    "Nincr = 20\n",
    "load_steps = np.linspace(0, 1.1, Nincr+1)[1:]**0.5\n",
    "results = np.zeros((Nincr+1, 2))\n",
    "\n",
    "sig.vector.set(0.0)\n",
    "sig_old.vector.set(0.0)\n",
    "p.vector.set(0.0)\n",
    "p_old.vector.set(0.0)\n",
    "u.vector.set(0.0)\n",
    "\n",
    "with common.Timer() as timer: \n",
    "    for (i, t) in enumerate(load_steps):\n",
    "        loading.value = t * q_lim\n",
    "\n",
    "        Du.x.array[:] = 0\n",
    "        \n",
    "        if MPI.COMM_WORLD.rank == 0:\n",
    "            print(f\"\\n Increment: {str(i+1)}, load = {t * q_lim}\")\n",
    "\n",
    "        nits = snes_problem.solve()\n",
    "        # print(f'nits = {nits}')\n",
    "\n",
    "        u.vector.axpy(1, Du.vector) # u = u + 1*Du\n",
    "        u.x.scatter_forward()\n",
    "\n",
    "        # print('sig', np.min(sig.x.array), np.max(sig.x.array), np.mean(sig.x.array))\n",
    "\n",
    "        p_old.x.array[:] = p.x.array        \n",
    "        sig_old.x.array[:] = sig.x.array\n",
    "\n",
    "        if len(points_on_proc) > 0:\n",
    "            results[i+1, :] = (u.eval(points_on_proc, cells)[0], t)\n",
    "    \n",
    "    print(f'\\nrank#{MPI.COMM_WORLD.rank}: Time = {timer.elapsed()[0]:.3f} (s)')"
   ]
  },
  {
   "cell_type": "code",
   "execution_count": null,
   "metadata": {},
   "outputs": [
    {
     "data": {
      "image/png": "[encoded data removed]",
      "text/plain": [
       "<Figure size 432x288 with 1 Axes>"
      ]
     },
     "metadata": {
      "needs_background": "light"
     },
     "output_type": "display_data"
    }
   ],
   "source": [
    "if len(points_on_proc) > 0:\n",
    "    import matplotlib.pyplot as plt\n",
    "    plt.plot(results[:, 0], results[:, 1], \"-o\")\n",
    "    plt.xlabel(\"Displacement of inner boundary\")\n",
    "    plt.ylabel(r\"Applied pressure $q/q_{lim}$\")\n",
    "    plt.savefig(f\"displacement_rank{MPI.COMM_WORLD.rank:d}.png\")\n",
    "    plt.show()"
   ]
  },
  {
   "cell_type": "code",
   "execution_count": null,
   "metadata": {},
   "outputs": [],
   "source": []
  }
 ],
 "metadata": {
  "interpreter": {
   "hash": "31f2aee4e71d21fbe5cf8b01ff0e069b9275f58929596ceb00d14d90e3e16cd6"
  },
  "kernelspec": {
   "display_name": "Python 3.8.10 64-bit",
   "language": "python",
   "name": "python3"
  },
  "language_info": {
   "codemirror_mode": {
    "name": "ipython",
    "version": 3
   },
   "file_extension": ".py",
   "mimetype": "text/x-python",
   "name": "python",
   "nbconvert_exporter": "python",
   "pygments_lexer": "ipython3",
   "version": "3.9.7"
  },
  "orig_nbformat": 4
 },
 "nbformat": 4,
 "nbformat_minor": 2
}
