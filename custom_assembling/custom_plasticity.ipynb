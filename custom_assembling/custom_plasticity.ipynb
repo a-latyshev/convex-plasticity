{
 "cells": [
  {
   "cell_type": "markdown",
   "metadata": {},
   "source": [
    "Implementation of 2D elasto-plastic problem using FEniCS-X. The code is based on a [legacy solution](https://comet-fenics.readthedocs.io/en/latest/demo/2D_plasticity/vonMises_plasticity.py.html) for FEniCS 2019."
   ]
  },
  {
   "cell_type": "code",
   "execution_count": 1,
   "metadata": {},
   "outputs": [],
   "source": [
    "import sys\n",
    "sys.path.append(\"../\")\n",
    "from src import custom_assembling as ca\n",
    "from src import fenicsx_support as fs\n",
    "\n",
    "import meshio\n",
    "import ufl\n",
    "from dolfinx import fem, io\n",
    "from mpi4py import MPI\n",
    "from petsc4py import PETSc\n",
    "\n",
    "import numba\n",
    "\n",
    "import time\n",
    "import numpy as np"
   ]
  },
  {
   "cell_type": "code",
   "execution_count": 2,
   "metadata": {},
   "outputs": [],
   "source": [
    "Pa_dim = 70e3\n",
    "E = 70e3 / Pa_dim #[-]\n",
    "nu = 0.3 #[-]\n",
    "sig0 = 250 / Pa_dim #[-]\n",
    "Et = E/100.  # tangent modulus\n",
    "H = E*Et/(E-Et)  # hardening modulus"
   ]
  },
  {
   "cell_type": "code",
   "execution_count": 3,
   "metadata": {},
   "outputs": [],
   "source": [
    "# import logging\n",
    "# from src import convex_return_mapping as crm\n",
    "# \n",
    "# vonMises = crm.vonMises(sig0, H)\n",
    "# material_vM = crm.Material(crm.IsotropicElasticity(E, nu), vonMises)\n",
    "\n",
    "# logger = logging.getLogger('analysis')\n",
    "# logger.setLevel(logging.DEBUG)\n",
    "# logger.setLevel(logging.INFO)\n",
    "# logger.setLevel(pf.LOG_INFO_STAR)\n",
    "# logger.setLevel(logging.WARNING)\n",
    "\n",
    "# plasticity_convex = pf.vonMisesPlasticity(material_vM, logger=logger,  solver='nonlinear', mesh_name=\"thick_cylinder_coarse.msh\")\n",
    "\n",
    "# points_on_proc, results, T, sig, p, u = custom_plasticity.solve()\n",
    "\n",
    "# custom_plasticity = ca.CustomPlasticity(material_vM, logger=logger)"
   ]
  },
  {
   "cell_type": "code",
   "execution_count": 4,
   "metadata": {},
   "outputs": [
    {
     "name": "stdout",
     "output_type": "stream",
     "text": [
      "\n",
      "<meshio mesh object>\n",
      "  Number of points: 50\n",
      "  Number of cells:\n",
      "    line: 2\n",
      "    line: 14\n",
      "    line: 2\n",
      "    line: 11\n",
      "    triangle: 69\n",
      "  Cell sets: gmsh:bounding_entities\n",
      "  Point data: gmsh:dim_tags\n",
      "  Cell data: gmsh:physical, gmsh:geometrical\n"
     ]
    }
   ],
   "source": [
    "if MPI.COMM_WORLD.rank == 0:\n",
    "    #It works with the msh4 only!!\n",
    "    msh = meshio.read(\"mesh/thick_cylinder_1.msh\")\n",
    "\n",
    "    # Create and save one file for the mesh, and one file for the facets \n",
    "    triangle_mesh = fs.create_mesh(msh, \"triangle\", prune_z=True)\n",
    "    line_mesh = fs.create_mesh(msh, \"line\", prune_z=True)\n",
    "    meshio.write(\"thick_cylinder.xdmf\", triangle_mesh)\n",
    "    meshio.write(\"mt.xdmf\", line_mesh)\n",
    "    print(msh)"
   ]
  },
  {
   "cell_type": "code",
   "execution_count": 5,
   "metadata": {},
   "outputs": [],
   "source": [
    "with io.XDMFFile(MPI.COMM_WORLD, \"thick_cylinder.xdmf\", \"r\") as xdmf:\n",
    "    mesh = xdmf.read_mesh(name=\"Grid\")\n",
    "    ct = xdmf.read_meshtags(mesh, name=\"Grid\")\n",
    "\n",
    "mesh.topology.create_connectivity(mesh.topology.dim, mesh.topology.dim - 1)\n",
    "\n",
    "with io.XDMFFile(MPI.COMM_WORLD, \"mt.xdmf\", \"r\") as xdmf:\n",
    "    ft = xdmf.read_meshtags(mesh, name=\"Grid\")"
   ]
  },
  {
   "cell_type": "code",
   "execution_count": 6,
   "metadata": {},
   "outputs": [],
   "source": [
    "# elastic parameters\n",
    "E = 70e3\n",
    "nu = 0.3\n",
    "lambda_ = E*nu/(1+nu)/(1-2*nu)\n",
    "mu_ = E/2./(1+nu)\n",
    "\n",
    "sig0 = 250.  # yield strength\n",
    "Et = E/100.  # tangent modulus\n",
    "H = E*Et/(E-Et)  # hardening modulus\n",
    "\n",
    "Re, Ri = 1.3, 1.   # external/internal radius\n",
    "\n",
    "TPV = np.finfo(PETSc.ScalarType).eps # très petite value \n",
    "\n",
    "q_lim = float(2/np.sqrt(3)*np.log(Re/Ri)*sig0)"
   ]
  },
  {
   "cell_type": "code",
   "execution_count": 7,
   "metadata": {},
   "outputs": [],
   "source": [
    "deg_u = 2\n",
    "deg_stress = 2\n",
    "V = fem.VectorFunctionSpace(mesh, (\"CG\", deg_u))\n",
    "We = ufl.VectorElement(\"Quadrature\", mesh.ufl_cell(), degree=deg_stress, dim=4, quad_scheme='default')\n",
    "W0e = ufl.FiniteElement(\"Quadrature\", mesh.ufl_cell(), degree=deg_stress, quad_scheme='default')\n",
    "W = fem.FunctionSpace(mesh, We)\n",
    "W0 = fem.FunctionSpace(mesh, W0e)"
   ]
  },
  {
   "cell_type": "code",
   "execution_count": 8,
   "metadata": {},
   "outputs": [],
   "source": [
    "sig_old = fem.Function(W, name=\"sig_old\")\n",
    "p = fem.Function(W0, name=\"p\")\n",
    "dp = fem.Function(W0, name=\"dp\")\n",
    "u = fem.Function(V, name=\"Total_displacement\")\n",
    "Du = fem.Function(V, name=\"Current_increment\")\n",
    "\n",
    "v = ufl.TrialFunction(V)\n",
    "u_ = ufl.TestFunction(V)\n",
    "\n",
    "P0 = fem.FunctionSpace(mesh, (\"DG\", 0))\n",
    "p_avg = fem.Function(P0, name=\"Plastic_strain\")"
   ]
  },
  {
   "cell_type": "code",
   "execution_count": 9,
   "metadata": {},
   "outputs": [],
   "source": [
    "I = np.eye(3)\n",
    "J4 = 1./3. * np.tensordot(I, I, axes=0)\n",
    "I4 = np.einsum('ij,kl->ikjl', I, I)\n",
    "K4 = DEV = I4 - J4\n",
    "C_elas = (3*lambda_ + 2*mu_)*J4 + 2*mu_*K4\n",
    "C_elas_const = fem.Constant(mesh, C_elas.astype(np.dtype(PETSc.ScalarType)))\n",
    "\n",
    "QTe = ufl.TensorElement(\"Quadrature\", mesh.ufl_cell(), degree=deg_stress, shape=C_elas.shape, quad_scheme='default') #, symmetry=True?\n",
    "QT = fem.FunctionSpace(mesh, QTe)\n",
    "\n",
    "C_tang = ca.DummyFunction(QT, name='tangent') # 2 * n_gauss_points * 3 * 3 * 3 * 3"
   ]
  },
  {
   "cell_type": "code",
   "execution_count": 10,
   "metadata": {},
   "outputs": [],
   "source": [
    "left_marker = 3\n",
    "down_marker = 1\n",
    "left_facets = ft.indices[ft.values == left_marker]\n",
    "down_facets = ft.indices[ft.values == down_marker]\n",
    "left_dofs = fem.locate_dofs_topological(V.sub(0), mesh.topology.dim-1, left_facets)\n",
    "down_dofs = fem.locate_dofs_topological(V.sub(1), mesh.topology.dim-1, down_facets)\n",
    "\n",
    "bcs = [fem.dirichletbc(PETSc.ScalarType(0), left_dofs, V.sub(0)), fem.dirichletbc(PETSc.ScalarType(0), down_dofs, V.sub(1))]"
   ]
  },
  {
   "cell_type": "code",
   "execution_count": 11,
   "metadata": {},
   "outputs": [],
   "source": [
    "@numba.njit(fastmath=True)\n",
    "def as_3D_array(X):\n",
    "    return np.asarray([[X[0], X[3], 0],\n",
    "                       [X[3], X[1], 0],\n",
    "                       [0, 0, X[2]]])\n",
    "                       \n",
    "@numba.njit(fastmath=True)\n",
    "def ppos(x):\n",
    "    return (x + np.sqrt(x**2))/2.\n",
    "\n",
    "@numba.njit(fastmath=True)\n",
    "def sigma(eps_el):\n",
    "    return lambda_*np.trace(eps_el)*I + 2*mu_*eps_el\n",
    "\n",
    "@numba.njit(fastmath=True)\n",
    "def tensor_product(A, B):\n",
    "    # n_i, n_j = A.shape\n",
    "    # n_k, n_l = B.shape\n",
    "    C = np.zeros((*A.shape, *B.shape), dtype=PETSc.ScalarType)\n",
    "    for i in range(3):\n",
    "        for j in range(3):\n",
    "            for k in range(3):\n",
    "                for l in range(3):\n",
    "                    C[i,j,k,l] = A[i,j] * B[k,l]\n",
    "    return C\n",
    "                    \n",
    "@numba.njit(fastmath=True)\n",
    "def get_C_tang(beta, n_elas):\n",
    "    return C_elas - 3*mu_*(3*mu_/(3*mu_+H)-beta)*tensor_product(n_elas, n_elas) - 2*mu_*beta*DEV \n",
    "\n",
    "@numba.njit(fastmath=True)\n",
    "def inner(A, B):\n",
    "    return np.sum(A * B)"
   ]
  },
  {
   "cell_type": "code",
   "execution_count": 12,
   "metadata": {},
   "outputs": [],
   "source": [
    "n = ufl.FacetNormal(mesh)\n",
    "loading = fem.Constant(mesh, PETSc.ScalarType(0.0))\n",
    "\n",
    "def F_ext(v):\n",
    "    return -loading * ufl.inner(n, v)*ds(4)\n",
    "\n",
    "def eps(v):\n",
    "    e = ufl.sym(ufl.grad(v))\n",
    "    return ufl.as_tensor([[e[0, 0], e[0, 1], 0],\n",
    "                          [e[0, 1], e[1, 1], 0],\n",
    "                          [0, 0, 0]])\n",
    "\n",
    "def as_3D_tensor(X):\n",
    "    return ufl.as_tensor([[X[0], X[3], 0],\n",
    "                          [X[3], X[1], 0],\n",
    "                          [0, 0, X[2]]])\n",
    "\n",
    "def inner_product(C, epsilon):\n",
    "    i, j, k, l = ufl.indices(4)\n",
    "    return ufl.as_tensor( (C[i,j,k,l] * epsilon[k,l]), (i,j) )"
   ]
  },
  {
   "cell_type": "code",
   "execution_count": 13,
   "metadata": {},
   "outputs": [],
   "source": [
    "def get_eval(self: ca.CustomFunction):\n",
    "    tabulated_eps = self.tabulated_input_expression\n",
    "    n_gauss_points = len(self.input_expression.X)\n",
    "    local_shape = self.local_shape\n",
    "    C_tang_shape = self.tangent.shape\n",
    "\n",
    "    @numba.njit(fastmath=True)\n",
    "    def eval(sigma_current_local, sigma_old_local, p_old_local, dp_local, coeffs_values, constants_values, coordinates, local_index, orientation):\n",
    "        deps_local = np.zeros(n_gauss_points*3*3, dtype=PETSc.ScalarType)\n",
    "        \n",
    "        C_tang_local = np.zeros((n_gauss_points, *C_tang_shape), dtype=PETSc.ScalarType)\n",
    "        \n",
    "        sigma_old = sigma_old_local.reshape((n_gauss_points, *local_shape))\n",
    "        sigma_new = sigma_current_local.reshape((n_gauss_points, *local_shape))\n",
    "\n",
    "        tabulated_eps(ca.ffi.from_buffer(deps_local), \n",
    "                      ca.ffi.from_buffer(coeffs_values), \n",
    "                      ca.ffi.from_buffer(constants_values), \n",
    "                      ca.ffi.from_buffer(coordinates), ca.ffi.from_buffer(local_index), ca.ffi.from_buffer(orientation))\n",
    "        \n",
    "        deps_local = deps_local.reshape((n_gauss_points, 3, 3))\n",
    "\n",
    "        n_elas = np.zeros((3, 3), dtype=PETSc.ScalarType) \n",
    "        beta = np.zeros(1, dtype=PETSc.ScalarType) \n",
    "        dp = np.zeros(1, dtype=PETSc.ScalarType) \n",
    "\n",
    "        for q in range(n_gauss_points):\n",
    "            sig_n = as_3D_array(sigma_old[q])\n",
    "            sig_elas = sig_n + sigma(deps_local[q])\n",
    "            s = sig_elas - np.trace(sig_elas)*I/3.\n",
    "            sig_eq = np.sqrt(3./2. * inner(s, s))\n",
    "            f_elas = sig_eq - sig0 - H*p_old_local[q]\n",
    "            f_elas_plus = ppos(f_elas)\n",
    "            dp[:] = f_elas_plus/(3*mu_+H)\n",
    "            \n",
    "            sig_eq += TPV # for the case when sig_eq is equal to 0.0\n",
    "            n_elas[:,:] = s/sig_eq*f_elas_plus/f_elas\n",
    "            beta[:] = 3*mu_*dp/sig_eq\n",
    "      \n",
    "            new_sig = sig_elas - beta*s\n",
    "            sigma_new[q][:] = np.asarray([new_sig[0, 0], new_sig[1, 1], new_sig[2, 2], new_sig[0, 1]])\n",
    "            dp_local[q] = dp[0]\n",
    "            \n",
    "            C_tang_local[q][:] = get_C_tang(beta, n_elas)\n",
    "        \n",
    "        return [C_tang_local.flatten()] \n",
    "    return eval"
   ]
  },
  {
   "cell_type": "code",
   "execution_count": 14,
   "metadata": {},
   "outputs": [],
   "source": [
    "@numba.njit(fastmath=True)\n",
    "def local_assembling_b(cell, geometry, entity_local_index, perm, u_local,\n",
    "                coeffs_global_values_A, coeffs_eval_list_A, coeffs_constants_values_A, coeffs_dummies_values_A, coeffs_subcoeffs_values_A, \n",
    "                coeffs_global_values_b, coeffs_eval_list_b, coeffs_constants_values_b, coeffs_dummies_values_b, coeffs_subcoeffs_values_b):\n",
    "    sigma_local = coeffs_global_values_b[0][cell]\n",
    "    p_local = coeffs_subcoeffs_values_b[0][cell]\n",
    "    dp_local = coeffs_subcoeffs_values_b[1][cell]\n",
    "    sigma_old_local = coeffs_subcoeffs_values_b[2][cell]\n",
    "\n",
    "    output_values = coeffs_eval_list_b[0](sigma_local, \n",
    "                                     sigma_old_local,\n",
    "                                     p_local,\n",
    "                                     dp_local,\n",
    "                                     u_local, \n",
    "                                     coeffs_constants_values_b[0], \n",
    "                                     geometry, entity_local_index, perm)\n",
    "\n",
    "    coeffs_b = sigma_local\n",
    "\n",
    "    for i in range(len(coeffs_dummies_values_b)):\n",
    "        coeffs_dummies_values_b[i][:] = output_values[i] #C_tang update\n",
    "\n",
    "    return coeffs_b\n",
    "\n",
    "@numba.njit(fastmath=True)\n",
    "def local_assembling_A(cell, geometry, entity_local_index, perm, u_local,\n",
    "                coeffs_global_values_A, coeffs_eval_list_A, coeffs_constants_values_A, coeffs_dummies_values_A, coeffs_subcoeffs_values_A, \n",
    "                coeffs_global_values_b, coeffs_eval_list_b, coeffs_constants_values_b, coeffs_dummies_values_b, coeffs_subcoeffs_values_b):\n",
    "    coeffs_A = coeffs_dummies_values_b[0]\n",
    "    return coeffs_A"
   ]
  },
  {
   "cell_type": "code",
   "execution_count": 15,
   "metadata": {},
   "outputs": [],
   "source": [
    "sig = ca.CustomFunction(W, eps(Du), [C_tang, p, dp, sig_old], get_eval)"
   ]
  },
  {
   "cell_type": "code",
   "execution_count": 16,
   "metadata": {},
   "outputs": [],
   "source": [
    "ds = ufl.Measure(\"ds\", domain=mesh, subdomain_data=ft)\n",
    "dx = ufl.Measure(\n",
    "    \"dx\",\n",
    "    domain=mesh,\n",
    "    metadata={\"quadrature_degree\": deg_stress, \"quadrature_scheme\": \"default\"},\n",
    ")\n",
    "\n",
    "a_Newton = ufl.inner(eps(v), inner_product(sig.tangent, eps(u_)))*dx\n",
    "res = -ufl.inner(eps(u_), as_3D_tensor(sig))*dx \n",
    "res_Neumann = F_ext(u_)"
   ]
  },
  {
   "cell_type": "code",
   "execution_count": 17,
   "metadata": {},
   "outputs": [],
   "source": [
    "my_solver = ca.CustomProblem(a_Newton, res, Du, local_assembling_A, local_assembling_b, bcs, res_Neumann)"
   ]
  },
  {
   "cell_type": "code",
   "execution_count": 18,
   "metadata": {},
   "outputs": [],
   "source": [
    "# Defining a cell containing (Ri, 0) point, where we calculate a value of u\n",
    "x_point = np.array([[Ri, 0, 0]])\n",
    "cells, points_on_proc = fs.find_cell_by_point(mesh, x_point)"
   ]
  },
  {
   "cell_type": "code",
   "execution_count": 19,
   "metadata": {},
   "outputs": [
    {
     "name": "stdout",
     "output_type": "stream",
     "text": [
      "rank#0: Time = 9.597 (s)\n"
     ]
    }
   ],
   "source": [
    "Nitermax, tol = 200, 1e-8  # parameters of the Newton-Raphson procedure\n",
    "Nincr = 20\n",
    "load_steps = np.linspace(0, 1.1, Nincr+1)[1:]**0.5\n",
    "\n",
    "results = np.zeros((Nincr+1, 2))\n",
    "# xdmf = io.XDMFFile(MPI.COMM_WORLD, \"plasticity.xdmf\", \"w\", encoding=io.XDMFFile.Encoding.HDF5)\n",
    "# xdmf.write_mesh(mesh)\n",
    "\n",
    "form_res_Neumann = fem.form(res_Neumann)\n",
    "Res_Neumann = fem.petsc.create_vector(form_res_Neumann)\n",
    "sig.vector.set(0.0)\n",
    "sig_old.vector.set(0.0)\n",
    "p.vector.set(0.0)\n",
    "dp.vector.set(0.0)\n",
    "u.vector.set(0.0)\n",
    "Du.vector.set(0.0)\n",
    "\n",
    "my_solver.assemble_matrix()\n",
    "\n",
    "start = time.time()\n",
    "\n",
    "for (i, t) in enumerate(load_steps):\n",
    "    loading.value = t * q_lim\n",
    "    Du.x.array[:] = 0\n",
    "\n",
    "    # if MPI.COMM_WORLD.rank == 0:\n",
    "    #     print(f\"\\nnRes0 , {my_solver.b.norm()} \\n Increment: {str(i+1)}, load = {loading.value}\")\n",
    "    niters = my_solver.solve()\n",
    "        \n",
    "    u.vector.axpy(1, Du.vector) # u = u + 1*Du\n",
    "    u.x.scatter_forward()\n",
    "\n",
    "    sig_old.x.array[:] = sig.x.array\n",
    "    p.vector.axpy(1, dp.vector)\n",
    "    p.x.scatter_forward()\n",
    "\n",
    "    # project(p, p_avg)\n",
    "    # p_avg.x.scatter_forward()\n",
    "    \n",
    "    # xdmf.write_function(u, t)\n",
    "    # xdmf.write_function(p_avg, t)\n",
    "\n",
    "    if len(points_on_proc) > 0:\n",
    "        results[i+1, :] = (u.eval(points_on_proc, cells)[0], t)\n",
    "\n",
    "# xdmf.close()\n",
    "end = time.time()\n",
    "print(f'rank#{MPI.COMM_WORLD.rank}: Time = {end-start:.3f} (s)')"
   ]
  },
  {
   "cell_type": "code",
   "execution_count": 20,
   "metadata": {},
   "outputs": [],
   "source": [
    "# # MESH DATA\n",
    "# # 1: 50, 69, 207\n",
    "# # 2: 811, 1478, 4434\n",
    "# # 3: 3706, 7095, 21285\n",
    "# # 4: 11567, 22569, 67707\n",
    "# # 5: 31666, 62392, 187176\n",
    "# time_with_comp = np.array([8.797, 10.552, 25.847, 92.632, 371.146])\n",
    "# time_pure = np.array([0.196, 2.609, 15.866, 83.475, 346.288])\n",
    "# time_classic = np.array([2.374, 3.725, 15.419, 66.190, 306.516])\n",
    "# time_with_comp - time_pure"
   ]
  },
  {
   "cell_type": "code",
   "execution_count": 21,
   "metadata": {},
   "outputs": [],
   "source": [
    "# import matplotlib.pyplot as plt"
   ]
  },
  {
   "cell_type": "code",
   "execution_count": 22,
   "metadata": {},
   "outputs": [],
   "source": [
    "# tests = range(5)\n",
    "# plt.plot(tests, time_with_comp, \"-o\", label='custom assembling')\n",
    "# plt.plot(tests, time_with_comp-time_pure, \"-o\", label='JIT overhead')\n",
    "# plt.plot(tests, time_pure, \"-o\", label='custom assembling - JIT overhead')\n",
    "# plt.plot(tests, time_classic, \"-o\", label='classical approach')\n",
    "# plt.legend()\n",
    "# plt.xlabel(\"Mesh/Test number\")\n",
    "# plt.ylabel(\"Time (s)\")\n",
    "# plt.xticks(tests)\n",
    "# plt.savefig('custom_assembling_test.png', dpi=300)"
   ]
  },
  {
   "cell_type": "code",
   "execution_count": 23,
   "metadata": {},
   "outputs": [],
   "source": [
    "# fig, ax = plt.subplots(3, 2, figsize=(15,15))\n",
    "\n",
    "# tests = range(5)\n",
    "\n",
    "# ax[0][0].set_title('Normal scale: Total time')\n",
    "# ax[0][0].plot(tests, time_with_comp, \"-o\", label='custom assembling')\n",
    "\n",
    "# ax[1][0].set_title('Normal scale: JIT overhead')\n",
    "# ax[1][0].plot(tests, time_with_comp - time_pure, \"-o\")\n",
    "\n",
    "# ax[2][0].set_title('Normal scale: Shifted  = Total time - Compilation time')\n",
    "# ax[2][0].plot(tests, time_pure, \"-o\", label='custom assembling')\n",
    "\n",
    "# # ax[0][1].set_title('Log scale: Total time')\n",
    "# # ax[0][1].loglog(patch_sizes_MOSEK, MOSEK, \"-o\", label='MOSEK')\n",
    "# # ax[0][1].loglog(patch_sizes, ECOS, \"-o\", label='ECOS')\n",
    "# # ax[0][1].loglog(patch_sizes, SCS, \"-o\", label='SCS')\n",
    "\n",
    "# # ax[1][1].set_title('Log scale: Compilation time ')\n",
    "# # ax[1][1].plot(patch_sizes_MOSEK, MOSEK_compile, \"-o\", label='MOSEK')\n",
    "# # ax[1][1].plot(patch_sizes, ECOS_compile, \"-o\", label='ECOS')\n",
    "# # ax[1][1].plot(patch_sizes, SCS_compile, \"-o\", label='SCS')\n",
    "\n",
    "# # ax[2][1].set_title('Log scale: Shifted  = Total time - Compilation time')\n",
    "# # ax[2][1].loglog(patch_sizes_MOSEK, MOSEK - MOSEK_compile, \"-o\", label='MOSEK')\n",
    "# # ax[2][1].loglog(patch_sizes, ECOS - ECOS_compile, \"-o\", label='ECOS')\n",
    "# # ax[2][1].loglog(patch_sizes, SCS - SCS_compile, \"-o\", label='SCS')\n",
    "\n",
    "# for i in range(3):\n",
    "#     for j in range(2):\n",
    "#         ax[i][j].legend()\n",
    "#         ax[i][j].set_xlabel(\"Patch size\")\n",
    "#         ax[i][j].set_ylabel(\"Time (s)\")\n",
    "\n",
    "# plt.savefig(\"img/custom_assembling.png\", dpi=300)\n",
    "# # fig.tight_layout()"
   ]
  },
  {
   "cell_type": "code",
   "execution_count": 24,
   "metadata": {},
   "outputs": [
    {
     "data": {
      "image/png": "[encoded data removed]",
      "text/plain": [
       "<Figure size 432x288 with 1 Axes>"
      ]
     },
     "metadata": {
      "needs_background": "light"
     },
     "output_type": "display_data"
    }
   ],
   "source": [
    "if len(points_on_proc) > 0:\n",
    "    import matplotlib.pyplot as plt\n",
    "    plt.plot(results[:, 0], results[:, 1], \"-o\")\n",
    "    plt.xlabel(\"Displacement of inner boundary\")\n",
    "    plt.ylabel(r\"Applied pressure $q/q_{lim}$\")\n",
    "    plt.savefig(f\"displacement_rank{MPI.COMM_WORLD.rank:d}.png\")\n",
    "    plt.show()"
   ]
  },
  {
   "cell_type": "code",
   "execution_count": 25,
   "metadata": {},
   "outputs": [],
   "source": [
    "#   Summary!!!!!\n",
    "# b3 = Function(V)\n",
    "\n",
    "# b3.x.array[:] = 0.0\n",
    "\n",
    "# is the same as\n",
    "\n",
    "# with b3.vector.localForm() as b_local:\n",
    "#     b_local.set(0.0)\n",
    "\n",
    "# or is the same as\n",
    "\n",
    "# b3.vector.set(5.0)\n",
    "# b3.x.scatter_forward()"
   ]
  },
  {
   "cell_type": "code",
   "execution_count": 26,
   "metadata": {},
   "outputs": [],
   "source": [
    "## JAX library !"
   ]
  }
 ],
 "metadata": {
  "interpreter": {
   "hash": "31f2aee4e71d21fbe5cf8b01ff0e069b9275f58929596ceb00d14d90e3e16cd6"
  },
  "kernelspec": {
   "display_name": "Python 3.8.10 64-bit",
   "language": "python",
   "name": "python3"
  },
  "language_info": {
   "codemirror_mode": {
    "name": "ipython",
    "version": 3
   },
   "file_extension": ".py",
   "mimetype": "text/x-python",
   "name": "python",
   "nbconvert_exporter": "python",
   "pygments_lexer": "ipython3",
   "version": "3.9.7"
  },
  "orig_nbformat": 4
 },
 "nbformat": 4,
 "nbformat_minor": 2
}
