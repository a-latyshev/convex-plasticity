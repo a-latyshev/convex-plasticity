{
 "cells": [
  {
   "cell_type": "markdown",
   "metadata": {},
   "source": [
    "# CVXPY + CVXPYgen + CFFI + Numba"
   ]
  },
  {
   "cell_type": "code",
   "execution_count": 1,
   "metadata": {},
   "outputs": [],
   "source": [
    "import cffi\n",
    "import cvxpy as cp\n",
    "from cvxpygen import cpg\n",
    "import numpy as np\n",
    "import numba\n",
    "\n",
    "from numba.core.typing import cffi_utils"
   ]
  },
  {
   "cell_type": "markdown",
   "metadata": {},
   "source": [
    "# CVXPY"
   ]
  },
  {
   "cell_type": "code",
   "execution_count": 2,
   "metadata": {},
   "outputs": [
    {
     "data": {
      "text/plain": [
       "0.9550720544957328"
      ]
     },
     "execution_count": 2,
     "metadata": {},
     "output_type": "execute_result"
    }
   ],
   "source": [
    "m, n = 3, 2\n",
    "x = cp.Variable(n, name='x')\n",
    "A = cp.Parameter((m, n), name='A', sparsity=[(0, 0), (0, 1), (1, 1)])\n",
    "b = cp.Parameter(m, name='b')\n",
    "problem = cp.Problem(cp.Minimize(cp.sum_squares(A @ x - b)), [x >= 0])\n",
    "\n",
    "np.random.seed(0)\n",
    "A.value = np.zeros((m, n))\n",
    "A.value[0, 0] = np.random.randn()\n",
    "A.value[0, 1] = np.random.randn()\n",
    "A.value[1, 1] = np.random.randn()\n",
    "b.value = np.random.randn(m)\n",
    "\n",
    "problem.solve()"
   ]
  },
  {
   "cell_type": "markdown",
   "metadata": {},
   "source": [
    "# CVXPYgen"
   ]
  },
  {
   "cell_type": "code",
   "execution_count": 3,
   "metadata": {},
   "outputs": [],
   "source": [
    "code_dir = 'code_dir'"
   ]
  },
  {
   "cell_type": "code",
   "execution_count": 4,
   "metadata": {},
   "outputs": [
    {
     "name": "stdout",
     "output_type": "stream",
     "text": [
      "Generating code with CVXPYgen ...\n",
      "CVXPYgen finished generating code.\n",
      "Compiling python wrapper with CVXPYgen ... \n",
      "-- The C compiler identification is GNU 11.2.0\n",
      "-- The CXX compiler identification is GNU 11.2.0\n",
      "-- Detecting C compiler ABI info\n",
      "-- Detecting C compiler ABI info - done\n",
      "-- Check for working C compiler: /usr/bin/cc - skipped\n",
      "-- Detecting C compile features\n",
      "-- Detecting C compile features - done\n",
      "-- Detecting CXX compiler ABI info\n",
      "-- Detecting CXX compiler ABI info - done\n",
      "-- Check for working CXX compiler: /usr/bin/c++ - skipped\n",
      "-- Detecting CXX compile features\n",
      "-- Detecting CXX compile features - done\n",
      "-- Setting build type to 'Release' as none was specified.\n",
      "-- Single precision floats (32bit) are OFF\n",
      "-- Long integers (64bit) are OFF\n",
      "-- COMPILER_OPTS = -DUSE_LAPACK -DCTRLC\n",
      "-- Configuring done\n",
      "-- Generating done\n",
      "-- Build files have been written to: /mnt/work_folder/convex-plasticity/demo/cvxpygen/code_dir/c/build\n",
      "Scanning dependencies of target cpg\n",
      "[  0%] Building C object CMakeFiles/cpg.dir/src/cpg_workspace.c.o\n",
      "[  3%] Building C object CMakeFiles/cpg.dir/src/cpg_solve.c.o\n",
      "[  6%] Building C object CMakeFiles/cpg.dir/solver_code/src/aa.c.o\n",
      "[ 10%] Building C object CMakeFiles/cpg.dir/solver_code/src/cones.c.o\n",
      "[ 13%] Building C object CMakeFiles/cpg.dir/solver_code/src/ctrlc.c.o\n",
      "[ 17%] Building C object CMakeFiles/cpg.dir/solver_code/src/linalg.c.o\n",
      "[ 20%] Building C object CMakeFiles/cpg.dir/solver_code/src/normalize.c.o\n",
      "[ 24%] Building C object CMakeFiles/cpg.dir/solver_code/src/rw.c.o\n",
      "[ 27%] Building C object CMakeFiles/cpg.dir/solver_code/src/scs.c.o\n"
     ]
    },
    {
     "name": "stderr",
     "output_type": "stream",
     "text": [
      "/mnt/work_folder/convex-plasticity/demo/cvxpygen/code_dir/c/solver_code/src/rw.c: In function ‘_scs_read_data’:\n",
      "/mnt/work_folder/convex-plasticity/demo/cvxpygen/code_dir/c/solver_code/src/rw.c:184:3: warning: ignoring return value of ‘fread’ declared with attribute ‘warn_unused_result’ [-Wunused-result]\n",
      "  184 |   fread(&(file_int_sz), sizeof(uint32_t), 1, fin);\n",
      "      |   ^~~~~~~~~~~~~~~~~~~~~~~~~~~~~~~~~~~~~~~~~~~~~~~\n",
      "/mnt/work_folder/convex-plasticity/demo/cvxpygen/code_dir/c/solver_code/src/rw.c:185:3: warning: ignoring return value of ‘fread’ declared with attribute ‘warn_unused_result’ [-Wunused-result]\n",
      "  185 |   fread(&(file_float_sz), sizeof(uint32_t), 1, fin);\n",
      "      |   ^~~~~~~~~~~~~~~~~~~~~~~~~~~~~~~~~~~~~~~~~~~~~~~~~\n",
      "/mnt/work_folder/convex-plasticity/demo/cvxpygen/code_dir/c/solver_code/src/rw.c:202:3: warning: ignoring return value of ‘fread’ declared with attribute ‘warn_unused_result’ [-Wunused-result]\n",
      "  202 |   fread(&(file_version_sz), sizeof(uint32_t), 1, fin);\n",
      "      |   ^~~~~~~~~~~~~~~~~~~~~~~~~~~~~~~~~~~~~~~~~~~~~~~~~~~\n",
      "/mnt/work_folder/convex-plasticity/demo/cvxpygen/code_dir/c/solver_code/src/rw.c:203:3: warning: ignoring return value of ‘fread’ declared with attribute ‘warn_unused_result’ [-Wunused-result]\n",
      "  203 |   fread(file_version, 1, file_version_sz, fin);\n",
      "      |   ^~~~~~~~~~~~~~~~~~~~~~~~~~~~~~~~~~~~~~~~~~~~\n",
      "/mnt/work_folder/convex-plasticity/demo/cvxpygen/code_dir/c/solver_code/src/rw.c: In function ‘read_scs_cone’:\n",
      "/mnt/work_folder/convex-plasticity/demo/cvxpygen/code_dir/c/solver_code/src/rw.c:33:3: warning: ignoring return value of ‘fread’ declared with attribute ‘warn_unused_result’ [-Wunused-result]\n",
      "   33 |   fread(&(k->z), sizeof(scs_int), 1, fin);\n",
      "      |   ^~~~~~~~~~~~~~~~~~~~~~~~~~~~~~~~~~~~~~~\n",
      "/mnt/work_folder/convex-plasticity/demo/cvxpygen/code_dir/c/solver_code/src/rw.c:34:3: warning: ignoring return value of ‘fread’ declared with attribute ‘warn_unused_result’ [-Wunused-result]\n",
      "   34 |   fread(&(k->l), sizeof(scs_int), 1, fin);\n",
      "      |   ^~~~~~~~~~~~~~~~~~~~~~~~~~~~~~~~~~~~~~~\n",
      "/mnt/work_folder/convex-plasticity/demo/cvxpygen/code_dir/c/solver_code/src/rw.c:35:3: warning: ignoring return value of ‘fread’ declared with attribute ‘warn_unused_result’ [-Wunused-result]\n",
      "   35 |   fread(&(k->bsize), sizeof(scs_int), 1, fin);\n",
      "      |   ^~~~~~~~~~~~~~~~~~~~~~~~~~~~~~~~~~~~~~~~~~~\n",
      "/mnt/work_folder/convex-plasticity/demo/cvxpygen/code_dir/c/solver_code/src/rw.c:39:5: warning: ignoring return value of ‘fread’ declared with attribute ‘warn_unused_result’ [-Wunused-result]\n",
      "   39 |     fread(k->bl, sizeof(scs_float), MAX(k->bsize - 1, 0), fin);\n",
      "      |     ^~~~~~~~~~~~~~~~~~~~~~~~~~~~~~~~~~~~~~~~~~~~~~~~~~~~~~~~~~\n",
      "/mnt/work_folder/convex-plasticity/demo/cvxpygen/code_dir/c/solver_code/src/rw.c:40:5: warning: ignoring return value of ‘fread’ declared with attribute ‘warn_unused_result’ [-Wunused-result]\n",
      "   40 |     fread(k->bu, sizeof(scs_float), MAX(k->bsize - 1, 0), fin);\n",
      "      |     ^~~~~~~~~~~~~~~~~~~~~~~~~~~~~~~~~~~~~~~~~~~~~~~~~~~~~~~~~~\n",
      "/mnt/work_folder/convex-plasticity/demo/cvxpygen/code_dir/c/solver_code/src/rw.c:42:3: warning: ignoring return value of ‘fread’ declared with attribute ‘warn_unused_result’ [-Wunused-result]\n",
      "   42 |   fread(&(k->qsize), sizeof(scs_int), 1, fin);\n",
      "      |   ^~~~~~~~~~~~~~~~~~~~~~~~~~~~~~~~~~~~~~~~~~~\n",
      "/mnt/work_folder/convex-plasticity/demo/cvxpygen/code_dir/c/solver_code/src/rw.c:45:5: warning: ignoring return value of ‘fread’ declared with attribute ‘warn_unused_result’ [-Wunused-result]\n",
      "   45 |     fread(k->q, sizeof(scs_int), k->qsize, fin);\n",
      "      |     ^~~~~~~~~~~~~~~~~~~~~~~~~~~~~~~~~~~~~~~~~~~\n",
      "/mnt/work_folder/convex-plasticity/demo/cvxpygen/code_dir/c/solver_code/src/rw.c:47:3: warning: ignoring return value of ‘fread’ declared with attribute ‘warn_unused_result’ [-Wunused-result]\n",
      "   47 |   fread(&(k->ssize), sizeof(scs_int), 1, fin);\n",
      "      |   ^~~~~~~~~~~~~~~~~~~~~~~~~~~~~~~~~~~~~~~~~~~\n",
      "/mnt/work_folder/convex-plasticity/demo/cvxpygen/code_dir/c/solver_code/src/rw.c:50:5: warning: ignoring return value of ‘fread’ declared with attribute ‘warn_unused_result’ [-Wunused-result]\n",
      "   50 |     fread(k->s, sizeof(scs_int), k->ssize, fin);\n",
      "      |     ^~~~~~~~~~~~~~~~~~~~~~~~~~~~~~~~~~~~~~~~~~~\n",
      "/mnt/work_folder/convex-plasticity/demo/cvxpygen/code_dir/c/solver_code/src/rw.c:52:3: warning: ignoring return value of ‘fread’ declared with attribute ‘warn_unused_result’ [-Wunused-result]\n",
      "   52 |   fread(&(k->ep), sizeof(scs_int), 1, fin);\n",
      "      |   ^~~~~~~~~~~~~~~~~~~~~~~~~~~~~~~~~~~~~~~~\n",
      "/mnt/work_folder/convex-plasticity/demo/cvxpygen/code_dir/c/solver_code/src/rw.c:53:3: warning: ignoring return value of ‘fread’ declared with attribute ‘warn_unused_result’ [-Wunused-result]\n",
      "   53 |   fread(&(k->ed), sizeof(scs_int), 1, fin);\n",
      "      |   ^~~~~~~~~~~~~~~~~~~~~~~~~~~~~~~~~~~~~~~~\n",
      "/mnt/work_folder/convex-plasticity/demo/cvxpygen/code_dir/c/solver_code/src/rw.c:54:3: warning: ignoring return value of ‘fread’ declared with attribute ‘warn_unused_result’ [-Wunused-result]\n",
      "   54 |   fread(&(k->psize), sizeof(scs_int), 1, fin);\n",
      "      |   ^~~~~~~~~~~~~~~~~~~~~~~~~~~~~~~~~~~~~~~~~~~\n",
      "/mnt/work_folder/convex-plasticity/demo/cvxpygen/code_dir/c/solver_code/src/rw.c:57:5: warning: ignoring return value of ‘fread’ declared with attribute ‘warn_unused_result’ [-Wunused-result]\n",
      "   57 |     fread(k->p, sizeof(scs_float), k->psize, fin);\n",
      "      |     ^~~~~~~~~~~~~~~~~~~~~~~~~~~~~~~~~~~~~~~~~~~~~\n",
      "/mnt/work_folder/convex-plasticity/demo/cvxpygen/code_dir/c/solver_code/src/rw.c: In function ‘read_scs_data’:\n",
      "/mnt/work_folder/convex-plasticity/demo/cvxpygen/code_dir/c/solver_code/src/rw.c:141:3: warning: ignoring return value of ‘fread’ declared with attribute ‘warn_unused_result’ [-Wunused-result]\n",
      "  141 |   fread(&(d->m), sizeof(scs_int), 1, fin);\n",
      "      |   ^~~~~~~~~~~~~~~~~~~~~~~~~~~~~~~~~~~~~~~\n",
      "/mnt/work_folder/convex-plasticity/demo/cvxpygen/code_dir/c/solver_code/src/rw.c:142:3: warning: ignoring return value of ‘fread’ declared with attribute ‘warn_unused_result’ [-Wunused-result]\n",
      "  142 |   fread(&(d->n), sizeof(scs_int), 1, fin);\n",
      "      |   ^~~~~~~~~~~~~~~~~~~~~~~~~~~~~~~~~~~~~~~\n",
      "/mnt/work_folder/convex-plasticity/demo/cvxpygen/code_dir/c/solver_code/src/rw.c:145:3: warning: ignoring return value of ‘fread’ declared with attribute ‘warn_unused_result’ [-Wunused-result]\n",
      "  145 |   fread(d->b, sizeof(scs_float), d->m, fin);\n",
      "      |   ^~~~~~~~~~~~~~~~~~~~~~~~~~~~~~~~~~~~~~~~~\n",
      "/mnt/work_folder/convex-plasticity/demo/cvxpygen/code_dir/c/solver_code/src/rw.c:146:3: warning: ignoring return value of ‘fread’ declared with attribute ‘warn_unused_result’ [-Wunused-result]\n",
      "  146 |   fread(d->c, sizeof(scs_float), d->n, fin);\n",
      "      |   ^~~~~~~~~~~~~~~~~~~~~~~~~~~~~~~~~~~~~~~~~\n",
      "/mnt/work_folder/convex-plasticity/demo/cvxpygen/code_dir/c/solver_code/src/rw.c: In function ‘read_amatrix’:\n",
      "/mnt/work_folder/convex-plasticity/demo/cvxpygen/code_dir/c/solver_code/src/rw.c:112:3: warning: ignoring return value of ‘fread’ declared with attribute ‘warn_unused_result’ [-Wunused-result]\n",
      "  112 |   fread(&(A->m), sizeof(scs_int), 1, fin);\n",
      "      |   ^~~~~~~~~~~~~~~~~~~~~~~~~~~~~~~~~~~~~~~\n",
      "/mnt/work_folder/convex-plasticity/demo/cvxpygen/code_dir/c/solver_code/src/rw.c:113:3: warning: ignoring return value of ‘fread’ declared with attribute ‘warn_unused_result’ [-Wunused-result]\n",
      "  113 |   fread(&(A->n), sizeof(scs_int), 1, fin);\n",
      "      |   ^~~~~~~~~~~~~~~~~~~~~~~~~~~~~~~~~~~~~~~\n",
      "/mnt/work_folder/convex-plasticity/demo/cvxpygen/code_dir/c/solver_code/src/rw.c:115:3: warning: ignoring return value of ‘fread’ declared with attribute ‘warn_unused_result’ [-Wunused-result]\n",
      "  115 |   fread(A->p, sizeof(scs_int), A->n + 1, fin);\n",
      "      |   ^~~~~~~~~~~~~~~~~~~~~~~~~~~~~~~~~~~~~~~~~~~\n",
      "/mnt/work_folder/convex-plasticity/demo/cvxpygen/code_dir/c/solver_code/src/rw.c:119:3: warning: ignoring return value of ‘fread’ declared with attribute ‘warn_unused_result’ [-Wunused-result]\n",
      "  119 |   fread(A->x, sizeof(scs_float), Anz, fin);\n",
      "      |   ^~~~~~~~~~~~~~~~~~~~~~~~~~~~~~~~~~~~~~~~\n",
      "/mnt/work_folder/convex-plasticity/demo/cvxpygen/code_dir/c/solver_code/src/rw.c:120:3: warning: ignoring return value of ‘fread’ declared with attribute ‘warn_unused_result’ [-Wunused-result]\n",
      "  120 |   fread(A->i, sizeof(scs_int), Anz, fin);\n",
      "      |   ^~~~~~~~~~~~~~~~~~~~~~~~~~~~~~~~~~~~~~\n",
      "/mnt/work_folder/convex-plasticity/demo/cvxpygen/code_dir/c/solver_code/src/rw.c: In function ‘read_scs_stgs’:\n",
      "/mnt/work_folder/convex-plasticity/demo/cvxpygen/code_dir/c/solver_code/src/rw.c:84:3: warning: ignoring return value of ‘fread’ declared with attribute ‘warn_unused_result’ [-Wunused-result]\n",
      "   84 |   fread(&(s->normalize), sizeof(scs_int), 1, fin);\n",
      "      |   ^~~~~~~~~~~~~~~~~~~~~~~~~~~~~~~~~~~~~~~~~~~~~~~\n",
      "/mnt/work_folder/convex-plasticity/demo/cvxpygen/code_dir/c/solver_code/src/rw.c:85:3: warning: ignoring return value of ‘fread’ declared with attribute ‘warn_unused_result’ [-Wunused-result]\n",
      "   85 |   fread(&(s->scale), sizeof(scs_float), 1, fin);\n",
      "      |   ^~~~~~~~~~~~~~~~~~~~~~~~~~~~~~~~~~~~~~~~~~~~~\n",
      "/mnt/work_folder/convex-plasticity/demo/cvxpygen/code_dir/c/solver_code/src/rw.c:86:3: warning: ignoring return value of ‘fread’ declared with attribute ‘warn_unused_result’ [-Wunused-result]\n",
      "   86 |   fread(&(s->rho_x), sizeof(scs_float), 1, fin);\n",
      "      |   ^~~~~~~~~~~~~~~~~~~~~~~~~~~~~~~~~~~~~~~~~~~~~\n",
      "/mnt/work_folder/convex-plasticity/demo/cvxpygen/code_dir/c/solver_code/src/rw.c:87:3: warning: ignoring return value of ‘fread’ declared with attribute ‘warn_unused_result’ [-Wunused-result]\n",
      "   87 |   fread(&(s->max_iters), sizeof(scs_int), 1, fin);\n",
      "      |   ^~~~~~~~~~~~~~~~~~~~~~~~~~~~~~~~~~~~~~~~~~~~~~~\n",
      "/mnt/work_folder/convex-plasticity/demo/cvxpygen/code_dir/c/solver_code/src/rw.c:88:3: warning: ignoring return value of ‘fread’ declared with attribute ‘warn_unused_result’ [-Wunused-result]\n",
      "   88 |   fread(&(s->eps_abs), sizeof(scs_float), 1, fin);\n",
      "      |   ^~~~~~~~~~~~~~~~~~~~~~~~~~~~~~~~~~~~~~~~~~~~~~~\n",
      "/mnt/work_folder/convex-plasticity/demo/cvxpygen/code_dir/c/solver_code/src/rw.c:89:3: warning: ignoring return value of ‘fread’ declared with attribute ‘warn_unused_result’ [-Wunused-result]\n",
      "   89 |   fread(&(s->eps_rel), sizeof(scs_float), 1, fin);\n",
      "      |   ^~~~~~~~~~~~~~~~~~~~~~~~~~~~~~~~~~~~~~~~~~~~~~~\n",
      "/mnt/work_folder/convex-plasticity/demo/cvxpygen/code_dir/c/solver_code/src/rw.c:90:3: warning: ignoring return value of ‘fread’ declared with attribute ‘warn_unused_result’ [-Wunused-result]\n",
      "   90 |   fread(&(s->eps_infeas), sizeof(scs_float), 1, fin);\n",
      "      |   ^~~~~~~~~~~~~~~~~~~~~~~~~~~~~~~~~~~~~~~~~~~~~~~~~~\n",
      "/mnt/work_folder/convex-plasticity/demo/cvxpygen/code_dir/c/solver_code/src/rw.c:91:3: warning: ignoring return value of ‘fread’ declared with attribute ‘warn_unused_result’ [-Wunused-result]\n",
      "   91 |   fread(&(s->alpha), sizeof(scs_float), 1, fin);\n",
      "      |   ^~~~~~~~~~~~~~~~~~~~~~~~~~~~~~~~~~~~~~~~~~~~~\n",
      "/mnt/work_folder/convex-plasticity/demo/cvxpygen/code_dir/c/solver_code/src/rw.c:92:3: warning: ignoring return value of ‘fread’ declared with attribute ‘warn_unused_result’ [-Wunused-result]\n",
      "   92 |   fread(&(s->verbose), sizeof(scs_int), 1, fin);\n",
      "      |   ^~~~~~~~~~~~~~~~~~~~~~~~~~~~~~~~~~~~~~~~~~~~~\n",
      "/mnt/work_folder/convex-plasticity/demo/cvxpygen/code_dir/c/solver_code/src/rw.c:93:3: warning: ignoring return value of ‘fread’ declared with attribute ‘warn_unused_result’ [-Wunused-result]\n",
      "   93 |   fread(&(s->warm_start), sizeof(scs_int), 1, fin);\n",
      "      |   ^~~~~~~~~~~~~~~~~~~~~~~~~~~~~~~~~~~~~~~~~~~~~~~~\n",
      "/mnt/work_folder/convex-plasticity/demo/cvxpygen/code_dir/c/solver_code/src/rw.c:94:3: warning: ignoring return value of ‘fread’ declared with attribute ‘warn_unused_result’ [-Wunused-result]\n",
      "   94 |   fread(&(s->acceleration_lookback), sizeof(scs_int), 1, fin);\n",
      "      |   ^~~~~~~~~~~~~~~~~~~~~~~~~~~~~~~~~~~~~~~~~~~~~~~~~~~~~~~~~~~\n",
      "/mnt/work_folder/convex-plasticity/demo/cvxpygen/code_dir/c/solver_code/src/rw.c:95:3: warning: ignoring return value of ‘fread’ declared with attribute ‘warn_unused_result’ [-Wunused-result]\n",
      "   95 |   fread(&(s->acceleration_interval), sizeof(scs_int), 1, fin);\n",
      "      |   ^~~~~~~~~~~~~~~~~~~~~~~~~~~~~~~~~~~~~~~~~~~~~~~~~~~~~~~~~~~\n",
      "/mnt/work_folder/convex-plasticity/demo/cvxpygen/code_dir/c/solver_code/src/rw.c:96:3: warning: ignoring return value of ‘fread’ declared with attribute ‘warn_unused_result’ [-Wunused-result]\n",
      "   96 |   fread(&(s->adaptive_scale), sizeof(scs_int), 1, fin);\n",
      "      |   ^~~~~~~~~~~~~~~~~~~~~~~~~~~~~~~~~~~~~~~~~~~~~~~~~~~~\n"
     ]
    },
    {
     "name": "stdout",
     "output_type": "stream",
     "text": [
      "[ 31%] Building C object CMakeFiles/cpg.dir/solver_code/src/scs_version.c.o\n",
      "[ 34%] Building C object CMakeFiles/cpg.dir/solver_code/src/util.c.o\n",
      "[ 37%] Building C object CMakeFiles/cpg.dir/solver_code/linsys/csparse.c.o\n",
      "[ 41%] Building C object CMakeFiles/cpg.dir/solver_code/linsys/scs_matrix.c.o\n",
      "[ 44%] Building C object CMakeFiles/cpg.dir/solver_code/linsys/cpu/direct/private.c.o\n",
      "[ 48%] Building C object CMakeFiles/cpg.dir/solver_code/linsys/external/qdldl/qdldl.c.o\n",
      "[ 51%] Building C object CMakeFiles/cpg.dir/solver_code/linsys/external/amd/SuiteSparse_config.c.o\n",
      "[ 55%] Building C object CMakeFiles/cpg.dir/solver_code/linsys/external/amd/amd_1.c.o\n",
      "[ 58%] Building C object CMakeFiles/cpg.dir/solver_code/linsys/external/amd/amd_2.c.o\n",
      "[ 62%] Building C object CMakeFiles/cpg.dir/solver_code/linsys/external/amd/amd_aat.c.o\n",
      "[ 65%] Building C object CMakeFiles/cpg.dir/solver_code/linsys/external/amd/amd_control.c.o\n",
      "[ 68%] Building C object CMakeFiles/cpg.dir/solver_code/linsys/external/amd/amd_defaults.c.o\n",
      "[ 72%] Building C object CMakeFiles/cpg.dir/solver_code/linsys/external/amd/amd_dump.c.o\n",
      "[ 75%] Building C object CMakeFiles/cpg.dir/solver_code/linsys/external/amd/amd_global.c.o\n",
      "[ 79%] Building C object CMakeFiles/cpg.dir/solver_code/linsys/external/amd/amd_info.c.o\n",
      "[ 82%] Building C object CMakeFiles/cpg.dir/solver_code/linsys/external/amd/amd_order.c.o\n",
      "[ 86%] Building C object CMakeFiles/cpg.dir/solver_code/linsys/external/amd/amd_post_tree.c.o\n",
      "[ 89%] Building C object CMakeFiles/cpg.dir/solver_code/linsys/external/amd/amd_postorder.c.o\n",
      "[ 93%] Building C object CMakeFiles/cpg.dir/solver_code/linsys/external/amd/amd_preprocess.c.o\n",
      "[ 96%] Building C object CMakeFiles/cpg.dir/solver_code/linsys/external/amd/amd_valid.c.o\n",
      "[100%] Linking C static library out/libcpg.a\n",
      "[100%] Built target cpg\n",
      "CVXPYgen finished compiling python wrapper.\n"
     ]
    }
   ],
   "source": [
    "cpg.generate_code(problem, code_dir=code_dir, solver='SCS', wrapper=True)"
   ]
  },
  {
   "cell_type": "code",
   "execution_count": 5,
   "metadata": {},
   "outputs": [
    {
     "data": {
      "text/plain": [
       "0.9550720544957453"
      ]
     },
     "execution_count": 5,
     "metadata": {},
     "output_type": "execute_result"
    }
   ],
   "source": [
    "# solve problem conventionally\n",
    "val = problem.solve(solver='SCS')\n",
    "val"
   ]
  },
  {
   "cell_type": "code",
   "execution_count": 8,
   "metadata": {},
   "outputs": [
    {
     "data": {
      "text/plain": [
       "0.9550542521966028"
      ]
     },
     "execution_count": 8,
     "metadata": {},
     "output_type": "execute_result"
    },
    {
     "name": "stdout",
     "output_type": "stream",
     "text": [
      "------------------------------------------------------------------\n",
      "\t       SCS v3.2.0 - Splitting Conic Solver\n",
      "\t(c) Brendan O'Donoghue, Stanford University, 2012\n",
      "------------------------------------------------------------------\n",
      "problem:  variables n: 3, constraints m: 7\n",
      "cones: \t  l: linear vars: 2\n",
      "\t  q: soc vars: 5, qsize: 1\n",
      "settings: eps_abs: 1.0e-04, eps_rel: 1.0e-04, eps_infeas: 1.0e-07\n",
      "\t  alpha: 1.50, scale: 1.00e-01, adaptive_scale: 1\n",
      "\t  max_iters: 100000, normalize: 1, rho_x: 1.00e-06\n",
      "\t  acceleration_lookback: 0, acceleration_interval: 0\n",
      "lin-sys:  sparse-direct\n",
      "\t  nnz(A): 7, nnz(P): 0\n",
      "WARN: aa_init returned NULL, no acceleration applied.\n",
      "------------------------------------------------------------------\n",
      " iter | pri res | dua res |   gap   |   obj   |  scale  | time (s)\n",
      "------------------------------------------------------------------\n",
      "     0| 2.91e+01  1.00e+00  2.89e+01 -1.33e+01  1.00e-01  1.34e-04 \n",
      "   125| 1.11e-05  9.42e-07  1.77e-05  9.55e-01  5.20e-01  2.25e-04 \n",
      "------------------------------------------------------------------\n",
      "status:  solved\n",
      "timings: total: 7.22e-04s = setup: 4.94e-04s + solve: 2.27e-04s\n",
      "\t lin-sys: 3.25e-05s, cones: 1.52e-05s, accel: 0.00e+00s\n",
      "------------------------------------------------------------------\n",
      "objective = 0.955063\n",
      "------------------------------------------------------------------\n"
     ]
    }
   ],
   "source": [
    "# import extension module and register custom CVXPY solve method\n",
    "from code_dir.cpg_solver import cpg_solve\n",
    "problem.register_solve('cpg', cpg_solve)\n",
    "\n",
    "# solve problem with C code via python wrapper\n",
    "val = problem.solve(method='cpg', updated_params=['A', 'b'], verbose=True)\n",
    "val"
   ]
  },
  {
   "cell_type": "markdown",
   "metadata": {},
   "source": [
    "# CFFI"
   ]
  },
  {
   "cell_type": "code",
   "execution_count": 10,
   "metadata": {},
   "outputs": [
    {
     "data": {
      "text/plain": [
       "'/mnt/work_folder/convex-plasticity/demo/cvxpygen/_cpglib.cpython-39-x86_64-linux-gnu.so'"
      ]
     },
     "execution_count": 10,
     "metadata": {},
     "output_type": "execute_result"
    }
   ],
   "source": [
    "with open('cffi_wrapper/cffi_wrapper.c', 'r') as file:\n",
    "    cdef = file.read()\n",
    "\n",
    "with open('cffi_wrapper/cffi_wrapper.h', 'r') as file:\n",
    "    source = file.read()\n",
    "    \n",
    "lib_dir = os.path.join(os.getcwd(), code_dir + '/c/build/out')\n",
    "solver_include_dir = os.path.join(os.getcwd(), code_dir + '/c/solver_code/include')\n",
    "include_dir = os.path.join(os.getcwd(), code_dir + '/c/include')\n",
    "\n",
    "ffibuilder = cffi.FFI()\n",
    "\n",
    "ffibuilder.set_source(\n",
    "  module_name='_cpglib', \n",
    "  source=source,\n",
    "  include_dirs = [include_dir, solver_include_dir],\n",
    "  libraries = ['cpg'],\n",
    "  library_dirs = [lib_dir],\n",
    ")\n",
    "\n",
    "ffibuilder.cdef(csource=cdef)\n",
    "\n",
    "ffibuilder.compile()"
   ]
  },
  {
   "cell_type": "markdown",
   "metadata": {},
   "source": [
    "# CFFI + Numba"
   ]
  },
  {
   "cell_type": "code",
   "execution_count": 11,
   "metadata": {},
   "outputs": [
    {
     "name": "stdout",
     "output_type": "stream",
     "text": [
      "<class 'numba.core.ccallback.CFunc'> <class 'ctypes.CFUNCTYPE.<locals>.CFunctionType'>\n"
     ]
    }
   ],
   "source": [
    "# from _cpglib import ffi, lib\n",
    "import _cpglib\n",
    "\n",
    "cffi_utils.register_module(_cpglib)\n",
    "\n",
    "CPG_Updated_python_t = cffi_utils.map_type(_cpglib.ffi.typeof('CPG_Updated_cpp_t'), use_record_dtype=True)\n",
    "CPG_Params_python_t = cffi_utils.map_type(_cpglib.ffi.typeof('CPG_Params_cpp_t'), use_record_dtype=True)\n",
    "CPG_Result_python_t = cffi_utils.map_type(_cpglib.ffi.typeof('CPG_Result_cpp_t'), use_record_dtype=True)\n",
    "\n",
    "cffi_utils.register_type(_cpglib.ffi.typeof('CPG_Updated_cpp_t'), CPG_Updated_python_t)\n",
    "cffi_utils.register_type(_cpglib.ffi.typeof('CPG_Params_cpp_t'), CPG_Params_python_t)\n",
    "cffi_utils.register_type(_cpglib.ffi.typeof('CPG_Result_cpp_t'), CPG_Result_python_t)\n",
    "\n",
    "sig = cffi_utils.map_type(_cpglib.ffi.typeof(_cpglib.lib.solve_cpp), use_record_dtype=True)\n",
    "# sig2 = types.void(types.CPointer(CPG_Updated_python_t), types.CPointer(CPG_Params_python_t), types.CPointer(CPG_Result_python_t))\n",
    "\n",
    "@numba.cfunc(sig, nopython=True)\n",
    "def solve_wrapper(upd, par, res):\n",
    "    _cpglib.lib.solve_cpp(upd, par, res)\n",
    "\n",
    "cpg_solver = solve_wrapper.ctypes\n",
    "\n",
    "print(type(solve_wrapper), type(cpg_solver))"
   ]
  },
  {
   "cell_type": "code",
   "execution_count": 23,
   "metadata": {},
   "outputs": [],
   "source": [
    "def my_cpg_solve(problem: cp.problems.problem.Problem, **kwargs):\n",
    "    \n",
    "    #Preliminary initialization of parameters, functions, etc (before the numba-function invocation)\n",
    "\n",
    "    upd = _cpglib.ffi.new(\"CPG_Updated_cpp_t *\", {})\n",
    "    par = _cpglib.ffi.new(\"CPG_Params_cpp_t *\", {})\n",
    "    res = _cpglib.ffi.new(\"CPG_Result_cpp_t *\", {})\n",
    "\n",
    "    upd_numpy = np.ndarray(buffer=_cpglib.ffi.buffer(upd), dtype=numba.np.numpy_support.as_dtype(CPG_Updated_python_t), shape=1,)\n",
    "    par_numpy = np.ndarray(buffer=_cpglib.ffi.buffer(par), dtype=numba.np.numpy_support.as_dtype(CPG_Params_python_t), shape=1,)\n",
    "    res_numpy = np.ndarray(buffer=_cpglib.ffi.buffer(res), dtype=numba.np.numpy_support.as_dtype(CPG_Result_python_t), shape=1,)\n",
    "\n",
    "    updated_params = [\"A\", \"b\"]\n",
    "    for p in updated_params:\n",
    "        setattr(upd, p, True)\n",
    "\n",
    "    _cpglib.lib.cpg_set_solver_default_settings()\n",
    "\n",
    "    for key, value in kwargs.items():\n",
    "        try:\n",
    "            eval(' _cpglib.lib.cpg_set_solver_%s(value)' % key)\n",
    "        except AttributeError:\n",
    "            raise(AttributeError('Solver setting \"%s\" not available.' % key))\n",
    "\n",
    "    # set parameter values\n",
    "    n = problem.param_dict['A'].shape[0]\n",
    "    A_coordinates = np.unique([coord[0]+coord[1]*n for coord in problem.param_dict['A'].attributes['sparsity']])\n",
    "    A_value = []\n",
    "    A_flat = problem.param_dict['A'].value.flatten(order='F')\n",
    "    for coord in A_coordinates:\n",
    "        A_value.append(A_flat[coord])\n",
    "        A_flat[coord] = 0\n",
    "\n",
    "    A_value = np.array(A_value)\n",
    "    b_value = np.array(problem.param_dict['b'].value.flatten(order='F'))\n",
    "\n",
    "    @numba.njit\n",
    "    def call_solver(upd_numpy: np.ndarray, par_numpy: np.ndarray, res_numpy: np.ndarray):\n",
    "        \n",
    "        #Do something inside the numba-function\n",
    "\n",
    "        #Work with numpy arrays inside numba-function\n",
    "        par_numpy['A'][:] = A_value\n",
    "        par_numpy['b'][:] = b_value\n",
    "\n",
    "        #Call c-type function generated by cvxpypgen\n",
    "        cpg_solver(upd_numpy.ctypes.data, par_numpy.ctypes.data, res_numpy.ctypes.data)\n",
    "\n",
    "        #Do something inside the numba-function\n",
    "\n",
    "    call_solver(upd_numpy, par_numpy, res_numpy)"
   ]
  },
  {
   "cell_type": "code",
   "execution_count": 29,
   "metadata": {},
   "outputs": [],
   "source": [
    "my_cpg_solve(problem, verbose=True, eps_abs=1e-13, eps_rel=1e-13)"
   ]
  },
  {
   "cell_type": "code",
   "execution_count": null,
   "metadata": {},
   "outputs": [],
   "source": []
  }
 ],
 "metadata": {
  "kernelspec": {
   "display_name": "Python 3.9.7 64-bit",
   "language": "python",
   "name": "python3"
  },
  "language_info": {
   "codemirror_mode": {
    "name": "ipython",
    "version": 3
   },
   "file_extension": ".py",
   "mimetype": "text/x-python",
   "name": "python",
   "nbconvert_exporter": "python",
   "pygments_lexer": "ipython3",
   "version": "3.9.7"
  },
  "orig_nbformat": 4,
  "vscode": {
   "interpreter": {
    "hash": "31f2aee4e71d21fbe5cf8b01ff0e069b9275f58929596ceb00d14d90e3e16cd6"
   }
  }
 },
 "nbformat": 4,
 "nbformat_minor": 2
}
