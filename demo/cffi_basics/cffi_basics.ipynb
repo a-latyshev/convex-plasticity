{
 "cells": [
  {
   "cell_type": "markdown",
   "metadata": {},
   "source": [
    "# CFFI + Numba basics"
   ]
  },
  {
   "cell_type": "code",
   "execution_count": 9,
   "metadata": {},
   "outputs": [],
   "source": [
    "import cffi\n",
    "import numba\n",
    "import numpy as np\n",
    "from numba.core.typing import cffi_utils"
   ]
  },
  {
   "cell_type": "code",
   "execution_count": 2,
   "metadata": {},
   "outputs": [
    {
     "data": {
      "text/plain": [
       "'/mnt/work_folder/convex-plasticity/demo/cffi_basics/_mylib.cpython-39-x86_64-linux-gnu.so'"
      ]
     },
     "execution_count": 2,
     "metadata": {},
     "output_type": "execute_result"
    }
   ],
   "source": [
    "# lib_dir = os.path.expanduser('/mnt/work_folder/convex-plasticity/optimisation/mylib/')\n",
    "lib_dir = os.path.join(os.getcwd(), 'lib/')\n",
    "include_dir = os.path.join(os.getcwd(), 'include/')\n",
    "\n",
    "ffibuilder = cffi.FFI()\n",
    "ffibuilder.set_source('_mylib',\n",
    "  r'#include <mylib.h>',\n",
    "  include_dirs = [include_dir],\n",
    "  libraries = ['mylib'],\n",
    "  library_dirs = [lib_dir],\n",
    ")\n",
    "\n",
    "ffibuilder.cdef(\"\"\"\n",
    "  double sum(double a, double b);\n",
    "\n",
    "  typedef struct {\n",
    "    double a;\n",
    "    int b;\n",
    "    double c[3];\n",
    "} mystruct_t;\n",
    "\n",
    "\"\"\")\n",
    "\n",
    "ffibuilder.compile()"
   ]
  },
  {
   "cell_type": "code",
   "execution_count": 3,
   "metadata": {},
   "outputs": [],
   "source": [
    "import _mylib\n",
    "\n",
    "cffi_utils.register_module(_mylib)\n",
    "\n",
    "mystruct_numba_t = cffi_utils.map_type(_mylib.ffi.typeof('mystruct_t'), use_record_dtype=True)\n",
    "cffi_utils.register_type(_mylib.ffi.typeof('mystruct_t'), mystruct_numba_t)"
   ]
  },
  {
   "cell_type": "code",
   "execution_count": 5,
   "metadata": {},
   "outputs": [
    {
     "data": {
      "text/plain": [
       "2.0"
      ]
     },
     "execution_count": 5,
     "metadata": {},
     "output_type": "execute_result"
    }
   ],
   "source": [
    "@numba.njit()\n",
    "def func(a, b):\n",
    "    return _mylib.lib.sum(a, b)\n",
    "func(1., 1.)"
   ]
  },
  {
   "cell_type": "code",
   "execution_count": 12,
   "metadata": {},
   "outputs": [
    {
     "name": "stdout",
     "output_type": "stream",
     "text": [
      "51180416 51180416\n"
     ]
    }
   ],
   "source": [
    "mystruct = _mylib.ffi.new(\"mystruct_t *\", {})\n",
    "mystruct_numpy = np.ndarray(buffer=_mylib.ffi.buffer(mystruct), dtype=numba.np.numpy_support.as_dtype(mystruct_numba_t), shape=1,)\n",
    "\n",
    "mystruct_address = int(_mylib.ffi.cast('size_t', mystruct))\n",
    "\n",
    "print(mystruct_address, mystruct_numpy.ctypes.data)"
   ]
  },
  {
   "cell_type": "code",
   "execution_count": null,
   "metadata": {},
   "outputs": [],
   "source": []
  }
 ],
 "metadata": {
  "kernelspec": {
   "display_name": "Python 3.9.7 64-bit",
   "language": "python",
   "name": "python3"
  },
  "language_info": {
   "codemirror_mode": {
    "name": "ipython",
    "version": 3
   },
   "file_extension": ".py",
   "mimetype": "text/x-python",
   "name": "python",
   "nbconvert_exporter": "python",
   "pygments_lexer": "ipython3",
   "version": "3.9.7"
  },
  "orig_nbformat": 4,
  "vscode": {
   "interpreter": {
    "hash": "31f2aee4e71d21fbe5cf8b01ff0e069b9275f58929596ceb00d14d90e3e16cd6"
   }
  }
 },
 "nbformat": 4,
 "nbformat_minor": 2
}
