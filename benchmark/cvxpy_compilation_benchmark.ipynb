{
 "cells": [
  {
   "attachments": {},
   "cell_type": "markdown",
   "metadata": {},
   "source": [
    "# Benchmark\n",
    "\n"
   ]
  },
  {
   "cell_type": "code",
   "execution_count": 5,
   "metadata": {},
   "outputs": [
    {
     "name": "stdout",
     "output_type": "stream",
     "text": [
      "cvxpy version: 1.3.0\n"
     ]
    }
   ],
   "source": [
    "import numpy as np\n",
    "import cvxpy as cp\n",
    "from scipy.sparse import block_diag\n",
    "import matplotlib.pyplot as plt\n",
    "\n",
    "print(f'cvxpy version: {cp.__version__}')"
   ]
  },
  {
   "cell_type": "code",
   "execution_count": 6,
   "metadata": {},
   "outputs": [],
   "source": [
    "E_dim = 70e3 # [Pa]\n",
    "E = 70e3 / E_dim # [-] Young's modulus\n",
    "nu = 0.3 # [-] Poisson's ratio \n",
    "sig0 = 250 / E_dim # [-] yield strength\n",
    "Et = E/100. # [-] tangent modulus\n",
    "H = E*Et/(E-Et) # [-] hardening modulus\n",
    "\n",
    "l, m = lambda_, mu_ = E*nu/(1+nu)/(1-2*nu), E/2/(1+nu)   \n",
    "\n",
    "# Elasticity stiffness matrix\n",
    "C = np.array([[l+2*m, l, l, 0],\n",
    "              [l, l+2*m, l, 0],\n",
    "              [l, l, l+2*m, 0],\n",
    "              [0, 0, 0, 2*m]])\n",
    "S = np.linalg.inv(C)\n",
    "\n",
    "def criterion(sig:cp.expressions.variable.Variable, p:cp.expressions.variable.Variable):\n",
    "    \"\"\"Creates a constraint for convex optimization problem in the form of von Mises criterion.\n",
    "    \n",
    "    Args:\n",
    "        sig: A cvxpy variable of 4-dimensional Voigt vector of stresses\n",
    "        p: A cvxpy variable of cumulated equivalent plastic strain\n",
    "    \n",
    "    Returns:    \n",
    "        A list with a semi-definitive conic constraint in the form of von Mises yield criterion\n",
    "    \"\"\"\n",
    "    N = p.size\n",
    "    dev = np.array([[2/3., -1/3., -1/3., 0],\n",
    "                    [-1/3., 2/3., -1/3., 0],\n",
    "                    [-1/3., -1/3., 2/3., 0],\n",
    "                    [0, 0, 0, 1.]])\n",
    "\n",
    "    sig0_vec = np.repeat(sig0, N)\n",
    "    s = dev @ sig\n",
    "\n",
    "    return [np.sqrt(3/2)*cp.norm(s, axis=0) <= sig0_vec + p * H]"
   ]
  },
  {
   "cell_type": "code",
   "execution_count": 7,
   "metadata": {},
   "outputs": [
    {
     "data": {
      "text/plain": [
       "4434"
      ]
     },
     "execution_count": 7,
     "metadata": {},
     "output_type": "execute_result"
    }
   ],
   "source": [
    "deps_np = np.load('delta_epsilon.npy')\n",
    "deps_np.shape\n",
    "n_quadrature_points = int(deps_np.size/4)\n",
    "n_quadrature_points"
   ]
  },
  {
   "cell_type": "code",
   "execution_count": 8,
   "metadata": {},
   "outputs": [
    {
     "data": {
      "text/plain": [
       "(1, 500, 4)"
      ]
     },
     "execution_count": 8,
     "metadata": {},
     "output_type": "execute_result"
    }
   ],
   "source": [
    "N = patch_size = 500\n",
    "# N_patches = int(n_quadrature_points/patch_size)\n",
    "# residue_size = n_quadrature_points % patch_size\n",
    "# deps_values = deps_np[:4*(n_quadrature_points - residue_size)].reshape((-1, patch_size, 4))\n",
    "deps_values = deps_np[:4*N].reshape((-1, patch_size, 4))\n",
    "deps_values.shape"
   ]
  },
  {
   "cell_type": "code",
   "execution_count": 9,
   "metadata": {},
   "outputs": [],
   "source": [
    "deps = cp.Parameter((4, N), name='deps')\n",
    "sig_old = cp.Parameter((4, N), name='sig_old')\n",
    "sig_elas = sig_old + C @ deps\n",
    "sig = cp.Variable((4, N), name='sig')\n",
    "\n",
    "p_old = cp.Parameter((N,), nonneg=True, name='p_old')\n",
    "p = cp.Variable((N,),nonneg=True, name='p')\n",
    "\n",
    "sig_old.value = np.zeros((4, N))\n",
    "deps.value = np.zeros((4, N))\n",
    "p_old.value = np.zeros((N,))\n",
    "deps.value = deps_values[0,:].T\n",
    "\n",
    "delta_sig = sig - sig_elas\n",
    "\n",
    "# energy = []\n",
    "# for i in range(N):\n",
    "#     energy.append(cp.quad_form(delta_sig[:, i], S))\n",
    "# target_expression = cp.sum(cp.hstack(energy)) + material.yield_criterion.H * cp.sum_squares(self.p - self.p_old)\n",
    "# energy = cp.sum(cp.diag(delta_sig.T @ S_sparsed @ delta_sig))\n",
    "# target_expression = 0.5*elastic_energy + 0.5*material.yield_criterion.H * cp.sum_squares(self.p - self.p_old)\n",
    "\n",
    "D = H * np.eye(N)\n",
    "S_sparsed = block_diag([S for _ in range(N)])\n",
    "delta_sig_vector = cp.reshape(delta_sig, (N*4))\n",
    "\n",
    "elastic_energy = cp.quad_form(delta_sig_vector, S_sparsed, assume_PSD=True)\n",
    "target_expression = 0.5*elastic_energy + 0.5*cp.quad_form(p - p_old, D)\n",
    "\n",
    "constrains = criterion(sig, p) \n",
    "\n",
    "opt_problem = cp.Problem(cp.Minimize(target_expression), constrains)"
   ]
  },
  {
   "cell_type": "code",
   "execution_count": 10,
   "metadata": {},
   "outputs": [],
   "source": [
    "conic_solver = 'SCS'\n",
    "tol_conic_solver = 1e-12\n",
    "conic_solver_params = {}\n",
    "\n",
    "if conic_solver == 'SCS':\n",
    "    conic_solver_params = {\n",
    "        'eps': tol_conic_solver, \n",
    "        'eps_abs': tol_conic_solver, \n",
    "        'eps_rel': tol_conic_solver,\n",
    "        'eps_infeas': tol_conic_solver,\n",
    "    }\n",
    "elif conic_solver == 'ECOS':\n",
    "    conic_solver_params = {'abstol': tol_conic_solver, 'reltol': tol_conic_solver}"
   ]
  },
  {
   "cell_type": "code",
   "execution_count": 11,
   "metadata": {},
   "outputs": [
    {
     "name": "stdout",
     "output_type": "stream",
     "text": [
      "===============================================================================\n",
      "                                     CVXPY                                     \n",
      "                                     v1.3.0                                    \n",
      "===============================================================================\n",
      "(CVXPY) May 01 02:33:56 PM: Your problem has 2500 variables, 1 constraints, and 4500 parameters.\n",
      "(CVXPY) May 01 02:33:56 PM: It is compliant with the following grammars: DCP, DQCP\n",
      "(CVXPY) May 01 02:33:56 PM: CVXPY will first compile your problem; then, it will invoke a numerical solver to obtain a solution.\n",
      "-------------------------------------------------------------------------------\n",
      "                                  Compilation                                  \n",
      "-------------------------------------------------------------------------------\n",
      "(CVXPY) May 01 02:33:56 PM: Compiling problem (target solver=SCS).\n",
      "(CVXPY) May 01 02:33:56 PM: Reduction chain: Dcp2Cone -> CvxAttr2Constr -> ConeMatrixStuffing -> SCS\n",
      "(CVXPY) May 01 02:33:56 PM: Applying reduction Dcp2Cone\n",
      "(CVXPY) May 01 02:33:56 PM: Applying reduction CvxAttr2Constr\n",
      "(CVXPY) May 01 02:33:56 PM: Applying reduction ConeMatrixStuffing\n",
      "(CVXPY) May 01 02:34:00 PM: Applying reduction SCS\n",
      "(CVXPY) May 01 02:34:01 PM: Finished problem compilation (took 5.475e+00 seconds).\n",
      "(CVXPY) May 01 02:34:01 PM: (Subsequent compilations of this problem, using the same arguments, should take less time.)\n",
      "-------------------------------------------------------------------------------\n",
      "                                Numerical solver                               \n",
      "-------------------------------------------------------------------------------\n",
      "(CVXPY) May 01 02:34:01 PM: Invoking solver SCS  to obtain a solution.\n",
      "------------------------------------------------------------------\n",
      "\t       SCS v3.2.0 - Splitting Conic Solver\n",
      "\t(c) Brendan O'Donoghue, Stanford University, 2012\n",
      "------------------------------------------------------------------\n",
      "problem:  variables n: 5500, constraints m: 6000\n",
      "cones: \t  z: primal zero / dual free vars: 2500\n",
      "\t  l: linear vars: 1000\n",
      "\t  q: soc vars: 2500, qsize: 500\n",
      "settings: eps_abs: 1.0e-12, eps_rel: 1.0e-12, eps_infeas: 1.0e-12\n",
      "\t  alpha: 1.50, scale: 1.00e-01, adaptive_scale: 1\n",
      "\t  max_iters: 100000, normalize: 1, rho_x: 1.00e-06\n",
      "\t  acceleration_lookback: 10, acceleration_interval: 10\n",
      "lin-sys:  sparse-direct\n",
      "\t  nnz(A): 12000, nnz(P): 4000\n",
      "------------------------------------------------------------------\n",
      " iter | pri res | dua res |   gap   |   obj   |  scale  | time (s)\n",
      "------------------------------------------------------------------\n",
      "     0| 3.57e-03  1.40e-04  3.88e-05  2.32e-05  1.00e-01  1.30e-03 \n",
      "   100| 8.05e-17  5.64e-14  2.37e-17  1.19e-17  1.00e-01  3.47e-02 \n",
      "------------------------------------------------------------------\n",
      "status:  solved\n",
      "timings: total: 5.76e-02s = setup: 2.28e-02s + solve: 3.48e-02s\n",
      "\t lin-sys: 1.99e-02s, cones: 2.55e-03s, accel: 2.14e-03s\n",
      "------------------------------------------------------------------\n",
      "objective = 0.000000\n",
      "------------------------------------------------------------------\n",
      "-------------------------------------------------------------------------------\n",
      "                                    Summary                                    \n",
      "-------------------------------------------------------------------------------\n",
      "(CVXPY) May 01 02:34:01 PM: Problem status: optimal\n",
      "(CVXPY) May 01 02:34:01 PM: Optimal value: 7.861e-23\n",
      "(CVXPY) May 01 02:34:01 PM: Compilation took 5.475e+00 seconds\n",
      "(CVXPY) May 01 02:34:01 PM: Solver (including time spent in interface) took 6.265e-02 seconds\n"
     ]
    },
    {
     "data": {
      "text/plain": [
       "7.860515480576927e-23"
      ]
     },
     "execution_count": 11,
     "metadata": {},
     "output_type": "execute_result"
    }
   ],
   "source": [
    "opt_problem.solve(solver=conic_solver, requires_grad=False, ignore_dpp=False, verbose=True, **conic_solver_params)\n"
   ]
  },
  {
   "cell_type": "code",
   "execution_count": 16,
   "metadata": {},
   "outputs": [
    {
     "data": {
      "text/plain": [
       "array([[ 7.48995198e-04,  7.40117626e-04,  7.45896877e-04, ...,\n",
       "         9.53323654e-04,  8.52971147e-04,  8.65714981e-04],\n",
       "       [-1.34790679e-05, -4.70451402e-06, -1.06224255e-05, ...,\n",
       "        -2.17705393e-04, -1.17758964e-04, -1.30626990e-04],\n",
       "       [ 2.20654839e-04,  2.20623934e-04,  2.20582335e-04, ...,\n",
       "         2.20685478e-04,  2.20563655e-04,  2.20526397e-04],\n",
       "       [-2.87981150e-06, -2.80341237e-06, -1.15848490e-05, ...,\n",
       "        -1.61584591e-04, -2.36033925e-04, -2.28049073e-04]])"
      ]
     },
     "execution_count": 16,
     "metadata": {},
     "output_type": "execute_result"
    }
   ],
   "source": [
    "sig_elas.value"
   ]
  },
  {
   "cell_type": "code",
   "execution_count": 17,
   "metadata": {},
   "outputs": [
    {
     "data": {
      "text/plain": [
       "-6.461844948013606e-17"
      ]
     },
     "execution_count": 17,
     "metadata": {},
     "output_type": "execute_result"
    }
   ],
   "source": [
    "np.min(delta_sig.value)"
   ]
  },
  {
   "cell_type": "code",
   "execution_count": 8,
   "metadata": {},
   "outputs": [],
   "source": [
    "def run_test(N:int, conic_solver:str):\n",
    "    deps_values = deps_np[:4*N].reshape((-1, N, 4))\n",
    "\n",
    "    deps = cp.Parameter((4, N), name='deps')\n",
    "    sig_old = cp.Parameter((4, N), name='sig_old')\n",
    "    sig_elas = sig_old + C @ deps\n",
    "    sig = cp.Variable((4, N), name='sig')\n",
    "    p_old = cp.Parameter((N,), nonneg=True, name='p_old')\n",
    "    p = cp.Variable((N,),nonneg=True, name='p')\n",
    "\n",
    "    sig_old.value = np.zeros((4, N))\n",
    "    deps.value = np.zeros((4, N))\n",
    "    p_old.value = np.zeros((N,))\n",
    "    deps.value = deps_values[0,:].T\n",
    "\n",
    "    delta_sig = sig - sig_elas\n",
    "    D = H * np.eye(N)\n",
    "    S_sparsed = block_diag([S for _ in range(N)])\n",
    "    delta_sig_vector = cp.reshape(delta_sig, (N*4))\n",
    "\n",
    "    elastic_energy = cp.quad_form(delta_sig_vector, S_sparsed, assume_PSD=True)\n",
    "    target_expression = 0.5*elastic_energy + 0.5*cp.quad_form(p - p_old, D)\n",
    "    constrains = criterion(sig, p) \n",
    "\n",
    "    opt_problem = cp.Problem(cp.Minimize(target_expression), constrains)\n",
    "\n",
    "    conic_solver = 'SCS'\n",
    "    tol_conic_solver = 1e-12\n",
    "    conic_solver_params = {}\n",
    "\n",
    "    if conic_solver == 'SCS':\n",
    "        conic_solver_params = {\n",
    "            'eps': tol_conic_solver, \n",
    "            'eps_abs': tol_conic_solver, \n",
    "            'eps_rel': tol_conic_solver,\n",
    "            'eps_infeas': tol_conic_solver,\n",
    "        }\n",
    "    elif conic_solver == 'ECOS':\n",
    "        conic_solver_params = {'abstol': tol_conic_solver, 'reltol': tol_conic_solver}\n",
    "\n",
    "    opt_problem.solve(solver=conic_solver, requires_grad=False, ignore_dpp=False, verbose=False, **conic_solver_params)\n",
    "\n",
    "    return opt_problem\n"
   ]
  },
  {
   "cell_type": "code",
   "execution_count": 9,
   "metadata": {},
   "outputs": [],
   "source": [
    "def run_benchmark():\n",
    "    N_list = np.array([1, 10, 100, 250, 500, 1000])\n",
    "    T_compil = {'SCS': [], 'ECOS': []}\n",
    "\n",
    "    for solver in T_compil:\n",
    "        print(f'Solver: {solver}')\n",
    "        for N in N_list:\n",
    "            solved_prob = run_test(N, solver)\n",
    "            T_compil[solver].append(solved_prob._compilation_time)\n",
    "            print(f'\\tproblem dim: {N}\\n\\tsolution time: {solved_prob._solve_time}\\n\\tcompilation time: {solved_prob._compilation_time}\\n')\n",
    "    \n",
    "    return N_list, T_compil"
   ]
  },
  {
   "cell_type": "code",
   "execution_count": 10,
   "metadata": {},
   "outputs": [
    {
     "name": "stdout",
     "output_type": "stream",
     "text": [
      "Solver: SCS\n",
      "\tproblem dim: 1\n",
      "\tsolution time: 0.0006756782531738281\n",
      "\tcompilation time: 0.022351980209350586\n",
      "\n",
      "\tproblem dim: 10\n",
      "\tsolution time: 0.0025262832641601562\n",
      "\tcompilation time: 0.026265621185302734\n",
      "\n",
      "\tproblem dim: 100\n",
      "\tsolution time: 0.008549690246582031\n",
      "\tcompilation time: 0.12494444847106934\n",
      "\n",
      "\tproblem dim: 250\n",
      "\tsolution time: 0.021039724349975586\n",
      "\tcompilation time: 0.743912935256958\n",
      "\n",
      "\tproblem dim: 500\n",
      "\tsolution time: 0.041141510009765625\n",
      "\tcompilation time: 3.803076982498169\n",
      "\n",
      "\tproblem dim: 1000\n",
      "\tsolution time: 0.1142575740814209\n",
      "\tcompilation time: 43.402533531188965\n",
      "\n",
      "Solver: ECOS\n",
      "\tproblem dim: 1\n",
      "\tsolution time: 0.0011513233184814453\n",
      "\tcompilation time: 0.05123281478881836\n",
      "\n",
      "\tproblem dim: 10\n",
      "\tsolution time: 0.0016937255859375\n",
      "\tcompilation time: 0.05542397499084473\n",
      "\n",
      "\tproblem dim: 100\n",
      "\tsolution time: 0.009916543960571289\n",
      "\tcompilation time: 0.15029692649841309\n",
      "\n",
      "\tproblem dim: 250\n",
      "\tsolution time: 0.02436208724975586\n",
      "\tcompilation time: 0.7009320259094238\n",
      "\n",
      "\tproblem dim: 500\n",
      "\tsolution time: 0.04007840156555176\n",
      "\tcompilation time: 2.7913293838500977\n",
      "\n",
      "\tproblem dim: 1000\n",
      "\tsolution time: 0.09562158584594727\n",
      "\tcompilation time: 18.08814811706543\n",
      "\n"
     ]
    }
   ],
   "source": [
    "benchmark_results = run_benchmark()"
   ]
  },
  {
   "cell_type": "code",
   "execution_count": 13,
   "metadata": {},
   "outputs": [],
   "source": [
    "def show_results(N_list, T_comp):\n",
    "    for solver in T_comp:\n",
    "        plt.plot(5*N_list, T_comp[solver], \"-o\", label=solver)\n",
    "    plt.xlabel(\"Dimension of vectorized conic problem\")\n",
    "    plt.ylabel(\"Compilation time\")\n",
    "    plt.legend()\n",
    "    plt.show()"
   ]
  },
  {
   "cell_type": "code",
   "execution_count": 14,
   "metadata": {},
   "outputs": [
    {
     "data": {
      "image/png": "[encoded data removed]",
      "text/plain": [
       "<Figure size 432x288 with 1 Axes>"
      ]
     },
     "metadata": {
      "needs_background": "light"
     },
     "output_type": "display_data"
    }
   ],
   "source": [
    "show_results(*benchmark_results)"
   ]
  },
  {
   "cell_type": "code",
   "execution_count": null,
   "metadata": {},
   "outputs": [],
   "source": []
  }
 ],
 "metadata": {
  "kernelspec": {
   "display_name": "Python 3",
   "language": "python",
   "name": "python3"
  },
  "language_info": {
   "codemirror_mode": {
    "name": "ipython",
    "version": 3
   },
   "file_extension": ".py",
   "mimetype": "text/x-python",
   "name": "python",
   "nbconvert_exporter": "python",
   "pygments_lexer": "ipython3",
   "version": "3.9.7"
  },
  "orig_nbformat": 4
 },
 "nbformat": 4,
 "nbformat_minor": 2
}
