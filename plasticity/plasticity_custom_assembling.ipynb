{
 "cells": [
  {
   "cell_type": "markdown",
   "metadata": {},
   "source": [
    "Implementation of 2D elasto-plastic problem using FEniCS-X. The code is based on a [legacy solution](https://comet-fenics.readthedocs.io/en/latest/demo/2D_plasticity/vonMises_plasticity.py.html) for FEniCS 2019.\n",
    "\n",
    "The program was tested for 0.3.1.0 version of Dolfinx."
   ]
  },
  {
   "cell_type": "code",
   "execution_count": 1,
   "metadata": {},
   "outputs": [],
   "source": [
    "import meshio\n",
    "import numpy as np\n",
    "import numba\n",
    "\n",
    "import ufl\n",
    "from dolfinx import fem, io\n",
    "from mpi4py import MPI\n",
    "from petsc4py import PETSc\n",
    "from dolfinx.geometry import (BoundingBoxTree, compute_colliding_cells, compute_collisions)\n",
    "import time\n",
    "import basix\n",
    "\n",
    "import sys\n",
    "sys.path.append(\"../assembling_strategies\")\n",
    "import custom_assembling as ca\n",
    "# import fenicsx_support\n"
   ]
  },
  {
   "cell_type": "code",
   "execution_count": 2,
   "metadata": {},
   "outputs": [],
   "source": [
    "\n",
    "def create_mesh(mesh, cell_type, prune_z=False):\n",
    "    cells = mesh.get_cells_type(cell_type)\n",
    "    cell_data = mesh.get_cell_data(\"gmsh:physical\", cell_type)\n",
    "    points = mesh.points[:,:2] if prune_z else mesh.points\n",
    "    out_mesh = meshio.Mesh(points=points, cells={cell_type: cells}, cell_data={\"name_to_read\":[cell_data]})\n",
    "    return out_mesh\n",
    "\n",
    "# defining function to interpolate function defined over quadrature elements\n",
    "def interpolate_quadrature(ufl_expr, fem_func):\n",
    "    q_dim = fem_func.function_space._ufl_element.degree()\n",
    "    mesh = fem_func.ufl_function_space().mesh\n",
    "    \n",
    "    basix_celltype = getattr(basix.CellType, mesh.topology.cell_type.name)\n",
    "    quadrature_points, weights = basix.make_quadrature(basix_celltype, q_dim)\n",
    "    map_c = mesh.topology.index_map(mesh.topology.dim)\n",
    "    num_cells = map_c.size_local + map_c.num_ghosts\n",
    "    cells = np.arange(0, num_cells, dtype=np.int32)\n",
    "\n",
    "    expr_expr = fem.Expression(ufl_expr, quadrature_points)\n",
    "    expr_eval = expr_expr.eval(cells)\n",
    "    fem_func.x.array[:] = expr_eval.flatten()[:]\n",
    "    fem_func.x.scatter_forward()"
   ]
  },
  {
   "cell_type": "code",
   "execution_count": 3,
   "metadata": {},
   "outputs": [
    {
     "name": "stdout",
     "output_type": "stream",
     "text": [
      "\n",
      "<meshio mesh object>\n",
      "  Number of points: 811\n",
      "  Number of cells:\n",
      "    line: 10\n",
      "    line: 69\n",
      "    line: 10\n",
      "    line: 53\n",
      "    triangle: 1478\n",
      "  Cell sets: gmsh:bounding_entities\n",
      "  Point data: gmsh:dim_tags\n",
      "  Cell data: gmsh:physical, gmsh:geometrical\n"
     ]
    }
   ],
   "source": [
    "if MPI.COMM_WORLD.rank == 0:\n",
    "\n",
    "    #It works with the msh4 only!!\n",
    "    msh = meshio.read(\"thick_cylinder.msh\")\n",
    "\n",
    "    # Create and save one file for the mesh, and one file for the facets \n",
    "    triangle_mesh = create_mesh(msh, \"triangle\", prune_z=True)\n",
    "    line_mesh = create_mesh(msh, \"line\", prune_z=True)\n",
    "    meshio.write(\"thick_cylinder.xdmf\", triangle_mesh)\n",
    "    meshio.write(\"mt.xdmf\", line_mesh)\n",
    "    print(msh)\n",
    "    "
   ]
  },
  {
   "cell_type": "code",
   "execution_count": 4,
   "metadata": {},
   "outputs": [],
   "source": [
    "with io.XDMFFile(MPI.COMM_WORLD, \"thick_cylinder.xdmf\", \"r\") as xdmf:\n",
    "    mesh = xdmf.read_mesh(name=\"Grid\")\n",
    "    ct = xdmf.read_meshtags(mesh, name=\"Grid\")\n",
    "\n",
    "mesh.topology.create_connectivity(mesh.topology.dim, mesh.topology.dim - 1)\n",
    "\n",
    "with io.XDMFFile(MPI.COMM_WORLD, \"mt.xdmf\", \"r\") as xdmf:\n",
    "    ft = xdmf.read_meshtags(mesh, name=\"Grid\")"
   ]
  },
  {
   "cell_type": "code",
   "execution_count": 5,
   "metadata": {},
   "outputs": [],
   "source": [
    "# elastic parameters\n",
    "E = 70e3\n",
    "nu = 0.3\n",
    "# lambda_ = E*nu/(1+nu)/(1-2*nu)\n",
    "# mu_ = fem.Constant(mesh, PETSc.ScalarType(E/2./(1+nu)))\n",
    "\n",
    "lambda_ = E*nu/(1+nu)/(1-2*nu)\n",
    "mu_ = E/2./(1+nu)\n",
    "\n",
    "# sig0 = fem.Constant(mesh, PETSc.ScalarType(250))  # yield strength\n",
    "sig0 = 250.  # yield strength\n",
    "Et = E/100.  # tangent modulus\n",
    "H = E*Et/(E-Et)  # hardening modulus\n",
    "\n",
    "Re, Ri = 1.3, 1.   # external/internal radius\n",
    "\n",
    "# Hookes law for plane stress\n",
    "# C11 = E / (1.0 - nu * nu)\n",
    "# C12 = C11 * nu\n",
    "# C33 = C11 * 0.5 * (1.0 - nu)\n",
    "# C = np.array([[C11, C12, 0.0], [C12, C11, 0.0], [0.0, 0.0, C33]], dtype=PETSc.ScalarType)\n",
    "# C_const = fem.Constant(mesh, C)\n"
   ]
  },
  {
   "cell_type": "code",
   "execution_count": 6,
   "metadata": {},
   "outputs": [],
   "source": [
    "deg_u = 2\n",
    "deg_stress = 2\n",
    "V = fem.VectorFunctionSpace(mesh, (\"CG\", deg_u))\n",
    "We = ufl.VectorElement(\"Quadrature\", mesh.ufl_cell(), degree=deg_stress, dim=4, quad_scheme='default')\n",
    "W0e = ufl.FiniteElement(\"Quadrature\", mesh.ufl_cell(), degree=deg_stress, quad_scheme='default')\n",
    "W = fem.FunctionSpace(mesh, We)\n",
    "W0 = fem.FunctionSpace(mesh, W0e)"
   ]
  },
  {
   "cell_type": "code",
   "execution_count": 7,
   "metadata": {},
   "outputs": [],
   "source": [
    "left_marker = 3\n",
    "down_marker = 1\n",
    "left_facets = ft.indices[ft.values == left_marker]\n",
    "down_facets = ft.indices[ft.values == down_marker]\n",
    "left_dofs = fem.locate_dofs_topological(V.sub(0), mesh.topology.dim-1, left_facets)\n",
    "down_dofs = fem.locate_dofs_topological(V.sub(1), mesh.topology.dim-1, down_facets)\n",
    "\n",
    "bcs = [fem.dirichletbc(PETSc.ScalarType(0), left_dofs, V.sub(0)), fem.dirichletbc(PETSc.ScalarType(0), down_dofs, V.sub(1))]"
   ]
  },
  {
   "cell_type": "code",
   "execution_count": 8,
   "metadata": {},
   "outputs": [],
   "source": [
    "sig = fem.Function(W)\n",
    "sig2 = fem.Function(W)\n",
    "sig_old = fem.Function(W, name=\"sig_old\")\n",
    "n_elas = fem.Function(W)\n",
    "beta = fem.Function(W0)\n",
    "p = fem.Function(W0, name=\"p\")\n",
    "dp = fem.Function(W0, name=\"dp\")\n",
    "u = fem.Function(V, name=\"Total_displacement\")\n",
    "du = fem.Function(V, name=\"Iteration_correction\")\n",
    "Du = fem.Function(V, name=\"Current_increment\")\n",
    "Du_tmp = fem.Function(V, name=\"Du_tmp\")\n",
    "v = ufl.TrialFunction(V)\n",
    "u_ = ufl.TestFunction(V)\n",
    "\n",
    "P0 = fem.FunctionSpace(mesh, (\"DG\", 0))\n",
    "p_avg = fem.Function(P0, name=\"Plastic_strain\")\n",
    "\n",
    "zero_Du = fem.Function(V)"
   ]
  },
  {
   "cell_type": "code",
   "execution_count": 9,
   "metadata": {},
   "outputs": [],
   "source": [
    "# def identity_tensor(space_dim, tensor_dim):\n",
    "#     I = np.zeros( (space_dim,) * tensor_dim )\n",
    "#     I[ tuple([np.arange(space_dim)] * tensor_dim) ] = 1\n",
    "#     return I\n",
    "\n",
    "I = np.eye(3)\n",
    "J4 = 1./3. * np.tensordot(I, I, axes=0)\n",
    "I4 = np.einsum('ij,kl->ikjl', I, I)\n",
    "K4 = DEV = I4 - J4\n",
    "C_elas = (3*lambda_ + 2*mu_)*J4 + 2*mu_*K4\n",
    "C_elas_const = fem.Constant(mesh, C_elas.astype(np.dtype(PETSc.ScalarType)))\n",
    "\n",
    "QTe = ufl.TensorElement(\"Quadrature\", mesh.ufl_cell(), degree=deg_stress, shape=C_elas.shape, quad_scheme='default') #, symmetry=True?\n",
    "QT = fem.FunctionSpace(mesh, QTe)\n",
    "# C_tang_tmp = fem.Function(QT)\n",
    "\n",
    "C_tang = ca.DummyFunction(QT, name='tangent') # 2 * n_gauss_points * 3 * 3 * 3 * 3"
   ]
  },
  {
   "cell_type": "code",
   "execution_count": 10,
   "metadata": {},
   "outputs": [],
   "source": [
    "@numba.njit(fastmath=True)\n",
    "def as_3D_array(X):\n",
    "    return np.asarray([[X[0], X[3], 0],\n",
    "                       [X[3], X[1], 0],\n",
    "                       [0, 0, X[2]]])\n",
    "                       \n",
    "@numba.njit(fastmath=True)\n",
    "def ppos(x):\n",
    "    return (x + np.sqrt(x**2))/2.\n",
    "\n",
    "@numba.njit(fastmath=True)\n",
    "def sigma(eps_el):\n",
    "    return lambda_*np.trace(eps_el)*I + 2*mu_*eps_el\n",
    "\n",
    "@numba.njit(fastmath=True)\n",
    "def tensor_product(A, B):\n",
    "    # n_i, n_j = A.shape\n",
    "    # n_k, n_l = B.shape\n",
    "    C = np.zeros((*A.shape, *B.shape), dtype=PETSc.ScalarType)\n",
    "    for i in range(3):\n",
    "        for j in range(3):\n",
    "            for k in range(3):\n",
    "                for l in range(3):\n",
    "                    C[i,j,k,l] = A[i,j] * B[k,l]\n",
    "    return C\n",
    "                    \n",
    "@numba.njit(fastmath=True)\n",
    "def get_C_tang(beta, n_elas):\n",
    "    return C_elas - 3*mu_*(3*mu_/(3*mu_+H)-beta)*tensor_product(n_elas, n_elas) - 2*mu_*beta*DEV \n",
    "\n",
    "@numba.njit(fastmath=True)\n",
    "def inner(A, B):\n",
    "    return np.sum(A * B)\n",
    "\n",
    "def sigma_tang(e):\n",
    "    N_elas = as_3D_tensor(n_elas)\n",
    "    return sigma(e) - 3*mu_*(3*mu_/(3*mu_+H)-beta)*ufl.inner(N_elas, e)*N_elas - 2*mu_*beta*ufl.dev(e)  \n",
    "    "
   ]
  },
  {
   "cell_type": "code",
   "execution_count": 11,
   "metadata": {},
   "outputs": [],
   "source": [
    "unique_value = 17.\n",
    "def get_eval():\n",
    "    this_value = unique_value\n",
    "    @numba.njit(fastmath=True)\n",
    "    def eval():\n",
    "        print(this_value + 1)\n",
    "    \n",
    "    return eval\n"
   ]
  },
  {
   "cell_type": "code",
   "execution_count": 12,
   "metadata": {},
   "outputs": [],
   "source": [
    "ev = get_eval()"
   ]
  },
  {
   "cell_type": "code",
   "execution_count": 13,
   "metadata": {},
   "outputs": [
    {
     "name": "stdout",
     "output_type": "stream",
     "text": [
      "18.0\n"
     ]
    }
   ],
   "source": [
    "ev()"
   ]
  },
  {
   "cell_type": "code",
   "execution_count": 14,
   "metadata": {},
   "outputs": [
    {
     "name": "stdout",
     "output_type": "stream",
     "text": [
      "18.0\n"
     ]
    }
   ],
   "source": [
    "unique_value = 0.\n",
    "ev()"
   ]
  },
  {
   "cell_type": "code",
   "execution_count": 15,
   "metadata": {},
   "outputs": [],
   "source": [
    "# unique_value = 17.\n",
    "# this_value = unique_value\n",
    "# mylist = []\n",
    "# mylist.append(np.array([1,2]))\n",
    "# @numba.njit(fastmath=True)\n",
    "# def eval(mylist):\n",
    "#     a = mylist[0]\n",
    "#     print(a)\n",
    "# ev = eval\n",
    "# ev(mylist)"
   ]
  },
  {
   "cell_type": "code",
   "execution_count": 16,
   "metadata": {},
   "outputs": [],
   "source": [
    "def get_eval(self:ca.CustomFunction):\n",
    "    tabulated_eps = self.tabulated_input_expression\n",
    "    n_gauss_points = len(self.input_expression.X)\n",
    "    # local_dim = self.local_dim # shape * n_gauss_points\n",
    "    local_shape = self.local_shape\n",
    "    \n",
    "    # C_tang_size = np.prod(self.tangent.shape)\n",
    "    C_tang_shape = self.tangent.shape\n",
    "    # sig_old_global = self.global_values\n",
    "    # p_old_global = self.p.x.array.reshape((-1, n_gauss_points, 1))\n",
    "    \n",
    "    @numba.njit(fastmath=True)\n",
    "    def eval(sigma_current_local, sigma_old_local, p_old_local, coeffs_values, constants_values, coordinates, local_index, orientation):\n",
    "        # sigma_local = sigma_old_local.reshape((n_gauss_points, *local_shape))\n",
    "        deps_local = np.zeros(n_gauss_points*3*3, dtype=PETSc.ScalarType)\n",
    "        \n",
    "        # p_new_local = np.zeros((n_gauss_points, 1), dtype=PETSc.ScalarType)\n",
    "        C_tang_local = np.zeros((n_gauss_points, *C_tang_shape), dtype=PETSc.ScalarType)\n",
    "        \n",
    "        # sigma_old_local = sig_old_global[cell].reshape((n_gauss_points, *local_shape))\n",
    "        sigma_old = sigma_old_local.reshape((n_gauss_points, *local_shape))\n",
    "        sigma_new = sigma_current_local.reshape((n_gauss_points, *local_shape))\n",
    "        # p_old = p_old_local.reshape(p_old_local, (n_gauss_points, 1))\n",
    "\n",
    "        # print(sigma_old_local, p_old_local)\n",
    "\n",
    "        tabulated_eps(ca.ffi.from_buffer(deps_local), \n",
    "                      ca.ffi.from_buffer(coeffs_values), \n",
    "                      ca.ffi.from_buffer(constants_values), \n",
    "                      ca.ffi.from_buffer(coordinates), ca.ffi.from_buffer(local_index), ca.ffi.from_buffer(orientation))\n",
    "        \n",
    "        deps_local = deps_local.reshape((n_gauss_points, 3, 3))\n",
    "\n",
    "        n_elas = np.zeros((3, 3), dtype=PETSc.ScalarType) \n",
    "        beta = np.zeros(1, dtype=PETSc.ScalarType) \n",
    "\n",
    "        # new_sig = np.zeros((3, 3), dtype=PETSc.ScalarType)\n",
    "\n",
    "        # print(sig_old_global)\n",
    "        for q in range(n_gauss_points):\n",
    "            sig_n = as_3D_array(sigma_old[q])\n",
    "            sig_elas = sig_n + sigma(deps_local[q])\n",
    "            s = sig_elas - np.trace(sig_elas)*I/3.\n",
    "            sig_eq = np.sqrt(3./2. * inner(s, s))\n",
    "            f_elas = sig_eq - sig0 - H*p_old_local[q]\n",
    "            dp = ppos(f_elas)/(3*mu_+H)\n",
    "\n",
    "            if sig_eq != 0:\n",
    "                n_elas[:,:] = s/sig_eq*ppos(f_elas)/f_elas \n",
    "                beta[:] = 3*mu_*dp/sig_eq                 \n",
    "            \n",
    "            new_sig = sig_elas - beta*s\n",
    "            sigma_new[q][:] = np.array([new_sig[0, 0], new_sig[1, 1], new_sig[2, 2], new_sig[0, 1]])\n",
    "            # p_old_local[q] += dp\n",
    "            # # p_new_local[q][:] = p_old_global[cell][q] + dp\n",
    "            \n",
    "            C_tang_local[q][:] = get_C_tang(beta, n_elas)\n",
    "\n",
    "        # sigma_old_local[:] = sigma_new.flatten()\n",
    "        # print(sigma_old_local.flatten())\n",
    "        \n",
    "        return [C_tang_local.flatten()] # + , p_new_local.flatten() ?\n",
    "    return eval"
   ]
  },
  {
   "cell_type": "code",
   "execution_count": 17,
   "metadata": {},
   "outputs": [],
   "source": [
    "# @numba.njit(fastmath=True)\n",
    "# def local_assembling(coeffs_values_global_b, coeffs_eval_b, coeffs_b, u_local, coeffs_constants_b, geometry, entity_local_index, perm):\n",
    "#     sigma_old_local = coeffs_values_global_b[0][cell]\n",
    "#     C_tang_local, p_new_local = coeffs_eval_b[0](cell, \n",
    "#                                      coeffs_b, \n",
    "#                                      u_local, \n",
    "#                                      coeffs_constants_b[0], \n",
    "#                                      geometry, entity_local_index, perm)\n",
    "        \n",
    "#         [:] = coeffs_b\n",
    "\n",
    "#         for i in range(len(coeffs_dummy_values_b)):\n",
    "#             coeffs_dummy_values_b[i][:] = output_values[i] #C_tang update\n",
    "\n",
    "#         coeffs_A = coeffs_dummy_values_b[0]\n",
    "\n",
    "#         for i in range(len(coeffs_coeff_values_b)):\n",
    "#             coeffs_coeff_values_b[i][cell][:] = output_values[len(coeffs_dummy_values_b) + i]\n"
   ]
  },
  {
   "cell_type": "code",
   "execution_count": 18,
   "metadata": {},
   "outputs": [],
   "source": [
    "n = ufl.FacetNormal(mesh)\n",
    "q_lim = float(2/np.sqrt(3)*np.log(Re/Ri)*sig0)\n",
    "\n",
    "loading = fem.Constant(mesh, PETSc.ScalarType(17.76))\n",
    "\n",
    "def F_ext(v):\n",
    "    return -loading * ufl.inner(n, v)*ds(4)\n",
    "\n",
    "def eps(v):\n",
    "    e = ufl.sym(ufl.grad(v))\n",
    "    return ufl.as_tensor([[e[0, 0], e[0, 1], 0],\n",
    "                          [e[0, 1], e[1, 1], 0],\n",
    "                          [0, 0, 0]])\n",
    "\n",
    "def as_3D_tensor(X):\n",
    "    return ufl.as_tensor([[X[0], X[3], 0],\n",
    "                          [X[3], X[1], 0],\n",
    "                          [0, 0, X[2]]])\n",
    "\n",
    "def inner_product(C, epsilon):\n",
    "    i, j, k, l = ufl.indices(4)\n",
    "    return ufl.as_tensor( (C[i,j,k,l] * epsilon[k,l]), (i,j) )\n",
    "\n",
    "def my_sigma(eps_el):\n",
    "    return lambda_*ufl.tr(eps_el)*ufl.Identity(3) + 2*mu_*eps_el\n",
    "\n",
    "\n",
    "pppos = lambda x: (x + ufl.sqrt(x**2))/2.\n",
    "def proj_sig(deps):\n",
    "    # sig_n = as_3D_tensor(old_sig)\n",
    "    sig_elas = my_sigma(deps)\n",
    "    # s = ufl.dev(sig_elas)\n",
    "    # sig_eq = ufl.sqrt(3/2.*ufl.inner(s, s))\n",
    "    # f_elas = sig_eq - sig0 - H*old_p\n",
    "    # dp = pppos(f_elas)/(3*mu_+H)\n",
    "    # n_elas = s/sig_eq*pppos(f_elas)/f_elas\n",
    "    # beta = 3*mu_*dp/sig_eq\n",
    "    new_sig = sig_elas\n",
    "    # -beta*s\n",
    "    return ufl.as_vector([new_sig[0, 0], new_sig[1, 1], new_sig[2, 2], new_sig[0, 1]])\n",
    "    # , \\\n",
    "    #        ufl.as_vector([n_elas[0, 0], n_elas[1, 1], n_elas[2, 2], n_elas[0, 1]]), \\\n",
    "    #        beta, dp         \n",
    "\n",
    "# def sigma_tang(e):\n",
    "#     N_elas = as_3D_tensor(n_elas)\n",
    "#     return sigma(e) - 3*mu_*(3*mu_/(3*mu_+H)-beta)*ufl.inner(N_elas, e)*N_elas - 2*mu_*beta*ufl.dev(e)  \n",
    "\n"
   ]
  },
  {
   "cell_type": "code",
   "execution_count": 19,
   "metadata": {},
   "outputs": [],
   "source": [
    "# QTe = ufl.TensorElement(\"Quadrature\", mesh.ufl_cell(), degree=deg_stress, shape=(C_elas.shape), quad_scheme='default')\n",
    "# QT = fem.FunctionSpace(mesh, QTe)\n",
    "\n",
    "# QTVoigte = ufl.TensorElement(\"Quadrature\", mesh.ufl_cell(), degree=deg_stress, shape=(6, 6), quad_scheme='default')\n",
    "# QTVoigt = fem.FunctionSpace(mesh, QTe)\n",
    "\n",
    "# C_tang_tmp = fem.Function(QT)\n",
    "# C_tang_tmp_Voigt = fem.Function(QTVoigt)\n",
    "# Voigt_map = np.array([[0, 5, 4], [5, 1, 3], [4, 3, 2]], dtype=np.uint8)\n",
    "# def to_Voigt_ufl_tensor(A, A_Voigt):\n",
    "#     assert A.shape == (3, 3, 3, 3)\n",
    "#     for i in range(3):\n",
    "#         for j in range(3):\n",
    "#             for k in range(3):\n",
    "#                 for l in range(3):\n",
    "#                     alpha = Voigt_map[i,j] \n",
    "#                     beta = Voigt_map[k,l]\n",
    "#                     A_Voigt[alpha, beta] = A[i,j,k,l]"
   ]
  },
  {
   "cell_type": "code",
   "execution_count": 20,
   "metadata": {},
   "outputs": [],
   "source": [
    "sig = ca.CustomFunction(W, eps(Du), [C_tang, p, sig_old], get_eval)"
   ]
  },
  {
   "cell_type": "code",
   "execution_count": 21,
   "metadata": {},
   "outputs": [],
   "source": [
    "ds = ufl.Measure(\"ds\", domain=mesh, subdomain_data=ft)\n",
    "dx = ufl.Measure(\n",
    "    \"dx\",\n",
    "    domain=mesh,\n",
    "    metadata={\"quadrature_degree\": deg_stress, \"quadrature_scheme\": \"default\"},\n",
    ")\n",
    "\n",
    "a_Newton = ufl.inner(eps(v), inner_product(sig.tangent, eps(u_)))*dx\n",
    "res = -ufl.inner(eps(u_), as_3D_tensor(sig))*dx \n",
    "res_Neumann = F_ext(u_)\n",
    "\n",
    "# a_Newton = ufl.inner(eps(v), sigma_tang(eps(u_)))*dx\n",
    "# res = -ufl.inner(eps(u_), as_3D_tensor(sig))*dx + F_ext(u_)\n",
    "\n",
    "def project(original_field, target_field, bcs=[]):\n",
    "    # original_field -> target_field\n",
    "    # Ensure we have a mesh and attach to measure\n",
    "    V = target_field.function_space\n",
    "\n",
    "    # Define variational problem for projection\n",
    "    w = ufl.TestFunction(V)\n",
    "    Pv = ufl.TrialFunction(V)\n",
    "    a = fem.form(ufl.inner(Pv, w) * dx)\n",
    "    L = fem.form(ufl.inner(original_field, w) * dx)\n",
    "\n",
    "    # Assemble linear system\n",
    "    A = fem.petsc.assemble_matrix(a, bcs)\n",
    "    A.assemble()\n",
    "    b = fem.petsc.assemble_vector(L)\n",
    "    fem.petsc.apply_lifting(b, [a], [bcs])\n",
    "    b.ghostUpdate(addv=PETSc.InsertMode.ADD, mode=PETSc.ScatterMode.REVERSE)\n",
    "    fem.petsc.set_bc(b, bcs)\n",
    "\n",
    "    # Solve linear system\n",
    "    solver = PETSc.KSP().create(A.getComm())\n",
    "    solver.setOperators(A)\n",
    "    solver.solve(b, target_field.vector)  \n",
    "    target_field.x.scatter_forward()\n"
   ]
  },
  {
   "cell_type": "code",
   "execution_count": 22,
   "metadata": {},
   "outputs": [],
   "source": [
    "# def sigma(eps_el):\n",
    "#     return lambda_*ufl.tr(eps_el)*ufl.Identity(3) + 2*mu_*eps_el\n",
    "\n",
    "# a_Newton = ufl.inner(eps(v), sigma(eps(u_)))*dx\n",
    "# # a_Newton = ufl.inner(eps(v), inner_product(C_elas_const, eps(u_)))*dx\n",
    "\n",
    "# # b = fem.petsc.create_vector(fem.form(res))\n",
    "# A = fem.petsc.create_matrix(fem.form(a_Newton))\n",
    "# A.zeroEntries()\n",
    "# fem.petsc.assemble_matrix(A, fem.form(a_Newton), bcs=bcs)\n",
    "# A.assemble()\n",
    "# A.norm()"
   ]
  },
  {
   "cell_type": "code",
   "execution_count": 23,
   "metadata": {},
   "outputs": [
    {
     "data": {
      "text/plain": [
       "20379404.267960504"
      ]
     },
     "execution_count": 23,
     "metadata": {},
     "output_type": "execute_result"
    }
   ],
   "source": [
    "24426291.183643162\n",
    "20379404.267960504"
   ]
  },
  {
   "cell_type": "code",
   "execution_count": 24,
   "metadata": {},
   "outputs": [],
   "source": [
    "my_solver = ca.CustomSolver(a_Newton, res, Du, bcs)"
   ]
  },
  {
   "cell_type": "code",
   "execution_count": 25,
   "metadata": {},
   "outputs": [],
   "source": [
    "# Defining a cell containing (Ri, 0) point, where we calculate a value of u\n",
    "\n",
    "cells = []\n",
    "points_on_proc = []\n",
    "x_point = np.zeros((1, 3))\n",
    "x_point[0][0] = Ri\n",
    "tree = BoundingBoxTree(mesh, mesh.geometry.dim)\n",
    "cell_candidates = compute_collisions(tree, x_point)\n",
    "colliding_cells = compute_colliding_cells(mesh, cell_candidates, x_point)\n",
    "for i, point in enumerate(x_point):\n",
    "    if len(colliding_cells.links(i)) > 0:\n",
    "        points_on_proc.append(point)\n",
    "        cells.append(colliding_cells.links(i)[0])"
   ]
  },
  {
   "cell_type": "code",
   "execution_count": 26,
   "metadata": {},
   "outputs": [
    {
     "name": "stdout",
     "output_type": "stream",
     "text": [
      "\n",
      "nRes0 , 2.853682976691151 \n",
      " Increment: 1, load = 17.7621446711497\n",
      "sig 0.0 0.0 0.0\n",
      "24426291.18364316 2.853682384400221\n",
      "    Residual: (2.853682384400221, 0.9999997924468362)\n",
      "sig 0.0 68.92404472194133 -43.195592830915594\n",
      "24426291.18364316 4.765682153459638e-12\n",
      "    Residual: (4.765682153459638e-12, 1.6700110672368563e-12)\n",
      "\n",
      "nRes0 , 4.035717168349851 \n",
      " Increment: 2, load = 25.119465890772904\n",
      "sig 0.0 68.92404472194133 -43.195592830915594\n",
      "24426291.18364316 1.1820339463234755\n",
      "    Residual: (1.1820339463234755, 0.29289315802246685)\n",
      "sig 0.0 97.4733188193562 -61.08779321622851\n",
      "24426291.18364316 1.9882371198588847e-12\n",
      "    Residual: (1.9882371198588847e-12, 4.926601733767798e-13)\n",
      "\n",
      "nRes0 , 4.942723904323467 \n",
      " Increment: 3, load = 30.764937021820067\n",
      "sig 0.0 97.4733188193562 -61.08779321622851\n",
      "24426291.18364316 0.9070065477213867\n",
      "    Residual: (0.9070065477213867, 0.1835033809855363)\n",
      "sig 0.0 119.37994732151927 -74.81696144620548\n",
      "24426291.18364316 1.479133233507551e-12\n",
      "    Residual: (1.479133233507551e-12, 2.9925467457604367e-13)\n",
      "\n",
      "nRes0 , 5.707365953382302 \n",
      " Increment: 4, load = 35.5242893422994\n",
      "sig 0.0 119.37994732151927 -74.81696144620548\n",
      "24426291.18364316 0.7646418903548728\n",
      "    Residual: (0.7646418903548728, 0.1339745684086948)\n",
      "sig 0.0 137.84808944384187 -86.39118566183336\n",
      "24426291.18364316 1.2704578136145208e-12\n",
      "    Residual: (1.2704578136145208e-12, 2.2259967627651798e-13)\n",
      "\n",
      "nRes0 , 6.381029122115362 \n",
      " Increment: 5, load = 39.717362910876375\n",
      "sig 0.0 137.84808944384187 -86.39118566183336\n",
      "24426291.18364316 0.6736630289120594\n",
      "    Residual: (0.6736630289120594, 0.10557278708810136)\n",
      "sig 0.0 154.11884928244908 -96.58828189833183\n",
      "24426291.18364316 1.133344836556522e-12\n",
      "    Residual: (1.133344836556522e-12, 1.7761160697865757e-13)\n",
      "\n",
      "nRes0 , 6.990067180559943 \n",
      " Increment: 6, load = 43.50819118181207\n",
      "sig 0.0 154.11884928244908 -96.58828189833183\n",
      "24426291.18364316 0.6090379320367423\n",
      "    Residual: (0.6090379320367423, 0.08712905274079998)\n",
      "sig 0.0 168.82874057747134 -105.80716157276873\n",
      "24426291.18364316 1.0191161282182867e-12\n",
      "    Residual: (1.0191161282182867e-12, 1.4579489751579896e-13)\n",
      "\n",
      "nRes0 , 7.550135476943317 \n",
      " Increment: 7, load = 46.99421755101324\n",
      "sig 0.0 168.82874057747134 -105.80716157276873\n",
      "24426291.18364316 0.5600681801393637\n",
      "    Residual: (0.5600681801393637, 0.07417988483116704)\n",
      "sig 0.0 182.35588168689273 -114.2847963646099\n",
      "24426291.18364316 9.09688287617079e-13\n",
      "    Residual: (9.09688287617079e-13, 1.2048635291314898e-13)\n",
      "\n",
      "nRes0 , 8.071434336699703 \n",
      " Increment: 8, load = 50.23893178154581\n",
      "sig 0.0 182.35588168689273 -114.2847963646099\n",
      "24426291.18364316 0.5212987515591012\n",
      "    Residual: (0.5212987515591012, 0.064585639901551)\n",
      "sig 0.0 194.94663763869605 -122.17558643245654\n",
      "24426291.18364316 8.458536876257281e-13\n",
      "    Residual: (8.458536876257281e-13, 1.0479595724142209e-13)\n",
      "\n",
      "nRes0 , 8.561048930073454 \n",
      " Increment: 9, load = 53.286434013449096\n",
      "sig 0.0 194.94663763869605 -122.17558643245654\n",
      "24426291.18364316 0.4896144917526492\n",
      "    Residual: (0.4896144917526492, 0.057190946547767046)\n",
      "sig 0.0 206.7721341657572 -129.58677849274972\n",
      "24426291.18364316 8.162564225204468e-13\n",
      "    Residual: (8.162564225204468e-13, 9.534537522067909e-14)\n",
      "\n",
      "nRes0 , 9.024137926393228 \n",
      " Increment: 10, load = 56.16883329025551\n",
      "sig 0.0 206.7721341657572 -129.58677849274972\n",
      "24426291.18364316 0.4630889002041465\n",
      "    Residual: (0.4630889002041465, 0.051316691298537595)\n",
      "sig 0.0 217.95696687257055 -136.59645822693702\n",
      "24426291.18364316 7.719336379775831e-13\n",
      "    Residual: (7.719336379775831e-13, 8.554098400024232e-14)\n",
      "\n",
      "nRes0 , 9.464595704309062 \n",
      " Increment: 11, load = 58.910369346214146\n",
      "sig 0.0 217.95696687257055 -136.59645822693702\n",
      "24426291.18364316 0.44045768649738437\n",
      "    Residual: (0.44045768649738437, 0.046537401095416236)\n",
      "sig 0.0 228.31470674889954 -142.9556614923191\n",
      "24371658.925494663 0.020814543568062328\n",
      "    Residual: (0.020814543568062328, 0.002199200496074633)\n",
      "sig 0.0 228.15632493155573 -142.88370823195774\n",
      "24376591.338791262 0.0025488328939251405\n",
      "    Residual: (0.0025488328939251405, 0.0002693018247746919)\n",
      "sig 0.0 228.15623185864007 -142.88327959878643\n",
      "24376592.4573184 3.7654633465919235e-08\n",
      "    Residual: (3.7654633465919235e-08, 3.978472471758698e-09)\n",
      "sig 0.0 228.15623185824043 -142.88327959023812\n",
      "24376592.457297314 2.1090213039298697e-13\n",
      "    Residual: (2.1090213039298697e-13, 2.2283268824358446e-14)\n",
      "\n",
      "nRes0 , 9.885447808646934 \n",
      " Increment: 12, load = 61.529874043640135\n",
      "sig 0.0 228.1523034873567 -142.88327959023812\n",
      "24376711.381716695 0.4209893249869223\n",
      "    Residual: (0.4209893249869223, 0.0425867733193308)\n",
      "sig 0.0 232.48869292451673 -143.24107794473565\n",
      "24171256.892135922 0.5666191683413799\n",
      "    Residual: (0.5666191683413799, 0.05731851296061172)\n",
      "sig 0.0 231.94610434757584 -143.25137017616865\n",
      "24156578.24000895 0.011700495497535261\n",
      "    Residual: (0.011700495497535261, 0.001183608039213022)\n",
      "sig 0.0 231.92794871047877 -143.2513647405304\n",
      "24157574.664594073 0.0003709644238770526\n",
      "    Residual: (0.0003709644238770526, 3.752631454414893e-05)\n",
      "sig 0.0 231.92794309725886 -143.25136342243565\n",
      "24157574.632557787 1.1410008568500882e-09\n",
      "    Residual: (1.1410008568500882e-09, 1.1542227311665532e-10)\n",
      "\n",
      "nRes0 , 10.289100296378654 \n",
      " Increment: 13, load = 64.0423233740397\n",
      "sig 0.0 231.9234542116307 -143.1727469111146\n",
      "24172582.952838033 0.4150626877873199\n",
      "    Residual: (0.4150626877873199, 0.04034003711028117)\n",
      "sig 0.0 238.55578549517176 -143.46278824564817\n",
      "23846195.964113735 1.0178857534523438\n",
      "    Residual: (1.0178857534523438, 0.09892854808797988)\n",
      "sig 0.0 236.28293470176865 -143.4490347488271\n",
      "23828327.179115474 0.01654716712118482\n",
      "    Residual: (0.01654716712118482, 0.0016082229392796134)\n",
      "sig 0.0 236.3008706860111 -143.4486281537284\n",
      "23829090.83145419 0.0013662915050837007\n",
      "    Residual: (0.0013662915050837007, 0.00013279018239958064)\n",
      "sig 0.0 236.3008494649705 -143.44862651940358\n",
      "23829090.877554644 1.39422550651317e-08\n",
      "    Residual: (1.39422550651317e-08, 1.3550509435736387e-09)\n",
      "sig 0.0 236.3008494644127 -143.4486265193626\n",
      "23829090.877542786 2.342159391106565e-13\n",
      "    Residual: (2.342159391106565e-13, 2.276350043872067e-14)\n",
      "\n",
      "nRes0 , 10.677503989247494 \n",
      " Increment: 14, load = 66.45985981375466\n",
      "sig 0.0 236.2990761876797 -143.3610838254177\n",
      "23872982.84235909 0.40153442629463265\n",
      "    Residual: (0.40153442629463265, 0.037605645167539864)\n",
      "sig 0.0 242.42774973124668 -143.63431596246548\n",
      "23484691.075948745 1.0272258743462876\n",
      "    Residual: (1.0272258743462876, 0.0962046818601734)\n",
      "sig 0.0 241.3272497853572 -143.62364420469987\n",
      "23445174.894683585 0.033952877235466625\n",
      "    Residual: (0.033952877235466625, 0.0031798515148913076)\n",
      "sig 0.0 241.2705372714734 -143.6228437678354\n",
      "23446910.087953944 0.000661580463643437\n",
      "    Residual: (0.000661580463643437, 6.196021694861127e-05)\n",
      "sig 0.0 241.27055477340735 -143.6228424676556\n",
      "23446910.040844325 2.456980312853671e-09\n",
      "    Residual: (2.456980312853671e-09, 2.3010811471743862e-10)\n",
      "\n",
      "nRes0 , 11.052266644080438 \n",
      " Increment: 15, load = 68.7924905042896\n",
      "sig 0.0 241.26859523053335 -143.5282760562998\n",
      "23529307.02931644 0.38954373070908693\n",
      "    Residual: (0.38954373070908693, 0.03524559651460503)\n",
      "sig 0.0 248.54110096676754 -143.76119609875968\n",
      "23042649.18996882 1.0004961815335032\n",
      "    Residual: (1.0004961815335032, 0.09052407200738014)\n",
      "sig 0.0 246.54206438462697 -143.79524324853196\n",
      "22997729.062569883 0.03381916499218339\n",
      "    Residual: (0.03381916499218339, 0.003059930246099956)\n",
      "sig 0.0 246.40997856420674 -143.7951183533177\n",
      "22998987.57096573 0.0005288918191552167\n",
      "    Residual: (0.0005288918191552167, 4.7853697000559574e-05)\n",
      "sig 0.0 246.40994409542097 -143.79514269680666\n",
      "22998987.390060388 1.791200025226158e-09\n",
      "    Residual: (1.791200025226158e-09, 1.620663057550751e-10)\n",
      "\n",
      "nRes0 , 11.414731906764604 \n",
      " Increment: 16, load = 71.0485786845988\n",
      "sig 0.0 246.4037017668479 -143.6835085107059\n",
      "23135910.2520725 0.37964125222001727\n",
      "    Residual: (0.37964125222001727, 0.03325888468699244)\n",
      "sig 0.0 254.52472352380656 -143.92970984423587\n",
      "22545111.03604133 1.1939215692356202\n",
      "    Residual: (1.1939215692356202, 0.10459479723111831)\n",
      "sig 0.0 253.07052133062587 -143.96234743228993\n",
      "22464877.26490247 0.0579285493189717\n",
      "    Residual: (0.0579285493189717, 0.005074893549154847)\n",
      "sig 0.0 252.87976619377187 -143.96268575158214\n",
      "22458671.60998098 0.0021663868166584134\n",
      "    Residual: (0.0021663868166584134, 0.00018978867259900937)\n",
      "sig 0.0 252.87944245508922 -143.96267664003372\n",
      "22458665.316811323 1.822712427256701e-07\n",
      "    Residual: (1.822712427256701e-07, 1.5968070403620467e-08)\n",
      "sig 0.0 252.87944243143394 -143.96267663930823\n",
      "22458665.316440348 3.4189120585164994e-13\n",
      "    Residual: (3.4189120585164994e-13, 2.995175082903508e-14)\n",
      "\n",
      "nRes0 , 11.766036334924635 \n",
      " Increment: 17, load = 73.23519861665207\n",
      "sig 0.0 252.8727640688922 -143.82691263611324\n",
      "22679866.331112936 0.37231565113066434\n",
      "    Residual: (0.37231565113066434, 0.03164325185921238)\n",
      "sig 0.0 261.51983245174176 -144.09449308611516\n",
      "21839521.708863277 1.4308389229936194\n",
      "    Residual: (1.4308389229936194, 0.12160755604217538)\n",
      "sig 0.0 262.77836365956597 -144.1474771118908\n",
      "21653426.23942361 0.159844822230266\n",
      "    Residual: (0.159844822230266, 0.013585273551791207)\n",
      "sig 0.0 262.3663484181384 -144.14752836512153\n",
      "21655657.453300953 0.011259699994896141\n",
      "    Residual: (0.011259699994896141, 0.0009569662777153291)\n",
      "sig 0.0 262.3648957270989 -144.1474676375275\n",
      "21656531.78657074 1.5531990009073165e-05\n",
      "    Residual: (1.5531990009073165e-05, 1.3200698660916257e-06)\n",
      "sig 0.0 262.3648955082863 -144.1474675841662\n",
      "21656531.77346469 3.5585722159402453e-12\n",
      "    Residual: (3.5585722159402453e-12, 3.024444353768893e-13)\n",
      "\n",
      "nRes0 , 12.107151505049552 \n",
      " Increment: 18, load = 75.3583976723187\n",
      "sig 0.0 262.3648955082863 -143.96341863621066\n",
      "22043895.07384856 0.3699204061924101\n",
      "    Residual: (0.3699204061924101, 0.03055387603253554)\n",
      "sig 0.0 275.3871979382106 -144.3149029234986\n",
      "20544537.03554985 2.0248254950642663\n",
      "    Residual: (2.0248254950642663, 0.16724210432319844)\n",
      "sig 0.0 281.39859107878993 -144.49771247584184\n",
      "19475592.35090936 1.1524397476060677\n",
      "    Residual: (1.1524397476060677, 0.09518669582398613)\n",
      "sig 0.0 284.397463812527 -144.73196291569516\n",
      "18878890.526543967 0.3002850589863674\n",
      "    Residual: (0.3002850589863674, 0.024802288041173598)\n",
      "sig 0.0 282.0941423260286 -144.77497156134157\n",
      "18814051.355408743 0.01794638019285855\n",
      "    Residual: (0.01794638019285855, 0.0014822958303093523)\n",
      "sig 0.0 282.0564658728855 -144.77620419003995\n",
      "18812749.020414807 3.875220411556598e-05\n",
      "    Residual: (3.875220411556598e-05, 3.2007697350944627e-06)\n",
      "sig 0.0 282.0564509147083 -144.77620626736254\n",
      "18812747.233282447 2.2134806720384899e-10\n",
      "    Residual: (2.2134806720384899e-10, 1.8282423170432032e-11)\n",
      "\n",
      "nRes0 , 12.438915712299062 \n",
      " Increment: 19, load = 77.42339364209101\n",
      "sig 0.0 281.9051759853867 -144.1628442559776\n",
      "20496579.173764676 0.4294567954788652\n",
      "    Residual: (0.4294567954788652, 0.034525259710075605)\n",
      "sig 0.0 299.79308660447805 -146.66210891862013\n",
      "16488872.500280088 2.188036760874064\n",
      "    Residual: (2.188036760874064, 0.1759025313364434)\n",
      "sig 0.0 293.36550697130434 -148.43492415648637\n",
      "15657458.873321304 0.29449710497004694\n",
      "    Residual: (0.29449710497004694, 0.02367546430746057)\n",
      "sig 0.0 292.0548865282256 -148.58494488535385\n",
      "15609629.186849754 0.0013031236683435736\n",
      "    Residual: (0.0013031236683435736, 0.00010476183764595344)\n",
      "sig 0.0 292.0487759232034 -148.58543422912055\n",
      "15609476.124961063 1.6120617516319706e-08\n",
      "    Residual: (1.6120617516319706e-08, 1.2959825349069884e-09)\n",
      "sig 0.0 292.04877585056374 -148.5854342346361\n",
      "15609476.123237882 8.543597389154624e-12\n",
      "    Residual: (8.543597389154624e-12, 6.868442223390167e-13)\n",
      "\n",
      "nRes0 , 12.762058244230724 \n",
      " Increment: 20, load = 79.43472582175275\n",
      "sig 0.0 289.4497932078576 -144.35741532774847\n",
      "20297318.84713191 1.0947118931605266\n",
      "    Residual: (1.0947118931605266, 0.08577863164473545)\n",
      "sig 0.0 315.0298061377856 -152.2374430267319\n",
      "14926894.084272832 3.3878842683003216\n",
      "    Residual: (3.3878842683003216, 0.26546535076596006)\n",
      "sig 0.0 298.6524302288095 -153.28723659641085\n",
      "14815465.367997788 0.016247120370780424\n",
      "    Residual: (0.016247120370780424, 0.0012730799421108404)\n",
      "sig 0.0 298.5703382411746 -153.29035209160944\n",
      "14815163.774807489 3.702122297670561e-07\n",
      "    Residual: (3.702122297670561e-07, 2.900881838040631e-08)\n",
      "sig 0.0 298.57033727313996 -153.29035212900777\n",
      "14815163.771553239 1.6817129805978148e-11\n",
      "    Residual: (1.6817129805978148e-11, 1.3177443233798576e-12)\n",
      "rank#0: Time = 11.894 (s)\n"
     ]
    }
   ],
   "source": [
    "Nitermax, tol = 20, 1e-8  # parameters of the Newton-Raphson procedure\n",
    "Nincr = 20\n",
    "load_steps = np.linspace(0, 1.1, Nincr+1)[1:]**0.5\n",
    "load_steps = load_steps\n",
    "\n",
    "results = np.zeros((Nincr+1, 2))\n",
    "# xdmf = io.XDMFFile(MPI.COMM_WORLD, \"plasticity.xdmf\", \"w\", encoding=io.XDMFFile.Encoding.HDF5)\n",
    "# xdmf.write_mesh(mesh)\n",
    "\n",
    "Res_Neumann = fem.petsc.create_vector(fem.form(res_Neumann))\n",
    "\n",
    "start = time.time()\n",
    "\n",
    "for (i, t) in enumerate(load_steps):\n",
    "    loading.value = t * q_lim\n",
    "    with Res_Neumann.localForm() as b_local:\n",
    "        b_local.set(0.0)\n",
    "    fem.petsc.assemble_vector(Res_Neumann, fem.form(res_Neumann))\n",
    "    # print(t * q_lim, Res_Neumann.norm())\n",
    "    # my_solver.data_extraction() ##!!!!!!\n",
    "    # print(my_solver.constants_values_b)\n",
    "    # Res0 = fem.petsc.assemble_vector(fem.form(res))\n",
    "    # Res0.ghostUpdate(addv=PETSc.InsertMode.ADD, mode=PETSc.ScatterMode.REVERSE)\n",
    "    # fem.set_bc(Res0, bcs, du.vector)\n",
    "\n",
    "    # nRes0 = Res0.norm() # Which one? - ufl.sqrt(Res.dot(Res))\n",
    "    nRes0 = Res_Neumann.norm()\n",
    "    nRes = nRes0\n",
    "    nRes = 1\n",
    "    # zero_Du.vector.copy(Du.vector)\n",
    "    Du_tmp.vector.set(0.0)\n",
    "    Du.vector.set(0.0)\n",
    "    Du_tmp.x.scatter_forward()\n",
    "    if MPI.COMM_WORLD.rank == 0:\n",
    "        print(f\"\\nnRes0 , {nRes0} \\n Increment: {str(i+1)}, load = {loading.value}\")\n",
    "    niter = 0\n",
    "    # print('sig', sig.vector.norm(), np.max(sig.x.array), np.min(sig.x.array))\n",
    "     \n",
    "    while nRes > tol and niter < Nitermax:\n",
    "        # print('Du', Du.vector.norm(), np.max(Du.x.array), np.min(Du.x.array))\n",
    "        my_solver.solve(du, b_additional=Res_Neumann)\n",
    "        du.x.scatter_forward() \n",
    "        print('sig', sig.vector.norm(), np.max(sig.x.array), np.min(sig.x.array))\n",
    "        # for j in range(1478):\n",
    "        #     print(sig.x.array.reshape((1478, -1))[j])\n",
    "        # for j in range(1478):\n",
    "        #     print(my_solver.coeffs_values_global_b[0][j])\n",
    "        # print(du.vector.norm(), np.max(du.x.array), np.min(du.x.array))\n",
    "        print(my_solver.A.norm(), my_solver.b.norm())\n",
    "\n",
    "        Du_tmp.vector.axpy(1, du.vector) # Du = Du + 1*du\n",
    "        Du_tmp.x.scatter_forward() \n",
    "        Du_tmp.vector.copy(Du.vector)\n",
    "\n",
    "        deps = eps(Du_tmp)\n",
    "        # sig_ = proj_sig(deps)\n",
    "\n",
    "        # project(sig_, sig)\n",
    "        # project(n_elas_, n_elas)\n",
    "        # project(beta_, beta)\n",
    "        # interpolate_quadrature(sig_, sig2)\n",
    "        # interpolate_quadrature(n_elas_, n_elas)\n",
    "        # interpolate_quadrature(beta_, beta)\n",
    "        # sig.x.scatter_forward()\n",
    "        # p.x.scatter_forward()\n",
    "\n",
    "        # print('sig2', sig2.vector.norm(), np.max(sig2.x.array), np.min(sig2.x.array))\n",
    "\n",
    "        # for j in range(1478):\n",
    "        #     print(sig2.x.array.reshape((1478, -1))[j])\n",
    "\n",
    "        # print(sig.vector.norm(), p.vector.norm())\n",
    "\n",
    "        # Res = fem.petsc.assemble_vector(fem.form(res))\n",
    "        # Res.ghostUpdate(addv=PETSc.InsertMode.ADD, mode=PETSc.ScatterMode.REVERSE)\n",
    "        # fem.set_bc(Res, bcs, du.vector)\n",
    "        # print(sig.tangent.value.reshape((3, *C_elas.shape)) == C_elas)\n",
    "        # print(np.max(np.abs(my_solver.b.array)))\n",
    "\n",
    "        nRes = my_solver.b.norm() \n",
    "        if MPI.COMM_WORLD.rank == 0:\n",
    "            print(f\"    Residual: {nRes, nRes/nRes0}\")\n",
    "        niter += 1\n",
    "    u.vector.axpy(1, Du.vector) # u = u + 1*Du\n",
    "    u.x.scatter_forward()\n",
    "\n",
    "    sig.sig_old.x.array[:] = sig.x.array\n",
    "    # sig.vector.copy(sig_old.vector)\n",
    "    # sig.x.scatter_forward()\n",
    "    # print(sig.vector.norm(), np.max(sig.x.array), np.min(sig.x.array))\n",
    "\n",
    "    # print(sig.vector.norm(), p.vector.norm())\n",
    "\n",
    "    # project(dp_, dp)\n",
    "    # interpolate_quadrature(dp_, dp)\n",
    "    # p.vector.axpy(1, sig.dp.vector)\n",
    "    p.x.scatter_forward()\n",
    "\n",
    "    # print(np.max(p.x.array), np.min(p.x.array))\n",
    "    project(p, p_avg)\n",
    "    # interpolate_quadrature(p, p_avg)\n",
    "    p_avg.x.scatter_forward()\n",
    "    \n",
    "    # xdmf.write_function(u, t)\n",
    "    # xdmf.write_function(p_avg, t)\n",
    "\n",
    "    if len(points_on_proc) > 0:\n",
    "        results[i+1, :] = (u.eval(points_on_proc, cells)[0], t)\n",
    "\n",
    "# xdmf.close()\n",
    "end = time.time()\n",
    "print(f'rank#{MPI.COMM_WORLD.rank}: Time = {end-start:.3f} (s)')\n",
    "# 24426291.183643162"
   ]
  },
  {
   "cell_type": "code",
   "execution_count": 27,
   "metadata": {},
   "outputs": [
    {
     "data": {
      "text/plain": [
       "array([ 0.00000000e+00, -4.02178291e-14, -3.48165941e-13, ...,\n",
       "        2.79776202e-13, -1.87573915e-13,  4.54688370e-14])"
      ]
     },
     "execution_count": 27,
     "metadata": {},
     "output_type": "execute_result"
    }
   ],
   "source": [
    "my_solver.b.array"
   ]
  },
  {
   "cell_type": "code",
   "execution_count": 28,
   "metadata": {},
   "outputs": [
    {
     "data": {
      "text/plain": [
       "array([0., 0., 0., ..., 0., 0., 0.])"
      ]
     },
     "execution_count": 28,
     "metadata": {},
     "output_type": "execute_result"
    }
   ],
   "source": [
    "p.x.array"
   ]
  },
  {
   "cell_type": "code",
   "execution_count": 29,
   "metadata": {},
   "outputs": [
    {
     "data": {
      "text/plain": [
       "array([294.34460148,  -5.35636042, 140.30163536, ..., 296.08252323,\n",
       "       141.99539661,  -4.57454409])"
      ]
     },
     "execution_count": 29,
     "metadata": {},
     "output_type": "execute_result"
    }
   ],
   "source": [
    "sig.x.array"
   ]
  },
  {
   "cell_type": "code",
   "execution_count": 30,
   "metadata": {},
   "outputs": [
    {
     "data": {
      "image/png": "[encoded data removed]",
      "text/plain": [
       "<Figure size 432x288 with 1 Axes>"
      ]
     },
     "metadata": {
      "needs_background": "light"
     },
     "output_type": "display_data"
    }
   ],
   "source": [
    "if len(points_on_proc) > 0:\n",
    "    import matplotlib.pyplot as plt\n",
    "    plt.plot(results[:, 0], results[:, 1], \"-o\")\n",
    "    plt.xlabel(\"Displacement of inner boundary\")\n",
    "    plt.ylabel(r\"Applied pressure $q/q_{lim}$\")\n",
    "    plt.savefig(f\"displacement_rank{MPI.COMM_WORLD.rank:d}.png\")\n",
    "    plt.show()"
   ]
  },
  {
   "cell_type": "code",
   "execution_count": 31,
   "metadata": {},
   "outputs": [
    {
     "data": {
      "text/plain": [
       "<dolfinx.cpp.la.Vector_float64 at 0x7f89065c6470>"
      ]
     },
     "execution_count": 31,
     "metadata": {},
     "output_type": "execute_result"
    }
   ],
   "source": [
    "u.x"
   ]
  },
  {
   "cell_type": "code",
   "execution_count": 32,
   "metadata": {},
   "outputs": [
    {
     "data": {
      "text/plain": [
       "<petsc4py.PETSc.Vec at 0x7f89066725e0>"
      ]
     },
     "execution_count": 32,
     "metadata": {},
     "output_type": "execute_result"
    }
   ],
   "source": [
    "u.vector"
   ]
  },
  {
   "cell_type": "code",
   "execution_count": 33,
   "metadata": {},
   "outputs": [],
   "source": [
    "  # A.zeroEntries()\n",
    "    # fem.petsc.assemble_matrix(A, fem.form(a_Newton), bcs=bcs)\n",
    "    # A.assemble()\n",
    "\n",
    "    # Res0 = fem.petsc.assemble_vector(fem.form(res))\n",
    "    # with Res0.localForm() as loc_b:\n",
    "    #     loc_b.set(0.)\n",
    "    # fem.petsc.assemble_vector(Res0, fem.form(res))\n",
    "    # Res0.assemble()\n",
    "\n",
    "    # fem.petsc.apply_lifting(Res0, [fem.form(a_Newton)], [bcs], x0=[Du.vector], scale=-1.0)\n",
    "    # Res0.ghostUpdate(addv=PETSc.InsertMode.ADD, mode=PETSc.ScatterMode.REVERSE)\n",
    "    # fem.petsc.set_bc(Res, bcs, Du.vector, -1.0)\n",
    "\n",
    "    # solver.setOperators(A)"
   ]
  },
  {
   "cell_type": "code",
   "execution_count": 34,
   "metadata": {},
   "outputs": [],
   "source": [
    "# Res.array.shape"
   ]
  },
  {
   "cell_type": "code",
   "execution_count": 35,
   "metadata": {},
   "outputs": [
    {
     "data": {
      "text/plain": [
       "6198"
      ]
     },
     "execution_count": 35,
     "metadata": {},
     "output_type": "execute_result"
    }
   ],
   "source": [
    "du.vector.size"
   ]
  },
  {
   "cell_type": "code",
   "execution_count": 36,
   "metadata": {},
   "outputs": [
    {
     "data": {
      "text/plain": [
       "6198"
      ]
     },
     "execution_count": 36,
     "metadata": {},
     "output_type": "execute_result"
    }
   ],
   "source": [
    "du.x.array.size"
   ]
  },
  {
   "cell_type": "code",
   "execution_count": 37,
   "metadata": {},
   "outputs": [
    {
     "ename": "SyntaxError",
     "evalue": "invalid syntax (791267900.py, line 1)",
     "output_type": "error",
     "traceback": [
      "\u001b[0;36m  Input \u001b[0;32mIn [37]\u001b[0;36m\u001b[0m\n\u001b[0;31m    V.dofmap.\u001b[0m\n\u001b[0m             ^\u001b[0m\n\u001b[0;31mSyntaxError\u001b[0m\u001b[0;31m:\u001b[0m invalid syntax\n"
     ]
    }
   ],
   "source": [
    "V.dofmap."
   ]
  },
  {
   "cell_type": "code",
   "execution_count": null,
   "metadata": {},
   "outputs": [
    {
     "data": {
      "text/plain": [
       "2956"
      ]
     },
     "execution_count": 70,
     "metadata": {},
     "output_type": "execute_result"
    }
   ],
   "source": [
    "1478*2"
   ]
  },
  {
   "cell_type": "code",
   "execution_count": null,
   "metadata": {},
   "outputs": [
    {
     "data": {
      "text/plain": [
       "3099"
      ]
     },
     "execution_count": 75,
     "metadata": {},
     "output_type": "execute_result"
    }
   ],
   "source": [
    "V.dofmap.index_map.size_global"
   ]
  },
  {
   "cell_type": "code",
   "execution_count": null,
   "metadata": {},
   "outputs": [
    {
     "name": "stdout",
     "output_type": "stream",
     "text": [
      "Number of dofs (owned) by rank : 6198\n",
      "Number of dofs global: 6198\n"
     ]
    }
   ],
   "source": [
    "num_dofs_local = (V.dofmap.index_map.size_local) * V.dofmap.index_map_bs\n",
    "num_dofs_global = V.dofmap.index_map.size_global * V.dofmap.index_map_bs\n",
    "\n",
    "print(f\"Number of dofs (owned) by rank : {num_dofs_local}\")\n",
    "# if COMM_WORLD.rank ==0:\n",
    "print(f\"Number of dofs global: {num_dofs_global}\")"
   ]
  },
  {
   "cell_type": "code",
   "execution_count": null,
   "metadata": {},
   "outputs": [],
   "source": []
  }
 ],
 "metadata": {
  "interpreter": {
   "hash": "31f2aee4e71d21fbe5cf8b01ff0e069b9275f58929596ceb00d14d90e3e16cd6"
  },
  "kernelspec": {
   "display_name": "Python 3.8.10 64-bit",
   "language": "python",
   "name": "python3"
  },
  "language_info": {
   "codemirror_mode": {
    "name": "ipython",
    "version": 3
   },
   "file_extension": ".py",
   "mimetype": "text/x-python",
   "name": "python",
   "nbconvert_exporter": "python",
   "pygments_lexer": "ipython3",
   "version": "3.9.7"
  },
  "orig_nbformat": 4
 },
 "nbformat": 4,
 "nbformat_minor": 2
}
